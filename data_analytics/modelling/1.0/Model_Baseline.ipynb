{
 "cells": [
  {
   "cell_type": "code",
   "execution_count": null,
   "metadata": {},
   "outputs": [],
   "source": [
    "import pandas as pd\n",
    "import matplotlib.pyplot as plt\n",
    "import numpy as np\n",
    "import itertools\n",
    "import copy\n",
    "import pickle\n",
    "import datetime\n",
    "from math import sqrt\n",
    "from sklearn import metrics\n",
    "from sklearn.model_selection import KFold\n",
    "from sklearn.model_selection import train_test_split"
   ]
  },
  {
   "cell_type": "markdown",
   "metadata": {},
   "source": [
    "# Map WorkDays"
   ]
  },
  {
   "cell_type": "code",
   "execution_count": null,
   "metadata": {},
   "outputs": [],
   "source": [
    "workdays = df = pd.read_csv('WorkDays.csv')\n",
    "workdays = workdays.iloc[:365]\n",
    "\n",
    "workdays['Date'] = workdays['Date'].astype('datetime64')\n",
    "workdays['Date'] = workdays['Date'].dt.strftime('%m-%d') "
   ]
  },
  {
   "cell_type": "code",
   "execution_count": null,
   "metadata": {},
   "outputs": [],
   "source": [
    "start = datetime.datetime.now()\n",
    "\n",
    "df = pd.read_csv('46A_1.csv')\n",
    "df = df.drop(columns=['dt','Unnamed: 0','tripid','stop_id','weather_main'])\n",
    "\n",
    "end = datetime.datetime.now()\n",
    "print('The time to read in the largest file is', end-start)\n",
    "dataset = df.copy()"
   ]
  },
  {
   "cell_type": "code",
   "execution_count": null,
   "metadata": {},
   "outputs": [],
   "source": [
    "dataset['month'] = dataset['month'].astype('str')\n",
    "dataset['day'] = dataset['day'].astype('str')\n",
    "\n",
    "dataset['Date'] = dataset[['month', 'day']].agg('-'.join, axis=1)\n"
   ]
  },
  {
   "cell_type": "code",
   "execution_count": null,
   "metadata": {},
   "outputs": [],
   "source": [
    "dataset['Date'] = pd.to_datetime(dataset['Date'], format='%m-%d')\n",
    "dataset['Date'] = dataset['Date'].dt.strftime('%m-%d') \n"
   ]
  },
  {
   "cell_type": "code",
   "execution_count": null,
   "metadata": {},
   "outputs": [],
   "source": [
    "# random sample 70% data from dataset to speed up training process\n",
    "mappeddf = pd.merge(dataset, workdays, how='left', on=['Date'])\n",
    "mappeddf = mappeddf.sample(n=int(dataset.shape[0]*0.7),replace = False, random_state=10)\n",
    "\n",
    "mappeddf = mappeddf.drop(columns=['Date'])\n",
    "mappeddf = mappeddf.drop(columns=['Unnamed: 0'])"
   ]
  },
  {
   "cell_type": "markdown",
   "metadata": {},
   "source": [
    "# Split Dataset"
   ]
  },
  {
   "cell_type": "code",
   "execution_count": null,
   "metadata": {},
   "outputs": [],
   "source": [
    "mappeddf['month'] = mappeddf['month'].astype('int')\n",
    "mappeddf['day'] = mappeddf['day'].astype('int')\n",
    "\n",
    "mappeddf['dayofweek'].replace({0:0.1},inplace=True)\n",
    "mappeddf['rush_hour'].replace({0:0.5},inplace=True)\n",
    "mappeddf['SchoolHoliday'].replace({0:0.5},inplace=True)\n",
    "\n",
    "train, test = train_test_split(mappeddf, test_size=0.3, random_state=33)\n",
    "\n",
    "x_train = train.drop(columns=['cum_duration'])\n",
    "y_train = train.cum_duration\n",
    "x_test = test.drop(columns=['cum_duration'])\n",
    "y_test = test.cum_duration\n",
    "\n",
    "X_train = np.array(x_train)\n",
    "Y_train = np.array(y_train)\n",
    "\n",
    "X_test = np.array(x_test)\n",
    "Y_test = np.array(y_test)"
   ]
  },
  {
   "cell_type": "code",
   "execution_count": null,
   "metadata": {},
   "outputs": [],
   "source": [
    "X_train"
   ]
  },
  {
   "cell_type": "code",
   "execution_count": null,
   "metadata": {},
   "outputs": [],
   "source": [
    "Y_train"
   ]
  },
  {
   "cell_type": "markdown",
   "metadata": {},
   "source": [
    "# Linear Regression"
   ]
  },
  {
   "cell_type": "code",
   "execution_count": null,
   "metadata": {},
   "outputs": [],
   "source": [
    "from sklearn.linear_model import LinearRegression"
   ]
  },
  {
   "cell_type": "code",
   "execution_count": null,
   "metadata": {},
   "outputs": [],
   "source": [
    "start = datetime.datetime.now()\n",
    "multiple_linreg = LinearRegression().fit(X_train, Y_train)\n",
    "end = datetime.datetime.now()\n",
    "print(\"The Runing Time：\", end-start)\n",
    "\n",
    "pre_lr = multiple_linreg.predict(X_test)"
   ]
  },
  {
   "cell_type": "code",
   "execution_count": null,
   "metadata": {},
   "outputs": [],
   "source": [
    "print('='*20,'Evaluate Results','='*20)\n",
    "print(\"Testing Set MSE：\",metrics.mean_squared_error(y_pred=pre_lr, y_true=Y_test))\n",
    "print(\"Testing Set R^2：\",metrics.r2_score(y_pred=pre_lr, y_true=Y_test))"
   ]
  },
  {
   "cell_type": "markdown",
   "metadata": {},
   "source": [
    "# Polynomial Regression"
   ]
  },
  {
   "cell_type": "code",
   "execution_count": null,
   "metadata": {},
   "outputs": [],
   "source": [
    "start = datetime.datetime.now()\n",
    "\n",
    "n_degree = [2,3,4,5,6]\n",
    "score = []\n",
    "for degree in n_degree:\n",
    "    \n",
    "    print ('The degree is', degree)\n",
    "    pol = PolynomialFeatures(degree = degree)\n",
    "    xtrain_pol = pol.fit_transform(X_train)\n",
    "    lr_pol = LinearRegression()\n",
    "    lr_pol.fit(xtrain_pol, Y_train)\n",
    "    pre_train = lr_pol.predict(xtrain_pol)\n",
    "\n",
    "    xtest_pol = pol.fit_transform(X_test)\n",
    "    pre_test = lr_pol.predict(xtest_pol)\n",
    "    \n",
    "    score.append([metrics.r2_score(y_pred=pre_train, y_true=Y_train), metrics.r2_score(y_pred=pre_test, y_true=Y_test)])\n",
    "    \n",
    "\n",
    "end = datetime.datetime.now()\n",
    "print(\"The Runing Time：\", end-start)\n",
    "\n",
    "score"
   ]
  },
  {
   "cell_type": "code",
   "execution_count": null,
   "metadata": {},
   "outputs": [],
   "source": [
    "start = datetime.datetime.now()\n",
    "\n",
    "pol = PolynomialFeatures(degree = 6)\n",
    "xtrain_pol = pol.fit_transform(X_train)\n",
    "lr_pol = LinearRegression()\n",
    "lr_pol.fit(xtrain_pol, Y_train)\n",
    "pre_train = lr_pol.predict(xtrain_pol)\n",
    "\n",
    "end = datetime.datetime.now()\n",
    "print(\"The Runing Time：\", end-start)\n",
    "\n",
    "xtest_pol = pol.fit_transform(X_test)\n",
    "pre_pr = lr_pol.predict(xtest_pol)\n",
    "\n",
    "print('='*20,'Evaluate Results','='*20)\n",
    "print(\"Testing Set MSE：\",metrics.mean_squared_error(y_pred=pre_pr, y_true=Y_test))\n",
    "print(\"Testing Set R^2：\",metrics.r2_score(y_pred=pre_pr, y_true=Y_test))\n"
   ]
  },
  {
   "cell_type": "markdown",
   "metadata": {},
   "source": [
    "# XGBoost"
   ]
  },
  {
   "cell_type": "code",
   "execution_count": null,
   "metadata": {},
   "outputs": [],
   "source": [
    "import xgboost as xgb\n",
    "from xgboost import XGBClassifier\n",
    "from sklearn import metrics\n",
    "from sklearn.model_selection import GridSearchCV\n",
    "import sklearn"
   ]
  },
  {
   "cell_type": "code",
   "execution_count": null,
   "metadata": {},
   "outputs": [],
   "source": [
    "# no parameters\n",
    "start = datetime.datetime.now()\n",
    "\n",
    "xg_reg = xgb.XGBRegressor()\n",
    "xg_reg.fit(X_train,Y_train)\n",
    "end = datetime.datetime.now()\n",
    "print(\"The Runing Time：\", end-start)\n",
    "\n",
    "pre_test = xg_reg.predict(X_test)\n",
    "\n",
    "print('='*20,'Evaluate Results','='*20)\n",
    "print(\"Testing Set MSE：\",metrics.mean_squared_error(y_pred=pre_test, y_true=Y_test))\n",
    "print(\"Testing Set R^2：\",metrics.r2_score(y_pred=pre_test, y_true=Y_test))"
   ]
  },
  {
   "cell_type": "code",
   "execution_count": null,
   "metadata": {},
   "outputs": [],
   "source": [
    "# print out default params\n",
    "xg_reg.get_params()"
   ]
  },
  {
   "cell_type": "code",
   "execution_count": null,
   "metadata": {},
   "outputs": [],
   "source": [
    "start = datetime.datetime.now()\n",
    "param_test1 = {\n",
    "        'max_depth': [1 , 3, 5],\n",
    "        'learning_rate': [0.005, 0.01, 0.1, 0.3],\n",
    "        'n_estimators':[50, 100, 150, 200]\n",
    "\n",
    "    }\n",
    "gsearch1 = GridSearchCV(xgb.XGBRegressor(),\n",
    "                            param_grid=param_test1,\n",
    "                            scoring='r2',cv=2)\n",
    "\n",
    "gsearch1.fit(X_train,Y_train)\n",
    "print (gsearch1.best_params_,gsearch1.best_score_)\n",
    "end = datetime.datetime.now()\n",
    "print(\"The Runing Time：\", end-start)\n"
   ]
  },
  {
   "cell_type": "code",
   "execution_count": null,
   "metadata": {},
   "outputs": [],
   "source": [
    "# the best params are: {'learning_rate': 0.3, 'max_depth': 5, 'n_estimators': 200}\n",
    "\n",
    "start = datetime.datetime.now()\n",
    "\n",
    "xg_reg = xgb.XGBRegressor(learning_rate= 0.3, max_depth= 5, n_estimators = 200)\n",
    "xg_reg.fit(X_train,Y_train)\n",
    "\n",
    "pre_test = xg_reg.predict(X_test)\n",
    "\n",
    "end = datetime.datetime.now()\n",
    "print(\"The Runing Time：\", end-start)\n",
    "\n",
    "print('='*20,'Evaluate Results','='*20)\n",
    "print(\"Testing Set MSE：\",metrics.mean_squared_error(y_pred=pre_test, y_true=Y_test))\n",
    "print(\"Testing Set R^2：\",metrics.r2_score(y_pred=pre_test, y_true=Y_test))\n"
   ]
  },
  {
   "cell_type": "markdown",
   "metadata": {},
   "source": [
    "# ANN -- MLPRegressor"
   ]
  },
  {
   "cell_type": "code",
   "execution_count": null,
   "metadata": {},
   "outputs": [],
   "source": [
    "from sklearn import neural_network"
   ]
  },
  {
   "cell_type": "code",
   "execution_count": null,
   "metadata": {},
   "outputs": [],
   "source": [
    "# no parameters\n",
    "start = datetime.datetime.now()\n",
    "\n",
    "mlp_reg = neural_network.MLPRegressor()\n",
    "mlp_reg.fit(X_train,Y_train)\n",
    "end = datetime.datetime.now()\n",
    "print(\"The Runing Time：\", end-start)\n",
    "\n",
    "pre_test = mlp_reg.predict(X_test)\n",
    "\n",
    "print('='*20,'Evaluate Results','='*20)\n",
    "print(\"Testing Set MSE：\",metrics.mean_squared_error(y_pred=pre_test, y_true=Y_test))\n",
    "print(\"Testing Set R^2：\",metrics.r2_score(y_pred=pre_test, y_true=Y_test))"
   ]
  },
  {
   "cell_type": "code",
   "execution_count": null,
   "metadata": {},
   "outputs": [],
   "source": [
    "mytuple =[]\n",
    "j = 5\n",
    "for x in range(1,9,3):\n",
    "\n",
    "    for i in [3,5,7]:\n",
    "        ituple = (j,)*i\n",
    "        mytuple.append(ituple)\n",
    "    j += 3\n",
    "\n",
    "param_grid = {'hidden_layer_sizes': mytuple}\n",
    "print (param_grid)"
   ]
  },
  {
   "cell_type": "code",
   "execution_count": null,
   "metadata": {},
   "outputs": [],
   "source": [
    "start = datetime.datetime.now()"
   ]
  },
  {
   "cell_type": "code",
   "execution_count": null,
   "metadata": {},
   "outputs": [],
   "source": [
    "\n",
    "gsearch2 = GridSearchCV(xgb.XGBRegressor(learning_rate_init=0.005),\n",
    "                            param_grid=param_grid,\n",
    "                            scoring='r2',cv=2)\n",
    "\n",
    "gsearch2.fit(X_train,Y_train)\n",
    "print (gsearch2.best_params_,gsearch2.best_score_)\n",
    "\n",
    "end = datetime.datetime.now()\n",
    "print(\"The Runing Time：\", end-start)"
   ]
  }
 ],
 "metadata": {
  "kernelspec": {
   "display_name": "Python 3",
   "language": "python",
   "name": "python3"
  },
  "language_info": {
   "codemirror_mode": {
    "name": "ipython",
    "version": 3
   },
   "file_extension": ".py",
   "mimetype": "text/x-python",
   "name": "python",
   "nbconvert_exporter": "python",
   "pygments_lexer": "ipython3",
   "version": "3.7.3"
  }
 },
 "nbformat": 4,
 "nbformat_minor": 2
}
