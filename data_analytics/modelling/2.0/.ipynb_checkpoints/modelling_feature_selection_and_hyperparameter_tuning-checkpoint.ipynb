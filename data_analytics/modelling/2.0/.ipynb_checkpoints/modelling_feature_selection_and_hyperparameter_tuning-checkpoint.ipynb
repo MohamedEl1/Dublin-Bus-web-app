{
 "cells": [
  {
   "cell_type": "code",
   "execution_count": 151,
   "metadata": {},
   "outputs": [],
   "source": [
    "import pandas as pd, numpy as np, holidays, seaborn as sns, matplotlib.pyplot as plt, time, xgboost as xgb\n",
    "from sqlalchemy import create_engine\n",
    "from datetime import datetime\n",
    "from matplotlib import pyplot\n",
    "\n",
    "from sklearn.neural_network import MLPRegressor\n",
    "from sklearn.model_selection import train_test_split, GridSearchCV, cross_val_score\n",
    "from sklearn.preprocessing import LabelEncoder, PolynomialFeatures, StandardScaler\n",
    "from sklearn.feature_selection import SelectKBest, f_regression, chi2\n",
    "from sklearn.linear_model import LinearRegression, SGDRegressor\n",
    "from sklearn.pipeline import make_pipeline\n",
    "from sklearn.svm import LinearSVR\n",
    "from sklearn.ensemble import RandomForestRegressor\n",
    "from sklearn import metrics\n",
    "\n",
    "from config import config"
   ]
  },
  {
   "cell_type": "markdown",
   "metadata": {},
   "source": [
    "<h1>Modelling Feature Selection and Model Tuning</h1>\n",
    "<br>\n",
    "<div>This workbook goes through the process of creating a DataFrame combining leavetimes, trips, and weather info from the DB, cleaning the features, selecting features that are fit for predictive modelling and tuning the model parameters for the identified modelling techniques for the bus route '15A', direction 1. We chose this route because we expect it to be one of the most challenging routes to create predictions for as the setup of two linear regressors in our prototype failed to make good sensible predictions for it.</div>"
   ]
  },
  {
   "cell_type": "code",
   "execution_count": 2,
   "metadata": {},
   "outputs": [],
   "source": [
    "config=config()\n",
    "engine=create_engine(\"postgresql://\"+config[\"user\"]+\":\"+config[\"password\"]+\"@\"+config[\"host\"]+\"/\"+config[\"database\"])"
   ]
  },
  {
   "cell_type": "code",
   "execution_count": 3,
   "metadata": {},
   "outputs": [],
   "source": [
    "line='15A'\n",
    "direction=1\n",
    "sql=(\"SELECT lt.daystamp, lt.progr_number, lt.stoppoint_id,lt.arrival_time_p,lt.arrival_time_a,\"\n",
    "    \"lt.departure_time_p,lt.departure_time_a,trips.route_id,\"\n",
    "     \"trips.arrival_time_p,trips.departure_time_p,trips.departure_time_a,\"\n",
    "     \"weather_main,temp,feels_like,temp_min,temp_max,pressure,humidity,wind_speed,wind_deg,clouds_all,weather_description \"\n",
    "     \"FROM leavetimes AS lt, trips, weather \"\n",
    "     \"WHERE trips.line_id='\"+line+\"' AND trips.direction=\"+str(direction)+\" AND trips.suppressed=0 \"\n",
    "     \"AND lt.daystamp = trips.daystamp AND lt.trip_id = trips.trip_id AND lt.suppressed=0\"\n",
    "     \"AND lt.weather_id = weather.daytime\")"
   ]
  },
  {
   "cell_type": "code",
   "execution_count": 4,
   "metadata": {},
   "outputs": [],
   "source": [
    "df = pd.read_sql(sql,engine)"
   ]
  },
  {
   "cell_type": "code",
   "execution_count": 5,
   "metadata": {},
   "outputs": [
    {
     "data": {
      "text/plain": [
       "(614114, 22)"
      ]
     },
     "execution_count": 5,
     "metadata": {},
     "output_type": "execute_result"
    }
   ],
   "source": [
    "df.shape"
   ]
  },
  {
   "cell_type": "code",
   "execution_count": 6,
   "metadata": {},
   "outputs": [
    {
     "data": {
      "text/html": [
       "<div>\n",
       "<style scoped>\n",
       "    .dataframe tbody tr th:only-of-type {\n",
       "        vertical-align: middle;\n",
       "    }\n",
       "\n",
       "    .dataframe tbody tr th {\n",
       "        vertical-align: top;\n",
       "    }\n",
       "\n",
       "    .dataframe thead th {\n",
       "        text-align: right;\n",
       "    }\n",
       "</style>\n",
       "<table border=\"1\" class=\"dataframe\">\n",
       "  <thead>\n",
       "    <tr style=\"text-align: right;\">\n",
       "      <th></th>\n",
       "      <th>daystamp</th>\n",
       "      <th>progr_number</th>\n",
       "      <th>stoppoint_id</th>\n",
       "      <th>arrival_time_p</th>\n",
       "      <th>arrival_time_a</th>\n",
       "      <th>departure_time_p</th>\n",
       "      <th>departure_time_a</th>\n",
       "      <th>route_id</th>\n",
       "      <th>arrival_time_p</th>\n",
       "      <th>departure_time_p</th>\n",
       "      <th>...</th>\n",
       "      <th>temp</th>\n",
       "      <th>feels_like</th>\n",
       "      <th>temp_min</th>\n",
       "      <th>temp_max</th>\n",
       "      <th>pressure</th>\n",
       "      <th>humidity</th>\n",
       "      <th>wind_speed</th>\n",
       "      <th>wind_deg</th>\n",
       "      <th>clouds_all</th>\n",
       "      <th>weather_description</th>\n",
       "    </tr>\n",
       "  </thead>\n",
       "  <tbody>\n",
       "    <tr>\n",
       "      <th>0</th>\n",
       "      <td>1518912000</td>\n",
       "      <td>1</td>\n",
       "      <td>395</td>\n",
       "      <td>57600</td>\n",
       "      <td>57655</td>\n",
       "      <td>57600</td>\n",
       "      <td>57655</td>\n",
       "      <td>83</td>\n",
       "      <td>59806</td>\n",
       "      <td>57600</td>\n",
       "      <td>...</td>\n",
       "      <td>9.76</td>\n",
       "      <td>5.5</td>\n",
       "      <td>8.43</td>\n",
       "      <td>10.0</td>\n",
       "      <td>1016</td>\n",
       "      <td>93</td>\n",
       "      <td>5.66</td>\n",
       "      <td>240</td>\n",
       "      <td>75</td>\n",
       "      <td>light intensity drizzle rain</td>\n",
       "    </tr>\n",
       "    <tr>\n",
       "      <th>1</th>\n",
       "      <td>1518912000</td>\n",
       "      <td>2</td>\n",
       "      <td>396</td>\n",
       "      <td>57662</td>\n",
       "      <td>57697</td>\n",
       "      <td>57662</td>\n",
       "      <td>57716</td>\n",
       "      <td>83</td>\n",
       "      <td>59806</td>\n",
       "      <td>57600</td>\n",
       "      <td>...</td>\n",
       "      <td>9.76</td>\n",
       "      <td>5.5</td>\n",
       "      <td>8.43</td>\n",
       "      <td>10.0</td>\n",
       "      <td>1016</td>\n",
       "      <td>93</td>\n",
       "      <td>5.66</td>\n",
       "      <td>240</td>\n",
       "      <td>75</td>\n",
       "      <td>light intensity drizzle rain</td>\n",
       "    </tr>\n",
       "    <tr>\n",
       "      <th>2</th>\n",
       "      <td>1518912000</td>\n",
       "      <td>3</td>\n",
       "      <td>397</td>\n",
       "      <td>57696</td>\n",
       "      <td>57820</td>\n",
       "      <td>57696</td>\n",
       "      <td>57837</td>\n",
       "      <td>83</td>\n",
       "      <td>59806</td>\n",
       "      <td>57600</td>\n",
       "      <td>...</td>\n",
       "      <td>9.76</td>\n",
       "      <td>5.5</td>\n",
       "      <td>8.43</td>\n",
       "      <td>10.0</td>\n",
       "      <td>1016</td>\n",
       "      <td>93</td>\n",
       "      <td>5.66</td>\n",
       "      <td>240</td>\n",
       "      <td>75</td>\n",
       "      <td>light intensity drizzle rain</td>\n",
       "    </tr>\n",
       "    <tr>\n",
       "      <th>3</th>\n",
       "      <td>1518912000</td>\n",
       "      <td>4</td>\n",
       "      <td>398</td>\n",
       "      <td>57746</td>\n",
       "      <td>57865</td>\n",
       "      <td>57746</td>\n",
       "      <td>57865</td>\n",
       "      <td>83</td>\n",
       "      <td>59806</td>\n",
       "      <td>57600</td>\n",
       "      <td>...</td>\n",
       "      <td>9.76</td>\n",
       "      <td>5.5</td>\n",
       "      <td>8.43</td>\n",
       "      <td>10.0</td>\n",
       "      <td>1016</td>\n",
       "      <td>93</td>\n",
       "      <td>5.66</td>\n",
       "      <td>240</td>\n",
       "      <td>75</td>\n",
       "      <td>light intensity drizzle rain</td>\n",
       "    </tr>\n",
       "    <tr>\n",
       "      <th>4</th>\n",
       "      <td>1518912000</td>\n",
       "      <td>5</td>\n",
       "      <td>399</td>\n",
       "      <td>57787</td>\n",
       "      <td>57887</td>\n",
       "      <td>57787</td>\n",
       "      <td>57914</td>\n",
       "      <td>83</td>\n",
       "      <td>59806</td>\n",
       "      <td>57600</td>\n",
       "      <td>...</td>\n",
       "      <td>9.76</td>\n",
       "      <td>5.5</td>\n",
       "      <td>8.43</td>\n",
       "      <td>10.0</td>\n",
       "      <td>1016</td>\n",
       "      <td>93</td>\n",
       "      <td>5.66</td>\n",
       "      <td>240</td>\n",
       "      <td>75</td>\n",
       "      <td>light intensity drizzle rain</td>\n",
       "    </tr>\n",
       "  </tbody>\n",
       "</table>\n",
       "<p>5 rows × 22 columns</p>\n",
       "</div>"
      ],
      "text/plain": [
       "     daystamp  progr_number  stoppoint_id  arrival_time_p  arrival_time_a  \\\n",
       "0  1518912000             1           395           57600           57655   \n",
       "1  1518912000             2           396           57662           57697   \n",
       "2  1518912000             3           397           57696           57820   \n",
       "3  1518912000             4           398           57746           57865   \n",
       "4  1518912000             5           399           57787           57887   \n",
       "\n",
       "   departure_time_p  departure_time_a  route_id  arrival_time_p  \\\n",
       "0             57600             57655        83           59806   \n",
       "1             57662             57716        83           59806   \n",
       "2             57696             57837        83           59806   \n",
       "3             57746             57865        83           59806   \n",
       "4             57787             57914        83           59806   \n",
       "\n",
       "   departure_time_p  ...  temp feels_like  temp_min  temp_max  pressure  \\\n",
       "0             57600  ...  9.76        5.5      8.43      10.0      1016   \n",
       "1             57600  ...  9.76        5.5      8.43      10.0      1016   \n",
       "2             57600  ...  9.76        5.5      8.43      10.0      1016   \n",
       "3             57600  ...  9.76        5.5      8.43      10.0      1016   \n",
       "4             57600  ...  9.76        5.5      8.43      10.0      1016   \n",
       "\n",
       "   humidity  wind_speed  wind_deg  clouds_all           weather_description  \n",
       "0        93        5.66       240          75  light intensity drizzle rain  \n",
       "1        93        5.66       240          75  light intensity drizzle rain  \n",
       "2        93        5.66       240          75  light intensity drizzle rain  \n",
       "3        93        5.66       240          75  light intensity drizzle rain  \n",
       "4        93        5.66       240          75  light intensity drizzle rain  \n",
       "\n",
       "[5 rows x 22 columns]"
      ]
     },
     "execution_count": 6,
     "metadata": {},
     "output_type": "execute_result"
    }
   ],
   "source": [
    "df.head()"
   ]
  },
  {
   "cell_type": "code",
   "execution_count": 7,
   "metadata": {},
   "outputs": [
    {
     "data": {
      "text/plain": [
       "['daystamp',\n",
       " 'progr_number',\n",
       " 'stoppoint_id',\n",
       " 'arrival_time_p',\n",
       " 'arrival_time_a',\n",
       " 'departure_time_p',\n",
       " 'departure_time_a',\n",
       " 'route_id',\n",
       " 'arrival_time_p',\n",
       " 'departure_time_p',\n",
       " 'departure_time_a',\n",
       " 'weather_main',\n",
       " 'temp',\n",
       " 'feels_like',\n",
       " 'temp_min',\n",
       " 'temp_max',\n",
       " 'pressure',\n",
       " 'humidity',\n",
       " 'wind_speed',\n",
       " 'wind_deg',\n",
       " 'clouds_all',\n",
       " 'weather_description']"
      ]
     },
     "execution_count": 7,
     "metadata": {},
     "output_type": "execute_result"
    }
   ],
   "source": [
    "features=list(df.columns)\n",
    "features"
   ]
  },
  {
   "cell_type": "code",
   "execution_count": 8,
   "metadata": {},
   "outputs": [],
   "source": [
    "features[0]=\"daystamp\"\n",
    "features[2]=\"stop_id\"\n",
    "features[3]=\"arr_p\"\n",
    "features[4]=\"arr_a\"\n",
    "features[5]=\"dep_p\"\n",
    "features[6]=\"dep_a\"\n",
    "features[8]=\"end_p\"\n",
    "features[9]=\"start_p\"\n",
    "features[10]=\"start_a\""
   ]
  },
  {
   "cell_type": "code",
   "execution_count": 9,
   "metadata": {},
   "outputs": [],
   "source": [
    "df.columns=features"
   ]
  },
  {
   "cell_type": "code",
   "execution_count": 10,
   "metadata": {},
   "outputs": [
    {
     "data": {
      "text/html": [
       "<div>\n",
       "<style scoped>\n",
       "    .dataframe tbody tr th:only-of-type {\n",
       "        vertical-align: middle;\n",
       "    }\n",
       "\n",
       "    .dataframe tbody tr th {\n",
       "        vertical-align: top;\n",
       "    }\n",
       "\n",
       "    .dataframe thead th {\n",
       "        text-align: right;\n",
       "    }\n",
       "</style>\n",
       "<table border=\"1\" class=\"dataframe\">\n",
       "  <thead>\n",
       "    <tr style=\"text-align: right;\">\n",
       "      <th></th>\n",
       "      <th>daystamp</th>\n",
       "      <th>progr_number</th>\n",
       "      <th>stop_id</th>\n",
       "      <th>arr_p</th>\n",
       "      <th>arr_a</th>\n",
       "      <th>dep_p</th>\n",
       "      <th>dep_a</th>\n",
       "      <th>route_id</th>\n",
       "      <th>end_p</th>\n",
       "      <th>start_p</th>\n",
       "      <th>...</th>\n",
       "      <th>temp</th>\n",
       "      <th>feels_like</th>\n",
       "      <th>temp_min</th>\n",
       "      <th>temp_max</th>\n",
       "      <th>pressure</th>\n",
       "      <th>humidity</th>\n",
       "      <th>wind_speed</th>\n",
       "      <th>wind_deg</th>\n",
       "      <th>clouds_all</th>\n",
       "      <th>weather_description</th>\n",
       "    </tr>\n",
       "  </thead>\n",
       "  <tbody>\n",
       "    <tr>\n",
       "      <th>0</th>\n",
       "      <td>1518912000</td>\n",
       "      <td>1</td>\n",
       "      <td>395</td>\n",
       "      <td>57600</td>\n",
       "      <td>57655</td>\n",
       "      <td>57600</td>\n",
       "      <td>57655</td>\n",
       "      <td>83</td>\n",
       "      <td>59806</td>\n",
       "      <td>57600</td>\n",
       "      <td>...</td>\n",
       "      <td>9.76</td>\n",
       "      <td>5.5</td>\n",
       "      <td>8.43</td>\n",
       "      <td>10.0</td>\n",
       "      <td>1016</td>\n",
       "      <td>93</td>\n",
       "      <td>5.66</td>\n",
       "      <td>240</td>\n",
       "      <td>75</td>\n",
       "      <td>light intensity drizzle rain</td>\n",
       "    </tr>\n",
       "    <tr>\n",
       "      <th>1</th>\n",
       "      <td>1518912000</td>\n",
       "      <td>2</td>\n",
       "      <td>396</td>\n",
       "      <td>57662</td>\n",
       "      <td>57697</td>\n",
       "      <td>57662</td>\n",
       "      <td>57716</td>\n",
       "      <td>83</td>\n",
       "      <td>59806</td>\n",
       "      <td>57600</td>\n",
       "      <td>...</td>\n",
       "      <td>9.76</td>\n",
       "      <td>5.5</td>\n",
       "      <td>8.43</td>\n",
       "      <td>10.0</td>\n",
       "      <td>1016</td>\n",
       "      <td>93</td>\n",
       "      <td>5.66</td>\n",
       "      <td>240</td>\n",
       "      <td>75</td>\n",
       "      <td>light intensity drizzle rain</td>\n",
       "    </tr>\n",
       "    <tr>\n",
       "      <th>2</th>\n",
       "      <td>1518912000</td>\n",
       "      <td>3</td>\n",
       "      <td>397</td>\n",
       "      <td>57696</td>\n",
       "      <td>57820</td>\n",
       "      <td>57696</td>\n",
       "      <td>57837</td>\n",
       "      <td>83</td>\n",
       "      <td>59806</td>\n",
       "      <td>57600</td>\n",
       "      <td>...</td>\n",
       "      <td>9.76</td>\n",
       "      <td>5.5</td>\n",
       "      <td>8.43</td>\n",
       "      <td>10.0</td>\n",
       "      <td>1016</td>\n",
       "      <td>93</td>\n",
       "      <td>5.66</td>\n",
       "      <td>240</td>\n",
       "      <td>75</td>\n",
       "      <td>light intensity drizzle rain</td>\n",
       "    </tr>\n",
       "    <tr>\n",
       "      <th>3</th>\n",
       "      <td>1518912000</td>\n",
       "      <td>4</td>\n",
       "      <td>398</td>\n",
       "      <td>57746</td>\n",
       "      <td>57865</td>\n",
       "      <td>57746</td>\n",
       "      <td>57865</td>\n",
       "      <td>83</td>\n",
       "      <td>59806</td>\n",
       "      <td>57600</td>\n",
       "      <td>...</td>\n",
       "      <td>9.76</td>\n",
       "      <td>5.5</td>\n",
       "      <td>8.43</td>\n",
       "      <td>10.0</td>\n",
       "      <td>1016</td>\n",
       "      <td>93</td>\n",
       "      <td>5.66</td>\n",
       "      <td>240</td>\n",
       "      <td>75</td>\n",
       "      <td>light intensity drizzle rain</td>\n",
       "    </tr>\n",
       "    <tr>\n",
       "      <th>4</th>\n",
       "      <td>1518912000</td>\n",
       "      <td>5</td>\n",
       "      <td>399</td>\n",
       "      <td>57787</td>\n",
       "      <td>57887</td>\n",
       "      <td>57787</td>\n",
       "      <td>57914</td>\n",
       "      <td>83</td>\n",
       "      <td>59806</td>\n",
       "      <td>57600</td>\n",
       "      <td>...</td>\n",
       "      <td>9.76</td>\n",
       "      <td>5.5</td>\n",
       "      <td>8.43</td>\n",
       "      <td>10.0</td>\n",
       "      <td>1016</td>\n",
       "      <td>93</td>\n",
       "      <td>5.66</td>\n",
       "      <td>240</td>\n",
       "      <td>75</td>\n",
       "      <td>light intensity drizzle rain</td>\n",
       "    </tr>\n",
       "  </tbody>\n",
       "</table>\n",
       "<p>5 rows × 22 columns</p>\n",
       "</div>"
      ],
      "text/plain": [
       "     daystamp  progr_number  stop_id  arr_p  arr_a  dep_p  dep_a  route_id  \\\n",
       "0  1518912000             1      395  57600  57655  57600  57655        83   \n",
       "1  1518912000             2      396  57662  57697  57662  57716        83   \n",
       "2  1518912000             3      397  57696  57820  57696  57837        83   \n",
       "3  1518912000             4      398  57746  57865  57746  57865        83   \n",
       "4  1518912000             5      399  57787  57887  57787  57914        83   \n",
       "\n",
       "   end_p  start_p  ...  temp feels_like  temp_min  temp_max  pressure  \\\n",
       "0  59806    57600  ...  9.76        5.5      8.43      10.0      1016   \n",
       "1  59806    57600  ...  9.76        5.5      8.43      10.0      1016   \n",
       "2  59806    57600  ...  9.76        5.5      8.43      10.0      1016   \n",
       "3  59806    57600  ...  9.76        5.5      8.43      10.0      1016   \n",
       "4  59806    57600  ...  9.76        5.5      8.43      10.0      1016   \n",
       "\n",
       "   humidity  wind_speed  wind_deg  clouds_all           weather_description  \n",
       "0        93        5.66       240          75  light intensity drizzle rain  \n",
       "1        93        5.66       240          75  light intensity drizzle rain  \n",
       "2        93        5.66       240          75  light intensity drizzle rain  \n",
       "3        93        5.66       240          75  light intensity drizzle rain  \n",
       "4        93        5.66       240          75  light intensity drizzle rain  \n",
       "\n",
       "[5 rows x 22 columns]"
      ]
     },
     "execution_count": 10,
     "metadata": {},
     "output_type": "execute_result"
    }
   ],
   "source": [
    "df.head()"
   ]
  },
  {
   "cell_type": "code",
   "execution_count": 152,
   "metadata": {},
   "outputs": [],
   "source": [
    "def daystamp_converter(time):\n",
    "    date=datetime.fromtimestamp(time)\n",
    "    holidays_IE=holidays.Ireland()\n",
    "    if date in holidays_IE:\n",
    "        holiday=1\n",
    "    else:\n",
    "        holiday=0\n",
    "    return (date.weekday(),date.month,date.hour,holiday)"
   ]
  },
  {
   "cell_type": "code",
   "execution_count": 12,
   "metadata": {},
   "outputs": [],
   "source": [
    "df[\"dt\"]=df.daystamp.values+df.dep_p.values"
   ]
  },
  {
   "cell_type": "code",
   "execution_count": 13,
   "metadata": {},
   "outputs": [],
   "source": [
    "df[\"weekday\"],df[\"month\"],df[\"hour\"],df[\"holiday\"]=zip(*df['dt'].apply(daystamp_converter))"
   ]
  },
  {
   "cell_type": "code",
   "execution_count": 14,
   "metadata": {},
   "outputs": [
    {
     "data": {
      "text/html": [
       "<div>\n",
       "<style scoped>\n",
       "    .dataframe tbody tr th:only-of-type {\n",
       "        vertical-align: middle;\n",
       "    }\n",
       "\n",
       "    .dataframe tbody tr th {\n",
       "        vertical-align: top;\n",
       "    }\n",
       "\n",
       "    .dataframe thead th {\n",
       "        text-align: right;\n",
       "    }\n",
       "</style>\n",
       "<table border=\"1\" class=\"dataframe\">\n",
       "  <thead>\n",
       "    <tr style=\"text-align: right;\">\n",
       "      <th></th>\n",
       "      <th>daystamp</th>\n",
       "      <th>progr_number</th>\n",
       "      <th>stop_id</th>\n",
       "      <th>arr_p</th>\n",
       "      <th>arr_a</th>\n",
       "      <th>dep_p</th>\n",
       "      <th>dep_a</th>\n",
       "      <th>route_id</th>\n",
       "      <th>end_p</th>\n",
       "      <th>start_p</th>\n",
       "      <th>...</th>\n",
       "      <th>humidity</th>\n",
       "      <th>wind_speed</th>\n",
       "      <th>wind_deg</th>\n",
       "      <th>clouds_all</th>\n",
       "      <th>weather_description</th>\n",
       "      <th>dt</th>\n",
       "      <th>weekday</th>\n",
       "      <th>month</th>\n",
       "      <th>hour</th>\n",
       "      <th>holiday</th>\n",
       "    </tr>\n",
       "  </thead>\n",
       "  <tbody>\n",
       "    <tr>\n",
       "      <th>0</th>\n",
       "      <td>1518912000</td>\n",
       "      <td>1</td>\n",
       "      <td>395</td>\n",
       "      <td>57600</td>\n",
       "      <td>57655</td>\n",
       "      <td>57600</td>\n",
       "      <td>57655</td>\n",
       "      <td>83</td>\n",
       "      <td>59806</td>\n",
       "      <td>57600</td>\n",
       "      <td>...</td>\n",
       "      <td>93</td>\n",
       "      <td>5.66</td>\n",
       "      <td>240</td>\n",
       "      <td>75</td>\n",
       "      <td>light intensity drizzle rain</td>\n",
       "      <td>1518969600</td>\n",
       "      <td>6</td>\n",
       "      <td>2</td>\n",
       "      <td>16</td>\n",
       "      <td>0</td>\n",
       "    </tr>\n",
       "    <tr>\n",
       "      <th>1</th>\n",
       "      <td>1518912000</td>\n",
       "      <td>2</td>\n",
       "      <td>396</td>\n",
       "      <td>57662</td>\n",
       "      <td>57697</td>\n",
       "      <td>57662</td>\n",
       "      <td>57716</td>\n",
       "      <td>83</td>\n",
       "      <td>59806</td>\n",
       "      <td>57600</td>\n",
       "      <td>...</td>\n",
       "      <td>93</td>\n",
       "      <td>5.66</td>\n",
       "      <td>240</td>\n",
       "      <td>75</td>\n",
       "      <td>light intensity drizzle rain</td>\n",
       "      <td>1518969662</td>\n",
       "      <td>6</td>\n",
       "      <td>2</td>\n",
       "      <td>16</td>\n",
       "      <td>0</td>\n",
       "    </tr>\n",
       "    <tr>\n",
       "      <th>2</th>\n",
       "      <td>1518912000</td>\n",
       "      <td>3</td>\n",
       "      <td>397</td>\n",
       "      <td>57696</td>\n",
       "      <td>57820</td>\n",
       "      <td>57696</td>\n",
       "      <td>57837</td>\n",
       "      <td>83</td>\n",
       "      <td>59806</td>\n",
       "      <td>57600</td>\n",
       "      <td>...</td>\n",
       "      <td>93</td>\n",
       "      <td>5.66</td>\n",
       "      <td>240</td>\n",
       "      <td>75</td>\n",
       "      <td>light intensity drizzle rain</td>\n",
       "      <td>1518969696</td>\n",
       "      <td>6</td>\n",
       "      <td>2</td>\n",
       "      <td>16</td>\n",
       "      <td>0</td>\n",
       "    </tr>\n",
       "    <tr>\n",
       "      <th>3</th>\n",
       "      <td>1518912000</td>\n",
       "      <td>4</td>\n",
       "      <td>398</td>\n",
       "      <td>57746</td>\n",
       "      <td>57865</td>\n",
       "      <td>57746</td>\n",
       "      <td>57865</td>\n",
       "      <td>83</td>\n",
       "      <td>59806</td>\n",
       "      <td>57600</td>\n",
       "      <td>...</td>\n",
       "      <td>93</td>\n",
       "      <td>5.66</td>\n",
       "      <td>240</td>\n",
       "      <td>75</td>\n",
       "      <td>light intensity drizzle rain</td>\n",
       "      <td>1518969746</td>\n",
       "      <td>6</td>\n",
       "      <td>2</td>\n",
       "      <td>16</td>\n",
       "      <td>0</td>\n",
       "    </tr>\n",
       "    <tr>\n",
       "      <th>4</th>\n",
       "      <td>1518912000</td>\n",
       "      <td>5</td>\n",
       "      <td>399</td>\n",
       "      <td>57787</td>\n",
       "      <td>57887</td>\n",
       "      <td>57787</td>\n",
       "      <td>57914</td>\n",
       "      <td>83</td>\n",
       "      <td>59806</td>\n",
       "      <td>57600</td>\n",
       "      <td>...</td>\n",
       "      <td>93</td>\n",
       "      <td>5.66</td>\n",
       "      <td>240</td>\n",
       "      <td>75</td>\n",
       "      <td>light intensity drizzle rain</td>\n",
       "      <td>1518969787</td>\n",
       "      <td>6</td>\n",
       "      <td>2</td>\n",
       "      <td>16</td>\n",
       "      <td>0</td>\n",
       "    </tr>\n",
       "  </tbody>\n",
       "</table>\n",
       "<p>5 rows × 27 columns</p>\n",
       "</div>"
      ],
      "text/plain": [
       "     daystamp  progr_number  stop_id  arr_p  arr_a  dep_p  dep_a  route_id  \\\n",
       "0  1518912000             1      395  57600  57655  57600  57655        83   \n",
       "1  1518912000             2      396  57662  57697  57662  57716        83   \n",
       "2  1518912000             3      397  57696  57820  57696  57837        83   \n",
       "3  1518912000             4      398  57746  57865  57746  57865        83   \n",
       "4  1518912000             5      399  57787  57887  57787  57914        83   \n",
       "\n",
       "   end_p  start_p  ...  humidity wind_speed  wind_deg  clouds_all  \\\n",
       "0  59806    57600  ...        93       5.66       240          75   \n",
       "1  59806    57600  ...        93       5.66       240          75   \n",
       "2  59806    57600  ...        93       5.66       240          75   \n",
       "3  59806    57600  ...        93       5.66       240          75   \n",
       "4  59806    57600  ...        93       5.66       240          75   \n",
       "\n",
       "            weather_description          dt  weekday  month  hour  holiday  \n",
       "0  light intensity drizzle rain  1518969600        6      2    16        0  \n",
       "1  light intensity drizzle rain  1518969662        6      2    16        0  \n",
       "2  light intensity drizzle rain  1518969696        6      2    16        0  \n",
       "3  light intensity drizzle rain  1518969746        6      2    16        0  \n",
       "4  light intensity drizzle rain  1518969787        6      2    16        0  \n",
       "\n",
       "[5 rows x 27 columns]"
      ]
     },
     "execution_count": 14,
     "metadata": {},
     "output_type": "execute_result"
    }
   ],
   "source": [
    "df.head()"
   ]
  },
  {
   "cell_type": "code",
   "execution_count": 15,
   "metadata": {},
   "outputs": [],
   "source": [
    "df[\"dur_s\"]=df.dep_p.values-df.start_p.values\n",
    "df[\"dur_a\"]=df.dep_a.values-df.start_a.values"
   ]
  },
  {
   "cell_type": "markdown",
   "metadata": {},
   "source": [
    "<h3>Feature Cleaning</h3>"
   ]
  },
  {
   "cell_type": "markdown",
   "metadata": {},
   "source": [
    "Filter out unusual routes:"
   ]
  },
  {
   "cell_type": "code",
   "execution_count": 16,
   "metadata": {},
   "outputs": [
    {
     "name": "stdout",
     "output_type": "stream",
     "text": [
      "1 most common route(s) cover 100.00% of the routes.\n"
     ]
    }
   ],
   "source": [
    "route_counts=df.route_id.value_counts()\n",
    "indices=route_counts.index\n",
    "values=route_counts.values\n",
    "cum_value=0\n",
    "size=df.shape[0]\n",
    "index=1\n",
    "for value in values:\n",
    "    cum_value+=value\n",
    "    ratio=cum_value/size\n",
    "    print(f\"{index} most common route(s) cover {ratio*100:.2f}% of the routes.\")\n",
    "    if(ratio>0.8):\n",
    "        break\n",
    "    index+=1"
   ]
  },
  {
   "cell_type": "code",
   "execution_count": 17,
   "metadata": {},
   "outputs": [
    {
     "data": {
      "text/plain": [
       "Int64Index([83], dtype='int64')"
      ]
     },
     "execution_count": 17,
     "metadata": {},
     "output_type": "execute_result"
    }
   ],
   "source": [
    "routes=indices[:index]\n",
    "routes"
   ]
  },
  {
   "cell_type": "code",
   "execution_count": 18,
   "metadata": {
    "scrolled": true
   },
   "outputs": [],
   "source": [
    "df_clean=df[df.route_id.isin(routes)]"
   ]
  },
  {
   "cell_type": "code",
   "execution_count": 19,
   "metadata": {},
   "outputs": [
    {
     "data": {
      "text/plain": [
       "(614114, 29)"
      ]
     },
     "execution_count": 19,
     "metadata": {},
     "output_type": "execute_result"
    }
   ],
   "source": [
    "df_clean.shape"
   ]
  },
  {
   "cell_type": "markdown",
   "metadata": {},
   "source": [
    "Check for null values"
   ]
  },
  {
   "cell_type": "code",
   "execution_count": 20,
   "metadata": {},
   "outputs": [
    {
     "data": {
      "text/plain": [
       "daystamp                   0\n",
       "progr_number               0\n",
       "stop_id                    0\n",
       "arr_p                      0\n",
       "arr_a                      0\n",
       "dep_p                      0\n",
       "dep_a                      0\n",
       "route_id                   0\n",
       "end_p                      0\n",
       "start_p                    0\n",
       "start_a                17943\n",
       "weather_main               0\n",
       "temp                       0\n",
       "feels_like                 0\n",
       "temp_min                   0\n",
       "temp_max                   0\n",
       "pressure                   0\n",
       "humidity                   0\n",
       "wind_speed                 0\n",
       "wind_deg                   0\n",
       "clouds_all                 0\n",
       "weather_description        0\n",
       "dt                         0\n",
       "weekday                    0\n",
       "month                      0\n",
       "hour                       0\n",
       "holiday                    0\n",
       "dur_s                      0\n",
       "dur_a                  17943\n",
       "dtype: int64"
      ]
     },
     "execution_count": 20,
     "metadata": {},
     "output_type": "execute_result"
    }
   ],
   "source": [
    "df_clean.isnull().sum()"
   ]
  },
  {
   "cell_type": "code",
   "execution_count": 21,
   "metadata": {},
   "outputs": [
    {
     "data": {
      "text/plain": [
       "0.058435404501444355"
      ]
     },
     "execution_count": 21,
     "metadata": {},
     "output_type": "execute_result"
    }
   ],
   "source": [
    "df_clean.isnull().sum().sum()/df_clean.shape[0]"
   ]
  },
  {
   "cell_type": "code",
   "execution_count": 22,
   "metadata": {},
   "outputs": [],
   "source": [
    "df_clean = df_clean.dropna(axis = 0, how ='any') "
   ]
  },
  {
   "cell_type": "markdown",
   "metadata": {},
   "source": [
    "See how resulting stops line up:"
   ]
  },
  {
   "cell_type": "code",
   "execution_count": 23,
   "metadata": {},
   "outputs": [],
   "source": [
    "stop_counts=df_clean.stop_id.value_counts()"
   ]
  },
  {
   "cell_type": "code",
   "execution_count": 24,
   "metadata": {},
   "outputs": [
    {
     "data": {
      "text/plain": [
       "395     15405\n",
       "398     15335\n",
       "399     15330\n",
       "1020    15310\n",
       "1076    15310\n",
       "1018    15310\n",
       "1019    15309\n",
       "1077    15309\n",
       "1078    15306\n",
       "1017    15304\n",
       "1079    15300\n",
       "1080    15300\n",
       "1081    15299\n",
       "1096    15297\n",
       "1082    15297\n",
       "1086    15297\n",
       "1095    15296\n",
       "1093    15296\n",
       "1094    15295\n",
       "1092    15295\n",
       "1091    15295\n",
       "1085    15293\n",
       "1083    15293\n",
       "1090    15281\n",
       "396     15280\n",
       "1016    15278\n",
       "1089    15275\n",
       "1088    15275\n",
       "1087    15274\n",
       "397     15267\n",
       "7581    15264\n",
       "1101    15260\n",
       "7579    15258\n",
       "1283    15257\n",
       "1285    15254\n",
       "400     15248\n",
       "1102    15208\n",
       "1103    15208\n",
       "1104    15203\n",
       "Name: stop_id, dtype: int64"
      ]
     },
     "execution_count": 24,
     "metadata": {},
     "output_type": "execute_result"
    }
   ],
   "source": [
    "stop_counts"
   ]
  },
  {
   "cell_type": "code",
   "execution_count": 25,
   "metadata": {},
   "outputs": [
    {
     "data": {
      "text/plain": [
       "0.9868873742291464"
      ]
     },
     "execution_count": 25,
     "metadata": {},
     "output_type": "execute_result"
    }
   ],
   "source": [
    "min(stop_counts)/max(stop_counts)"
   ]
  },
  {
   "cell_type": "markdown",
   "metadata": {},
   "source": [
    "examine distribution and cardinality of features"
   ]
  },
  {
   "cell_type": "code",
   "execution_count": 26,
   "metadata": {},
   "outputs": [],
   "source": [
    "categorical=[\"stop_id\",\"route_id\",\"weather_main\",\"weather_description\",\"weekday\",\"month\",\"hour\",\"holiday\"]\n",
    "df_clean[categorical]=df_clean[categorical].astype(\"category\")\n",
    "ints=['daystamp','progr_number','arr_p','arr_a','dep_p','dep_a','dur_s','dur_a','pressure','humidity','wind_deg','clouds_all']\n",
    "floats=['temp','feels_like','temp_min','temp_max','wind_speed']"
   ]
  },
  {
   "cell_type": "code",
   "execution_count": 27,
   "metadata": {},
   "outputs": [
    {
     "data": {
      "text/html": [
       "<div>\n",
       "<style scoped>\n",
       "    .dataframe tbody tr th:only-of-type {\n",
       "        vertical-align: middle;\n",
       "    }\n",
       "\n",
       "    .dataframe tbody tr th {\n",
       "        vertical-align: top;\n",
       "    }\n",
       "\n",
       "    .dataframe thead th {\n",
       "        text-align: right;\n",
       "    }\n",
       "</style>\n",
       "<table border=\"1\" class=\"dataframe\">\n",
       "  <thead>\n",
       "    <tr style=\"text-align: right;\">\n",
       "      <th></th>\n",
       "      <th>stop_id</th>\n",
       "      <th>route_id</th>\n",
       "      <th>weather_main</th>\n",
       "      <th>weather_description</th>\n",
       "      <th>weekday</th>\n",
       "      <th>month</th>\n",
       "      <th>hour</th>\n",
       "      <th>holiday</th>\n",
       "    </tr>\n",
       "  </thead>\n",
       "  <tbody>\n",
       "    <tr>\n",
       "      <th>count</th>\n",
       "      <td>596171</td>\n",
       "      <td>596171</td>\n",
       "      <td>596171</td>\n",
       "      <td>596171</td>\n",
       "      <td>596171</td>\n",
       "      <td>596171</td>\n",
       "      <td>596171</td>\n",
       "      <td>596171</td>\n",
       "    </tr>\n",
       "    <tr>\n",
       "      <th>unique</th>\n",
       "      <td>39</td>\n",
       "      <td>1</td>\n",
       "      <td>8</td>\n",
       "      <td>20</td>\n",
       "      <td>7</td>\n",
       "      <td>12</td>\n",
       "      <td>20</td>\n",
       "      <td>2</td>\n",
       "    </tr>\n",
       "    <tr>\n",
       "      <th>top</th>\n",
       "      <td>395</td>\n",
       "      <td>83</td>\n",
       "      <td>Clouds</td>\n",
       "      <td>broken clouds</td>\n",
       "      <td>1</td>\n",
       "      <td>1</td>\n",
       "      <td>18</td>\n",
       "      <td>0</td>\n",
       "    </tr>\n",
       "    <tr>\n",
       "      <th>freq</th>\n",
       "      <td>15405</td>\n",
       "      <td>596171</td>\n",
       "      <td>472762</td>\n",
       "      <td>294019</td>\n",
       "      <td>94266</td>\n",
       "      <td>52557</td>\n",
       "      <td>44109</td>\n",
       "      <td>585959</td>\n",
       "    </tr>\n",
       "  </tbody>\n",
       "</table>\n",
       "</div>"
      ],
      "text/plain": [
       "        stop_id  route_id weather_main weather_description  weekday   month  \\\n",
       "count    596171    596171       596171              596171   596171  596171   \n",
       "unique       39         1            8                  20        7      12   \n",
       "top         395        83       Clouds       broken clouds        1       1   \n",
       "freq      15405    596171       472762              294019    94266   52557   \n",
       "\n",
       "          hour  holiday  \n",
       "count   596171   596171  \n",
       "unique      20        2  \n",
       "top         18        0  \n",
       "freq     44109   585959  "
      ]
     },
     "execution_count": 27,
     "metadata": {},
     "output_type": "execute_result"
    }
   ],
   "source": [
    "df_clean[categorical].describe()"
   ]
  },
  {
   "cell_type": "code",
   "execution_count": 28,
   "metadata": {},
   "outputs": [
    {
     "name": "stdout",
     "output_type": "stream",
     "text": [
      "Distribution for feature stop_id:\n",
      "395     15405\n",
      "398     15335\n",
      "399     15330\n",
      "1076    15310\n",
      "1018    15310\n",
      "1020    15310\n",
      "1019    15309\n",
      "1077    15309\n",
      "1078    15306\n",
      "1017    15304\n",
      "1080    15300\n",
      "1079    15300\n",
      "1081    15299\n",
      "1082    15297\n",
      "1086    15297\n",
      "1096    15297\n",
      "1093    15296\n",
      "1095    15296\n",
      "1091    15295\n",
      "1092    15295\n",
      "1094    15295\n",
      "1085    15293\n",
      "1083    15293\n",
      "1090    15281\n",
      "396     15280\n",
      "1016    15278\n",
      "1088    15275\n",
      "1089    15275\n",
      "1087    15274\n",
      "397     15267\n",
      "7581    15264\n",
      "1101    15260\n",
      "7579    15258\n",
      "1283    15257\n",
      "1285    15254\n",
      "400     15248\n",
      "1102    15208\n",
      "1103    15208\n",
      "1104    15203\n",
      "Name: stop_id, dtype: int64\n",
      "\n",
      "Distribution for feature route_id:\n",
      "83    596171\n",
      "Name: route_id, dtype: int64\n",
      "\n",
      "Distribution for feature weather_main:\n",
      "Clouds     472762\n",
      "Rain        67290\n",
      "Drizzle     31157\n",
      "Clear       14156\n",
      "Fog          3840\n",
      "Mist         3435\n",
      "Snow         3409\n",
      "Smoke         122\n",
      "Name: weather_main, dtype: int64\n",
      "\n",
      "Distribution for feature weather_description:\n",
      "broken clouds                   294019\n",
      "scattered clouds                 87438\n",
      "few clouds                       80876\n",
      "light rain                       38440\n",
      "light intensity drizzle          18492\n",
      "light intensity shower rain      15917\n",
      "sky is clear                     14156\n",
      "light intensity drizzle rain     12638\n",
      "proximity shower rain            11235\n",
      "overcast clouds                  10429\n",
      "fog                               3840\n",
      "mist                              3435\n",
      "light shower snow                 2411\n",
      "moderate rain                     1560\n",
      " light shower sleet                791\n",
      "light snow                         207\n",
      "smoke                              122\n",
      "heavy intensity rain               107\n",
      "shower rain                         31\n",
      "drizzle                             27\n",
      "Name: weather_description, dtype: int64\n",
      "\n",
      "Distribution for feature weekday:\n",
      "1    94266\n",
      "2    92436\n",
      "0    91101\n",
      "4    90823\n",
      "3    89245\n",
      "5    81949\n",
      "6    56351\n",
      "Name: weekday, dtype: int64\n",
      "\n",
      "Distribution for feature month:\n",
      "1     52557\n",
      "10    51610\n",
      "6     51481\n",
      "11    51377\n",
      "7     51177\n",
      "5     51049\n",
      "8     50232\n",
      "4     49853\n",
      "9     48257\n",
      "2     47479\n",
      "12    46059\n",
      "3     45040\n",
      "Name: month, dtype: int64\n",
      "\n",
      "Distribution for feature hour:\n",
      "18    44109\n",
      "17    40051\n",
      "7     37944\n",
      "8     37243\n",
      "14    36961\n",
      "13    36289\n",
      "16    36019\n",
      "10    35582\n",
      "11    34856\n",
      "15    34638\n",
      "9     34567\n",
      "12    34006\n",
      "19    31855\n",
      "21    26478\n",
      "23    26366\n",
      "22    26104\n",
      "20    24654\n",
      "6     16247\n",
      "0      2201\n",
      "1         1\n",
      "Name: hour, dtype: int64\n",
      "\n",
      "Distribution for feature holiday:\n",
      "0    585959\n",
      "1     10212\n",
      "Name: holiday, dtype: int64\n",
      "\n"
     ]
    }
   ],
   "source": [
    "for feature in categorical:\n",
    "    print(f\"Distribution for feature {feature}:\")\n",
    "    print(df_clean[feature].value_counts())\n",
    "    print(\"\")"
   ]
  },
  {
   "cell_type": "markdown",
   "metadata": {},
   "source": [
    "Question here is whether the added granularity from weather_main to weather_description is worth the added cardinality of 12.\n",
    "Cardinality of 1 for route_id means that it can be dropped safely."
   ]
  },
  {
   "cell_type": "code",
   "execution_count": 29,
   "metadata": {},
   "outputs": [],
   "source": [
    "df_clean=df_clean.drop([\"route_id\"],axis=1)"
   ]
  },
  {
   "cell_type": "code",
   "execution_count": 30,
   "metadata": {},
   "outputs": [],
   "source": [
    "df_clean[ints]=df_clean[ints].astype('int64')"
   ]
  },
  {
   "cell_type": "code",
   "execution_count": 31,
   "metadata": {},
   "outputs": [
    {
     "data": {
      "text/html": [
       "<div>\n",
       "<style scoped>\n",
       "    .dataframe tbody tr th:only-of-type {\n",
       "        vertical-align: middle;\n",
       "    }\n",
       "\n",
       "    .dataframe tbody tr th {\n",
       "        vertical-align: top;\n",
       "    }\n",
       "\n",
       "    .dataframe thead th {\n",
       "        text-align: right;\n",
       "    }\n",
       "</style>\n",
       "<table border=\"1\" class=\"dataframe\">\n",
       "  <thead>\n",
       "    <tr style=\"text-align: right;\">\n",
       "      <th></th>\n",
       "      <th>daystamp</th>\n",
       "      <th>progr_number</th>\n",
       "      <th>arr_p</th>\n",
       "      <th>arr_a</th>\n",
       "      <th>dep_p</th>\n",
       "      <th>dep_a</th>\n",
       "      <th>dur_s</th>\n",
       "      <th>dur_a</th>\n",
       "      <th>pressure</th>\n",
       "      <th>humidity</th>\n",
       "      <th>wind_deg</th>\n",
       "      <th>clouds_all</th>\n",
       "    </tr>\n",
       "  </thead>\n",
       "  <tbody>\n",
       "    <tr>\n",
       "      <th>count</th>\n",
       "      <td>5.961710e+05</td>\n",
       "      <td>596171.000000</td>\n",
       "      <td>596171.000000</td>\n",
       "      <td>596171.000000</td>\n",
       "      <td>596171.000000</td>\n",
       "      <td>596171.000000</td>\n",
       "      <td>596171.000000</td>\n",
       "      <td>596171.000000</td>\n",
       "      <td>596171.000000</td>\n",
       "      <td>596171.000000</td>\n",
       "      <td>596171.000000</td>\n",
       "      <td>596171.000000</td>\n",
       "    </tr>\n",
       "    <tr>\n",
       "      <th>mean</th>\n",
       "      <td>1.530427e+09</td>\n",
       "      <td>19.989379</td>\n",
       "      <td>53522.434813</td>\n",
       "      <td>53767.061392</td>\n",
       "      <td>53522.434813</td>\n",
       "      <td>53779.043325</td>\n",
       "      <td>1386.999846</td>\n",
       "      <td>1540.444844</td>\n",
       "      <td>1012.727028</td>\n",
       "      <td>77.037092</td>\n",
       "      <td>190.340342</td>\n",
       "      <td>60.610234</td>\n",
       "    </tr>\n",
       "    <tr>\n",
       "      <th>std</th>\n",
       "      <td>9.056187e+06</td>\n",
       "      <td>11.251731</td>\n",
       "      <td>17602.012182</td>\n",
       "      <td>17608.071716</td>\n",
       "      <td>17602.012182</td>\n",
       "      <td>17611.159007</td>\n",
       "      <td>776.516869</td>\n",
       "      <td>889.372075</td>\n",
       "      <td>11.703424</td>\n",
       "      <td>13.524969</td>\n",
       "      <td>89.130387</td>\n",
       "      <td>23.271634</td>\n",
       "    </tr>\n",
       "    <tr>\n",
       "      <th>min</th>\n",
       "      <td>1.514765e+09</td>\n",
       "      <td>1.000000</td>\n",
       "      <td>21600.000000</td>\n",
       "      <td>21374.000000</td>\n",
       "      <td>21600.000000</td>\n",
       "      <td>21374.000000</td>\n",
       "      <td>0.000000</td>\n",
       "      <td>-6885.000000</td>\n",
       "      <td>979.000000</td>\n",
       "      <td>25.000000</td>\n",
       "      <td>0.000000</td>\n",
       "      <td>0.000000</td>\n",
       "    </tr>\n",
       "    <tr>\n",
       "      <th>25%</th>\n",
       "      <td>1.522710e+09</td>\n",
       "      <td>10.000000</td>\n",
       "      <td>38338.000000</td>\n",
       "      <td>38523.000000</td>\n",
       "      <td>38338.000000</td>\n",
       "      <td>38531.000000</td>\n",
       "      <td>874.000000</td>\n",
       "      <td>956.000000</td>\n",
       "      <td>1005.000000</td>\n",
       "      <td>68.000000</td>\n",
       "      <td>130.000000</td>\n",
       "      <td>40.000000</td>\n",
       "    </tr>\n",
       "    <tr>\n",
       "      <th>50%</th>\n",
       "      <td>1.530400e+09</td>\n",
       "      <td>20.000000</td>\n",
       "      <td>53414.000000</td>\n",
       "      <td>53675.000000</td>\n",
       "      <td>53414.000000</td>\n",
       "      <td>53689.000000</td>\n",
       "      <td>1423.000000</td>\n",
       "      <td>1563.000000</td>\n",
       "      <td>1014.000000</td>\n",
       "      <td>77.000000</td>\n",
       "      <td>210.000000</td>\n",
       "      <td>75.000000</td>\n",
       "    </tr>\n",
       "    <tr>\n",
       "      <th>75%</th>\n",
       "      <td>1.538348e+09</td>\n",
       "      <td>30.000000</td>\n",
       "      <td>67413.000000</td>\n",
       "      <td>67822.000000</td>\n",
       "      <td>67413.000000</td>\n",
       "      <td>67839.000000</td>\n",
       "      <td>1941.000000</td>\n",
       "      <td>2141.000000</td>\n",
       "      <td>1021.000000</td>\n",
       "      <td>87.000000</td>\n",
       "      <td>260.000000</td>\n",
       "      <td>75.000000</td>\n",
       "    </tr>\n",
       "    <tr>\n",
       "      <th>max</th>\n",
       "      <td>1.546214e+09</td>\n",
       "      <td>39.000000</td>\n",
       "      <td>86918.000000</td>\n",
       "      <td>87654.000000</td>\n",
       "      <td>86918.000000</td>\n",
       "      <td>87654.000000</td>\n",
       "      <td>3826.000000</td>\n",
       "      <td>10373.000000</td>\n",
       "      <td>1041.000000</td>\n",
       "      <td>100.000000</td>\n",
       "      <td>360.000000</td>\n",
       "      <td>100.000000</td>\n",
       "    </tr>\n",
       "  </tbody>\n",
       "</table>\n",
       "</div>"
      ],
      "text/plain": [
       "           daystamp   progr_number          arr_p          arr_a  \\\n",
       "count  5.961710e+05  596171.000000  596171.000000  596171.000000   \n",
       "mean   1.530427e+09      19.989379   53522.434813   53767.061392   \n",
       "std    9.056187e+06      11.251731   17602.012182   17608.071716   \n",
       "min    1.514765e+09       1.000000   21600.000000   21374.000000   \n",
       "25%    1.522710e+09      10.000000   38338.000000   38523.000000   \n",
       "50%    1.530400e+09      20.000000   53414.000000   53675.000000   \n",
       "75%    1.538348e+09      30.000000   67413.000000   67822.000000   \n",
       "max    1.546214e+09      39.000000   86918.000000   87654.000000   \n",
       "\n",
       "               dep_p          dep_a          dur_s          dur_a  \\\n",
       "count  596171.000000  596171.000000  596171.000000  596171.000000   \n",
       "mean    53522.434813   53779.043325    1386.999846    1540.444844   \n",
       "std     17602.012182   17611.159007     776.516869     889.372075   \n",
       "min     21600.000000   21374.000000       0.000000   -6885.000000   \n",
       "25%     38338.000000   38531.000000     874.000000     956.000000   \n",
       "50%     53414.000000   53689.000000    1423.000000    1563.000000   \n",
       "75%     67413.000000   67839.000000    1941.000000    2141.000000   \n",
       "max     86918.000000   87654.000000    3826.000000   10373.000000   \n",
       "\n",
       "            pressure       humidity       wind_deg     clouds_all  \n",
       "count  596171.000000  596171.000000  596171.000000  596171.000000  \n",
       "mean     1012.727028      77.037092     190.340342      60.610234  \n",
       "std        11.703424      13.524969      89.130387      23.271634  \n",
       "min       979.000000      25.000000       0.000000       0.000000  \n",
       "25%      1005.000000      68.000000     130.000000      40.000000  \n",
       "50%      1014.000000      77.000000     210.000000      75.000000  \n",
       "75%      1021.000000      87.000000     260.000000      75.000000  \n",
       "max      1041.000000     100.000000     360.000000     100.000000  "
      ]
     },
     "execution_count": 31,
     "metadata": {},
     "output_type": "execute_result"
    }
   ],
   "source": [
    "df_clean[ints].describe()"
   ]
  },
  {
   "cell_type": "markdown",
   "metadata": {},
   "source": [
    "Negative values for durations need to be inspected closer:"
   ]
  },
  {
   "cell_type": "code",
   "execution_count": 32,
   "metadata": {},
   "outputs": [
    {
     "data": {
      "text/html": [
       "<div>\n",
       "<style scoped>\n",
       "    .dataframe tbody tr th:only-of-type {\n",
       "        vertical-align: middle;\n",
       "    }\n",
       "\n",
       "    .dataframe tbody tr th {\n",
       "        vertical-align: top;\n",
       "    }\n",
       "\n",
       "    .dataframe thead th {\n",
       "        text-align: right;\n",
       "    }\n",
       "</style>\n",
       "<table border=\"1\" class=\"dataframe\">\n",
       "  <thead>\n",
       "    <tr style=\"text-align: right;\">\n",
       "      <th></th>\n",
       "      <th>daystamp</th>\n",
       "      <th>progr_number</th>\n",
       "      <th>stop_id</th>\n",
       "      <th>arr_p</th>\n",
       "      <th>arr_a</th>\n",
       "      <th>dep_p</th>\n",
       "      <th>dep_a</th>\n",
       "      <th>end_p</th>\n",
       "      <th>start_p</th>\n",
       "      <th>start_a</th>\n",
       "      <th>...</th>\n",
       "      <th>wind_deg</th>\n",
       "      <th>clouds_all</th>\n",
       "      <th>weather_description</th>\n",
       "      <th>dt</th>\n",
       "      <th>weekday</th>\n",
       "      <th>month</th>\n",
       "      <th>hour</th>\n",
       "      <th>holiday</th>\n",
       "      <th>dur_s</th>\n",
       "      <th>dur_a</th>\n",
       "    </tr>\n",
       "  </thead>\n",
       "  <tbody>\n",
       "    <tr>\n",
       "      <th>3954</th>\n",
       "      <td>1523314800</td>\n",
       "      <td>2</td>\n",
       "      <td>396</td>\n",
       "      <td>72075</td>\n",
       "      <td>72102</td>\n",
       "      <td>72075</td>\n",
       "      <td>72135</td>\n",
       "      <td>74555</td>\n",
       "      <td>72000</td>\n",
       "      <td>73755.0</td>\n",
       "      <td>...</td>\n",
       "      <td>30</td>\n",
       "      <td>75</td>\n",
       "      <td>light intensity drizzle</td>\n",
       "      <td>1523386875</td>\n",
       "      <td>1</td>\n",
       "      <td>4</td>\n",
       "      <td>20</td>\n",
       "      <td>0</td>\n",
       "      <td>75</td>\n",
       "      <td>-1620</td>\n",
       "    </tr>\n",
       "    <tr>\n",
       "      <th>3955</th>\n",
       "      <td>1523314800</td>\n",
       "      <td>3</td>\n",
       "      <td>397</td>\n",
       "      <td>72116</td>\n",
       "      <td>72222</td>\n",
       "      <td>72116</td>\n",
       "      <td>72241</td>\n",
       "      <td>74555</td>\n",
       "      <td>72000</td>\n",
       "      <td>73755.0</td>\n",
       "      <td>...</td>\n",
       "      <td>30</td>\n",
       "      <td>75</td>\n",
       "      <td>light intensity drizzle</td>\n",
       "      <td>1523386916</td>\n",
       "      <td>1</td>\n",
       "      <td>4</td>\n",
       "      <td>20</td>\n",
       "      <td>0</td>\n",
       "      <td>116</td>\n",
       "      <td>-1514</td>\n",
       "    </tr>\n",
       "    <tr>\n",
       "      <th>3956</th>\n",
       "      <td>1523314800</td>\n",
       "      <td>4</td>\n",
       "      <td>398</td>\n",
       "      <td>72177</td>\n",
       "      <td>72269</td>\n",
       "      <td>72177</td>\n",
       "      <td>72284</td>\n",
       "      <td>74555</td>\n",
       "      <td>72000</td>\n",
       "      <td>73755.0</td>\n",
       "      <td>...</td>\n",
       "      <td>30</td>\n",
       "      <td>75</td>\n",
       "      <td>light intensity drizzle</td>\n",
       "      <td>1523386977</td>\n",
       "      <td>1</td>\n",
       "      <td>4</td>\n",
       "      <td>20</td>\n",
       "      <td>0</td>\n",
       "      <td>177</td>\n",
       "      <td>-1471</td>\n",
       "    </tr>\n",
       "    <tr>\n",
       "      <th>3957</th>\n",
       "      <td>1523314800</td>\n",
       "      <td>5</td>\n",
       "      <td>399</td>\n",
       "      <td>72227</td>\n",
       "      <td>72309</td>\n",
       "      <td>72227</td>\n",
       "      <td>72320</td>\n",
       "      <td>74555</td>\n",
       "      <td>72000</td>\n",
       "      <td>73755.0</td>\n",
       "      <td>...</td>\n",
       "      <td>30</td>\n",
       "      <td>75</td>\n",
       "      <td>light intensity drizzle</td>\n",
       "      <td>1523387027</td>\n",
       "      <td>1</td>\n",
       "      <td>4</td>\n",
       "      <td>20</td>\n",
       "      <td>0</td>\n",
       "      <td>227</td>\n",
       "      <td>-1435</td>\n",
       "    </tr>\n",
       "    <tr>\n",
       "      <th>3958</th>\n",
       "      <td>1523314800</td>\n",
       "      <td>6</td>\n",
       "      <td>400</td>\n",
       "      <td>72316</td>\n",
       "      <td>72424</td>\n",
       "      <td>72316</td>\n",
       "      <td>72443</td>\n",
       "      <td>74555</td>\n",
       "      <td>72000</td>\n",
       "      <td>73755.0</td>\n",
       "      <td>...</td>\n",
       "      <td>30</td>\n",
       "      <td>75</td>\n",
       "      <td>light intensity drizzle</td>\n",
       "      <td>1523387116</td>\n",
       "      <td>1</td>\n",
       "      <td>4</td>\n",
       "      <td>20</td>\n",
       "      <td>0</td>\n",
       "      <td>316</td>\n",
       "      <td>-1312</td>\n",
       "    </tr>\n",
       "    <tr>\n",
       "      <th>...</th>\n",
       "      <td>...</td>\n",
       "      <td>...</td>\n",
       "      <td>...</td>\n",
       "      <td>...</td>\n",
       "      <td>...</td>\n",
       "      <td>...</td>\n",
       "      <td>...</td>\n",
       "      <td>...</td>\n",
       "      <td>...</td>\n",
       "      <td>...</td>\n",
       "      <td>...</td>\n",
       "      <td>...</td>\n",
       "      <td>...</td>\n",
       "      <td>...</td>\n",
       "      <td>...</td>\n",
       "      <td>...</td>\n",
       "      <td>...</td>\n",
       "      <td>...</td>\n",
       "      <td>...</td>\n",
       "      <td>...</td>\n",
       "      <td>...</td>\n",
       "    </tr>\n",
       "    <tr>\n",
       "      <th>595426</th>\n",
       "      <td>1527116400</td>\n",
       "      <td>4</td>\n",
       "      <td>398</td>\n",
       "      <td>58405</td>\n",
       "      <td>58458</td>\n",
       "      <td>58405</td>\n",
       "      <td>58481</td>\n",
       "      <td>61161</td>\n",
       "      <td>58200</td>\n",
       "      <td>58922.0</td>\n",
       "      <td>...</td>\n",
       "      <td>60</td>\n",
       "      <td>75</td>\n",
       "      <td>light intensity shower rain</td>\n",
       "      <td>1527174805</td>\n",
       "      <td>3</td>\n",
       "      <td>5</td>\n",
       "      <td>16</td>\n",
       "      <td>0</td>\n",
       "      <td>205</td>\n",
       "      <td>-441</td>\n",
       "    </tr>\n",
       "    <tr>\n",
       "      <th>595427</th>\n",
       "      <td>1527116400</td>\n",
       "      <td>5</td>\n",
       "      <td>399</td>\n",
       "      <td>58463</td>\n",
       "      <td>58609</td>\n",
       "      <td>58463</td>\n",
       "      <td>58656</td>\n",
       "      <td>61161</td>\n",
       "      <td>58200</td>\n",
       "      <td>58922.0</td>\n",
       "      <td>...</td>\n",
       "      <td>60</td>\n",
       "      <td>75</td>\n",
       "      <td>light intensity shower rain</td>\n",
       "      <td>1527174863</td>\n",
       "      <td>3</td>\n",
       "      <td>5</td>\n",
       "      <td>16</td>\n",
       "      <td>0</td>\n",
       "      <td>263</td>\n",
       "      <td>-266</td>\n",
       "    </tr>\n",
       "    <tr>\n",
       "      <th>595428</th>\n",
       "      <td>1527116400</td>\n",
       "      <td>6</td>\n",
       "      <td>400</td>\n",
       "      <td>58567</td>\n",
       "      <td>58723</td>\n",
       "      <td>58567</td>\n",
       "      <td>58755</td>\n",
       "      <td>61161</td>\n",
       "      <td>58200</td>\n",
       "      <td>58922.0</td>\n",
       "      <td>...</td>\n",
       "      <td>60</td>\n",
       "      <td>75</td>\n",
       "      <td>light intensity shower rain</td>\n",
       "      <td>1527174967</td>\n",
       "      <td>3</td>\n",
       "      <td>5</td>\n",
       "      <td>16</td>\n",
       "      <td>0</td>\n",
       "      <td>367</td>\n",
       "      <td>-167</td>\n",
       "    </tr>\n",
       "    <tr>\n",
       "      <th>601555</th>\n",
       "      <td>1526943600</td>\n",
       "      <td>2</td>\n",
       "      <td>396</td>\n",
       "      <td>58287</td>\n",
       "      <td>58287</td>\n",
       "      <td>58287</td>\n",
       "      <td>58320</td>\n",
       "      <td>61161</td>\n",
       "      <td>58200</td>\n",
       "      <td>58472.0</td>\n",
       "      <td>...</td>\n",
       "      <td>30</td>\n",
       "      <td>75</td>\n",
       "      <td>broken clouds</td>\n",
       "      <td>1527001887</td>\n",
       "      <td>1</td>\n",
       "      <td>5</td>\n",
       "      <td>16</td>\n",
       "      <td>0</td>\n",
       "      <td>87</td>\n",
       "      <td>-152</td>\n",
       "    </tr>\n",
       "    <tr>\n",
       "      <th>601556</th>\n",
       "      <td>1526943600</td>\n",
       "      <td>3</td>\n",
       "      <td>397</td>\n",
       "      <td>58335</td>\n",
       "      <td>58428</td>\n",
       "      <td>58335</td>\n",
       "      <td>58437</td>\n",
       "      <td>61161</td>\n",
       "      <td>58200</td>\n",
       "      <td>58472.0</td>\n",
       "      <td>...</td>\n",
       "      <td>30</td>\n",
       "      <td>75</td>\n",
       "      <td>broken clouds</td>\n",
       "      <td>1527001935</td>\n",
       "      <td>1</td>\n",
       "      <td>5</td>\n",
       "      <td>16</td>\n",
       "      <td>0</td>\n",
       "      <td>135</td>\n",
       "      <td>-35</td>\n",
       "    </tr>\n",
       "  </tbody>\n",
       "</table>\n",
       "<p>1060 rows × 28 columns</p>\n",
       "</div>"
      ],
      "text/plain": [
       "          daystamp  progr_number stop_id  arr_p  arr_a  dep_p  dep_a  end_p  \\\n",
       "3954    1523314800             2     396  72075  72102  72075  72135  74555   \n",
       "3955    1523314800             3     397  72116  72222  72116  72241  74555   \n",
       "3956    1523314800             4     398  72177  72269  72177  72284  74555   \n",
       "3957    1523314800             5     399  72227  72309  72227  72320  74555   \n",
       "3958    1523314800             6     400  72316  72424  72316  72443  74555   \n",
       "...            ...           ...     ...    ...    ...    ...    ...    ...   \n",
       "595426  1527116400             4     398  58405  58458  58405  58481  61161   \n",
       "595427  1527116400             5     399  58463  58609  58463  58656  61161   \n",
       "595428  1527116400             6     400  58567  58723  58567  58755  61161   \n",
       "601555  1526943600             2     396  58287  58287  58287  58320  61161   \n",
       "601556  1526943600             3     397  58335  58428  58335  58437  61161   \n",
       "\n",
       "        start_p  start_a  ... wind_deg  clouds_all  \\\n",
       "3954      72000  73755.0  ...       30          75   \n",
       "3955      72000  73755.0  ...       30          75   \n",
       "3956      72000  73755.0  ...       30          75   \n",
       "3957      72000  73755.0  ...       30          75   \n",
       "3958      72000  73755.0  ...       30          75   \n",
       "...         ...      ...  ...      ...         ...   \n",
       "595426    58200  58922.0  ...       60          75   \n",
       "595427    58200  58922.0  ...       60          75   \n",
       "595428    58200  58922.0  ...       60          75   \n",
       "601555    58200  58472.0  ...       30          75   \n",
       "601556    58200  58472.0  ...       30          75   \n",
       "\n",
       "                weather_description          dt  weekday  month  hour  \\\n",
       "3954        light intensity drizzle  1523386875        1      4    20   \n",
       "3955        light intensity drizzle  1523386916        1      4    20   \n",
       "3956        light intensity drizzle  1523386977        1      4    20   \n",
       "3957        light intensity drizzle  1523387027        1      4    20   \n",
       "3958        light intensity drizzle  1523387116        1      4    20   \n",
       "...                             ...         ...      ...    ...   ...   \n",
       "595426  light intensity shower rain  1527174805        3      5    16   \n",
       "595427  light intensity shower rain  1527174863        3      5    16   \n",
       "595428  light intensity shower rain  1527174967        3      5    16   \n",
       "601555                broken clouds  1527001887        1      5    16   \n",
       "601556                broken clouds  1527001935        1      5    16   \n",
       "\n",
       "        holiday  dur_s  dur_a  \n",
       "3954          0     75  -1620  \n",
       "3955          0    116  -1514  \n",
       "3956          0    177  -1471  \n",
       "3957          0    227  -1435  \n",
       "3958          0    316  -1312  \n",
       "...         ...    ...    ...  \n",
       "595426        0    205   -441  \n",
       "595427        0    263   -266  \n",
       "595428        0    367   -167  \n",
       "601555        0     87   -152  \n",
       "601556        0    135    -35  \n",
       "\n",
       "[1060 rows x 28 columns]"
      ]
     },
     "execution_count": 32,
     "metadata": {},
     "output_type": "execute_result"
    }
   ],
   "source": [
    "df_clean[df_clean.dur_a<0]"
   ]
  },
  {
   "cell_type": "code",
   "execution_count": 33,
   "metadata": {},
   "outputs": [
    {
     "name": "stdout",
     "output_type": "stream",
     "text": [
      "0.18% of the remaining data show negative durations.\n"
     ]
    }
   ],
   "source": [
    "print(f\"{df_clean[df_clean.dur_a<0].shape[0]/df_clean.shape[0]*100:.2f}% of the remaining data show negative durations.\")"
   ]
  },
  {
   "cell_type": "markdown",
   "metadata": {},
   "source": [
    "Number is low enough to justify dropping the negative rows without doing any further investigation"
   ]
  },
  {
   "cell_type": "code",
   "execution_count": 34,
   "metadata": {},
   "outputs": [],
   "source": [
    "df_clean=df_clean[df_clean.dur_a>=0]"
   ]
  },
  {
   "cell_type": "markdown",
   "metadata": {},
   "source": [
    "The last data cleaning operation refers to redundancy: As the route_id has a cardinality of 1, the stop_ids and progr_numbers of one dataset (i.e. per route and direction) have a perfectly positive correlation. As stop_id \"only\" nominal data and progr_number is ordinal (i.e. progr_number 2 comes after 1 for every trip), we will discard stop_id."
   ]
  },
  {
   "cell_type": "code",
   "execution_count": 35,
   "metadata": {},
   "outputs": [],
   "source": [
    "df_clean=df_clean.drop([\"stop_id\"],axis=1)"
   ]
  },
  {
   "cell_type": "markdown",
   "metadata": {},
   "source": [
    "<h3>Feature Selection</h3>\n",
    "<br>\n",
    "<div>Problem domain: Some categorical features, some numeric features, numeric target variable.</div>"
   ]
  },
  {
   "cell_type": "markdown",
   "metadata": {},
   "source": [
    "For categorical input, chi squared is recommended.\n",
    "For numerical input, ANOVA f-test (\"Analysis of Variance\") or Mutual Information Statistics are used:"
   ]
  },
  {
   "cell_type": "code",
   "execution_count": 36,
   "metadata": {},
   "outputs": [],
   "source": [
    "y=df_clean[\"dur_a\"]\n",
    "X=df_clean.drop([\"dur_a\"],axis=1)"
   ]
  },
  {
   "cell_type": "code",
   "execution_count": 37,
   "metadata": {},
   "outputs": [],
   "source": [
    "X_train,X_test,y_train,y_test=train_test_split(X,y,test_size=0.3,random_state=1)"
   ]
  },
  {
   "cell_type": "code",
   "execution_count": 38,
   "metadata": {},
   "outputs": [],
   "source": [
    "categorical=X_train.columns[X_train.dtypes==\"category\"]"
   ]
  },
  {
   "cell_type": "code",
   "execution_count": 39,
   "metadata": {},
   "outputs": [],
   "source": [
    "X_train_categorical=X_train[categorical]"
   ]
  },
  {
   "cell_type": "code",
   "execution_count": 40,
   "metadata": {},
   "outputs": [],
   "source": [
    "X_test_categorical=X_test[categorical]"
   ]
  },
  {
   "cell_type": "code",
   "execution_count": 41,
   "metadata": {},
   "outputs": [],
   "source": [
    "X_train_enc=pd.get_dummies(X_train_categorical,drop_first=True)\n",
    "X_test_enc=pd.get_dummies(X_test_categorical,drop_first=True)"
   ]
  },
  {
   "cell_type": "code",
   "execution_count": 42,
   "metadata": {},
   "outputs": [],
   "source": [
    "dummy_columns=list(X_train_enc.columns)"
   ]
  },
  {
   "cell_type": "code",
   "execution_count": 43,
   "metadata": {},
   "outputs": [],
   "source": [
    "fs=SelectKBest(score_func=f_regression, k='all')\n",
    "fs.fit(X_train_enc,y_train)\n",
    "X_train_fs=fs.transform(X_train_enc)\n",
    "X_test_fs=fs.transform(X_test_enc)"
   ]
  },
  {
   "cell_type": "code",
   "execution_count": 44,
   "metadata": {
    "scrolled": true
   },
   "outputs": [
    {
     "name": "stdout",
     "output_type": "stream",
     "text": [
      "Feature weather_main_Clouds: 0.03157807192662413\n",
      "Feature weather_main_Drizzle: 133.8953293749498\n",
      "Feature weather_main_Fog: 32.83329805144729\n",
      "Feature weather_main_Mist: 2.5869514136676988\n",
      "Feature weather_main_Rain: 151.42902325253897\n",
      "Feature weather_main_Smoke: 1.4464565443068471\n",
      "Feature weather_main_Snow: 12.656135013120593\n",
      "Feature weather_description_broken clouds: 0.6437875621181893\n",
      "Feature weather_description_drizzle: 14.467861695850056\n",
      "Feature weather_description_few clouds: 21.29505802215242\n",
      "Feature weather_description_fog: 32.83329805144729\n",
      "Feature weather_description_heavy intensity rain: 33.546679595145484\n",
      "Feature weather_description_light intensity drizzle: 28.672539108030204\n",
      "Feature weather_description_light intensity drizzle rain: 134.99118119242874\n",
      "Feature weather_description_light intensity shower rain: 42.65763239736482\n",
      "Feature weather_description_light rain: 9.845694759889456\n",
      "Feature weather_description_light shower snow: 0.03378370459460438\n",
      "Feature weather_description_light snow: 42.36960360598426\n",
      "Feature weather_description_mist: 2.5869514136676988\n",
      "Feature weather_description_moderate rain: 3.1391829635690365\n",
      "Feature weather_description_overcast clouds: 125.16830653036878\n",
      "Feature weather_description_proximity shower rain: 275.6204389043293\n",
      "Feature weather_description_scattered clouds: 58.86339771343488\n",
      "Feature weather_description_shower rain: 13.598969673783524\n",
      "Feature weather_description_sky is clear: 13.276231387198017\n",
      "Feature weather_description_smoke: 1.4464565443068471\n",
      "Feature weekday_1: 313.5371515170806\n",
      "Feature weekday_2: 373.93677017831794\n",
      "Feature weekday_3: 918.4260164191389\n",
      "Feature weekday_4: 1415.0401351508165\n",
      "Feature weekday_5: 2031.794063567199\n",
      "Feature weekday_6: 3883.262284896442\n",
      "Feature month_2: 1.1249442865377859\n",
      "Feature month_3: 7.313063122272561\n",
      "Feature month_4: 2.4563612818067715\n",
      "Feature month_5: 0.03502841175822974\n",
      "Feature month_6: 47.352759560613144\n",
      "Feature month_7: 90.338996923539\n",
      "Feature month_8: 94.27824666405495\n",
      "Feature month_9: 3.9673828145592815\n",
      "Feature month_10: 26.257853194047524\n",
      "Feature month_11: 375.9555342180555\n",
      "Feature month_12: 6.347054724613123\n",
      "Feature hour_1: 0.48819256442313974\n",
      "Feature hour_6: 7597.941184797834\n",
      "Feature hour_7: 6624.371204142859\n",
      "Feature hour_8: 588.183742204792\n",
      "Feature hour_9: 473.51919792990714\n",
      "Feature hour_10: 1187.5634070002095\n",
      "Feature hour_11: 801.2065207497732\n",
      "Feature hour_12: 142.0424451647139\n",
      "Feature hour_13: 0.26403080285802466\n",
      "Feature hour_14: 37.095946832854054\n",
      "Feature hour_15: 155.90803599544182\n",
      "Feature hour_16: 1735.9112136219653\n",
      "Feature hour_17: 7384.450466114368\n",
      "Feature hour_18: 14497.11750382009\n",
      "Feature hour_19: 3075.800170890893\n",
      "Feature hour_20: 68.36983367248023\n",
      "Feature hour_21: 262.24565051401447\n",
      "Feature hour_22: 1129.870086539908\n",
      "Feature hour_23: 2145.615057903978\n",
      "Feature holiday_1: 1212.0311242326602\n"
     ]
    }
   ],
   "source": [
    "for i in range(len(fs.scores_)):\n",
    "    print(f'Feature {dummy_columns[i]}: {fs.scores_[i]}')"
   ]
  },
  {
   "cell_type": "code",
   "execution_count": 45,
   "metadata": {},
   "outputs": [
    {
     "data": {
      "image/png": "[encoded data removed]",
      "text/plain": [
       "<Figure size 1152x648 with 1 Axes>"
      ]
     },
     "metadata": {
      "needs_background": "light"
     },
     "output_type": "display_data"
    }
   ],
   "source": [
    "plt.figure(figsize=(16,9))\n",
    "ax = sns.barplot(x=dummy_columns, y=fs.scores_,palette=\"Blues_d\")\n",
    "ax.set_xticklabels(ax.get_xticklabels(), rotation=90, ha=\"right\")\n",
    "plt.show()"
   ]
  },
  {
   "cell_type": "markdown",
   "metadata": {},
   "source": [
    "<div>Both weather features seem to not have a significant influence on the target feature as they dwarf in comparison. as weather is demanded in the project deliverables, we will keep it for now and test models with the detailed description, the low cardinality description, and without weather.</div>\n",
    "<br>\n",
    "<div>of the remaining features, month could have low to no influence. we will try different model configurations with and without month. weekday, hour and holiday display a strong relationship with the target variable, be it only for some of their values.</div>"
   ]
  },
  {
   "cell_type": "code",
   "execution_count": 46,
   "metadata": {},
   "outputs": [],
   "source": [
    "numeric=X_train.columns[(X_train.dtypes==\"int64\") | (X_train.dtypes==\"float64\")]"
   ]
  },
  {
   "cell_type": "code",
   "execution_count": 47,
   "metadata": {},
   "outputs": [],
   "source": [
    "corr=pd.concat([X_train[numeric], y], axis=1).corr()"
   ]
  },
  {
   "cell_type": "code",
   "execution_count": 48,
   "metadata": {},
   "outputs": [
    {
     "data": {
      "image/png": "[encoded data removed]",
      "text/plain": [
       "<Figure size 1152x648 with 2 Axes>"
      ]
     },
     "metadata": {
      "needs_background": "light"
     },
     "output_type": "display_data"
    }
   ],
   "source": [
    "plt.figure(figsize=(16,9))\n",
    "sns.heatmap(corr,xticklabels=corr.columns,yticklabels=corr.columns,linewidth=.5,cmap=\"YlGnBu\")\n",
    "plt.show()"
   ]
  },
  {
   "cell_type": "code",
   "execution_count": 49,
   "metadata": {},
   "outputs": [
    {
     "data": {
      "text/plain": [
       "humidity       -0.084925\n",
       "pressure       -0.029210\n",
       "wind_deg       -0.004104\n",
       "clouds_all     -0.001515\n",
       "feels_like      0.011756\n",
       "daystamp        0.015891\n",
       "dt              0.016202\n",
       "wind_speed      0.024492\n",
       "temp_max        0.025732\n",
       "temp_min        0.026063\n",
       "temp            0.027585\n",
       "start_p         0.119037\n",
       "start_a         0.119315\n",
       "end_p           0.127070\n",
       "dep_p           0.160000\n",
       "arr_p           0.160000\n",
       "dep_a           0.168425\n",
       "arr_a           0.168501\n",
       "progr_number    0.842383\n",
       "dur_s           0.943613\n",
       "dur_a           1.000000\n",
       "Name: dur_a, dtype: float64"
      ]
     },
     "execution_count": 49,
     "metadata": {},
     "output_type": "execute_result"
    }
   ],
   "source": [
    "corr[\"dur_a\"].sort_values()"
   ]
  },
  {
   "cell_type": "code",
   "execution_count": 50,
   "metadata": {},
   "outputs": [],
   "source": [
    "high_corr=corr[\"dur_a\"][(corr[\"dur_a\"]>=0.5) | (corr[\"dur_a\"]<=-0.5)]"
   ]
  },
  {
   "cell_type": "code",
   "execution_count": 51,
   "metadata": {},
   "outputs": [],
   "source": [
    "numeric=high_corr.drop([\"dur_a\"]).index"
   ]
  },
  {
   "cell_type": "code",
   "execution_count": 52,
   "metadata": {},
   "outputs": [
    {
     "data": {
      "text/plain": [
       "Index(['progr_number', 'dur_s'], dtype='object')"
      ]
     },
     "execution_count": 52,
     "metadata": {},
     "output_type": "execute_result"
    }
   ],
   "source": [
    "numeric"
   ]
  },
  {
   "cell_type": "markdown",
   "metadata": {},
   "source": [
    "<div>above's heatmap shows that the scheduled duration and progr_number have a very strong correlation with the target value, but there is a large dropoff afterwards. namely, the temperature and other weather features have no meaningful impact on the acutal duration of a trip. due to these findings, no numerical feature but progr_number and dur_s will be considered for modelling.</div>\n",
    "<br>\n",
    "<div>furthermore, dur_s and progr_number show a strong correlation. during the modelling, we will examine whether the progr_number can be dropped.</div>"
   ]
  },
  {
   "cell_type": "code",
   "execution_count": 53,
   "metadata": {},
   "outputs": [],
   "source": [
    "X_numeric=X[numeric]"
   ]
  },
  {
   "cell_type": "markdown",
   "metadata": {},
   "source": [
    "<h3>Modelling</h3>"
   ]
  },
  {
   "cell_type": "markdown",
   "metadata": {},
   "source": [
    "In the previous section, we identified the features weather_main, weather_description, month and progr_number as potentially redundant. we will test on a linear regressor with and without these features to find out whether they are beneficial for performance. then, we will test different models that are computationally more expensive and see whether they perform superior. finally, we will choose the best performing model, and - if it is not the linear regressor - see if it performs better with other feature combinations."
   ]
  },
  {
   "cell_type": "markdown",
   "metadata": {},
   "source": [
    "<h4>Linear Regression</h4>"
   ]
  },
  {
   "cell_type": "code",
   "execution_count": 54,
   "metadata": {},
   "outputs": [],
   "source": [
    "X=pd.concat([X[categorical],X[numeric]],axis=1)\n",
    "y=df_clean[\"dur_a\"]"
   ]
  },
  {
   "cell_type": "code",
   "execution_count": 55,
   "metadata": {},
   "outputs": [
    {
     "data": {
      "text/html": [
       "<div>\n",
       "<style scoped>\n",
       "    .dataframe tbody tr th:only-of-type {\n",
       "        vertical-align: middle;\n",
       "    }\n",
       "\n",
       "    .dataframe tbody tr th {\n",
       "        vertical-align: top;\n",
       "    }\n",
       "\n",
       "    .dataframe thead th {\n",
       "        text-align: right;\n",
       "    }\n",
       "</style>\n",
       "<table border=\"1\" class=\"dataframe\">\n",
       "  <thead>\n",
       "    <tr style=\"text-align: right;\">\n",
       "      <th></th>\n",
       "      <th>weather_main</th>\n",
       "      <th>weather_description</th>\n",
       "      <th>weekday</th>\n",
       "      <th>month</th>\n",
       "      <th>hour</th>\n",
       "      <th>holiday</th>\n",
       "      <th>progr_number</th>\n",
       "      <th>dur_s</th>\n",
       "    </tr>\n",
       "  </thead>\n",
       "  <tbody>\n",
       "    <tr>\n",
       "      <th>0</th>\n",
       "      <td>Drizzle</td>\n",
       "      <td>light intensity drizzle rain</td>\n",
       "      <td>6</td>\n",
       "      <td>2</td>\n",
       "      <td>16</td>\n",
       "      <td>0</td>\n",
       "      <td>1</td>\n",
       "      <td>0</td>\n",
       "    </tr>\n",
       "    <tr>\n",
       "      <th>1</th>\n",
       "      <td>Drizzle</td>\n",
       "      <td>light intensity drizzle rain</td>\n",
       "      <td>6</td>\n",
       "      <td>2</td>\n",
       "      <td>16</td>\n",
       "      <td>0</td>\n",
       "      <td>2</td>\n",
       "      <td>62</td>\n",
       "    </tr>\n",
       "    <tr>\n",
       "      <th>2</th>\n",
       "      <td>Drizzle</td>\n",
       "      <td>light intensity drizzle rain</td>\n",
       "      <td>6</td>\n",
       "      <td>2</td>\n",
       "      <td>16</td>\n",
       "      <td>0</td>\n",
       "      <td>3</td>\n",
       "      <td>96</td>\n",
       "    </tr>\n",
       "    <tr>\n",
       "      <th>3</th>\n",
       "      <td>Drizzle</td>\n",
       "      <td>light intensity drizzle rain</td>\n",
       "      <td>6</td>\n",
       "      <td>2</td>\n",
       "      <td>16</td>\n",
       "      <td>0</td>\n",
       "      <td>4</td>\n",
       "      <td>146</td>\n",
       "    </tr>\n",
       "    <tr>\n",
       "      <th>4</th>\n",
       "      <td>Drizzle</td>\n",
       "      <td>light intensity drizzle rain</td>\n",
       "      <td>6</td>\n",
       "      <td>2</td>\n",
       "      <td>16</td>\n",
       "      <td>0</td>\n",
       "      <td>5</td>\n",
       "      <td>187</td>\n",
       "    </tr>\n",
       "  </tbody>\n",
       "</table>\n",
       "</div>"
      ],
      "text/plain": [
       "  weather_main           weather_description weekday month hour holiday  \\\n",
       "0      Drizzle  light intensity drizzle rain       6     2   16       0   \n",
       "1      Drizzle  light intensity drizzle rain       6     2   16       0   \n",
       "2      Drizzle  light intensity drizzle rain       6     2   16       0   \n",
       "3      Drizzle  light intensity drizzle rain       6     2   16       0   \n",
       "4      Drizzle  light intensity drizzle rain       6     2   16       0   \n",
       "\n",
       "   progr_number  dur_s  \n",
       "0             1      0  \n",
       "1             2     62  \n",
       "2             3     96  \n",
       "3             4    146  \n",
       "4             5    187  "
      ]
     },
     "execution_count": 55,
     "metadata": {},
     "output_type": "execute_result"
    }
   ],
   "source": [
    "X.head()"
   ]
  },
  {
   "cell_type": "code",
   "execution_count": 56,
   "metadata": {},
   "outputs": [],
   "source": [
    "X_train,X_test,y_train,y_test=train_test_split(X,y,random_state=1)"
   ]
  },
  {
   "cell_type": "code",
   "execution_count": 57,
   "metadata": {},
   "outputs": [],
   "source": [
    "#train with high cardinality weather\n",
    "X_train_moweather=pd.get_dummies(X_train.drop([\"weather_main\"],axis=1),drop_first=True)\n",
    "X_test_moweather=pd.get_dummies(X_test.drop([\"weather_main\"],axis=1),drop_first=True)"
   ]
  },
  {
   "cell_type": "code",
   "execution_count": 60,
   "metadata": {},
   "outputs": [
    {
     "data": {
      "text/plain": [
       "0.9006877661542715"
      ]
     },
     "execution_count": 60,
     "metadata": {},
     "output_type": "execute_result"
    }
   ],
   "source": [
    "reg = LinearRegression().fit(X_train_moweather, y_train)\n",
    "reg.score(X_test_moweather, y_test)"
   ]
  },
  {
   "cell_type": "code",
   "execution_count": 61,
   "metadata": {},
   "outputs": [],
   "source": [
    "#train with low cardinality weather\n",
    "X_train_moweather=pd.get_dummies(X_train.drop([\"weather_description\"],axis=1),drop_first=True)\n",
    "X_test_moweather=pd.get_dummies(X_test.drop([\"weather_description\"],axis=1),drop_first=True)"
   ]
  },
  {
   "cell_type": "code",
   "execution_count": 62,
   "metadata": {},
   "outputs": [
    {
     "data": {
      "text/plain": [
       "0.9005391669055989"
      ]
     },
     "execution_count": 62,
     "metadata": {},
     "output_type": "execute_result"
    }
   ],
   "source": [
    "reg = LinearRegression().fit(X_train_moweather, y_train)\n",
    "reg.score(X_test_moweather, y_test)"
   ]
  },
  {
   "cell_type": "code",
   "execution_count": 63,
   "metadata": {},
   "outputs": [],
   "source": [
    "#train without weather\n",
    "X_train_moweather=pd.get_dummies(X_train.drop([\"weather_main\",\"weather_description\"],axis=1),drop_first=True)\n",
    "X_test_moweather=pd.get_dummies(X_test.drop([\"weather_main\",\"weather_description\"],axis=1),drop_first=True)"
   ]
  },
  {
   "cell_type": "code",
   "execution_count": 64,
   "metadata": {},
   "outputs": [
    {
     "data": {
      "text/plain": [
       "0.9004289419570239"
      ]
     },
     "execution_count": 64,
     "metadata": {},
     "output_type": "execute_result"
    }
   ],
   "source": [
    "reg = LinearRegression().fit(X_train_moweather, y_train)\n",
    "reg.score(X_test_moweather, y_test)"
   ]
  },
  {
   "cell_type": "markdown",
   "metadata": {},
   "source": [
    "The differences between the accuracies are marginal, but as the model with high cardinality weather was performing the best, we will keep it for now."
   ]
  },
  {
   "cell_type": "markdown",
   "metadata": {},
   "source": [
    "Next, we will examine whether the model can perform the same without the month feature:"
   ]
  },
  {
   "cell_type": "code",
   "execution_count": 65,
   "metadata": {},
   "outputs": [],
   "source": [
    "X_train_nomonths=pd.get_dummies(X_train.drop([\"month\",\"weather_main\"],axis=1),drop_first=True)\n",
    "X_test_nomonths=pd.get_dummies(X_test.drop([\"month\",\"weather_main\"],axis=1),drop_first=True)"
   ]
  },
  {
   "cell_type": "code",
   "execution_count": 66,
   "metadata": {},
   "outputs": [
    {
     "data": {
      "text/plain": [
       "0.8995016173919064"
      ]
     },
     "execution_count": 66,
     "metadata": {},
     "output_type": "execute_result"
    }
   ],
   "source": [
    "reg = LinearRegression().fit(X_train_nomonths, y_train)\n",
    "reg.score(X_test_nomonths, y_test)"
   ]
  },
  {
   "cell_type": "markdown",
   "metadata": {},
   "source": [
    "The model accuracy decreases slightly, so we will keep the months feature for now."
   ]
  },
  {
   "cell_type": "markdown",
   "metadata": {},
   "source": [
    "Next, we will examine whether the model performs at the same level when progr_number is dropped. the suspicion is that dur_s already holds the same information with higher explanatory power as the two features display a high correlation."
   ]
  },
  {
   "cell_type": "code",
   "execution_count": 67,
   "metadata": {},
   "outputs": [],
   "source": [
    "X_train_noprogr=pd.get_dummies(X_train.drop([\"progr_number\",\"weather_main\"],axis=1),drop_first=True)\n",
    "X_test_noprogr=pd.get_dummies(X_test.drop([\"progr_number\",\"weather_main\"],axis=1),drop_first=True)"
   ]
  },
  {
   "cell_type": "code",
   "execution_count": 68,
   "metadata": {},
   "outputs": [
    {
     "data": {
      "text/plain": [
       "0.8989947941677487"
      ]
     },
     "execution_count": 68,
     "metadata": {},
     "output_type": "execute_result"
    }
   ],
   "source": [
    "reg = LinearRegression().fit(X_train_noprogr, y_train)\n",
    "reg.score(X_test_noprogr, y_test)"
   ]
  },
  {
   "cell_type": "markdown",
   "metadata": {},
   "source": [
    "<div>As the accuracy decreases, we will keep progr_number.</div>\n",
    "<br>\n",
    "<div>In summary, we keep the detailed weather and decided to neither drop month nor progr_number."
   ]
  },
  {
   "cell_type": "markdown",
   "metadata": {},
   "source": [
    "<h4>Polynomial Regression</h4>"
   ]
  },
  {
   "cell_type": "code",
   "execution_count": 70,
   "metadata": {},
   "outputs": [],
   "source": [
    "X_large=pd.get_dummies(X.drop([\"weather_main\"],axis=1),drop_first=True)"
   ]
  },
  {
   "cell_type": "code",
   "execution_count": 71,
   "metadata": {},
   "outputs": [
    {
     "data": {
      "text/plain": [
       "(595111, 58)"
      ]
     },
     "execution_count": 71,
     "metadata": {},
     "output_type": "execute_result"
    }
   ],
   "source": [
    "X_large.shape"
   ]
  },
  {
   "cell_type": "code",
   "execution_count": 72,
   "metadata": {},
   "outputs": [],
   "source": [
    "X_train,X_test,y_train,y_test=train_test_split(X_large,y,random_state=1)"
   ]
  },
  {
   "cell_type": "code",
   "execution_count": 73,
   "metadata": {},
   "outputs": [
    {
     "name": "stdout",
     "output_type": "stream",
     "text": [
      "Wall time: 2min 31s\n"
     ]
    },
    {
     "data": {
      "text/plain": [
       "LinearRegression()"
      ]
     },
     "execution_count": 73,
     "metadata": {},
     "output_type": "execute_result"
    }
   ],
   "source": [
    "%%time\n",
    "#first of, let's model a polyonmial of degree 2:\n",
    "pol=PolynomialFeatures(2)\n",
    "X_train_pol=pol.fit_transform(X_train)\n",
    "X_test_pol=pol.fit_transform(X_test)\n",
    "reg=LinearRegression()\n",
    "reg.fit(X_train_pol,y_train)"
   ]
  },
  {
   "cell_type": "code",
   "execution_count": 74,
   "metadata": {},
   "outputs": [
    {
     "data": {
      "text/plain": [
       "0.920499778108856"
      ]
     },
     "execution_count": 74,
     "metadata": {},
     "output_type": "execute_result"
    }
   ],
   "source": [
    "reg.score(X_test_pol,y_test)"
   ]
  },
  {
   "cell_type": "code",
   "execution_count": 75,
   "metadata": {},
   "outputs": [
    {
     "data": {
      "text/plain": [
       "1770"
      ]
     },
     "execution_count": 75,
     "metadata": {},
     "output_type": "execute_result"
    }
   ],
   "source": [
    "X_train_pol.shape[1]"
   ]
  },
  {
   "cell_type": "markdown",
   "metadata": {},
   "source": [
    "We can see that the shape of the columns has dramatically increased. Before doing any more experiments, let's transform a small sample to see how many features we would have for degree 3:"
   ]
  },
  {
   "cell_type": "code",
   "execution_count": 78,
   "metadata": {},
   "outputs": [],
   "source": [
    "X_sample=X_large.iloc[:2]"
   ]
  },
  {
   "cell_type": "code",
   "execution_count": 79,
   "metadata": {},
   "outputs": [],
   "source": [
    "pol=PolynomialFeatures(3)\n",
    "X_sample_pol=pol.fit_transform(X_sample)"
   ]
  },
  {
   "cell_type": "code",
   "execution_count": 80,
   "metadata": {},
   "outputs": [
    {
     "data": {
      "text/plain": [
       "(2, 35990)"
      ]
     },
     "execution_count": 80,
     "metadata": {},
     "output_type": "execute_result"
    }
   ],
   "source": [
    "X_sample_pol.shape"
   ]
  },
  {
   "cell_type": "markdown",
   "metadata": {},
   "source": [
    "<div>As the feature number is continuing to increase drastically, we will not consider any degree over 2 for modelling.</div>\n",
    "<br>\n",
    "<div>For n=2, the running time of > 150s is already fairly slow. Thus, we will look into how well the model performs if we use a smaller feature set that should speed up training:</div>\n"
   ]
  },
  {
   "cell_type": "code",
   "execution_count": 82,
   "metadata": {},
   "outputs": [],
   "source": [
    "X_small=pd.get_dummies(X.drop([\"weather_main\",\"weather_description\",\"month\",\"progr_number\"],axis=1),drop_first=True)"
   ]
  },
  {
   "cell_type": "code",
   "execution_count": 83,
   "metadata": {},
   "outputs": [],
   "source": [
    "X_train,X_test,y_train,y_test=train_test_split(X_small,y,random_state=1)"
   ]
  },
  {
   "cell_type": "code",
   "execution_count": 84,
   "metadata": {},
   "outputs": [
    {
     "name": "stdout",
     "output_type": "stream",
     "text": [
      "Wall time: 14.7 s\n"
     ]
    },
    {
     "data": {
      "text/plain": [
       "LinearRegression()"
      ]
     },
     "execution_count": 84,
     "metadata": {},
     "output_type": "execute_result"
    }
   ],
   "source": [
    "%%time\n",
    "pol=PolynomialFeatures(2)\n",
    "X_train_pol=pol.fit_transform(X_train)\n",
    "X_test_pol=pol.fit_transform(X_test)\n",
    "reg=LinearRegression()\n",
    "reg.fit(X_train_pol,y_train)"
   ]
  },
  {
   "cell_type": "code",
   "execution_count": 85,
   "metadata": {},
   "outputs": [
    {
     "data": {
      "text/plain": [
       "0.9041880134320467"
      ]
     },
     "execution_count": 85,
     "metadata": {},
     "output_type": "execute_result"
    }
   ],
   "source": [
    "reg.score(X_test_pol,y_test)"
   ]
  },
  {
   "cell_type": "code",
   "execution_count": 86,
   "metadata": {},
   "outputs": [
    {
     "data": {
      "text/plain": [
       "406"
      ]
     },
     "execution_count": 86,
     "metadata": {},
     "output_type": "execute_result"
    }
   ],
   "source": [
    "X_train_pol.shape[1]"
   ]
  },
  {
   "cell_type": "markdown",
   "metadata": {},
   "source": [
    "<h4>XGBoost</h4>"
   ]
  },
  {
   "cell_type": "code",
   "execution_count": 87,
   "metadata": {},
   "outputs": [],
   "source": [
    "X_train,X_test,y_train,y_test=train_test_split(X_large,y,random_state=1)"
   ]
  },
  {
   "cell_type": "code",
   "execution_count": 88,
   "metadata": {},
   "outputs": [
    {
     "name": "stdout",
     "output_type": "stream",
     "text": [
      "Wall time: 1min 26s\n"
     ]
    },
    {
     "data": {
      "text/plain": [
       "XGBRegressor(base_score=0.5, booster='gbtree', colsample_bylevel=1,\n",
       "             colsample_bynode=1, colsample_bytree=1, gamma=0, gpu_id=-1,\n",
       "             importance_type='gain', interaction_constraints='',\n",
       "             learning_rate=0.300000012, max_delta_step=0, max_depth=6,\n",
       "             min_child_weight=1, missing=nan, monotone_constraints='()',\n",
       "             n_estimators=100, n_jobs=0, num_parallel_tree=1, random_state=0,\n",
       "             reg_alpha=0, reg_lambda=1, scale_pos_weight=1, subsample=1,\n",
       "             tree_method='exact', validate_parameters=1, verbosity=None)"
      ]
     },
     "execution_count": 88,
     "metadata": {},
     "output_type": "execute_result"
    }
   ],
   "source": [
    "%%time\n",
    "#let's start with a default model\n",
    "xg_reg = xgb.XGBRegressor()\n",
    "xg_reg.fit(X_train,y_train)"
   ]
  },
  {
   "cell_type": "code",
   "execution_count": 89,
   "metadata": {},
   "outputs": [
    {
     "data": {
      "text/plain": [
       "0.9283155916478713"
      ]
     },
     "execution_count": 89,
     "metadata": {},
     "output_type": "execute_result"
    }
   ],
   "source": [
    "metrics.r2_score(y_pred=xg_reg.predict(X_test), y_true=y_test)"
   ]
  },
  {
   "cell_type": "markdown",
   "metadata": {},
   "source": [
    "Default XGBoost model trains faster than Polynomial Regression and is more precise."
   ]
  },
  {
   "cell_type": "code",
   "execution_count": 92,
   "metadata": {},
   "outputs": [
    {
     "name": "stdout",
     "output_type": "stream",
     "text": [
      "Wall time: 1h 40min 55s\n"
     ]
    },
    {
     "data": {
      "text/plain": [
       "GridSearchCV(cv=4,\n",
       "             estimator=XGBRegressor(base_score=None, booster=None,\n",
       "                                    colsample_bylevel=None,\n",
       "                                    colsample_bynode=None,\n",
       "                                    colsample_bytree=None, gamma=None,\n",
       "                                    gpu_id=None, importance_type='gain',\n",
       "                                    interaction_constraints=None,\n",
       "                                    learning_rate=None, max_delta_step=None,\n",
       "                                    max_depth=None, min_child_weight=None,\n",
       "                                    missing=nan, monotone_constraints=None,\n",
       "                                    n_estimators=100, n_jobs=None,\n",
       "                                    num_parallel_tree=None, random_state=None,\n",
       "                                    reg_alpha=None, reg_lambda=None,\n",
       "                                    scale_pos_weight=None, subsample=None,\n",
       "                                    tree_method=None, validate_parameters=None,\n",
       "                                    verbosity=None),\n",
       "             param_grid={'learning_rate': [0.005, 0.01, 0.1, 0.3],\n",
       "                         'max_depth': [1, 3, 5],\n",
       "                         'n_estimators': [50, 100, 150, 200]},\n",
       "             scoring='r2')"
      ]
     },
     "execution_count": 92,
     "metadata": {},
     "output_type": "execute_result"
    }
   ],
   "source": [
    "%%time\n",
    "params= {\n",
    "        'max_depth': [1 , 3, 5],\n",
    "        'learning_rate': [0.005, 0.01, 0.1, 0.3],\n",
    "        'n_estimators':[50, 100, 150, 200]\n",
    "\n",
    "    }\n",
    "gsearch = GridSearchCV(xgb.XGBRegressor(),param_grid=params,scoring='r2',cv=4)\n",
    "gsearch.fit(X_large,y)"
   ]
  },
  {
   "cell_type": "code",
   "execution_count": 98,
   "metadata": {},
   "outputs": [
    {
     "data": {
      "text/plain": [
       "{'learning_rate': 0.3, 'max_depth': 5, 'n_estimators': 200}"
      ]
     },
     "execution_count": 98,
     "metadata": {},
     "output_type": "execute_result"
    }
   ],
   "source": [
    "gsearch.best_params_"
   ]
  },
  {
   "cell_type": "code",
   "execution_count": 99,
   "metadata": {},
   "outputs": [
    {
     "data": {
      "text/plain": [
       "0.9265017424626201"
      ]
     },
     "execution_count": 99,
     "metadata": {},
     "output_type": "execute_result"
    }
   ],
   "source": [
    "gsearch.best_score_"
   ]
  },
  {
   "cell_type": "markdown",
   "metadata": {},
   "source": [
    "<h4>ANN</h4>"
   ]
  },
  {
   "cell_type": "code",
   "execution_count": 94,
   "metadata": {},
   "outputs": [
    {
     "name": "stdout",
     "output_type": "stream",
     "text": [
      "Wall time: 13min 35s\n"
     ]
    },
    {
     "name": "stderr",
     "output_type": "stream",
     "text": [
      "c:\\python38\\lib\\site-packages\\sklearn\\neural_network\\_multilayer_perceptron.py:582: ConvergenceWarning: Stochastic Optimizer: Maximum iterations (200) reached and the optimization hasn't converged yet.\n",
      "  warnings.warn(\n"
     ]
    },
    {
     "data": {
      "text/plain": [
       "MLPRegressor()"
      ]
     },
     "execution_count": 94,
     "metadata": {},
     "output_type": "execute_result"
    }
   ],
   "source": [
    "%%time\n",
    "mlp_reg = MLPRegressor()\n",
    "mlp_reg.fit(X_train,y_train)"
   ]
  },
  {
   "cell_type": "code",
   "execution_count": 96,
   "metadata": {},
   "outputs": [
    {
     "data": {
      "text/plain": [
       "0.9222134728285898"
      ]
     },
     "execution_count": 96,
     "metadata": {},
     "output_type": "execute_result"
    }
   ],
   "source": [
    "metrics.r2_score(y_pred=mlp_reg.predict(X_test), y_true=y_test)"
   ]
  },
  {
   "cell_type": "markdown",
   "metadata": {},
   "source": [
    "Perform grid search to find best MLP"
   ]
  },
  {
   "cell_type": "code",
   "execution_count": 101,
   "metadata": {},
   "outputs": [],
   "source": [
    "mlp_opt = MLPRegressor(max_iter=100,verbose=1)\n",
    "params = {\n",
    "    'hidden_layer_sizes': [(50,50,50), (50,100,50), (100,)],\n",
    "    'activation': ['tanh', 'relu','logistic'],\n",
    "    'solver': ['sgd', 'adam'],\n",
    "    'alpha': [0.0001, 0.05],\n",
    "    }"
   ]
  },
  {
   "cell_type": "code",
   "execution_count": 102,
   "metadata": {
    "scrolled": true
   },
   "outputs": [
    {
     "ename": "ValueError",
     "evalue": "Input contains NaN, infinity or a value too large for dtype('float64').",
     "output_type": "error",
     "traceback": [
      "\u001b[1;31m---------------------------------------------------------------------------\u001b[0m",
      "\u001b[1;31m_RemoteTraceback\u001b[0m                          Traceback (most recent call last)",
      "\u001b[1;31m_RemoteTraceback\u001b[0m: \n\"\"\"\nTraceback (most recent call last):\n  File \"c:\\python38\\lib\\site-packages\\joblib\\externals\\loky\\process_executor.py\", line 431, in _process_worker\n    r = call_item()\n  File \"c:\\python38\\lib\\site-packages\\joblib\\externals\\loky\\process_executor.py\", line 285, in __call__\n    return self.fn(*self.args, **self.kwargs)\n  File \"c:\\python38\\lib\\site-packages\\joblib\\_parallel_backends.py\", line 595, in __call__\n    return self.func(*args, **kwargs)\n  File \"c:\\python38\\lib\\site-packages\\joblib\\parallel.py\", line 252, in __call__\n    return [func(*args, **kwargs)\n  File \"c:\\python38\\lib\\site-packages\\joblib\\parallel.py\", line 252, in <listcomp>\n    return [func(*args, **kwargs)\n  File \"c:\\python38\\lib\\site-packages\\sklearn\\model_selection\\_validation.py\", line 560, in _fit_and_score\n    test_scores = _score(estimator, X_test, y_test, scorer)\n  File \"c:\\python38\\lib\\site-packages\\sklearn\\model_selection\\_validation.py\", line 607, in _score\n    scores = scorer(estimator, X_test, y_test)\n  File \"c:\\python38\\lib\\site-packages\\sklearn\\metrics\\_scorer.py\", line 90, in __call__\n    score = scorer(estimator, *args, **kwargs)\n  File \"c:\\python38\\lib\\site-packages\\sklearn\\metrics\\_scorer.py\", line 372, in _passthrough_scorer\n    return estimator.score(*args, **kwargs)\n  File \"c:\\python38\\lib\\site-packages\\sklearn\\base.py\", line 552, in score\n    return r2_score(y, y_pred, sample_weight=sample_weight)\n  File \"c:\\python38\\lib\\site-packages\\sklearn\\utils\\validation.py\", line 73, in inner_f\n    return f(**kwargs)\n  File \"c:\\python38\\lib\\site-packages\\sklearn\\metrics\\_regression.py\", line 583, in r2_score\n    y_type, y_true, y_pred, multioutput = _check_reg_targets(\n  File \"c:\\python38\\lib\\site-packages\\sklearn\\metrics\\_regression.py\", line 86, in _check_reg_targets\n    y_pred = check_array(y_pred, ensure_2d=False, dtype=dtype)\n  File \"c:\\python38\\lib\\site-packages\\sklearn\\utils\\validation.py\", line 73, in inner_f\n    return f(**kwargs)\n  File \"c:\\python38\\lib\\site-packages\\sklearn\\utils\\validation.py\", line 645, in check_array\n    _assert_all_finite(array,\n  File \"c:\\python38\\lib\\site-packages\\sklearn\\utils\\validation.py\", line 97, in _assert_all_finite\n    raise ValueError(\nValueError: Input contains NaN, infinity or a value too large for dtype('float64').\n\"\"\"",
      "\nThe above exception was the direct cause of the following exception:\n",
      "\u001b[1;31mValueError\u001b[0m                                Traceback (most recent call last)",
      "\u001b[1;32m<timed exec>\u001b[0m in \u001b[0;36m<module>\u001b[1;34m\u001b[0m\n",
      "\u001b[1;32mc:\\python38\\lib\\site-packages\\sklearn\\utils\\validation.py\u001b[0m in \u001b[0;36minner_f\u001b[1;34m(*args, **kwargs)\u001b[0m\n\u001b[0;32m     71\u001b[0m                           FutureWarning)\n\u001b[0;32m     72\u001b[0m         \u001b[0mkwargs\u001b[0m\u001b[1;33m.\u001b[0m\u001b[0mupdate\u001b[0m\u001b[1;33m(\u001b[0m\u001b[1;33m{\u001b[0m\u001b[0mk\u001b[0m\u001b[1;33m:\u001b[0m \u001b[0marg\u001b[0m \u001b[1;32mfor\u001b[0m \u001b[0mk\u001b[0m\u001b[1;33m,\u001b[0m \u001b[0marg\u001b[0m \u001b[1;32min\u001b[0m \u001b[0mzip\u001b[0m\u001b[1;33m(\u001b[0m\u001b[0msig\u001b[0m\u001b[1;33m.\u001b[0m\u001b[0mparameters\u001b[0m\u001b[1;33m,\u001b[0m \u001b[0margs\u001b[0m\u001b[1;33m)\u001b[0m\u001b[1;33m}\u001b[0m\u001b[1;33m)\u001b[0m\u001b[1;33m\u001b[0m\u001b[1;33m\u001b[0m\u001b[0m\n\u001b[1;32m---> 73\u001b[1;33m         \u001b[1;32mreturn\u001b[0m \u001b[0mf\u001b[0m\u001b[1;33m(\u001b[0m\u001b[1;33m**\u001b[0m\u001b[0mkwargs\u001b[0m\u001b[1;33m)\u001b[0m\u001b[1;33m\u001b[0m\u001b[1;33m\u001b[0m\u001b[0m\n\u001b[0m\u001b[0;32m     74\u001b[0m     \u001b[1;32mreturn\u001b[0m \u001b[0minner_f\u001b[0m\u001b[1;33m\u001b[0m\u001b[1;33m\u001b[0m\u001b[0m\n\u001b[0;32m     75\u001b[0m \u001b[1;33m\u001b[0m\u001b[0m\n",
      "\u001b[1;32mc:\\python38\\lib\\site-packages\\sklearn\\model_selection\\_search.py\u001b[0m in \u001b[0;36mfit\u001b[1;34m(self, X, y, groups, **fit_params)\u001b[0m\n\u001b[0;32m    734\u001b[0m                 \u001b[1;32mreturn\u001b[0m \u001b[0mresults\u001b[0m\u001b[1;33m\u001b[0m\u001b[1;33m\u001b[0m\u001b[0m\n\u001b[0;32m    735\u001b[0m \u001b[1;33m\u001b[0m\u001b[0m\n\u001b[1;32m--> 736\u001b[1;33m             \u001b[0mself\u001b[0m\u001b[1;33m.\u001b[0m\u001b[0m_run_search\u001b[0m\u001b[1;33m(\u001b[0m\u001b[0mevaluate_candidates\u001b[0m\u001b[1;33m)\u001b[0m\u001b[1;33m\u001b[0m\u001b[1;33m\u001b[0m\u001b[0m\n\u001b[0m\u001b[0;32m    737\u001b[0m \u001b[1;33m\u001b[0m\u001b[0m\n\u001b[0;32m    738\u001b[0m         \u001b[1;31m# For multi-metric evaluation, store the best_index_, best_params_ and\u001b[0m\u001b[1;33m\u001b[0m\u001b[1;33m\u001b[0m\u001b[1;33m\u001b[0m\u001b[0m\n",
      "\u001b[1;32mc:\\python38\\lib\\site-packages\\sklearn\\model_selection\\_search.py\u001b[0m in \u001b[0;36m_run_search\u001b[1;34m(self, evaluate_candidates)\u001b[0m\n\u001b[0;32m   1186\u001b[0m     \u001b[1;32mdef\u001b[0m \u001b[0m_run_search\u001b[0m\u001b[1;33m(\u001b[0m\u001b[0mself\u001b[0m\u001b[1;33m,\u001b[0m \u001b[0mevaluate_candidates\u001b[0m\u001b[1;33m)\u001b[0m\u001b[1;33m:\u001b[0m\u001b[1;33m\u001b[0m\u001b[1;33m\u001b[0m\u001b[0m\n\u001b[0;32m   1187\u001b[0m         \u001b[1;34m\"\"\"Search all candidates in param_grid\"\"\"\u001b[0m\u001b[1;33m\u001b[0m\u001b[1;33m\u001b[0m\u001b[0m\n\u001b[1;32m-> 1188\u001b[1;33m         \u001b[0mevaluate_candidates\u001b[0m\u001b[1;33m(\u001b[0m\u001b[0mParameterGrid\u001b[0m\u001b[1;33m(\u001b[0m\u001b[0mself\u001b[0m\u001b[1;33m.\u001b[0m\u001b[0mparam_grid\u001b[0m\u001b[1;33m)\u001b[0m\u001b[1;33m)\u001b[0m\u001b[1;33m\u001b[0m\u001b[1;33m\u001b[0m\u001b[0m\n\u001b[0m\u001b[0;32m   1189\u001b[0m \u001b[1;33m\u001b[0m\u001b[0m\n\u001b[0;32m   1190\u001b[0m \u001b[1;33m\u001b[0m\u001b[0m\n",
      "\u001b[1;32mc:\\python38\\lib\\site-packages\\sklearn\\model_selection\\_search.py\u001b[0m in \u001b[0;36mevaluate_candidates\u001b[1;34m(candidate_params)\u001b[0m\n\u001b[0;32m    706\u001b[0m                               n_splits, n_candidates, n_candidates * n_splits))\n\u001b[0;32m    707\u001b[0m \u001b[1;33m\u001b[0m\u001b[0m\n\u001b[1;32m--> 708\u001b[1;33m                 out = parallel(delayed(_fit_and_score)(clone(base_estimator),\n\u001b[0m\u001b[0;32m    709\u001b[0m                                                        \u001b[0mX\u001b[0m\u001b[1;33m,\u001b[0m \u001b[0my\u001b[0m\u001b[1;33m,\u001b[0m\u001b[1;33m\u001b[0m\u001b[1;33m\u001b[0m\u001b[0m\n\u001b[0;32m    710\u001b[0m                                                        \u001b[0mtrain\u001b[0m\u001b[1;33m=\u001b[0m\u001b[0mtrain\u001b[0m\u001b[1;33m,\u001b[0m \u001b[0mtest\u001b[0m\u001b[1;33m=\u001b[0m\u001b[0mtest\u001b[0m\u001b[1;33m,\u001b[0m\u001b[1;33m\u001b[0m\u001b[1;33m\u001b[0m\u001b[0m\n",
      "\u001b[1;32mc:\\python38\\lib\\site-packages\\joblib\\parallel.py\u001b[0m in \u001b[0;36m__call__\u001b[1;34m(self, iterable)\u001b[0m\n\u001b[0;32m   1040\u001b[0m \u001b[1;33m\u001b[0m\u001b[0m\n\u001b[0;32m   1041\u001b[0m             \u001b[1;32mwith\u001b[0m \u001b[0mself\u001b[0m\u001b[1;33m.\u001b[0m\u001b[0m_backend\u001b[0m\u001b[1;33m.\u001b[0m\u001b[0mretrieval_context\u001b[0m\u001b[1;33m(\u001b[0m\u001b[1;33m)\u001b[0m\u001b[1;33m:\u001b[0m\u001b[1;33m\u001b[0m\u001b[1;33m\u001b[0m\u001b[0m\n\u001b[1;32m-> 1042\u001b[1;33m                 \u001b[0mself\u001b[0m\u001b[1;33m.\u001b[0m\u001b[0mretrieve\u001b[0m\u001b[1;33m(\u001b[0m\u001b[1;33m)\u001b[0m\u001b[1;33m\u001b[0m\u001b[1;33m\u001b[0m\u001b[0m\n\u001b[0m\u001b[0;32m   1043\u001b[0m             \u001b[1;31m# Make sure that we get a last message telling us we are done\u001b[0m\u001b[1;33m\u001b[0m\u001b[1;33m\u001b[0m\u001b[1;33m\u001b[0m\u001b[0m\n\u001b[0;32m   1044\u001b[0m             \u001b[0melapsed_time\u001b[0m \u001b[1;33m=\u001b[0m \u001b[0mtime\u001b[0m\u001b[1;33m.\u001b[0m\u001b[0mtime\u001b[0m\u001b[1;33m(\u001b[0m\u001b[1;33m)\u001b[0m \u001b[1;33m-\u001b[0m \u001b[0mself\u001b[0m\u001b[1;33m.\u001b[0m\u001b[0m_start_time\u001b[0m\u001b[1;33m\u001b[0m\u001b[1;33m\u001b[0m\u001b[0m\n",
      "\u001b[1;32mc:\\python38\\lib\\site-packages\\joblib\\parallel.py\u001b[0m in \u001b[0;36mretrieve\u001b[1;34m(self)\u001b[0m\n\u001b[0;32m    919\u001b[0m             \u001b[1;32mtry\u001b[0m\u001b[1;33m:\u001b[0m\u001b[1;33m\u001b[0m\u001b[1;33m\u001b[0m\u001b[0m\n\u001b[0;32m    920\u001b[0m                 \u001b[1;32mif\u001b[0m \u001b[0mgetattr\u001b[0m\u001b[1;33m(\u001b[0m\u001b[0mself\u001b[0m\u001b[1;33m.\u001b[0m\u001b[0m_backend\u001b[0m\u001b[1;33m,\u001b[0m \u001b[1;34m'supports_timeout'\u001b[0m\u001b[1;33m,\u001b[0m \u001b[1;32mFalse\u001b[0m\u001b[1;33m)\u001b[0m\u001b[1;33m:\u001b[0m\u001b[1;33m\u001b[0m\u001b[1;33m\u001b[0m\u001b[0m\n\u001b[1;32m--> 921\u001b[1;33m                     \u001b[0mself\u001b[0m\u001b[1;33m.\u001b[0m\u001b[0m_output\u001b[0m\u001b[1;33m.\u001b[0m\u001b[0mextend\u001b[0m\u001b[1;33m(\u001b[0m\u001b[0mjob\u001b[0m\u001b[1;33m.\u001b[0m\u001b[0mget\u001b[0m\u001b[1;33m(\u001b[0m\u001b[0mtimeout\u001b[0m\u001b[1;33m=\u001b[0m\u001b[0mself\u001b[0m\u001b[1;33m.\u001b[0m\u001b[0mtimeout\u001b[0m\u001b[1;33m)\u001b[0m\u001b[1;33m)\u001b[0m\u001b[1;33m\u001b[0m\u001b[1;33m\u001b[0m\u001b[0m\n\u001b[0m\u001b[0;32m    922\u001b[0m                 \u001b[1;32melse\u001b[0m\u001b[1;33m:\u001b[0m\u001b[1;33m\u001b[0m\u001b[1;33m\u001b[0m\u001b[0m\n\u001b[0;32m    923\u001b[0m                     \u001b[0mself\u001b[0m\u001b[1;33m.\u001b[0m\u001b[0m_output\u001b[0m\u001b[1;33m.\u001b[0m\u001b[0mextend\u001b[0m\u001b[1;33m(\u001b[0m\u001b[0mjob\u001b[0m\u001b[1;33m.\u001b[0m\u001b[0mget\u001b[0m\u001b[1;33m(\u001b[0m\u001b[1;33m)\u001b[0m\u001b[1;33m)\u001b[0m\u001b[1;33m\u001b[0m\u001b[1;33m\u001b[0m\u001b[0m\n",
      "\u001b[1;32mc:\\python38\\lib\\site-packages\\joblib\\_parallel_backends.py\u001b[0m in \u001b[0;36mwrap_future_result\u001b[1;34m(future, timeout)\u001b[0m\n\u001b[0;32m    540\u001b[0m         AsyncResults.get from multiprocessing.\"\"\"\n\u001b[0;32m    541\u001b[0m         \u001b[1;32mtry\u001b[0m\u001b[1;33m:\u001b[0m\u001b[1;33m\u001b[0m\u001b[1;33m\u001b[0m\u001b[0m\n\u001b[1;32m--> 542\u001b[1;33m             \u001b[1;32mreturn\u001b[0m \u001b[0mfuture\u001b[0m\u001b[1;33m.\u001b[0m\u001b[0mresult\u001b[0m\u001b[1;33m(\u001b[0m\u001b[0mtimeout\u001b[0m\u001b[1;33m=\u001b[0m\u001b[0mtimeout\u001b[0m\u001b[1;33m)\u001b[0m\u001b[1;33m\u001b[0m\u001b[1;33m\u001b[0m\u001b[0m\n\u001b[0m\u001b[0;32m    543\u001b[0m         \u001b[1;32mexcept\u001b[0m \u001b[0mCfTimeoutError\u001b[0m \u001b[1;32mas\u001b[0m \u001b[0me\u001b[0m\u001b[1;33m:\u001b[0m\u001b[1;33m\u001b[0m\u001b[1;33m\u001b[0m\u001b[0m\n\u001b[0;32m    544\u001b[0m             \u001b[1;32mraise\u001b[0m \u001b[0mTimeoutError\u001b[0m \u001b[1;32mfrom\u001b[0m \u001b[0me\u001b[0m\u001b[1;33m\u001b[0m\u001b[1;33m\u001b[0m\u001b[0m\n",
      "\u001b[1;32mc:\\python38\\lib\\concurrent\\futures\\_base.py\u001b[0m in \u001b[0;36mresult\u001b[1;34m(self, timeout)\u001b[0m\n\u001b[0;32m    437\u001b[0m                 \u001b[1;32mraise\u001b[0m \u001b[0mCancelledError\u001b[0m\u001b[1;33m(\u001b[0m\u001b[1;33m)\u001b[0m\u001b[1;33m\u001b[0m\u001b[1;33m\u001b[0m\u001b[0m\n\u001b[0;32m    438\u001b[0m             \u001b[1;32melif\u001b[0m \u001b[0mself\u001b[0m\u001b[1;33m.\u001b[0m\u001b[0m_state\u001b[0m \u001b[1;33m==\u001b[0m \u001b[0mFINISHED\u001b[0m\u001b[1;33m:\u001b[0m\u001b[1;33m\u001b[0m\u001b[1;33m\u001b[0m\u001b[0m\n\u001b[1;32m--> 439\u001b[1;33m                 \u001b[1;32mreturn\u001b[0m \u001b[0mself\u001b[0m\u001b[1;33m.\u001b[0m\u001b[0m__get_result\u001b[0m\u001b[1;33m(\u001b[0m\u001b[1;33m)\u001b[0m\u001b[1;33m\u001b[0m\u001b[1;33m\u001b[0m\u001b[0m\n\u001b[0m\u001b[0;32m    440\u001b[0m             \u001b[1;32melse\u001b[0m\u001b[1;33m:\u001b[0m\u001b[1;33m\u001b[0m\u001b[1;33m\u001b[0m\u001b[0m\n\u001b[0;32m    441\u001b[0m                 \u001b[1;32mraise\u001b[0m \u001b[0mTimeoutError\u001b[0m\u001b[1;33m(\u001b[0m\u001b[1;33m)\u001b[0m\u001b[1;33m\u001b[0m\u001b[1;33m\u001b[0m\u001b[0m\n",
      "\u001b[1;32mc:\\python38\\lib\\concurrent\\futures\\_base.py\u001b[0m in \u001b[0;36m__get_result\u001b[1;34m(self)\u001b[0m\n\u001b[0;32m    386\u001b[0m     \u001b[1;32mdef\u001b[0m \u001b[0m__get_result\u001b[0m\u001b[1;33m(\u001b[0m\u001b[0mself\u001b[0m\u001b[1;33m)\u001b[0m\u001b[1;33m:\u001b[0m\u001b[1;33m\u001b[0m\u001b[1;33m\u001b[0m\u001b[0m\n\u001b[0;32m    387\u001b[0m         \u001b[1;32mif\u001b[0m \u001b[0mself\u001b[0m\u001b[1;33m.\u001b[0m\u001b[0m_exception\u001b[0m\u001b[1;33m:\u001b[0m\u001b[1;33m\u001b[0m\u001b[1;33m\u001b[0m\u001b[0m\n\u001b[1;32m--> 388\u001b[1;33m             \u001b[1;32mraise\u001b[0m \u001b[0mself\u001b[0m\u001b[1;33m.\u001b[0m\u001b[0m_exception\u001b[0m\u001b[1;33m\u001b[0m\u001b[1;33m\u001b[0m\u001b[0m\n\u001b[0m\u001b[0;32m    389\u001b[0m         \u001b[1;32melse\u001b[0m\u001b[1;33m:\u001b[0m\u001b[1;33m\u001b[0m\u001b[1;33m\u001b[0m\u001b[0m\n\u001b[0;32m    390\u001b[0m             \u001b[1;32mreturn\u001b[0m \u001b[0mself\u001b[0m\u001b[1;33m.\u001b[0m\u001b[0m_result\u001b[0m\u001b[1;33m\u001b[0m\u001b[1;33m\u001b[0m\u001b[0m\n",
      "\u001b[1;31mValueError\u001b[0m: Input contains NaN, infinity or a value too large for dtype('float64')."
     ]
    }
   ],
   "source": [
    "%%time\n",
    "clf=GridSearchCV(mlp_opt, param_grid=params, n_jobs=-1, cv=4)\n",
    "clf.fit(X_large,y)"
   ]
  },
  {
   "cell_type": "markdown",
   "metadata": {},
   "source": [
    "Recurring Value Error despite \"clean\" training data-> best model must be found manually"
   ]
  },
  {
   "cell_type": "markdown",
   "metadata": {},
   "source": [
    "<h5>Hidden Layer Sizes</h5>"
   ]
  },
  {
   "cell_type": "code",
   "execution_count": 114,
   "metadata": {},
   "outputs": [],
   "source": [
    "mlp=MLPRegressor(max_iter=100,hidden_layer_sizes=(50,50,50),verbose=1)"
   ]
  },
  {
   "cell_type": "code",
   "execution_count": 115,
   "metadata": {
    "scrolled": true
   },
   "outputs": [
    {
     "name": "stdout",
     "output_type": "stream",
     "text": [
      "Iteration 1, loss = 56800.02141109\n",
      "Iteration 2, loss = 41718.91507974\n",
      "Iteration 3, loss = 39319.37618955\n",
      "Iteration 4, loss = 38236.13822660\n",
      "Iteration 5, loss = 37760.37523336\n",
      "Iteration 6, loss = 37443.94784356\n",
      "Iteration 7, loss = 37089.18609023\n",
      "Iteration 8, loss = 36643.21025819\n",
      "Iteration 9, loss = 36232.20094652\n",
      "Iteration 10, loss = 35813.74119247\n",
      "Iteration 11, loss = 35590.64308945\n",
      "Iteration 12, loss = 35470.06250656\n",
      "Iteration 13, loss = 35253.32630842\n",
      "Iteration 14, loss = 35116.94599072\n",
      "Iteration 15, loss = 34948.60706427\n",
      "Iteration 16, loss = 34899.36046837\n",
      "Iteration 17, loss = 34719.69240022\n",
      "Iteration 18, loss = 34505.54958285\n",
      "Iteration 19, loss = 34370.72849901\n",
      "Iteration 20, loss = 34146.35800243\n",
      "Iteration 21, loss = 33954.67199307\n",
      "Iteration 22, loss = 33834.11889318\n",
      "Iteration 23, loss = 33717.84192607\n",
      "Iteration 24, loss = 33548.66793551\n",
      "Iteration 25, loss = 33513.66668510\n",
      "Iteration 26, loss = 33407.85638359\n",
      "Iteration 27, loss = 33273.33726117\n",
      "Iteration 28, loss = 33229.88208550\n",
      "Iteration 29, loss = 33223.83343166\n",
      "Iteration 30, loss = 32997.60295276\n",
      "Iteration 31, loss = 32947.26250707\n",
      "Iteration 32, loss = 32921.36882152\n",
      "Iteration 33, loss = 32795.44988980\n",
      "Iteration 34, loss = 32727.77615757\n",
      "Iteration 35, loss = 32719.96950233\n",
      "Iteration 36, loss = 32647.33804809\n",
      "Iteration 37, loss = 32537.12730130\n",
      "Iteration 38, loss = 32413.53977302\n",
      "Iteration 39, loss = 32340.61278923\n",
      "Iteration 40, loss = 32266.68221532\n",
      "Iteration 41, loss = 32243.08202479\n",
      "Iteration 42, loss = 32127.92474604\n",
      "Iteration 43, loss = 32111.12742737\n",
      "Iteration 44, loss = 32127.26254253\n",
      "Iteration 45, loss = 31958.88621548\n",
      "Iteration 46, loss = 31958.39133060\n",
      "Iteration 47, loss = 31913.78629090\n",
      "Iteration 48, loss = 31848.33608535\n",
      "Iteration 49, loss = 31805.24466684\n",
      "Iteration 50, loss = 31749.90636430\n",
      "Iteration 51, loss = 31658.36827373\n",
      "Iteration 52, loss = 31632.89742652\n",
      "Iteration 53, loss = 31563.49911435\n",
      "Iteration 54, loss = 31542.62258577\n",
      "Iteration 55, loss = 31468.12423375\n",
      "Iteration 56, loss = 31398.59644826\n",
      "Iteration 57, loss = 31396.77368369\n",
      "Iteration 58, loss = 31276.51607948\n",
      "Iteration 59, loss = 31274.93054516\n",
      "Iteration 60, loss = 31193.05228526\n",
      "Iteration 61, loss = 31076.22104416\n",
      "Iteration 62, loss = 31113.99740806\n",
      "Iteration 63, loss = 31079.53883711\n",
      "Iteration 64, loss = 31057.31649951\n",
      "Iteration 65, loss = 30940.66525728\n",
      "Iteration 66, loss = 30921.85101102\n",
      "Iteration 67, loss = 30891.25335429\n",
      "Iteration 68, loss = 30824.07293646\n",
      "Iteration 69, loss = 30752.34198487\n",
      "Iteration 70, loss = 30696.43066594\n",
      "Iteration 71, loss = 30657.41167427\n",
      "Iteration 72, loss = 30672.23432334\n",
      "Iteration 73, loss = 30620.96957476\n",
      "Iteration 74, loss = 30538.39813576\n",
      "Iteration 75, loss = 30483.22657271\n",
      "Iteration 76, loss = 30463.75455483\n",
      "Iteration 77, loss = 30575.10647910\n",
      "Iteration 78, loss = 30452.65139215\n",
      "Iteration 79, loss = 30440.01955948\n",
      "Iteration 80, loss = 30370.30402251\n",
      "Iteration 81, loss = 30300.26156993\n",
      "Iteration 82, loss = 30246.18604506\n",
      "Iteration 83, loss = 30265.73528211\n",
      "Iteration 84, loss = 30217.30001365\n",
      "Iteration 85, loss = 30131.45491502\n",
      "Iteration 86, loss = 30147.95594457\n",
      "Iteration 87, loss = 30044.31682439\n",
      "Iteration 88, loss = 30069.03146115\n",
      "Iteration 89, loss = 30063.94001568\n",
      "Iteration 90, loss = 29954.43853486\n",
      "Iteration 91, loss = 29983.30149061\n",
      "Iteration 92, loss = 29885.72751906\n",
      "Iteration 93, loss = 29904.95013925\n",
      "Iteration 94, loss = 29877.74185759\n",
      "Iteration 95, loss = 29820.91404034\n",
      "Iteration 96, loss = 29853.48267898\n",
      "Iteration 97, loss = 29803.09946006\n",
      "Iteration 98, loss = 29686.78339383\n",
      "Iteration 99, loss = 29708.83094762\n",
      "Iteration 100, loss = 29607.99612251\n",
      "Wall time: 17min 11s\n"
     ]
    },
    {
     "name": "stderr",
     "output_type": "stream",
     "text": [
      "c:\\python38\\lib\\site-packages\\sklearn\\neural_network\\_multilayer_perceptron.py:582: ConvergenceWarning: Stochastic Optimizer: Maximum iterations (100) reached and the optimization hasn't converged yet.\n",
      "  warnings.warn(\n"
     ]
    },
    {
     "data": {
      "text/plain": [
       "MLPRegressor(hidden_layer_sizes=(50, 50, 50), max_iter=100, verbose=1)"
      ]
     },
     "execution_count": 115,
     "metadata": {},
     "output_type": "execute_result"
    }
   ],
   "source": [
    "%%time\n",
    "mlp.fit(X_train,y_train)"
   ]
  },
  {
   "cell_type": "code",
   "execution_count": 116,
   "metadata": {},
   "outputs": [
    {
     "data": {
      "text/plain": [
       "0.9195611404216483"
      ]
     },
     "execution_count": 116,
     "metadata": {},
     "output_type": "execute_result"
    }
   ],
   "source": [
    "metrics.r2_score(y_pred=mlp.predict(X_test), y_true=y_test)"
   ]
  },
  {
   "cell_type": "code",
   "execution_count": 117,
   "metadata": {},
   "outputs": [],
   "source": [
    "mlp=MLPRegressor(max_iter=100,hidden_layer_sizes=(50,100,50),verbose=1)"
   ]
  },
  {
   "cell_type": "code",
   "execution_count": 118,
   "metadata": {
    "scrolled": true
   },
   "outputs": [
    {
     "name": "stdout",
     "output_type": "stream",
     "text": [
      "Iteration 1, loss = 53524.11252602\n",
      "Iteration 2, loss = 41175.66944980\n",
      "Iteration 3, loss = 38791.29839296\n",
      "Iteration 4, loss = 37787.20773283\n",
      "Iteration 5, loss = 37331.08455037\n",
      "Iteration 6, loss = 36904.25117097\n",
      "Iteration 7, loss = 36548.65224376\n",
      "Iteration 8, loss = 36136.87704158\n",
      "Iteration 9, loss = 35816.75083359\n",
      "Iteration 10, loss = 35586.52750331\n",
      "Iteration 11, loss = 35444.10891378\n",
      "Iteration 12, loss = 35304.59068247\n",
      "Iteration 13, loss = 35089.01930046\n",
      "Iteration 14, loss = 34808.55181125\n",
      "Iteration 15, loss = 34709.88210207\n",
      "Iteration 16, loss = 34383.50482864\n",
      "Iteration 17, loss = 34052.19569119\n",
      "Iteration 18, loss = 33911.24874363\n",
      "Iteration 19, loss = 33745.45215144\n",
      "Iteration 20, loss = 33476.15952911\n",
      "Iteration 21, loss = 33459.66648723\n",
      "Iteration 22, loss = 33311.84918036\n",
      "Iteration 23, loss = 33187.52531924\n",
      "Iteration 24, loss = 33119.25673062\n",
      "Iteration 25, loss = 32937.61524930\n",
      "Iteration 26, loss = 32873.00363462\n",
      "Iteration 27, loss = 32772.79182337\n",
      "Iteration 28, loss = 32678.00376369\n",
      "Iteration 29, loss = 32506.73759781\n",
      "Iteration 30, loss = 32511.15216253\n",
      "Iteration 31, loss = 32386.41822963\n",
      "Iteration 32, loss = 32349.96379226\n",
      "Iteration 33, loss = 32285.80025714\n",
      "Iteration 34, loss = 32120.98019857\n",
      "Iteration 35, loss = 32148.84280557\n",
      "Iteration 36, loss = 31956.07947608\n",
      "Iteration 37, loss = 31920.31425229\n",
      "Iteration 38, loss = 31846.67043069\n",
      "Iteration 39, loss = 31733.12965104\n",
      "Iteration 40, loss = 31748.73864566\n",
      "Iteration 41, loss = 31667.56575124\n",
      "Iteration 42, loss = 31484.25485233\n",
      "Iteration 43, loss = 31535.19933828\n",
      "Iteration 44, loss = 31409.17499526\n",
      "Iteration 45, loss = 31341.16309386\n",
      "Iteration 46, loss = 31217.31987854\n",
      "Iteration 47, loss = 31259.44442667\n",
      "Iteration 48, loss = 31131.80642446\n",
      "Iteration 49, loss = 31051.89717857\n",
      "Iteration 50, loss = 31039.64293421\n",
      "Iteration 51, loss = 30877.86772068\n",
      "Iteration 52, loss = 30929.11818061\n",
      "Iteration 53, loss = 30895.02692547\n",
      "Iteration 54, loss = 30736.43342128\n",
      "Iteration 55, loss = 30642.19634431\n",
      "Iteration 56, loss = 30574.91391189\n",
      "Iteration 57, loss = 30598.55426541\n",
      "Iteration 58, loss = 30425.43148167\n",
      "Iteration 59, loss = 30411.15418932\n",
      "Iteration 60, loss = 30367.18113776\n",
      "Iteration 61, loss = 30311.46982171\n",
      "Iteration 62, loss = 30239.35093838\n",
      "Iteration 63, loss = 30287.25678676\n",
      "Iteration 64, loss = 30074.10756848\n",
      "Iteration 65, loss = 30081.28972974\n",
      "Iteration 66, loss = 29915.54848341\n",
      "Iteration 67, loss = 29910.23986008\n",
      "Iteration 68, loss = 29868.82575766\n",
      "Iteration 69, loss = 29762.91154397\n",
      "Iteration 70, loss = 29684.66049289\n",
      "Iteration 71, loss = 29662.48686375\n",
      "Iteration 72, loss = 29659.05267377\n",
      "Iteration 73, loss = 29507.34490427\n",
      "Iteration 74, loss = 29492.47702569\n",
      "Iteration 75, loss = 29471.74346681\n",
      "Iteration 76, loss = 29388.40047276\n",
      "Iteration 77, loss = 29342.60504743\n",
      "Iteration 78, loss = 29275.12243857\n",
      "Iteration 79, loss = 29205.32657909\n",
      "Iteration 80, loss = 29177.00459373\n",
      "Iteration 81, loss = 29113.03069525\n",
      "Iteration 82, loss = 29036.07495513\n",
      "Iteration 83, loss = 28951.12771865\n",
      "Iteration 84, loss = 28911.99547616\n",
      "Iteration 85, loss = 28865.98505689\n",
      "Iteration 86, loss = 28850.42962041\n",
      "Iteration 87, loss = 28851.22975452\n",
      "Iteration 88, loss = 28831.45698742\n",
      "Iteration 89, loss = 28792.48305338\n",
      "Iteration 90, loss = 28755.52121976\n",
      "Iteration 91, loss = 28705.96952246\n",
      "Iteration 92, loss = 28680.74167495\n",
      "Iteration 93, loss = 28570.30128935\n",
      "Iteration 94, loss = 28520.41420099\n",
      "Iteration 95, loss = 28514.77633205\n",
      "Iteration 96, loss = 28547.24026665\n",
      "Iteration 97, loss = 28367.99996476\n",
      "Iteration 98, loss = 28465.43273742\n",
      "Iteration 99, loss = 28329.27915590\n",
      "Iteration 100, loss = 28350.72022793\n",
      "Wall time: 22min 1s\n"
     ]
    },
    {
     "name": "stderr",
     "output_type": "stream",
     "text": [
      "c:\\python38\\lib\\site-packages\\sklearn\\neural_network\\_multilayer_perceptron.py:582: ConvergenceWarning: Stochastic Optimizer: Maximum iterations (100) reached and the optimization hasn't converged yet.\n",
      "  warnings.warn(\n"
     ]
    },
    {
     "data": {
      "text/plain": [
       "MLPRegressor(hidden_layer_sizes=(50, 100, 50), max_iter=100, verbose=1)"
      ]
     },
     "execution_count": 118,
     "metadata": {},
     "output_type": "execute_result"
    }
   ],
   "source": [
    "%%time\n",
    "mlp.fit(X_train,y_train)"
   ]
  },
  {
   "cell_type": "code",
   "execution_count": 119,
   "metadata": {},
   "outputs": [
    {
     "data": {
      "text/plain": [
       "0.9276899430622116"
      ]
     },
     "execution_count": 119,
     "metadata": {},
     "output_type": "execute_result"
    }
   ],
   "source": [
    "metrics.r2_score(y_pred=mlp.predict(X_test), y_true=y_test)"
   ]
  },
  {
   "cell_type": "markdown",
   "metadata": {},
   "source": [
    "more complex architectures do not improve performance in this instance"
   ]
  },
  {
   "cell_type": "markdown",
   "metadata": {},
   "source": [
    "<h5>Acitvation Function</h5>"
   ]
  },
  {
   "cell_type": "code",
   "execution_count": 120,
   "metadata": {},
   "outputs": [],
   "source": [
    "mlp=MLPRegressor(max_iter=100,activation=\"logistic\",verbose=1)"
   ]
  },
  {
   "cell_type": "code",
   "execution_count": 121,
   "metadata": {
    "scrolled": true
   },
   "outputs": [
    {
     "name": "stdout",
     "output_type": "stream",
     "text": [
      "Iteration 1, loss = 1467294.55115756\n",
      "Iteration 2, loss = 1267021.39182376\n",
      "Iteration 3, loss = 1085992.57645684\n",
      "Iteration 4, loss = 923696.82325730\n",
      "Iteration 5, loss = 778783.38869917\n",
      "Iteration 6, loss = 650652.27674470\n",
      "Iteration 7, loss = 538852.93177326\n",
      "Iteration 8, loss = 442381.86054174\n",
      "Iteration 9, loss = 360392.51135612\n",
      "Iteration 10, loss = 291662.78183795\n",
      "Iteration 11, loss = 234820.22636324\n",
      "Iteration 12, loss = 188513.21450335\n",
      "Iteration 13, loss = 151313.40233913\n",
      "Iteration 14, loss = 122029.16128000\n",
      "Iteration 15, loss = 99334.60172498\n",
      "Iteration 16, loss = 82113.01444096\n",
      "Iteration 17, loss = 69402.50322874\n",
      "Iteration 18, loss = 60328.06320117\n",
      "Iteration 19, loss = 54592.40487785\n",
      "Iteration 20, loss = 50059.38749943\n",
      "Iteration 21, loss = 47266.37652086\n",
      "Iteration 22, loss = 45632.31029617\n",
      "Iteration 23, loss = 44621.04094731\n",
      "Iteration 24, loss = 43100.06797645\n",
      "Iteration 25, loss = 41352.45964954\n",
      "Iteration 26, loss = 40426.66908289\n",
      "Iteration 27, loss = 39313.24311467\n",
      "Iteration 28, loss = 38221.27385994\n",
      "Iteration 29, loss = 37793.33888011\n",
      "Iteration 30, loss = 37221.53319383\n",
      "Iteration 31, loss = 37337.08094398\n",
      "Iteration 32, loss = 36971.16550834\n",
      "Iteration 33, loss = 36666.26956461\n",
      "Iteration 34, loss = 36888.41268029\n",
      "Iteration 35, loss = 35878.73620415\n",
      "Iteration 36, loss = 36320.86956862\n",
      "Iteration 37, loss = 36911.35977099\n",
      "Iteration 38, loss = 36727.25754159\n",
      "Iteration 39, loss = 36280.72190221\n",
      "Iteration 40, loss = 36407.68835455\n",
      "Iteration 41, loss = 36252.60121137\n",
      "Iteration 42, loss = 36023.00618266\n",
      "Iteration 43, loss = 35798.12452154\n",
      "Iteration 44, loss = 36204.78117839\n",
      "Iteration 45, loss = 35900.34989810\n",
      "Iteration 46, loss = 35449.53279625\n",
      "Iteration 47, loss = 35177.99130828\n",
      "Iteration 48, loss = 35295.98339771\n",
      "Iteration 49, loss = 35259.21400738\n",
      "Iteration 50, loss = 35056.85037265\n",
      "Iteration 51, loss = 34939.34033099\n",
      "Iteration 52, loss = 35138.33488993\n",
      "Iteration 53, loss = 35123.44832247\n",
      "Iteration 54, loss = 34875.29987592\n",
      "Iteration 55, loss = 35012.94961850\n",
      "Iteration 56, loss = 34880.63763689\n",
      "Iteration 57, loss = 34934.45562266\n",
      "Iteration 58, loss = 34651.56700184\n",
      "Iteration 59, loss = 34991.79741445\n",
      "Iteration 60, loss = 34768.53299838\n",
      "Iteration 61, loss = 34540.08688182\n",
      "Iteration 62, loss = 34801.68266005\n",
      "Iteration 63, loss = 34652.05583047\n",
      "Iteration 64, loss = 34762.04339258\n",
      "Iteration 65, loss = 34595.73056547\n",
      "Iteration 66, loss = 34504.58290937\n",
      "Iteration 67, loss = 34550.17799601\n",
      "Iteration 68, loss = 34856.76782446\n",
      "Iteration 69, loss = 34533.02004511\n",
      "Iteration 70, loss = 34242.51886558\n",
      "Iteration 71, loss = 34048.05180297\n",
      "Iteration 72, loss = 34259.87484927\n",
      "Iteration 73, loss = 34375.30184973\n",
      "Iteration 74, loss = 34772.70741989\n",
      "Iteration 75, loss = 34652.05853296\n",
      "Iteration 76, loss = 35030.18345141\n",
      "Iteration 77, loss = 34748.99673100\n",
      "Iteration 78, loss = 34392.27235414\n",
      "Iteration 79, loss = 34370.06206734\n",
      "Iteration 80, loss = 34595.93681096\n",
      "Iteration 81, loss = 34456.67279435\n",
      "Iteration 82, loss = 34553.17948396\n",
      "Training loss did not improve more than tol=0.000100 for 10 consecutive epochs. Stopping.\n",
      "Wall time: 6min 10s\n"
     ]
    },
    {
     "data": {
      "text/plain": [
       "MLPRegressor(activation='logistic', max_iter=100, verbose=1)"
      ]
     },
     "execution_count": 121,
     "metadata": {},
     "output_type": "execute_result"
    }
   ],
   "source": [
    "%%time\n",
    "mlp.fit(X_train,y_train)"
   ]
  },
  {
   "cell_type": "code",
   "execution_count": 122,
   "metadata": {},
   "outputs": [
    {
     "data": {
      "text/plain": [
       "0.9097241901694323"
      ]
     },
     "execution_count": 122,
     "metadata": {},
     "output_type": "execute_result"
    }
   ],
   "source": [
    "metrics.r2_score(y_pred=mlp.predict(X_test), y_true=y_test)"
   ]
  },
  {
   "cell_type": "code",
   "execution_count": 123,
   "metadata": {},
   "outputs": [],
   "source": [
    "mlp=MLPRegressor(max_iter=100,activation=\"tanh\",verbose=1)"
   ]
  },
  {
   "cell_type": "code",
   "execution_count": 124,
   "metadata": {
    "scrolled": true
   },
   "outputs": [
    {
     "name": "stdout",
     "output_type": "stream",
     "text": [
      "Iteration 1, loss = 1410508.47262987\n",
      "Iteration 2, loss = 1122864.40081186\n",
      "Iteration 3, loss = 880531.43024504\n",
      "Iteration 4, loss = 677966.96113479\n",
      "Iteration 5, loss = 512451.17385270\n",
      "Iteration 6, loss = 380648.75108694\n",
      "Iteration 7, loss = 279003.33755547\n",
      "Iteration 8, loss = 202837.88425566\n",
      "Iteration 9, loss = 147594.78281054\n",
      "Iteration 10, loss = 108906.30436399\n",
      "Iteration 11, loss = 82810.39632916\n",
      "Iteration 12, loss = 65923.29440475\n",
      "Iteration 13, loss = 58447.72114291\n",
      "Iteration 14, loss = 55576.39779883\n",
      "Iteration 15, loss = 51236.19961843\n",
      "Iteration 16, loss = 48625.88970508\n",
      "Iteration 17, loss = 48568.01495476\n",
      "Iteration 18, loss = 50180.29898499\n",
      "Iteration 19, loss = 46034.98555625\n",
      "Iteration 20, loss = 46127.23437562\n",
      "Iteration 21, loss = 49482.09996312\n",
      "Iteration 22, loss = 47440.58046931\n",
      "Iteration 23, loss = 45249.59383296\n",
      "Iteration 24, loss = 45147.46404231\n",
      "Iteration 25, loss = 46197.66646470\n",
      "Iteration 26, loss = 45233.68376777\n",
      "Iteration 27, loss = 44129.58349342\n",
      "Iteration 28, loss = 43882.14105253\n",
      "Iteration 29, loss = 45326.10317405\n",
      "Iteration 30, loss = 45305.76525953\n",
      "Iteration 31, loss = 44086.95367303\n",
      "Iteration 32, loss = 42865.85788275\n",
      "Iteration 33, loss = 43545.09289656\n",
      "Iteration 34, loss = 45104.41705081\n",
      "Iteration 35, loss = 44307.48519092\n",
      "Iteration 36, loss = 45660.08147957\n",
      "Iteration 37, loss = 44622.76110347\n",
      "Iteration 38, loss = 44710.52170367\n",
      "Iteration 39, loss = 43632.41623948\n",
      "Iteration 40, loss = 42948.55249706\n",
      "Iteration 41, loss = 42601.04848342\n",
      "Iteration 42, loss = 41101.62211177\n",
      "Iteration 43, loss = 42476.12468678\n",
      "Iteration 44, loss = 42123.96504366\n",
      "Iteration 45, loss = 41865.62699485\n",
      "Iteration 46, loss = 44253.31733751\n",
      "Iteration 47, loss = 44949.65270157\n",
      "Iteration 48, loss = 45593.78710939\n",
      "Iteration 49, loss = 45587.82321778\n",
      "Iteration 50, loss = 42415.89072637\n",
      "Iteration 51, loss = 41908.73113691\n",
      "Iteration 52, loss = 43235.77205713\n",
      "Iteration 53, loss = 41860.64372663\n",
      "Training loss did not improve more than tol=0.000100 for 10 consecutive epochs. Stopping.\n",
      "Wall time: 5min 28s\n"
     ]
    },
    {
     "data": {
      "text/plain": [
       "MLPRegressor(activation='tanh', max_iter=100, verbose=1)"
      ]
     },
     "execution_count": 124,
     "metadata": {},
     "output_type": "execute_result"
    }
   ],
   "source": [
    "%%time\n",
    "mlp.fit(X_train,y_train)"
   ]
  },
  {
   "cell_type": "code",
   "execution_count": 125,
   "metadata": {},
   "outputs": [
    {
     "data": {
      "text/plain": [
       "0.8914463356305302"
      ]
     },
     "execution_count": 125,
     "metadata": {},
     "output_type": "execute_result"
    }
   ],
   "source": [
    "metrics.r2_score(y_pred=mlp.predict(X_test), y_true=y_test)"
   ]
  },
  {
   "cell_type": "markdown",
   "metadata": {},
   "source": [
    "Using the logistic sigmoid or tangens hyperbole activation does not improve the results (due to early termination as stop condition has been met)"
   ]
  },
  {
   "cell_type": "markdown",
   "metadata": {},
   "source": [
    "<h5>Solvers</h5>"
   ]
  },
  {
   "cell_type": "code",
   "execution_count": 126,
   "metadata": {},
   "outputs": [],
   "source": [
    "mlp=MLPRegressor(max_iter=100,solver='sgd',verbose=1)"
   ]
  },
  {
   "cell_type": "code",
   "execution_count": 127,
   "metadata": {},
   "outputs": [
    {
     "name": "stdout",
     "output_type": "stream",
     "text": [
      "Iteration 1, loss = 13574404839032264096168051616053581054950206361296279961600.00000000\n",
      "Iteration 2, loss = 13682929883680778965749327647439772319258038141198431944704.00000000\n",
      "Iteration 3, loss = 13682624415153444103233063799788005298730109325117633855488.00000000\n",
      "Iteration 4, loss = 13682318953445571193887771488357938631316254377848493572096.00000000\n",
      "Iteration 5, loss = 13682013498557098910664154753935933093791223516396869648384.00000000\n",
      "Iteration 6, loss = 13681708050487812608889677739274251404866642500283267022848.00000000\n",
      "Iteration 7, loss = 13681402609237581271686299076961937042197659520383838060544.00000000\n",
      "Iteration 8, loss = 13681097174806265519396527950604355407545070524439170383872.00000000\n",
      "Iteration 9, loss = 13680791747193801237377918584659974585718841648409934299136.00000000\n",
      "Iteration 10, loss = 13680486326399867852418242101421135000768803572099481337856.00000000\n",
      "Iteration 11, loss = 13680180912424434700992850521281017041082331404010740776960.00000000\n",
      "Iteration 12, loss = 13679875505267270412870309089024527273582346417393088069632.00000000\n",
      "Training loss did not improve more than tol=0.000100 for 10 consecutive epochs. Stopping.\n",
      "Wall time: 53.5 s\n"
     ]
    },
    {
     "data": {
      "text/plain": [
       "MLPRegressor(max_iter=100, solver='sgd', verbose=1)"
      ]
     },
     "execution_count": 127,
     "metadata": {},
     "output_type": "execute_result"
    }
   ],
   "source": [
    "%%time\n",
    "mlp.fit(X_train,y_train)"
   ]
  },
  {
   "cell_type": "code",
   "execution_count": 128,
   "metadata": {},
   "outputs": [
    {
     "data": {
      "text/plain": [
       "-3.363999863115197e-07"
      ]
     },
     "execution_count": 128,
     "metadata": {},
     "output_type": "execute_result"
    }
   ],
   "source": [
    "metrics.r2_score(y_pred=mlp.predict(X_test), y_true=y_test)"
   ]
  },
  {
   "cell_type": "markdown",
   "metadata": {},
   "source": [
    "Stochastic Gradient Descent does not produce sensible results."
   ]
  },
  {
   "cell_type": "code",
   "execution_count": 129,
   "metadata": {},
   "outputs": [],
   "source": [
    "mlp=MLPRegressor(max_iter=100,solver='lbfgs',verbose=1)"
   ]
  },
  {
   "cell_type": "code",
   "execution_count": 130,
   "metadata": {},
   "outputs": [
    {
     "name": "stdout",
     "output_type": "stream",
     "text": [
      "Wall time: 5min 11s\n"
     ]
    },
    {
     "name": "stderr",
     "output_type": "stream",
     "text": [
      "c:\\python38\\lib\\site-packages\\sklearn\\neural_network\\_multilayer_perceptron.py:471: ConvergenceWarning: lbfgs failed to converge (status=1):\n",
      "STOP: TOTAL NO. of ITERATIONS REACHED LIMIT.\n",
      "\n",
      "Increase the number of iterations (max_iter) or scale the data as shown in:\n",
      "    https://scikit-learn.org/stable/modules/preprocessing.html\n",
      "  self.n_iter_ = _check_optimize_result(\"lbfgs\", opt_res, self.max_iter)\n"
     ]
    },
    {
     "data": {
      "text/plain": [
       "MLPRegressor(max_iter=100, solver='lbfgs', verbose=1)"
      ]
     },
     "execution_count": 130,
     "metadata": {},
     "output_type": "execute_result"
    }
   ],
   "source": [
    "%%time\n",
    "mlp.fit(X_train,y_train)"
   ]
  },
  {
   "cell_type": "code",
   "execution_count": 131,
   "metadata": {},
   "outputs": [
    {
     "data": {
      "text/plain": [
       "0.8951197930001313"
      ]
     },
     "execution_count": 131,
     "metadata": {},
     "output_type": "execute_result"
    }
   ],
   "source": [
    "metrics.r2_score(y_pred=mlp.predict(X_test), y_true=y_test)"
   ]
  },
  {
   "cell_type": "code",
   "execution_count": 134,
   "metadata": {},
   "outputs": [],
   "source": [
    "mlp=MLPRegressor(max_iter=100,alpha=0.05,verbose=1)"
   ]
  },
  {
   "cell_type": "code",
   "execution_count": 135,
   "metadata": {
    "scrolled": true
   },
   "outputs": [
    {
     "name": "stdout",
     "output_type": "stream",
     "text": [
      "Iteration 1, loss = 65230.95439351\n",
      "Iteration 2, loss = 41639.88970481\n",
      "Iteration 3, loss = 40221.65008547\n",
      "Iteration 4, loss = 39138.84540678\n",
      "Iteration 5, loss = 38425.85433635\n",
      "Iteration 6, loss = 37991.68701840\n",
      "Iteration 7, loss = 37613.50197837\n",
      "Iteration 8, loss = 37392.54066368\n",
      "Iteration 9, loss = 37051.64050603\n",
      "Iteration 10, loss = 36908.09802641\n",
      "Iteration 11, loss = 36637.40469403\n",
      "Iteration 12, loss = 36492.77099198\n",
      "Iteration 13, loss = 36128.82088082\n",
      "Iteration 14, loss = 35908.33883081\n",
      "Iteration 15, loss = 35790.17394602\n",
      "Iteration 16, loss = 35488.88793325\n",
      "Iteration 17, loss = 35325.78528558\n",
      "Iteration 18, loss = 35210.56886230\n",
      "Iteration 19, loss = 35043.77386439\n",
      "Iteration 20, loss = 34912.89557860\n",
      "Iteration 21, loss = 34815.44516199\n",
      "Iteration 22, loss = 34732.41441353\n",
      "Iteration 23, loss = 34566.15374373\n",
      "Iteration 24, loss = 34494.26281133\n",
      "Iteration 25, loss = 34375.80628196\n",
      "Iteration 26, loss = 34293.47038199\n",
      "Iteration 27, loss = 34365.52443873\n",
      "Iteration 28, loss = 34143.89630609\n",
      "Iteration 29, loss = 34078.21132740\n",
      "Iteration 30, loss = 34001.70087728\n",
      "Iteration 31, loss = 33899.84082731\n",
      "Iteration 32, loss = 33839.10903458\n",
      "Iteration 33, loss = 33777.27450001\n",
      "Iteration 34, loss = 33746.63408803\n",
      "Iteration 35, loss = 33721.29224399\n",
      "Iteration 36, loss = 33612.54364156\n",
      "Iteration 37, loss = 33530.05929933\n",
      "Iteration 38, loss = 33557.47435360\n",
      "Iteration 39, loss = 33480.28264684\n",
      "Iteration 40, loss = 33445.71236219\n",
      "Iteration 41, loss = 33317.02137213\n",
      "Iteration 42, loss = 33278.38370490\n",
      "Iteration 43, loss = 33285.77695572\n",
      "Iteration 44, loss = 33214.04536391\n",
      "Iteration 45, loss = 33266.85651086\n",
      "Iteration 46, loss = 33140.29598459\n",
      "Iteration 47, loss = 33076.34483957\n",
      "Iteration 48, loss = 33089.30432367\n",
      "Iteration 49, loss = 33035.42691159\n",
      "Iteration 50, loss = 33021.59899566\n",
      "Iteration 51, loss = 32982.29621498\n",
      "Iteration 52, loss = 32954.87609666\n",
      "Iteration 53, loss = 32988.95144178\n",
      "Iteration 54, loss = 32794.82317573\n",
      "Iteration 55, loss = 32812.31352220\n",
      "Iteration 56, loss = 32722.11472920\n",
      "Iteration 57, loss = 32728.96839612\n",
      "Iteration 58, loss = 32757.95838357\n",
      "Iteration 59, loss = 32735.14135007\n",
      "Iteration 60, loss = 32627.09159214\n",
      "Iteration 61, loss = 32644.63314437\n",
      "Iteration 62, loss = 32578.21543440\n",
      "Iteration 63, loss = 32570.42884715\n",
      "Iteration 64, loss = 32477.50366236\n",
      "Iteration 65, loss = 32572.53728971\n",
      "Iteration 66, loss = 32397.79923203\n",
      "Iteration 67, loss = 32444.48683430\n",
      "Iteration 68, loss = 32433.57177418\n",
      "Iteration 69, loss = 32400.42129657\n",
      "Iteration 70, loss = 32422.40135442\n",
      "Iteration 71, loss = 32274.53900656\n",
      "Iteration 72, loss = 32365.67232275\n",
      "Iteration 73, loss = 32292.90649403\n",
      "Iteration 74, loss = 32213.47216236\n",
      "Iteration 75, loss = 32235.41043253\n",
      "Iteration 76, loss = 32230.97740853\n",
      "Iteration 77, loss = 32160.87275323\n",
      "Iteration 78, loss = 32052.01044259\n",
      "Iteration 79, loss = 32126.92452379\n",
      "Iteration 80, loss = 32132.16095453\n",
      "Iteration 81, loss = 32050.21798769\n",
      "Iteration 82, loss = 32028.20584592\n",
      "Iteration 83, loss = 32020.32561717\n",
      "Iteration 84, loss = 31939.64230442\n",
      "Iteration 85, loss = 31976.73435929\n",
      "Iteration 86, loss = 31930.86706135\n",
      "Iteration 87, loss = 31942.88458571\n",
      "Iteration 88, loss = 31873.55372464\n",
      "Iteration 89, loss = 31871.41484262\n",
      "Iteration 90, loss = 31850.08425168\n",
      "Iteration 91, loss = 31811.29443610\n",
      "Iteration 92, loss = 31784.01372194\n",
      "Iteration 93, loss = 31739.18262792\n",
      "Iteration 94, loss = 31831.21661266\n",
      "Iteration 95, loss = 31688.02574680\n",
      "Iteration 96, loss = 31721.07906655\n",
      "Iteration 97, loss = 31706.83573779\n",
      "Iteration 98, loss = 31654.40073793\n",
      "Iteration 99, loss = 31637.84696854\n",
      "Iteration 100, loss = 31720.22901827\n",
      "Wall time: 10min 9s\n"
     ]
    },
    {
     "name": "stderr",
     "output_type": "stream",
     "text": [
      "c:\\python38\\lib\\site-packages\\sklearn\\neural_network\\_multilayer_perceptron.py:582: ConvergenceWarning: Stochastic Optimizer: Maximum iterations (100) reached and the optimization hasn't converged yet.\n",
      "  warnings.warn(\n"
     ]
    },
    {
     "data": {
      "text/plain": [
       "MLPRegressor(alpha=0.05, max_iter=100, verbose=1)"
      ]
     },
     "execution_count": 135,
     "metadata": {},
     "output_type": "execute_result"
    }
   ],
   "source": [
    "%%time\n",
    "mlp.fit(X_train,y_train)"
   ]
  },
  {
   "cell_type": "code",
   "execution_count": 136,
   "metadata": {},
   "outputs": [
    {
     "data": {
      "text/plain": [
       "0.9203682287491218"
      ]
     },
     "execution_count": 136,
     "metadata": {},
     "output_type": "execute_result"
    }
   ],
   "source": [
    "metrics.r2_score(y_pred=mlp.predict(X_test), y_true=y_test)"
   ]
  },
  {
   "cell_type": "markdown",
   "metadata": {},
   "source": [
    "<h4>Support Vector Regression</h4>"
   ]
  },
  {
   "cell_type": "markdown",
   "metadata": {},
   "source": [
    "According to the documentation, the standard support vector regression is not fit for sample sizes over a few 10Ks due to a quadratic fit time complexity. Instead, we will test the recommended LinearSVR and SGDRegressor"
   ]
  },
  {
   "cell_type": "code",
   "execution_count": 140,
   "metadata": {},
   "outputs": [],
   "source": [
    "regr = make_pipeline(StandardScaler(),LinearSVR(tol=1e-5))"
   ]
  },
  {
   "cell_type": "code",
   "execution_count": 141,
   "metadata": {},
   "outputs": [
    {
     "name": "stdout",
     "output_type": "stream",
     "text": [
      "Wall time: 51.7 s\n"
     ]
    },
    {
     "data": {
      "text/plain": [
       "Pipeline(steps=[('standardscaler', StandardScaler()),\n",
       "                ('linearsvr', LinearSVR(tol=1e-05))])"
      ]
     },
     "execution_count": 141,
     "metadata": {},
     "output_type": "execute_result"
    }
   ],
   "source": [
    "%%time\n",
    "regr.fit(X_train, y_train)"
   ]
  },
  {
   "cell_type": "code",
   "execution_count": 142,
   "metadata": {},
   "outputs": [
    {
     "data": {
      "text/plain": [
       "0.8982756792828285"
      ]
     },
     "execution_count": 142,
     "metadata": {},
     "output_type": "execute_result"
    }
   ],
   "source": [
    "metrics.r2_score(y_pred=regr.predict(X_test), y_true=y_test)"
   ]
  },
  {
   "cell_type": "code",
   "execution_count": 143,
   "metadata": {},
   "outputs": [],
   "source": [
    "reg = make_pipeline(StandardScaler(),SGDRegressor(max_iter=1000, tol=1e-3))"
   ]
  },
  {
   "cell_type": "code",
   "execution_count": 144,
   "metadata": {},
   "outputs": [
    {
     "name": "stdout",
     "output_type": "stream",
     "text": [
      "Wall time: 49.9 s\n"
     ]
    },
    {
     "data": {
      "text/plain": [
       "Pipeline(steps=[('standardscaler', StandardScaler()),\n",
       "                ('linearsvr', LinearSVR(tol=1e-05))])"
      ]
     },
     "execution_count": 144,
     "metadata": {},
     "output_type": "execute_result"
    }
   ],
   "source": [
    "%%time\n",
    "regr.fit(X_train,y_train)"
   ]
  },
  {
   "cell_type": "code",
   "execution_count": 145,
   "metadata": {},
   "outputs": [
    {
     "data": {
      "text/plain": [
       "0.8982783255725295"
      ]
     },
     "execution_count": 145,
     "metadata": {},
     "output_type": "execute_result"
    }
   ],
   "source": [
    "metrics.r2_score(y_pred=regr.predict(X_test), y_true=y_test)"
   ]
  },
  {
   "cell_type": "markdown",
   "metadata": {},
   "source": [
    "<h4>Random Forest Regression</h4>"
   ]
  },
  {
   "cell_type": "code",
   "execution_count": 148,
   "metadata": {},
   "outputs": [],
   "source": [
    "regr = RandomForestRegressor()"
   ]
  },
  {
   "cell_type": "code",
   "execution_count": 149,
   "metadata": {},
   "outputs": [
    {
     "name": "stdout",
     "output_type": "stream",
     "text": [
      "Wall time: 0 ns\n"
     ]
    },
    {
     "data": {
      "text/plain": [
       "RandomForestRegressor()"
      ]
     },
     "execution_count": 149,
     "metadata": {},
     "output_type": "execute_result"
    }
   ],
   "source": [
    "%%time\n",
    "regr.fit(X_train, y_train)"
   ]
  },
  {
   "cell_type": "code",
   "execution_count": 150,
   "metadata": {},
   "outputs": [
    {
     "data": {
      "text/plain": [
       "0.915504879988743"
      ]
     },
     "execution_count": 150,
     "metadata": {},
     "output_type": "execute_result"
    }
   ],
   "source": [
    "metrics.r2_score(y_pred=regr.predict(X_test), y_true=y_test)"
   ]
  },
  {
   "cell_type": "markdown",
   "metadata": {},
   "source": [
    "<h4>LSTM</h4>\n",
    "<br>\n",
    "<div>LSTMs are recurrent neural network that learn from a temporal relationship in the data. Successfully training and implementing a LSTM requires that there is a trend over time in a temporal relationship and that the value of earlier time periods can be used for later time periods in practice. The following temporal relationships exist in the data.</div>\n",
    "<br>\n",
    "<ul>\n",
    "    <li>month: This is not fit for LSTM as there is no clear trend in the months</li>\n",
    "    <li>hour: This could be a promising candidate for LSTM as there is a clear bimodal trend in the distribution. However, the backend of our web application currently does not allow us to capture the all travelling times over the duration of a day, so this approach cannot be employed in practice at this time</li>\n",
    "    <li>dur_a over progression of trip (not depicted above): Assuming a trip from x to y, it can be logically reasoned that there must be a relationship between dur_a at stop x and dur_a at stop y. However, we do not have access to dur_a in real time in our backend, so a model trained on this relationship is not practical at this time.</li>"
   ]
  },
  {
   "cell_type": "markdown",
   "metadata": {},
   "source": [
    "<h3>Benchmark</h3>\n",
    "<br>\n",
    "<div>In order to evaluate the model performances, they needs to be compared to an alternative. As we do not have access to historic route predictions by google, which thanks to the advent of smart phones and mobile internet is certainly is the most prevalent alternative, we will resort to the 2nd best alternative, which is the timetable information"
   ]
  },
  {
   "cell_type": "code",
   "execution_count": 146,
   "metadata": {},
   "outputs": [
    {
     "data": {
      "text/plain": [
       "0.8556210188476404"
      ]
     },
     "execution_count": 146,
     "metadata": {},
     "output_type": "execute_result"
    }
   ],
   "source": [
    "metrics.r2_score(y_pred=X_test.dur_s, y_true=y_test)"
   ]
  },
  {
   "cell_type": "code",
   "execution_count": 153,
   "metadata": {},
   "outputs": [
    {
     "data": {
      "text/plain": [
       "(148778, 58)"
      ]
     },
     "execution_count": 153,
     "metadata": {},
     "output_type": "execute_result"
    }
   ],
   "source": [
    "X_test.shape"
   ]
  },
  {
   "cell_type": "markdown",
   "metadata": {},
   "source": [
    "<h3>Validation of best performing Models</h3>\n",
    "<br>\n",
    "<div>Will be done in modelling_pipeline_test.ipynb.</div>"
   ]
  }
 ],
 "metadata": {
  "kernelspec": {
   "display_name": "Python 3",
   "language": "python",
   "name": "python3"
  },
  "language_info": {
   "codemirror_mode": {
    "name": "ipython",
    "version": 3
   },
   "file_extension": ".py",
   "mimetype": "text/x-python",
   "name": "python",
   "nbconvert_exporter": "python",
   "pygments_lexer": "ipython3",
   "version": "3.8.3"
  }
 },
 "nbformat": 4,
 "nbformat_minor": 4
}
