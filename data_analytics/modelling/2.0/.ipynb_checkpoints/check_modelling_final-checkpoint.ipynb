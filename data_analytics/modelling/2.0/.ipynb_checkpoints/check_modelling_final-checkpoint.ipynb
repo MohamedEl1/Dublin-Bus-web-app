{
 "cells": [
  {
   "cell_type": "code",
   "execution_count": 5,
   "metadata": {},
   "outputs": [
    {
     "ename": "AttributeError",
     "evalue": "type object 'scipy.interpolate.interpnd.array' has no attribute '__reduce_cython__'",
     "output_type": "error",
     "traceback": [
      "\u001b[0;31m---------------------------------------------------------------------------\u001b[0m",
      "\u001b[0;31mAttributeError\u001b[0m                            Traceback (most recent call last)",
      "\u001b[0;32m<ipython-input-5-73b72cb7a44c>\u001b[0m in \u001b[0;36m<module>\u001b[0;34m\u001b[0m\n\u001b[0;32m----> 1\u001b[0;31m \u001b[0;32mimport\u001b[0m \u001b[0mpandas\u001b[0m \u001b[0;32mas\u001b[0m \u001b[0mpd\u001b[0m\u001b[0;34m,\u001b[0m \u001b[0mnumpy\u001b[0m \u001b[0;32mas\u001b[0m \u001b[0mnp\u001b[0m\u001b[0;34m,\u001b[0m \u001b[0mseaborn\u001b[0m \u001b[0;32mas\u001b[0m \u001b[0msns\u001b[0m\u001b[0;34m,\u001b[0m \u001b[0mmatplotlib\u001b[0m\u001b[0;34m.\u001b[0m\u001b[0mpyplot\u001b[0m \u001b[0;32mas\u001b[0m \u001b[0mplt\u001b[0m\u001b[0;34m,\u001b[0m \u001b[0mtime\u001b[0m\u001b[0;34m,\u001b[0m \u001b[0mxgboost\u001b[0m \u001b[0;32mas\u001b[0m \u001b[0mxgb\u001b[0m\u001b[0;34m\u001b[0m\u001b[0;34m\u001b[0m\u001b[0m\n\u001b[0m\u001b[1;32m      2\u001b[0m \u001b[0;32mfrom\u001b[0m \u001b[0msqlalchemy\u001b[0m \u001b[0;32mimport\u001b[0m \u001b[0mcreate_engine\u001b[0m\u001b[0;34m\u001b[0m\u001b[0;34m\u001b[0m\u001b[0m\n\u001b[1;32m      3\u001b[0m \u001b[0;32mfrom\u001b[0m \u001b[0mdatetime\u001b[0m \u001b[0;32mimport\u001b[0m \u001b[0mdatetime\u001b[0m\u001b[0;34m\u001b[0m\u001b[0;34m\u001b[0m\u001b[0m\n\u001b[1;32m      4\u001b[0m \u001b[0;32mfrom\u001b[0m \u001b[0mmatplotlib\u001b[0m \u001b[0;32mimport\u001b[0m \u001b[0mpyplot\u001b[0m\u001b[0;34m\u001b[0m\u001b[0;34m\u001b[0m\u001b[0m\n\u001b[1;32m      5\u001b[0m \u001b[0;34m\u001b[0m\u001b[0m\n",
      "\u001b[0;32m~/anaconda3/lib/python3.7/site-packages/seaborn/__init__.py\u001b[0m in \u001b[0;36m<module>\u001b[0;34m\u001b[0m\n\u001b[1;32m      4\u001b[0m \u001b[0;34m\u001b[0m\u001b[0m\n\u001b[1;32m      5\u001b[0m \u001b[0;31m# Import seaborn objects\u001b[0m\u001b[0;34m\u001b[0m\u001b[0;34m\u001b[0m\u001b[0;34m\u001b[0m\u001b[0m\n\u001b[0;32m----> 6\u001b[0;31m \u001b[0;32mfrom\u001b[0m \u001b[0;34m.\u001b[0m\u001b[0mrcmod\u001b[0m \u001b[0;32mimport\u001b[0m \u001b[0;34m*\u001b[0m\u001b[0;34m\u001b[0m\u001b[0;34m\u001b[0m\u001b[0m\n\u001b[0m\u001b[1;32m      7\u001b[0m \u001b[0;32mfrom\u001b[0m \u001b[0;34m.\u001b[0m\u001b[0mutils\u001b[0m \u001b[0;32mimport\u001b[0m \u001b[0;34m*\u001b[0m\u001b[0;34m\u001b[0m\u001b[0;34m\u001b[0m\u001b[0m\n\u001b[1;32m      8\u001b[0m \u001b[0;32mfrom\u001b[0m \u001b[0;34m.\u001b[0m\u001b[0mpalettes\u001b[0m \u001b[0;32mimport\u001b[0m \u001b[0;34m*\u001b[0m\u001b[0;34m\u001b[0m\u001b[0;34m\u001b[0m\u001b[0m\n",
      "\u001b[0;32m~/anaconda3/lib/python3.7/site-packages/seaborn/rcmod.py\u001b[0m in \u001b[0;36m<module>\u001b[0;34m\u001b[0m\n\u001b[1;32m      3\u001b[0m \u001b[0;32mimport\u001b[0m \u001b[0mfunctools\u001b[0m\u001b[0;34m\u001b[0m\u001b[0;34m\u001b[0m\u001b[0m\n\u001b[1;32m      4\u001b[0m \u001b[0;32mimport\u001b[0m \u001b[0mmatplotlib\u001b[0m \u001b[0;32mas\u001b[0m \u001b[0mmpl\u001b[0m\u001b[0;34m\u001b[0m\u001b[0;34m\u001b[0m\u001b[0m\n\u001b[0;32m----> 5\u001b[0;31m \u001b[0;32mfrom\u001b[0m \u001b[0;34m.\u001b[0m \u001b[0;32mimport\u001b[0m \u001b[0mpalettes\u001b[0m\u001b[0;34m,\u001b[0m \u001b[0m_orig_rc_params\u001b[0m\u001b[0;34m\u001b[0m\u001b[0;34m\u001b[0m\u001b[0m\n\u001b[0m\u001b[1;32m      6\u001b[0m \u001b[0;34m\u001b[0m\u001b[0m\n\u001b[1;32m      7\u001b[0m \u001b[0;34m\u001b[0m\u001b[0m\n",
      "\u001b[0;32m~/anaconda3/lib/python3.7/site-packages/seaborn/palettes.py\u001b[0m in \u001b[0;36m<module>\u001b[0;34m\u001b[0m\n\u001b[1;32m     10\u001b[0m \u001b[0;32mfrom\u001b[0m \u001b[0;34m.\u001b[0m\u001b[0mexternal\u001b[0m\u001b[0;34m.\u001b[0m\u001b[0msix\u001b[0m\u001b[0;34m.\u001b[0m\u001b[0mmoves\u001b[0m \u001b[0;32mimport\u001b[0m \u001b[0mrange\u001b[0m\u001b[0;34m\u001b[0m\u001b[0;34m\u001b[0m\u001b[0m\n\u001b[1;32m     11\u001b[0m \u001b[0;34m\u001b[0m\u001b[0m\n\u001b[0;32m---> 12\u001b[0;31m \u001b[0;32mfrom\u001b[0m \u001b[0;34m.\u001b[0m\u001b[0mutils\u001b[0m \u001b[0;32mimport\u001b[0m \u001b[0mdesaturate\u001b[0m\u001b[0;34m,\u001b[0m \u001b[0mset_hls_values\u001b[0m\u001b[0;34m,\u001b[0m \u001b[0mget_color_cycle\u001b[0m\u001b[0;34m\u001b[0m\u001b[0;34m\u001b[0m\u001b[0m\n\u001b[0m\u001b[1;32m     13\u001b[0m \u001b[0;32mfrom\u001b[0m \u001b[0;34m.\u001b[0m\u001b[0mcolors\u001b[0m \u001b[0;32mimport\u001b[0m \u001b[0mxkcd_rgb\u001b[0m\u001b[0;34m,\u001b[0m \u001b[0mcrayons\u001b[0m\u001b[0;34m\u001b[0m\u001b[0;34m\u001b[0m\u001b[0m\n\u001b[1;32m     14\u001b[0m \u001b[0;34m\u001b[0m\u001b[0m\n",
      "\u001b[0;32m~/anaconda3/lib/python3.7/site-packages/seaborn/utils.py\u001b[0m in \u001b[0;36m<module>\u001b[0;34m\u001b[0m\n\u001b[1;32m      5\u001b[0m \u001b[0;34m\u001b[0m\u001b[0m\n\u001b[1;32m      6\u001b[0m \u001b[0;32mimport\u001b[0m \u001b[0mnumpy\u001b[0m \u001b[0;32mas\u001b[0m \u001b[0mnp\u001b[0m\u001b[0;34m\u001b[0m\u001b[0;34m\u001b[0m\u001b[0m\n\u001b[0;32m----> 7\u001b[0;31m \u001b[0;32mfrom\u001b[0m \u001b[0mscipy\u001b[0m \u001b[0;32mimport\u001b[0m \u001b[0mstats\u001b[0m\u001b[0;34m\u001b[0m\u001b[0;34m\u001b[0m\u001b[0m\n\u001b[0m\u001b[1;32m      8\u001b[0m \u001b[0;32mimport\u001b[0m \u001b[0mpandas\u001b[0m \u001b[0;32mas\u001b[0m \u001b[0mpd\u001b[0m\u001b[0;34m\u001b[0m\u001b[0;34m\u001b[0m\u001b[0m\n\u001b[1;32m      9\u001b[0m \u001b[0;32mimport\u001b[0m \u001b[0mmatplotlib\u001b[0m \u001b[0;32mas\u001b[0m \u001b[0mmpl\u001b[0m\u001b[0;34m\u001b[0m\u001b[0;34m\u001b[0m\u001b[0m\n",
      "\u001b[0;32m~/anaconda3/lib/python3.7/site-packages/scipy/stats/__init__.py\u001b[0m in \u001b[0;36m<module>\u001b[0;34m\u001b[0m\n\u001b[1;32m    365\u001b[0m \u001b[0;32mfrom\u001b[0m \u001b[0m__future__\u001b[0m \u001b[0;32mimport\u001b[0m \u001b[0mdivision\u001b[0m\u001b[0;34m,\u001b[0m \u001b[0mprint_function\u001b[0m\u001b[0;34m,\u001b[0m \u001b[0mabsolute_import\u001b[0m\u001b[0;34m\u001b[0m\u001b[0;34m\u001b[0m\u001b[0m\n\u001b[1;32m    366\u001b[0m \u001b[0;34m\u001b[0m\u001b[0m\n\u001b[0;32m--> 367\u001b[0;31m \u001b[0;32mfrom\u001b[0m \u001b[0;34m.\u001b[0m\u001b[0mstats\u001b[0m \u001b[0;32mimport\u001b[0m \u001b[0;34m*\u001b[0m\u001b[0;34m\u001b[0m\u001b[0;34m\u001b[0m\u001b[0m\n\u001b[0m\u001b[1;32m    368\u001b[0m \u001b[0;32mfrom\u001b[0m \u001b[0;34m.\u001b[0m\u001b[0mdistributions\u001b[0m \u001b[0;32mimport\u001b[0m \u001b[0;34m*\u001b[0m\u001b[0;34m\u001b[0m\u001b[0;34m\u001b[0m\u001b[0m\n\u001b[1;32m    369\u001b[0m \u001b[0;32mfrom\u001b[0m \u001b[0;34m.\u001b[0m\u001b[0mmorestats\u001b[0m \u001b[0;32mimport\u001b[0m \u001b[0;34m*\u001b[0m\u001b[0;34m\u001b[0m\u001b[0;34m\u001b[0m\u001b[0m\n",
      "\u001b[0;32m~/anaconda3/lib/python3.7/site-packages/scipy/stats/stats.py\u001b[0m in \u001b[0;36m<module>\u001b[0;34m\u001b[0m\n\u001b[1;32m    171\u001b[0m \u001b[0;32mfrom\u001b[0m \u001b[0mscipy\u001b[0m\u001b[0;34m.\u001b[0m\u001b[0m_lib\u001b[0m\u001b[0;34m.\u001b[0m\u001b[0m_util\u001b[0m \u001b[0;32mimport\u001b[0m \u001b[0m_lazywhere\u001b[0m\u001b[0;34m\u001b[0m\u001b[0;34m\u001b[0m\u001b[0m\n\u001b[1;32m    172\u001b[0m \u001b[0;32mimport\u001b[0m \u001b[0mscipy\u001b[0m\u001b[0;34m.\u001b[0m\u001b[0mspecial\u001b[0m \u001b[0;32mas\u001b[0m \u001b[0mspecial\u001b[0m\u001b[0;34m\u001b[0m\u001b[0;34m\u001b[0m\u001b[0m\n\u001b[0;32m--> 173\u001b[0;31m \u001b[0;32mfrom\u001b[0m \u001b[0;34m.\u001b[0m \u001b[0;32mimport\u001b[0m \u001b[0mdistributions\u001b[0m\u001b[0;34m\u001b[0m\u001b[0;34m\u001b[0m\u001b[0m\n\u001b[0m\u001b[1;32m    174\u001b[0m \u001b[0;32mfrom\u001b[0m \u001b[0;34m.\u001b[0m \u001b[0;32mimport\u001b[0m \u001b[0mmstats_basic\u001b[0m\u001b[0;34m\u001b[0m\u001b[0;34m\u001b[0m\u001b[0m\n\u001b[1;32m    175\u001b[0m \u001b[0;32mfrom\u001b[0m \u001b[0;34m.\u001b[0m\u001b[0m_stats_mstats_common\u001b[0m \u001b[0;32mimport\u001b[0m \u001b[0m_find_repeats\u001b[0m\u001b[0;34m,\u001b[0m \u001b[0mlinregress\u001b[0m\u001b[0;34m,\u001b[0m \u001b[0mtheilslopes\u001b[0m\u001b[0;34m,\u001b[0m \u001b[0msiegelslopes\u001b[0m\u001b[0;34m\u001b[0m\u001b[0;34m\u001b[0m\u001b[0m\n",
      "\u001b[0;32m~/anaconda3/lib/python3.7/site-packages/scipy/stats/distributions.py\u001b[0m in \u001b[0;36m<module>\u001b[0;34m\u001b[0m\n\u001b[1;32m      8\u001b[0m \u001b[0;32mfrom\u001b[0m \u001b[0m__future__\u001b[0m \u001b[0;32mimport\u001b[0m \u001b[0mdivision\u001b[0m\u001b[0;34m,\u001b[0m \u001b[0mprint_function\u001b[0m\u001b[0;34m,\u001b[0m \u001b[0mabsolute_import\u001b[0m\u001b[0;34m\u001b[0m\u001b[0;34m\u001b[0m\u001b[0m\n\u001b[1;32m      9\u001b[0m \u001b[0;34m\u001b[0m\u001b[0m\n\u001b[0;32m---> 10\u001b[0;31m from ._distn_infrastructure import (entropy, rv_discrete, rv_continuous,\n\u001b[0m\u001b[1;32m     11\u001b[0m                                     rv_frozen)\n\u001b[1;32m     12\u001b[0m \u001b[0;34m\u001b[0m\u001b[0m\n",
      "\u001b[0;32m~/anaconda3/lib/python3.7/site-packages/scipy/stats/_distn_infrastructure.py\u001b[0m in \u001b[0;36m<module>\u001b[0;34m\u001b[0m\n\u001b[1;32m     14\u001b[0m \u001b[0;32mimport\u001b[0m \u001b[0mwarnings\u001b[0m\u001b[0;34m\u001b[0m\u001b[0;34m\u001b[0m\u001b[0m\n\u001b[1;32m     15\u001b[0m \u001b[0;34m\u001b[0m\u001b[0m\n\u001b[0;32m---> 16\u001b[0;31m \u001b[0;32mfrom\u001b[0m \u001b[0mscipy\u001b[0m\u001b[0;34m.\u001b[0m\u001b[0mmisc\u001b[0m \u001b[0;32mimport\u001b[0m \u001b[0mdoccer\u001b[0m\u001b[0;34m\u001b[0m\u001b[0;34m\u001b[0m\u001b[0m\n\u001b[0m\u001b[1;32m     17\u001b[0m \u001b[0;32mfrom\u001b[0m \u001b[0;34m.\u001b[0m\u001b[0m_distr_params\u001b[0m \u001b[0;32mimport\u001b[0m \u001b[0mdistcont\u001b[0m\u001b[0;34m,\u001b[0m \u001b[0mdistdiscrete\u001b[0m\u001b[0;34m\u001b[0m\u001b[0;34m\u001b[0m\u001b[0m\n\u001b[1;32m     18\u001b[0m \u001b[0;32mfrom\u001b[0m \u001b[0mscipy\u001b[0m\u001b[0;34m.\u001b[0m\u001b[0m_lib\u001b[0m\u001b[0;34m.\u001b[0m\u001b[0m_util\u001b[0m \u001b[0;32mimport\u001b[0m \u001b[0mcheck_random_state\u001b[0m\u001b[0;34m\u001b[0m\u001b[0;34m\u001b[0m\u001b[0m\n",
      "\u001b[0;32m~/anaconda3/lib/python3.7/site-packages/scipy/misc/__init__.py\u001b[0m in \u001b[0;36m<module>\u001b[0;34m\u001b[0m\n\u001b[1;32m     66\u001b[0m \u001b[0;32mfrom\u001b[0m \u001b[0mnumpy\u001b[0m \u001b[0;32mimport\u001b[0m \u001b[0mwho\u001b[0m \u001b[0;32mas\u001b[0m \u001b[0m_who\u001b[0m\u001b[0;34m,\u001b[0m \u001b[0msource\u001b[0m \u001b[0;32mas\u001b[0m \u001b[0m_source\u001b[0m\u001b[0;34m,\u001b[0m \u001b[0minfo\u001b[0m \u001b[0;32mas\u001b[0m \u001b[0m_info\u001b[0m\u001b[0;34m\u001b[0m\u001b[0;34m\u001b[0m\u001b[0m\n\u001b[1;32m     67\u001b[0m \u001b[0;32mimport\u001b[0m \u001b[0mnumpy\u001b[0m \u001b[0;32mas\u001b[0m \u001b[0mnp\u001b[0m\u001b[0;34m\u001b[0m\u001b[0;34m\u001b[0m\u001b[0m\n\u001b[0;32m---> 68\u001b[0;31m \u001b[0;32mfrom\u001b[0m \u001b[0mscipy\u001b[0m\u001b[0;34m.\u001b[0m\u001b[0minterpolate\u001b[0m\u001b[0;34m.\u001b[0m\u001b[0m_pade\u001b[0m \u001b[0;32mimport\u001b[0m \u001b[0mpade\u001b[0m \u001b[0;32mas\u001b[0m \u001b[0m_pade\u001b[0m\u001b[0;34m\u001b[0m\u001b[0;34m\u001b[0m\u001b[0m\n\u001b[0m\u001b[1;32m     69\u001b[0m from scipy.special import (comb as _comb, logsumexp as _lsm,\n\u001b[1;32m     70\u001b[0m         factorial as _fact, factorial2 as _fact2, factorialk as _factk)\n",
      "\u001b[0;32m~/anaconda3/lib/python3.7/site-packages/scipy/interpolate/__init__.py\u001b[0m in \u001b[0;36m<module>\u001b[0;34m\u001b[0m\n\u001b[1;32m    173\u001b[0m \u001b[0;32mfrom\u001b[0m \u001b[0m__future__\u001b[0m \u001b[0;32mimport\u001b[0m \u001b[0mdivision\u001b[0m\u001b[0;34m,\u001b[0m \u001b[0mprint_function\u001b[0m\u001b[0;34m,\u001b[0m \u001b[0mabsolute_import\u001b[0m\u001b[0;34m\u001b[0m\u001b[0;34m\u001b[0m\u001b[0m\n\u001b[1;32m    174\u001b[0m \u001b[0;34m\u001b[0m\u001b[0m\n\u001b[0;32m--> 175\u001b[0;31m \u001b[0;32mfrom\u001b[0m \u001b[0;34m.\u001b[0m\u001b[0minterpolate\u001b[0m \u001b[0;32mimport\u001b[0m \u001b[0;34m*\u001b[0m\u001b[0;34m\u001b[0m\u001b[0;34m\u001b[0m\u001b[0m\n\u001b[0m\u001b[1;32m    176\u001b[0m \u001b[0;32mfrom\u001b[0m \u001b[0;34m.\u001b[0m\u001b[0mfitpack\u001b[0m \u001b[0;32mimport\u001b[0m \u001b[0;34m*\u001b[0m\u001b[0;34m\u001b[0m\u001b[0;34m\u001b[0m\u001b[0m\n\u001b[1;32m    177\u001b[0m \u001b[0;34m\u001b[0m\u001b[0m\n",
      "\u001b[0;32m~/anaconda3/lib/python3.7/site-packages/scipy/interpolate/interpolate.py\u001b[0m in \u001b[0;36m<module>\u001b[0;34m\u001b[0m\n\u001b[1;32m     30\u001b[0m \u001b[0;32mfrom\u001b[0m \u001b[0;34m.\u001b[0m \u001b[0;32mimport\u001b[0m \u001b[0m_ppoly\u001b[0m\u001b[0;34m\u001b[0m\u001b[0;34m\u001b[0m\u001b[0m\n\u001b[1;32m     31\u001b[0m \u001b[0;32mfrom\u001b[0m \u001b[0;34m.\u001b[0m\u001b[0mfitpack2\u001b[0m \u001b[0;32mimport\u001b[0m \u001b[0mRectBivariateSpline\u001b[0m\u001b[0;34m\u001b[0m\u001b[0;34m\u001b[0m\u001b[0m\n\u001b[0;32m---> 32\u001b[0;31m \u001b[0;32mfrom\u001b[0m \u001b[0;34m.\u001b[0m\u001b[0minterpnd\u001b[0m \u001b[0;32mimport\u001b[0m \u001b[0m_ndim_coords_from_arrays\u001b[0m\u001b[0;34m\u001b[0m\u001b[0;34m\u001b[0m\u001b[0m\n\u001b[0m\u001b[1;32m     33\u001b[0m \u001b[0;32mfrom\u001b[0m \u001b[0;34m.\u001b[0m\u001b[0m_bsplines\u001b[0m \u001b[0;32mimport\u001b[0m \u001b[0mmake_interp_spline\u001b[0m\u001b[0;34m,\u001b[0m \u001b[0mBSpline\u001b[0m\u001b[0;34m\u001b[0m\u001b[0;34m\u001b[0m\u001b[0m\n\u001b[1;32m     34\u001b[0m \u001b[0;34m\u001b[0m\u001b[0m\n",
      "\u001b[0;32m~/anaconda3/lib/python3.7/site-packages/scipy/interpolate/interpnd.cpython-37m-darwin.so\u001b[0m in \u001b[0;36minit scipy.interpolate.interpnd\u001b[0;34m()\u001b[0m\n",
      "\u001b[0;31mAttributeError\u001b[0m: type object 'scipy.interpolate.interpnd.array' has no attribute '__reduce_cython__'"
     ]
    }
   ],
   "source": [
    "import pandas as pd, numpy as np\n",
    "#holidays, seaborn as sns, matplotlib.pyplot as plt, time, xgboost as xgb\n",
    "from sqlalchemy import create_engine\n",
    "from datetime import datetime\n",
    "from matplotlib import pyplot\n",
    "\n",
    "from sklearn.neural_network import MLPRegressor\n",
    "from sklearn.model_selection import train_test_split, GridSearchCV\n",
    "from sklearn.preprocessing import LabelEncoder, PolynomialFeatures\n",
    "from sklearn.feature_selection import SelectKBest, f_regression, chi2\n",
    "from sklearn.linear_model import LinearRegression\n",
    "from sklearn.pipeline import make_pipeline\n",
    "from sklearn import metrics\n",
    "\n",
    "from config import config"
   ]
  },
  {
   "cell_type": "code",
   "execution_count": 4,
   "metadata": {},
   "outputs": [
    {
     "ename": "NameError",
     "evalue": "name 'config' is not defined",
     "output_type": "error",
     "traceback": [
      "\u001b[0;31m---------------------------------------------------------------------------\u001b[0m",
      "\u001b[0;31mNameError\u001b[0m                                 Traceback (most recent call last)",
      "\u001b[0;32m<ipython-input-4-cec683e31fd0>\u001b[0m in \u001b[0;36m<module>\u001b[0;34m\u001b[0m\n\u001b[0;32m----> 1\u001b[0;31m \u001b[0mconfig\u001b[0m\u001b[0;34m=\u001b[0m\u001b[0mconfig\u001b[0m\u001b[0;34m(\u001b[0m\u001b[0;34m)\u001b[0m\u001b[0;34m\u001b[0m\u001b[0;34m\u001b[0m\u001b[0m\n\u001b[0m\u001b[1;32m      2\u001b[0m \u001b[0mengine\u001b[0m\u001b[0;34m=\u001b[0m\u001b[0mcreate_engine\u001b[0m\u001b[0;34m(\u001b[0m\u001b[0;34m\"postgresql://\"\u001b[0m\u001b[0;34m+\u001b[0m\u001b[0mconfig\u001b[0m\u001b[0;34m[\u001b[0m\u001b[0;34m\"user\"\u001b[0m\u001b[0;34m]\u001b[0m\u001b[0;34m+\u001b[0m\u001b[0;34m\":\"\u001b[0m\u001b[0;34m+\u001b[0m\u001b[0mconfig\u001b[0m\u001b[0;34m[\u001b[0m\u001b[0;34m\"password\"\u001b[0m\u001b[0;34m]\u001b[0m\u001b[0;34m+\u001b[0m\u001b[0;34m\"@\"\u001b[0m\u001b[0;34m+\u001b[0m\u001b[0mconfig\u001b[0m\u001b[0;34m[\u001b[0m\u001b[0;34m\"host\"\u001b[0m\u001b[0;34m]\u001b[0m\u001b[0;34m+\u001b[0m\u001b[0;34m\"/\"\u001b[0m\u001b[0;34m+\u001b[0m\u001b[0mconfig\u001b[0m\u001b[0;34m[\u001b[0m\u001b[0;34m\"database\"\u001b[0m\u001b[0;34m]\u001b[0m\u001b[0;34m)\u001b[0m\u001b[0;34m\u001b[0m\u001b[0;34m\u001b[0m\u001b[0m\n",
      "\u001b[0;31mNameError\u001b[0m: name 'config' is not defined"
     ]
    }
   ],
   "source": [
    "config=config()\n",
    "engine=create_engine(\"postgresql://\"+config[\"user\"]+\":\"+config[\"password\"]+\"@\"+config[\"host\"]+\"/\"+config[\"database\"])"
   ]
  },
  {
   "cell_type": "code",
   "execution_count": 4,
   "metadata": {},
   "outputs": [],
   "source": [
    "line='15A'\n",
    "direction=1\n",
    "sql=(\"SELECT lt.daystamp, lt.progr_number, lt.stoppoint_id,lt.arrival_time_p,lt.arrival_time_a,\"\n",
    "    \"lt.departure_time_p,lt.departure_time_a,trips.route_id,\"\n",
    "     \"trips.arrival_time_p,trips.departure_time_p,trips.departure_time_a,\"\n",
    "     \"weather_main,temp,feels_like,temp_min,temp_max,pressure,humidity,wind_speed,wind_deg,clouds_all,weather_description \"\n",
    "     \"FROM leavetimes AS lt, trips, weather \"\n",
    "     \"WHERE trips.line_id='\"+line+\"' AND trips.direction=\"+str(direction)+\" AND trips.suppressed=0 \"\n",
    "     \"AND lt.daystamp = trips.daystamp AND lt.trip_id = trips.trip_id AND lt.suppressed=0\"\n",
    "     \"AND lt.weather_id = weather.daytime\")"
   ]
  },
  {
   "cell_type": "code",
   "execution_count": 5,
   "metadata": {},
   "outputs": [
    {
     "data": {
      "text/plain": [
       "\"SELECT lt.daystamp, lt.progr_number, lt.stoppoint_id,lt.arrival_time_p,lt.arrival_time_a,lt.departure_time_p,lt.departure_time_a,trips.route_id,trips.arrival_time_p,trips.departure_time_p,trips.departure_time_a,weather_main,temp,feels_like,temp_min,temp_max,pressure,humidity,wind_speed,wind_deg,clouds_all,weather_description FROM leavetimes AS lt, trips, weather WHERE trips.line_id='15A' AND trips.direction=1 AND trips.suppressed=0 AND lt.daystamp = trips.daystamp AND lt.trip_id = trips.trip_id AND lt.suppressed=0AND lt.weather_id = weather.daytime\""
      ]
     },
     "execution_count": 5,
     "metadata": {},
     "output_type": "execute_result"
    }
   ],
   "source": [
    "sql"
   ]
  },
  {
   "cell_type": "code",
   "execution_count": 6,
   "metadata": {},
   "outputs": [],
   "source": [
    "df = pd.read_sql(sql,engine)"
   ]
  },
  {
   "cell_type": "code",
   "execution_count": 7,
   "metadata": {},
   "outputs": [
    {
     "data": {
      "text/plain": [
       "(614114, 22)"
      ]
     },
     "execution_count": 7,
     "metadata": {},
     "output_type": "execute_result"
    }
   ],
   "source": [
    "df.shape"
   ]
  },
  {
   "cell_type": "code",
   "execution_count": 8,
   "metadata": {},
   "outputs": [
    {
     "data": {
      "text/html": [
       "<div>\n",
       "<style scoped>\n",
       "    .dataframe tbody tr th:only-of-type {\n",
       "        vertical-align: middle;\n",
       "    }\n",
       "\n",
       "    .dataframe tbody tr th {\n",
       "        vertical-align: top;\n",
       "    }\n",
       "\n",
       "    .dataframe thead th {\n",
       "        text-align: right;\n",
       "    }\n",
       "</style>\n",
       "<table border=\"1\" class=\"dataframe\">\n",
       "  <thead>\n",
       "    <tr style=\"text-align: right;\">\n",
       "      <th></th>\n",
       "      <th>daystamp</th>\n",
       "      <th>progr_number</th>\n",
       "      <th>stoppoint_id</th>\n",
       "      <th>arrival_time_p</th>\n",
       "      <th>arrival_time_a</th>\n",
       "      <th>departure_time_p</th>\n",
       "      <th>departure_time_a</th>\n",
       "      <th>route_id</th>\n",
       "      <th>arrival_time_p</th>\n",
       "      <th>departure_time_p</th>\n",
       "      <th>...</th>\n",
       "      <th>temp</th>\n",
       "      <th>feels_like</th>\n",
       "      <th>temp_min</th>\n",
       "      <th>temp_max</th>\n",
       "      <th>pressure</th>\n",
       "      <th>humidity</th>\n",
       "      <th>wind_speed</th>\n",
       "      <th>wind_deg</th>\n",
       "      <th>clouds_all</th>\n",
       "      <th>weather_description</th>\n",
       "    </tr>\n",
       "  </thead>\n",
       "  <tbody>\n",
       "    <tr>\n",
       "      <th>0</th>\n",
       "      <td>1518912000</td>\n",
       "      <td>1</td>\n",
       "      <td>395</td>\n",
       "      <td>57600</td>\n",
       "      <td>57655</td>\n",
       "      <td>57600</td>\n",
       "      <td>57655</td>\n",
       "      <td>83</td>\n",
       "      <td>59806</td>\n",
       "      <td>57600</td>\n",
       "      <td>...</td>\n",
       "      <td>9.76</td>\n",
       "      <td>5.5</td>\n",
       "      <td>8.43</td>\n",
       "      <td>10.0</td>\n",
       "      <td>1016</td>\n",
       "      <td>93</td>\n",
       "      <td>5.66</td>\n",
       "      <td>240</td>\n",
       "      <td>75</td>\n",
       "      <td>light intensity drizzle rain</td>\n",
       "    </tr>\n",
       "    <tr>\n",
       "      <th>1</th>\n",
       "      <td>1518912000</td>\n",
       "      <td>2</td>\n",
       "      <td>396</td>\n",
       "      <td>57662</td>\n",
       "      <td>57697</td>\n",
       "      <td>57662</td>\n",
       "      <td>57716</td>\n",
       "      <td>83</td>\n",
       "      <td>59806</td>\n",
       "      <td>57600</td>\n",
       "      <td>...</td>\n",
       "      <td>9.76</td>\n",
       "      <td>5.5</td>\n",
       "      <td>8.43</td>\n",
       "      <td>10.0</td>\n",
       "      <td>1016</td>\n",
       "      <td>93</td>\n",
       "      <td>5.66</td>\n",
       "      <td>240</td>\n",
       "      <td>75</td>\n",
       "      <td>light intensity drizzle rain</td>\n",
       "    </tr>\n",
       "    <tr>\n",
       "      <th>2</th>\n",
       "      <td>1518912000</td>\n",
       "      <td>3</td>\n",
       "      <td>397</td>\n",
       "      <td>57696</td>\n",
       "      <td>57820</td>\n",
       "      <td>57696</td>\n",
       "      <td>57837</td>\n",
       "      <td>83</td>\n",
       "      <td>59806</td>\n",
       "      <td>57600</td>\n",
       "      <td>...</td>\n",
       "      <td>9.76</td>\n",
       "      <td>5.5</td>\n",
       "      <td>8.43</td>\n",
       "      <td>10.0</td>\n",
       "      <td>1016</td>\n",
       "      <td>93</td>\n",
       "      <td>5.66</td>\n",
       "      <td>240</td>\n",
       "      <td>75</td>\n",
       "      <td>light intensity drizzle rain</td>\n",
       "    </tr>\n",
       "    <tr>\n",
       "      <th>3</th>\n",
       "      <td>1518912000</td>\n",
       "      <td>4</td>\n",
       "      <td>398</td>\n",
       "      <td>57746</td>\n",
       "      <td>57865</td>\n",
       "      <td>57746</td>\n",
       "      <td>57865</td>\n",
       "      <td>83</td>\n",
       "      <td>59806</td>\n",
       "      <td>57600</td>\n",
       "      <td>...</td>\n",
       "      <td>9.76</td>\n",
       "      <td>5.5</td>\n",
       "      <td>8.43</td>\n",
       "      <td>10.0</td>\n",
       "      <td>1016</td>\n",
       "      <td>93</td>\n",
       "      <td>5.66</td>\n",
       "      <td>240</td>\n",
       "      <td>75</td>\n",
       "      <td>light intensity drizzle rain</td>\n",
       "    </tr>\n",
       "    <tr>\n",
       "      <th>4</th>\n",
       "      <td>1518912000</td>\n",
       "      <td>5</td>\n",
       "      <td>399</td>\n",
       "      <td>57787</td>\n",
       "      <td>57887</td>\n",
       "      <td>57787</td>\n",
       "      <td>57914</td>\n",
       "      <td>83</td>\n",
       "      <td>59806</td>\n",
       "      <td>57600</td>\n",
       "      <td>...</td>\n",
       "      <td>9.76</td>\n",
       "      <td>5.5</td>\n",
       "      <td>8.43</td>\n",
       "      <td>10.0</td>\n",
       "      <td>1016</td>\n",
       "      <td>93</td>\n",
       "      <td>5.66</td>\n",
       "      <td>240</td>\n",
       "      <td>75</td>\n",
       "      <td>light intensity drizzle rain</td>\n",
       "    </tr>\n",
       "  </tbody>\n",
       "</table>\n",
       "<p>5 rows × 22 columns</p>\n",
       "</div>"
      ],
      "text/plain": [
       "     daystamp  progr_number  stoppoint_id  arrival_time_p  arrival_time_a  \\\n",
       "0  1518912000             1           395           57600           57655   \n",
       "1  1518912000             2           396           57662           57697   \n",
       "2  1518912000             3           397           57696           57820   \n",
       "3  1518912000             4           398           57746           57865   \n",
       "4  1518912000             5           399           57787           57887   \n",
       "\n",
       "   departure_time_p  departure_time_a  route_id  arrival_time_p  \\\n",
       "0             57600             57655        83           59806   \n",
       "1             57662             57716        83           59806   \n",
       "2             57696             57837        83           59806   \n",
       "3             57746             57865        83           59806   \n",
       "4             57787             57914        83           59806   \n",
       "\n",
       "   departure_time_p  ...  temp feels_like  temp_min  temp_max  pressure  \\\n",
       "0             57600  ...  9.76        5.5      8.43      10.0      1016   \n",
       "1             57600  ...  9.76        5.5      8.43      10.0      1016   \n",
       "2             57600  ...  9.76        5.5      8.43      10.0      1016   \n",
       "3             57600  ...  9.76        5.5      8.43      10.0      1016   \n",
       "4             57600  ...  9.76        5.5      8.43      10.0      1016   \n",
       "\n",
       "   humidity  wind_speed  wind_deg  clouds_all           weather_description  \n",
       "0        93        5.66       240          75  light intensity drizzle rain  \n",
       "1        93        5.66       240          75  light intensity drizzle rain  \n",
       "2        93        5.66       240          75  light intensity drizzle rain  \n",
       "3        93        5.66       240          75  light intensity drizzle rain  \n",
       "4        93        5.66       240          75  light intensity drizzle rain  \n",
       "\n",
       "[5 rows x 22 columns]"
      ]
     },
     "execution_count": 8,
     "metadata": {},
     "output_type": "execute_result"
    }
   ],
   "source": [
    "df.head()"
   ]
  },
  {
   "cell_type": "code",
   "execution_count": 9,
   "metadata": {},
   "outputs": [
    {
     "data": {
      "text/plain": [
       "['daystamp',\n",
       " 'progr_number',\n",
       " 'stoppoint_id',\n",
       " 'arrival_time_p',\n",
       " 'arrival_time_a',\n",
       " 'departure_time_p',\n",
       " 'departure_time_a',\n",
       " 'route_id',\n",
       " 'arrival_time_p',\n",
       " 'departure_time_p',\n",
       " 'departure_time_a',\n",
       " 'weather_main',\n",
       " 'temp',\n",
       " 'feels_like',\n",
       " 'temp_min',\n",
       " 'temp_max',\n",
       " 'pressure',\n",
       " 'humidity',\n",
       " 'wind_speed',\n",
       " 'wind_deg',\n",
       " 'clouds_all',\n",
       " 'weather_description']"
      ]
     },
     "execution_count": 9,
     "metadata": {},
     "output_type": "execute_result"
    }
   ],
   "source": [
    "features=list(df.columns)\n",
    "features"
   ]
  },
  {
   "cell_type": "code",
   "execution_count": 10,
   "metadata": {},
   "outputs": [],
   "source": [
    "features[0]=\"daystamp\"\n",
    "features[2]=\"stop_id\"\n",
    "features[3]=\"arr_p\"\n",
    "features[4]=\"arr_a\"\n",
    "features[5]=\"dep_p\"\n",
    "features[6]=\"dep_a\"\n",
    "features[8]=\"end_p\"\n",
    "features[9]=\"start_p\"\n",
    "features[10]=\"start_a\""
   ]
  },
  {
   "cell_type": "code",
   "execution_count": 11,
   "metadata": {},
   "outputs": [],
   "source": [
    "df.columns=features"
   ]
  },
  {
   "cell_type": "code",
   "execution_count": 12,
   "metadata": {},
   "outputs": [
    {
     "data": {
      "text/html": [
       "<div>\n",
       "<style scoped>\n",
       "    .dataframe tbody tr th:only-of-type {\n",
       "        vertical-align: middle;\n",
       "    }\n",
       "\n",
       "    .dataframe tbody tr th {\n",
       "        vertical-align: top;\n",
       "    }\n",
       "\n",
       "    .dataframe thead th {\n",
       "        text-align: right;\n",
       "    }\n",
       "</style>\n",
       "<table border=\"1\" class=\"dataframe\">\n",
       "  <thead>\n",
       "    <tr style=\"text-align: right;\">\n",
       "      <th></th>\n",
       "      <th>daystamp</th>\n",
       "      <th>progr_number</th>\n",
       "      <th>stop_id</th>\n",
       "      <th>arr_p</th>\n",
       "      <th>arr_a</th>\n",
       "      <th>dep_p</th>\n",
       "      <th>dep_a</th>\n",
       "      <th>route_id</th>\n",
       "      <th>end_p</th>\n",
       "      <th>start_p</th>\n",
       "      <th>...</th>\n",
       "      <th>temp</th>\n",
       "      <th>feels_like</th>\n",
       "      <th>temp_min</th>\n",
       "      <th>temp_max</th>\n",
       "      <th>pressure</th>\n",
       "      <th>humidity</th>\n",
       "      <th>wind_speed</th>\n",
       "      <th>wind_deg</th>\n",
       "      <th>clouds_all</th>\n",
       "      <th>weather_description</th>\n",
       "    </tr>\n",
       "  </thead>\n",
       "  <tbody>\n",
       "    <tr>\n",
       "      <th>0</th>\n",
       "      <td>1518912000</td>\n",
       "      <td>1</td>\n",
       "      <td>395</td>\n",
       "      <td>57600</td>\n",
       "      <td>57655</td>\n",
       "      <td>57600</td>\n",
       "      <td>57655</td>\n",
       "      <td>83</td>\n",
       "      <td>59806</td>\n",
       "      <td>57600</td>\n",
       "      <td>...</td>\n",
       "      <td>9.76</td>\n",
       "      <td>5.5</td>\n",
       "      <td>8.43</td>\n",
       "      <td>10.0</td>\n",
       "      <td>1016</td>\n",
       "      <td>93</td>\n",
       "      <td>5.66</td>\n",
       "      <td>240</td>\n",
       "      <td>75</td>\n",
       "      <td>light intensity drizzle rain</td>\n",
       "    </tr>\n",
       "    <tr>\n",
       "      <th>1</th>\n",
       "      <td>1518912000</td>\n",
       "      <td>2</td>\n",
       "      <td>396</td>\n",
       "      <td>57662</td>\n",
       "      <td>57697</td>\n",
       "      <td>57662</td>\n",
       "      <td>57716</td>\n",
       "      <td>83</td>\n",
       "      <td>59806</td>\n",
       "      <td>57600</td>\n",
       "      <td>...</td>\n",
       "      <td>9.76</td>\n",
       "      <td>5.5</td>\n",
       "      <td>8.43</td>\n",
       "      <td>10.0</td>\n",
       "      <td>1016</td>\n",
       "      <td>93</td>\n",
       "      <td>5.66</td>\n",
       "      <td>240</td>\n",
       "      <td>75</td>\n",
       "      <td>light intensity drizzle rain</td>\n",
       "    </tr>\n",
       "    <tr>\n",
       "      <th>2</th>\n",
       "      <td>1518912000</td>\n",
       "      <td>3</td>\n",
       "      <td>397</td>\n",
       "      <td>57696</td>\n",
       "      <td>57820</td>\n",
       "      <td>57696</td>\n",
       "      <td>57837</td>\n",
       "      <td>83</td>\n",
       "      <td>59806</td>\n",
       "      <td>57600</td>\n",
       "      <td>...</td>\n",
       "      <td>9.76</td>\n",
       "      <td>5.5</td>\n",
       "      <td>8.43</td>\n",
       "      <td>10.0</td>\n",
       "      <td>1016</td>\n",
       "      <td>93</td>\n",
       "      <td>5.66</td>\n",
       "      <td>240</td>\n",
       "      <td>75</td>\n",
       "      <td>light intensity drizzle rain</td>\n",
       "    </tr>\n",
       "    <tr>\n",
       "      <th>3</th>\n",
       "      <td>1518912000</td>\n",
       "      <td>4</td>\n",
       "      <td>398</td>\n",
       "      <td>57746</td>\n",
       "      <td>57865</td>\n",
       "      <td>57746</td>\n",
       "      <td>57865</td>\n",
       "      <td>83</td>\n",
       "      <td>59806</td>\n",
       "      <td>57600</td>\n",
       "      <td>...</td>\n",
       "      <td>9.76</td>\n",
       "      <td>5.5</td>\n",
       "      <td>8.43</td>\n",
       "      <td>10.0</td>\n",
       "      <td>1016</td>\n",
       "      <td>93</td>\n",
       "      <td>5.66</td>\n",
       "      <td>240</td>\n",
       "      <td>75</td>\n",
       "      <td>light intensity drizzle rain</td>\n",
       "    </tr>\n",
       "    <tr>\n",
       "      <th>4</th>\n",
       "      <td>1518912000</td>\n",
       "      <td>5</td>\n",
       "      <td>399</td>\n",
       "      <td>57787</td>\n",
       "      <td>57887</td>\n",
       "      <td>57787</td>\n",
       "      <td>57914</td>\n",
       "      <td>83</td>\n",
       "      <td>59806</td>\n",
       "      <td>57600</td>\n",
       "      <td>...</td>\n",
       "      <td>9.76</td>\n",
       "      <td>5.5</td>\n",
       "      <td>8.43</td>\n",
       "      <td>10.0</td>\n",
       "      <td>1016</td>\n",
       "      <td>93</td>\n",
       "      <td>5.66</td>\n",
       "      <td>240</td>\n",
       "      <td>75</td>\n",
       "      <td>light intensity drizzle rain</td>\n",
       "    </tr>\n",
       "  </tbody>\n",
       "</table>\n",
       "<p>5 rows × 22 columns</p>\n",
       "</div>"
      ],
      "text/plain": [
       "     daystamp  progr_number  stop_id  arr_p  arr_a  dep_p  dep_a  route_id  \\\n",
       "0  1518912000             1      395  57600  57655  57600  57655        83   \n",
       "1  1518912000             2      396  57662  57697  57662  57716        83   \n",
       "2  1518912000             3      397  57696  57820  57696  57837        83   \n",
       "3  1518912000             4      398  57746  57865  57746  57865        83   \n",
       "4  1518912000             5      399  57787  57887  57787  57914        83   \n",
       "\n",
       "   end_p  start_p  ...  temp feels_like  temp_min  temp_max  pressure  \\\n",
       "0  59806    57600  ...  9.76        5.5      8.43      10.0      1016   \n",
       "1  59806    57600  ...  9.76        5.5      8.43      10.0      1016   \n",
       "2  59806    57600  ...  9.76        5.5      8.43      10.0      1016   \n",
       "3  59806    57600  ...  9.76        5.5      8.43      10.0      1016   \n",
       "4  59806    57600  ...  9.76        5.5      8.43      10.0      1016   \n",
       "\n",
       "   humidity  wind_speed  wind_deg  clouds_all           weather_description  \n",
       "0        93        5.66       240          75  light intensity drizzle rain  \n",
       "1        93        5.66       240          75  light intensity drizzle rain  \n",
       "2        93        5.66       240          75  light intensity drizzle rain  \n",
       "3        93        5.66       240          75  light intensity drizzle rain  \n",
       "4        93        5.66       240          75  light intensity drizzle rain  \n",
       "\n",
       "[5 rows x 22 columns]"
      ]
     },
     "execution_count": 12,
     "metadata": {},
     "output_type": "execute_result"
    }
   ],
   "source": [
    "df.head()"
   ]
  },
  {
   "cell_type": "code",
   "execution_count": 13,
   "metadata": {},
   "outputs": [],
   "source": [
    "def daystamp_converter(time):\n",
    "    date=datetime.fromtimestamp(time)\n",
    "    holidays_IE=holidays.Ireland()\n",
    "    if date in holidays_IE:\n",
    "        holiday=1\n",
    "    else:\n",
    "        holiday=0\n",
    "    return (date.weekday(),date.month,date.hour,holiday)"
   ]
  },
  {
   "cell_type": "code",
   "execution_count": 14,
   "metadata": {},
   "outputs": [],
   "source": [
    "df[\"dt\"]=df.daystamp.values+df.dep_p.values"
   ]
  },
  {
   "cell_type": "code",
   "execution_count": 15,
   "metadata": {},
   "outputs": [],
   "source": [
    "df[\"weekday\"],df[\"month\"],df[\"hour\"],df[\"holiday\"]=zip(*df['dt'].apply(daystamp_converter))"
   ]
  },
  {
   "cell_type": "code",
   "execution_count": 16,
   "metadata": {},
   "outputs": [
    {
     "data": {
      "text/html": [
       "<div>\n",
       "<style scoped>\n",
       "    .dataframe tbody tr th:only-of-type {\n",
       "        vertical-align: middle;\n",
       "    }\n",
       "\n",
       "    .dataframe tbody tr th {\n",
       "        vertical-align: top;\n",
       "    }\n",
       "\n",
       "    .dataframe thead th {\n",
       "        text-align: right;\n",
       "    }\n",
       "</style>\n",
       "<table border=\"1\" class=\"dataframe\">\n",
       "  <thead>\n",
       "    <tr style=\"text-align: right;\">\n",
       "      <th></th>\n",
       "      <th>daystamp</th>\n",
       "      <th>progr_number</th>\n",
       "      <th>stop_id</th>\n",
       "      <th>arr_p</th>\n",
       "      <th>arr_a</th>\n",
       "      <th>dep_p</th>\n",
       "      <th>dep_a</th>\n",
       "      <th>route_id</th>\n",
       "      <th>end_p</th>\n",
       "      <th>start_p</th>\n",
       "      <th>...</th>\n",
       "      <th>humidity</th>\n",
       "      <th>wind_speed</th>\n",
       "      <th>wind_deg</th>\n",
       "      <th>clouds_all</th>\n",
       "      <th>weather_description</th>\n",
       "      <th>dt</th>\n",
       "      <th>weekday</th>\n",
       "      <th>month</th>\n",
       "      <th>hour</th>\n",
       "      <th>holiday</th>\n",
       "    </tr>\n",
       "  </thead>\n",
       "  <tbody>\n",
       "    <tr>\n",
       "      <th>0</th>\n",
       "      <td>1518912000</td>\n",
       "      <td>1</td>\n",
       "      <td>395</td>\n",
       "      <td>57600</td>\n",
       "      <td>57655</td>\n",
       "      <td>57600</td>\n",
       "      <td>57655</td>\n",
       "      <td>83</td>\n",
       "      <td>59806</td>\n",
       "      <td>57600</td>\n",
       "      <td>...</td>\n",
       "      <td>93</td>\n",
       "      <td>5.66</td>\n",
       "      <td>240</td>\n",
       "      <td>75</td>\n",
       "      <td>light intensity drizzle rain</td>\n",
       "      <td>1518969600</td>\n",
       "      <td>6</td>\n",
       "      <td>2</td>\n",
       "      <td>16</td>\n",
       "      <td>0</td>\n",
       "    </tr>\n",
       "    <tr>\n",
       "      <th>1</th>\n",
       "      <td>1518912000</td>\n",
       "      <td>2</td>\n",
       "      <td>396</td>\n",
       "      <td>57662</td>\n",
       "      <td>57697</td>\n",
       "      <td>57662</td>\n",
       "      <td>57716</td>\n",
       "      <td>83</td>\n",
       "      <td>59806</td>\n",
       "      <td>57600</td>\n",
       "      <td>...</td>\n",
       "      <td>93</td>\n",
       "      <td>5.66</td>\n",
       "      <td>240</td>\n",
       "      <td>75</td>\n",
       "      <td>light intensity drizzle rain</td>\n",
       "      <td>1518969662</td>\n",
       "      <td>6</td>\n",
       "      <td>2</td>\n",
       "      <td>16</td>\n",
       "      <td>0</td>\n",
       "    </tr>\n",
       "    <tr>\n",
       "      <th>2</th>\n",
       "      <td>1518912000</td>\n",
       "      <td>3</td>\n",
       "      <td>397</td>\n",
       "      <td>57696</td>\n",
       "      <td>57820</td>\n",
       "      <td>57696</td>\n",
       "      <td>57837</td>\n",
       "      <td>83</td>\n",
       "      <td>59806</td>\n",
       "      <td>57600</td>\n",
       "      <td>...</td>\n",
       "      <td>93</td>\n",
       "      <td>5.66</td>\n",
       "      <td>240</td>\n",
       "      <td>75</td>\n",
       "      <td>light intensity drizzle rain</td>\n",
       "      <td>1518969696</td>\n",
       "      <td>6</td>\n",
       "      <td>2</td>\n",
       "      <td>16</td>\n",
       "      <td>0</td>\n",
       "    </tr>\n",
       "    <tr>\n",
       "      <th>3</th>\n",
       "      <td>1518912000</td>\n",
       "      <td>4</td>\n",
       "      <td>398</td>\n",
       "      <td>57746</td>\n",
       "      <td>57865</td>\n",
       "      <td>57746</td>\n",
       "      <td>57865</td>\n",
       "      <td>83</td>\n",
       "      <td>59806</td>\n",
       "      <td>57600</td>\n",
       "      <td>...</td>\n",
       "      <td>93</td>\n",
       "      <td>5.66</td>\n",
       "      <td>240</td>\n",
       "      <td>75</td>\n",
       "      <td>light intensity drizzle rain</td>\n",
       "      <td>1518969746</td>\n",
       "      <td>6</td>\n",
       "      <td>2</td>\n",
       "      <td>16</td>\n",
       "      <td>0</td>\n",
       "    </tr>\n",
       "    <tr>\n",
       "      <th>4</th>\n",
       "      <td>1518912000</td>\n",
       "      <td>5</td>\n",
       "      <td>399</td>\n",
       "      <td>57787</td>\n",
       "      <td>57887</td>\n",
       "      <td>57787</td>\n",
       "      <td>57914</td>\n",
       "      <td>83</td>\n",
       "      <td>59806</td>\n",
       "      <td>57600</td>\n",
       "      <td>...</td>\n",
       "      <td>93</td>\n",
       "      <td>5.66</td>\n",
       "      <td>240</td>\n",
       "      <td>75</td>\n",
       "      <td>light intensity drizzle rain</td>\n",
       "      <td>1518969787</td>\n",
       "      <td>6</td>\n",
       "      <td>2</td>\n",
       "      <td>16</td>\n",
       "      <td>0</td>\n",
       "    </tr>\n",
       "  </tbody>\n",
       "</table>\n",
       "<p>5 rows × 27 columns</p>\n",
       "</div>"
      ],
      "text/plain": [
       "     daystamp  progr_number  stop_id  arr_p  arr_a  dep_p  dep_a  route_id  \\\n",
       "0  1518912000             1      395  57600  57655  57600  57655        83   \n",
       "1  1518912000             2      396  57662  57697  57662  57716        83   \n",
       "2  1518912000             3      397  57696  57820  57696  57837        83   \n",
       "3  1518912000             4      398  57746  57865  57746  57865        83   \n",
       "4  1518912000             5      399  57787  57887  57787  57914        83   \n",
       "\n",
       "   end_p  start_p  ...  humidity wind_speed  wind_deg  clouds_all  \\\n",
       "0  59806    57600  ...        93       5.66       240          75   \n",
       "1  59806    57600  ...        93       5.66       240          75   \n",
       "2  59806    57600  ...        93       5.66       240          75   \n",
       "3  59806    57600  ...        93       5.66       240          75   \n",
       "4  59806    57600  ...        93       5.66       240          75   \n",
       "\n",
       "            weather_description          dt  weekday  month  hour  holiday  \n",
       "0  light intensity drizzle rain  1518969600        6      2    16        0  \n",
       "1  light intensity drizzle rain  1518969662        6      2    16        0  \n",
       "2  light intensity drizzle rain  1518969696        6      2    16        0  \n",
       "3  light intensity drizzle rain  1518969746        6      2    16        0  \n",
       "4  light intensity drizzle rain  1518969787        6      2    16        0  \n",
       "\n",
       "[5 rows x 27 columns]"
      ]
     },
     "execution_count": 16,
     "metadata": {},
     "output_type": "execute_result"
    }
   ],
   "source": [
    "df.head()"
   ]
  },
  {
   "cell_type": "code",
   "execution_count": 17,
   "metadata": {},
   "outputs": [],
   "source": [
    "df[\"dur_s\"]=df.dep_p.values-df.start_p.values\n",
    "df[\"dur_a\"]=df.dep_a.values-df.start_a.values"
   ]
  },
  {
   "cell_type": "markdown",
   "metadata": {},
   "source": [
    "<h3>Feature Cleaning</h3>"
   ]
  },
  {
   "cell_type": "markdown",
   "metadata": {},
   "source": [
    "Filter out unusual routes:"
   ]
  },
  {
   "cell_type": "code",
   "execution_count": 18,
   "metadata": {},
   "outputs": [
    {
     "name": "stdout",
     "output_type": "stream",
     "text": [
      "1 most common route(s) cover 100.00% of the routes.\n"
     ]
    }
   ],
   "source": [
    "route_counts=df.route_id.value_counts()\n",
    "indices=route_counts.index\n",
    "values=route_counts.values\n",
    "cum_value=0\n",
    "size=df.shape[0]\n",
    "index=1\n",
    "for value in values:\n",
    "    cum_value+=value\n",
    "    ratio=cum_value/size\n",
    "    print(f\"{index} most common route(s) cover {ratio*100:.2f}% of the routes.\")\n",
    "    if(ratio>0.8):\n",
    "        break\n",
    "    index+=1"
   ]
  },
  {
   "cell_type": "code",
   "execution_count": 19,
   "metadata": {},
   "outputs": [
    {
     "data": {
      "text/plain": [
       "Int64Index([83], dtype='int64')"
      ]
     },
     "execution_count": 19,
     "metadata": {},
     "output_type": "execute_result"
    }
   ],
   "source": [
    "routes=indices[:index]\n",
    "routes"
   ]
  },
  {
   "cell_type": "code",
   "execution_count": 20,
   "metadata": {
    "scrolled": true
   },
   "outputs": [],
   "source": [
    "df_clean=df[df.route_id.isin(routes)]"
   ]
  },
  {
   "cell_type": "code",
   "execution_count": 21,
   "metadata": {},
   "outputs": [
    {
     "data": {
      "text/plain": [
       "(614114, 29)"
      ]
     },
     "execution_count": 21,
     "metadata": {},
     "output_type": "execute_result"
    }
   ],
   "source": [
    "df_clean.shape"
   ]
  },
  {
   "cell_type": "markdown",
   "metadata": {},
   "source": [
    "Check for null values"
   ]
  },
  {
   "cell_type": "code",
   "execution_count": 22,
   "metadata": {},
   "outputs": [
    {
     "data": {
      "text/plain": [
       "daystamp                   0\n",
       "progr_number               0\n",
       "stop_id                    0\n",
       "arr_p                      0\n",
       "arr_a                      0\n",
       "dep_p                      0\n",
       "dep_a                      0\n",
       "route_id                   0\n",
       "end_p                      0\n",
       "start_p                    0\n",
       "start_a                17943\n",
       "weather_main               0\n",
       "temp                       0\n",
       "feels_like                 0\n",
       "temp_min                   0\n",
       "temp_max                   0\n",
       "pressure                   0\n",
       "humidity                   0\n",
       "wind_speed                 0\n",
       "wind_deg                   0\n",
       "clouds_all                 0\n",
       "weather_description        0\n",
       "dt                         0\n",
       "weekday                    0\n",
       "month                      0\n",
       "hour                       0\n",
       "holiday                    0\n",
       "dur_s                      0\n",
       "dur_a                  17943\n",
       "dtype: int64"
      ]
     },
     "execution_count": 22,
     "metadata": {},
     "output_type": "execute_result"
    }
   ],
   "source": [
    "df_clean.isnull().sum()"
   ]
  },
  {
   "cell_type": "code",
   "execution_count": 23,
   "metadata": {},
   "outputs": [
    {
     "data": {
      "text/plain": [
       "0.058435404501444355"
      ]
     },
     "execution_count": 23,
     "metadata": {},
     "output_type": "execute_result"
    }
   ],
   "source": [
    "df_clean.isnull().sum().sum()/df_clean.shape[0]"
   ]
  },
  {
   "cell_type": "code",
   "execution_count": 24,
   "metadata": {},
   "outputs": [],
   "source": [
    "df_clean = df_clean.dropna(axis = 0, how ='any') "
   ]
  },
  {
   "cell_type": "markdown",
   "metadata": {},
   "source": [
    "See how resulting stops line up:"
   ]
  },
  {
   "cell_type": "code",
   "execution_count": 25,
   "metadata": {},
   "outputs": [],
   "source": [
    "stop_counts=df_clean.stop_id.value_counts()"
   ]
  },
  {
   "cell_type": "code",
   "execution_count": 26,
   "metadata": {},
   "outputs": [
    {
     "data": {
      "text/plain": [
       "395     15405\n",
       "398     15335\n",
       "399     15330\n",
       "1020    15310\n",
       "1076    15310\n",
       "1018    15310\n",
       "1019    15309\n",
       "1077    15309\n",
       "1078    15306\n",
       "1017    15304\n",
       "1079    15300\n",
       "1080    15300\n",
       "1081    15299\n",
       "1096    15297\n",
       "1082    15297\n",
       "1086    15297\n",
       "1095    15296\n",
       "1093    15296\n",
       "1094    15295\n",
       "1092    15295\n",
       "1091    15295\n",
       "1085    15293\n",
       "1083    15293\n",
       "1090    15281\n",
       "396     15280\n",
       "1016    15278\n",
       "1089    15275\n",
       "1088    15275\n",
       "1087    15274\n",
       "397     15267\n",
       "7581    15264\n",
       "1101    15260\n",
       "7579    15258\n",
       "1283    15257\n",
       "1285    15254\n",
       "400     15248\n",
       "1102    15208\n",
       "1103    15208\n",
       "1104    15203\n",
       "Name: stop_id, dtype: int64"
      ]
     },
     "execution_count": 26,
     "metadata": {},
     "output_type": "execute_result"
    }
   ],
   "source": [
    "stop_counts"
   ]
  },
  {
   "cell_type": "code",
   "execution_count": 27,
   "metadata": {},
   "outputs": [
    {
     "data": {
      "text/plain": [
       "0.9868873742291464"
      ]
     },
     "execution_count": 27,
     "metadata": {},
     "output_type": "execute_result"
    }
   ],
   "source": [
    "min(stop_counts)/max(stop_counts)"
   ]
  },
  {
   "cell_type": "markdown",
   "metadata": {},
   "source": [
    "examine distribution and cardinality of features"
   ]
  },
  {
   "cell_type": "code",
   "execution_count": 28,
   "metadata": {},
   "outputs": [],
   "source": [
    "categorical=[\"stop_id\",\"route_id\",\"weather_main\",\"weather_description\",\"weekday\",\"month\",\"hour\",\"holiday\"]\n",
    "df_clean[categorical]=df_clean[categorical].astype(\"category\")\n",
    "ints=['daystamp','progr_number','arr_p','arr_a','dep_p','dep_a','dur_s','dur_a','pressure','humidity','wind_deg','clouds_all']\n",
    "floats=['temp','feels_like','temp_min','temp_max','wind_speed']"
   ]
  },
  {
   "cell_type": "code",
   "execution_count": 29,
   "metadata": {},
   "outputs": [
    {
     "data": {
      "text/html": [
       "<div>\n",
       "<style scoped>\n",
       "    .dataframe tbody tr th:only-of-type {\n",
       "        vertical-align: middle;\n",
       "    }\n",
       "\n",
       "    .dataframe tbody tr th {\n",
       "        vertical-align: top;\n",
       "    }\n",
       "\n",
       "    .dataframe thead th {\n",
       "        text-align: right;\n",
       "    }\n",
       "</style>\n",
       "<table border=\"1\" class=\"dataframe\">\n",
       "  <thead>\n",
       "    <tr style=\"text-align: right;\">\n",
       "      <th></th>\n",
       "      <th>stop_id</th>\n",
       "      <th>route_id</th>\n",
       "      <th>weather_main</th>\n",
       "      <th>weather_description</th>\n",
       "      <th>weekday</th>\n",
       "      <th>month</th>\n",
       "      <th>hour</th>\n",
       "      <th>holiday</th>\n",
       "    </tr>\n",
       "  </thead>\n",
       "  <tbody>\n",
       "    <tr>\n",
       "      <th>count</th>\n",
       "      <td>596171</td>\n",
       "      <td>596171</td>\n",
       "      <td>596171</td>\n",
       "      <td>596171</td>\n",
       "      <td>596171</td>\n",
       "      <td>596171</td>\n",
       "      <td>596171</td>\n",
       "      <td>596171</td>\n",
       "    </tr>\n",
       "    <tr>\n",
       "      <th>unique</th>\n",
       "      <td>39</td>\n",
       "      <td>1</td>\n",
       "      <td>8</td>\n",
       "      <td>20</td>\n",
       "      <td>7</td>\n",
       "      <td>12</td>\n",
       "      <td>20</td>\n",
       "      <td>2</td>\n",
       "    </tr>\n",
       "    <tr>\n",
       "      <th>top</th>\n",
       "      <td>395</td>\n",
       "      <td>83</td>\n",
       "      <td>Clouds</td>\n",
       "      <td>broken clouds</td>\n",
       "      <td>1</td>\n",
       "      <td>1</td>\n",
       "      <td>18</td>\n",
       "      <td>0</td>\n",
       "    </tr>\n",
       "    <tr>\n",
       "      <th>freq</th>\n",
       "      <td>15405</td>\n",
       "      <td>596171</td>\n",
       "      <td>472762</td>\n",
       "      <td>294019</td>\n",
       "      <td>94266</td>\n",
       "      <td>52557</td>\n",
       "      <td>44109</td>\n",
       "      <td>585959</td>\n",
       "    </tr>\n",
       "  </tbody>\n",
       "</table>\n",
       "</div>"
      ],
      "text/plain": [
       "        stop_id  route_id weather_main weather_description  weekday   month  \\\n",
       "count    596171    596171       596171              596171   596171  596171   \n",
       "unique       39         1            8                  20        7      12   \n",
       "top         395        83       Clouds       broken clouds        1       1   \n",
       "freq      15405    596171       472762              294019    94266   52557   \n",
       "\n",
       "          hour  holiday  \n",
       "count   596171   596171  \n",
       "unique      20        2  \n",
       "top         18        0  \n",
       "freq     44109   585959  "
      ]
     },
     "execution_count": 29,
     "metadata": {},
     "output_type": "execute_result"
    }
   ],
   "source": [
    "df_clean[categorical].describe()"
   ]
  },
  {
   "cell_type": "code",
   "execution_count": 30,
   "metadata": {},
   "outputs": [
    {
     "name": "stdout",
     "output_type": "stream",
     "text": [
      "Distribution for feature stop_id:\n",
      "395     15405\n",
      "398     15335\n",
      "399     15330\n",
      "1076    15310\n",
      "1018    15310\n",
      "1020    15310\n",
      "1019    15309\n",
      "1077    15309\n",
      "1078    15306\n",
      "1017    15304\n",
      "1080    15300\n",
      "1079    15300\n",
      "1081    15299\n",
      "1082    15297\n",
      "1086    15297\n",
      "1096    15297\n",
      "1093    15296\n",
      "1095    15296\n",
      "1091    15295\n",
      "1092    15295\n",
      "1094    15295\n",
      "1085    15293\n",
      "1083    15293\n",
      "1090    15281\n",
      "396     15280\n",
      "1016    15278\n",
      "1088    15275\n",
      "1089    15275\n",
      "1087    15274\n",
      "397     15267\n",
      "7581    15264\n",
      "1101    15260\n",
      "7579    15258\n",
      "1283    15257\n",
      "1285    15254\n",
      "400     15248\n",
      "1102    15208\n",
      "1103    15208\n",
      "1104    15203\n",
      "Name: stop_id, dtype: int64\n",
      "\n",
      "Distribution for feature route_id:\n",
      "83    596171\n",
      "Name: route_id, dtype: int64\n",
      "\n",
      "Distribution for feature weather_main:\n",
      "Clouds     472762\n",
      "Rain        67290\n",
      "Drizzle     31157\n",
      "Clear       14156\n",
      "Fog          3840\n",
      "Mist         3435\n",
      "Snow         3409\n",
      "Smoke         122\n",
      "Name: weather_main, dtype: int64\n",
      "\n",
      "Distribution for feature weather_description:\n",
      "broken clouds                   294019\n",
      "scattered clouds                 87438\n",
      "few clouds                       80876\n",
      "light rain                       38440\n",
      "light intensity drizzle          18492\n",
      "light intensity shower rain      15917\n",
      "sky is clear                     14156\n",
      "light intensity drizzle rain     12638\n",
      "proximity shower rain            11235\n",
      "overcast clouds                  10429\n",
      "fog                               3840\n",
      "mist                              3435\n",
      "light shower snow                 2411\n",
      "moderate rain                     1560\n",
      " light shower sleet                791\n",
      "light snow                         207\n",
      "smoke                              122\n",
      "heavy intensity rain               107\n",
      "shower rain                         31\n",
      "drizzle                             27\n",
      "Name: weather_description, dtype: int64\n",
      "\n",
      "Distribution for feature weekday:\n",
      "1    94266\n",
      "2    92436\n",
      "0    91101\n",
      "4    90823\n",
      "3    89245\n",
      "5    81949\n",
      "6    56351\n",
      "Name: weekday, dtype: int64\n",
      "\n",
      "Distribution for feature month:\n",
      "1     52557\n",
      "10    51610\n",
      "6     51481\n",
      "11    51377\n",
      "7     51177\n",
      "5     51049\n",
      "8     50232\n",
      "4     49853\n",
      "9     48257\n",
      "2     47479\n",
      "12    46059\n",
      "3     45040\n",
      "Name: month, dtype: int64\n",
      "\n",
      "Distribution for feature hour:\n",
      "18    44109\n",
      "17    40051\n",
      "7     37944\n",
      "8     37243\n",
      "14    36961\n",
      "13    36289\n",
      "16    36019\n",
      "10    35582\n",
      "11    34856\n",
      "15    34638\n",
      "9     34567\n",
      "12    34006\n",
      "19    31855\n",
      "21    26478\n",
      "23    26366\n",
      "22    26104\n",
      "20    24654\n",
      "6     16247\n",
      "0      2201\n",
      "1         1\n",
      "Name: hour, dtype: int64\n",
      "\n",
      "Distribution for feature holiday:\n",
      "0    585959\n",
      "1     10212\n",
      "Name: holiday, dtype: int64\n",
      "\n"
     ]
    }
   ],
   "source": [
    "for feature in categorical:\n",
    "    print(f\"Distribution for feature {feature}:\")\n",
    "    print(df_clean[feature].value_counts())\n",
    "    print(\"\")"
   ]
  },
  {
   "cell_type": "markdown",
   "metadata": {},
   "source": [
    "Question here is whether the added granularity from weather_main to weather_description is worth the added cardinality of 12.\n",
    "Cardinality of 1 for route_id means that it can be dropped safely."
   ]
  },
  {
   "cell_type": "code",
   "execution_count": 31,
   "metadata": {},
   "outputs": [],
   "source": [
    "df_clean=df_clean.drop([\"route_id\"],axis=1)"
   ]
  },
  {
   "cell_type": "code",
   "execution_count": 32,
   "metadata": {},
   "outputs": [],
   "source": [
    "df_clean[ints]=df_clean[ints].astype('int64')"
   ]
  },
  {
   "cell_type": "code",
   "execution_count": 33,
   "metadata": {},
   "outputs": [
    {
     "data": {
      "text/html": [
       "<div>\n",
       "<style scoped>\n",
       "    .dataframe tbody tr th:only-of-type {\n",
       "        vertical-align: middle;\n",
       "    }\n",
       "\n",
       "    .dataframe tbody tr th {\n",
       "        vertical-align: top;\n",
       "    }\n",
       "\n",
       "    .dataframe thead th {\n",
       "        text-align: right;\n",
       "    }\n",
       "</style>\n",
       "<table border=\"1\" class=\"dataframe\">\n",
       "  <thead>\n",
       "    <tr style=\"text-align: right;\">\n",
       "      <th></th>\n",
       "      <th>daystamp</th>\n",
       "      <th>progr_number</th>\n",
       "      <th>arr_p</th>\n",
       "      <th>arr_a</th>\n",
       "      <th>dep_p</th>\n",
       "      <th>dep_a</th>\n",
       "      <th>dur_s</th>\n",
       "      <th>dur_a</th>\n",
       "      <th>pressure</th>\n",
       "      <th>humidity</th>\n",
       "      <th>wind_deg</th>\n",
       "      <th>clouds_all</th>\n",
       "    </tr>\n",
       "  </thead>\n",
       "  <tbody>\n",
       "    <tr>\n",
       "      <th>count</th>\n",
       "      <td>5.961710e+05</td>\n",
       "      <td>596171.000000</td>\n",
       "      <td>596171.000000</td>\n",
       "      <td>596171.000000</td>\n",
       "      <td>596171.000000</td>\n",
       "      <td>596171.000000</td>\n",
       "      <td>596171.000000</td>\n",
       "      <td>596171.000000</td>\n",
       "      <td>596171.000000</td>\n",
       "      <td>596171.000000</td>\n",
       "      <td>596171.000000</td>\n",
       "      <td>596171.000000</td>\n",
       "    </tr>\n",
       "    <tr>\n",
       "      <th>mean</th>\n",
       "      <td>1.530427e+09</td>\n",
       "      <td>19.989379</td>\n",
       "      <td>53522.434813</td>\n",
       "      <td>53767.061392</td>\n",
       "      <td>53522.434813</td>\n",
       "      <td>53779.043325</td>\n",
       "      <td>1386.999846</td>\n",
       "      <td>1540.444844</td>\n",
       "      <td>1012.727028</td>\n",
       "      <td>77.037092</td>\n",
       "      <td>190.340342</td>\n",
       "      <td>60.610234</td>\n",
       "    </tr>\n",
       "    <tr>\n",
       "      <th>std</th>\n",
       "      <td>9.056187e+06</td>\n",
       "      <td>11.251731</td>\n",
       "      <td>17602.012182</td>\n",
       "      <td>17608.071716</td>\n",
       "      <td>17602.012182</td>\n",
       "      <td>17611.159007</td>\n",
       "      <td>776.516869</td>\n",
       "      <td>889.372075</td>\n",
       "      <td>11.703424</td>\n",
       "      <td>13.524969</td>\n",
       "      <td>89.130387</td>\n",
       "      <td>23.271634</td>\n",
       "    </tr>\n",
       "    <tr>\n",
       "      <th>min</th>\n",
       "      <td>1.514765e+09</td>\n",
       "      <td>1.000000</td>\n",
       "      <td>21600.000000</td>\n",
       "      <td>21374.000000</td>\n",
       "      <td>21600.000000</td>\n",
       "      <td>21374.000000</td>\n",
       "      <td>0.000000</td>\n",
       "      <td>-6885.000000</td>\n",
       "      <td>979.000000</td>\n",
       "      <td>25.000000</td>\n",
       "      <td>0.000000</td>\n",
       "      <td>0.000000</td>\n",
       "    </tr>\n",
       "    <tr>\n",
       "      <th>25%</th>\n",
       "      <td>1.522710e+09</td>\n",
       "      <td>10.000000</td>\n",
       "      <td>38338.000000</td>\n",
       "      <td>38523.000000</td>\n",
       "      <td>38338.000000</td>\n",
       "      <td>38531.000000</td>\n",
       "      <td>874.000000</td>\n",
       "      <td>956.000000</td>\n",
       "      <td>1005.000000</td>\n",
       "      <td>68.000000</td>\n",
       "      <td>130.000000</td>\n",
       "      <td>40.000000</td>\n",
       "    </tr>\n",
       "    <tr>\n",
       "      <th>50%</th>\n",
       "      <td>1.530400e+09</td>\n",
       "      <td>20.000000</td>\n",
       "      <td>53414.000000</td>\n",
       "      <td>53675.000000</td>\n",
       "      <td>53414.000000</td>\n",
       "      <td>53689.000000</td>\n",
       "      <td>1423.000000</td>\n",
       "      <td>1563.000000</td>\n",
       "      <td>1014.000000</td>\n",
       "      <td>77.000000</td>\n",
       "      <td>210.000000</td>\n",
       "      <td>75.000000</td>\n",
       "    </tr>\n",
       "    <tr>\n",
       "      <th>75%</th>\n",
       "      <td>1.538348e+09</td>\n",
       "      <td>30.000000</td>\n",
       "      <td>67413.000000</td>\n",
       "      <td>67822.000000</td>\n",
       "      <td>67413.000000</td>\n",
       "      <td>67839.000000</td>\n",
       "      <td>1941.000000</td>\n",
       "      <td>2141.000000</td>\n",
       "      <td>1021.000000</td>\n",
       "      <td>87.000000</td>\n",
       "      <td>260.000000</td>\n",
       "      <td>75.000000</td>\n",
       "    </tr>\n",
       "    <tr>\n",
       "      <th>max</th>\n",
       "      <td>1.546214e+09</td>\n",
       "      <td>39.000000</td>\n",
       "      <td>86918.000000</td>\n",
       "      <td>87654.000000</td>\n",
       "      <td>86918.000000</td>\n",
       "      <td>87654.000000</td>\n",
       "      <td>3826.000000</td>\n",
       "      <td>10373.000000</td>\n",
       "      <td>1041.000000</td>\n",
       "      <td>100.000000</td>\n",
       "      <td>360.000000</td>\n",
       "      <td>100.000000</td>\n",
       "    </tr>\n",
       "  </tbody>\n",
       "</table>\n",
       "</div>"
      ],
      "text/plain": [
       "           daystamp   progr_number          arr_p          arr_a  \\\n",
       "count  5.961710e+05  596171.000000  596171.000000  596171.000000   \n",
       "mean   1.530427e+09      19.989379   53522.434813   53767.061392   \n",
       "std    9.056187e+06      11.251731   17602.012182   17608.071716   \n",
       "min    1.514765e+09       1.000000   21600.000000   21374.000000   \n",
       "25%    1.522710e+09      10.000000   38338.000000   38523.000000   \n",
       "50%    1.530400e+09      20.000000   53414.000000   53675.000000   \n",
       "75%    1.538348e+09      30.000000   67413.000000   67822.000000   \n",
       "max    1.546214e+09      39.000000   86918.000000   87654.000000   \n",
       "\n",
       "               dep_p          dep_a          dur_s          dur_a  \\\n",
       "count  596171.000000  596171.000000  596171.000000  596171.000000   \n",
       "mean    53522.434813   53779.043325    1386.999846    1540.444844   \n",
       "std     17602.012182   17611.159007     776.516869     889.372075   \n",
       "min     21600.000000   21374.000000       0.000000   -6885.000000   \n",
       "25%     38338.000000   38531.000000     874.000000     956.000000   \n",
       "50%     53414.000000   53689.000000    1423.000000    1563.000000   \n",
       "75%     67413.000000   67839.000000    1941.000000    2141.000000   \n",
       "max     86918.000000   87654.000000    3826.000000   10373.000000   \n",
       "\n",
       "            pressure       humidity       wind_deg     clouds_all  \n",
       "count  596171.000000  596171.000000  596171.000000  596171.000000  \n",
       "mean     1012.727028      77.037092     190.340342      60.610234  \n",
       "std        11.703424      13.524969      89.130387      23.271634  \n",
       "min       979.000000      25.000000       0.000000       0.000000  \n",
       "25%      1005.000000      68.000000     130.000000      40.000000  \n",
       "50%      1014.000000      77.000000     210.000000      75.000000  \n",
       "75%      1021.000000      87.000000     260.000000      75.000000  \n",
       "max      1041.000000     100.000000     360.000000     100.000000  "
      ]
     },
     "execution_count": 33,
     "metadata": {},
     "output_type": "execute_result"
    }
   ],
   "source": [
    "df_clean[ints].describe()"
   ]
  },
  {
   "cell_type": "markdown",
   "metadata": {},
   "source": [
    "Negative values for durations need to be inspected closer:"
   ]
  },
  {
   "cell_type": "code",
   "execution_count": 34,
   "metadata": {},
   "outputs": [
    {
     "data": {
      "text/html": [
       "<div>\n",
       "<style scoped>\n",
       "    .dataframe tbody tr th:only-of-type {\n",
       "        vertical-align: middle;\n",
       "    }\n",
       "\n",
       "    .dataframe tbody tr th {\n",
       "        vertical-align: top;\n",
       "    }\n",
       "\n",
       "    .dataframe thead th {\n",
       "        text-align: right;\n",
       "    }\n",
       "</style>\n",
       "<table border=\"1\" class=\"dataframe\">\n",
       "  <thead>\n",
       "    <tr style=\"text-align: right;\">\n",
       "      <th></th>\n",
       "      <th>daystamp</th>\n",
       "      <th>progr_number</th>\n",
       "      <th>stop_id</th>\n",
       "      <th>arr_p</th>\n",
       "      <th>arr_a</th>\n",
       "      <th>dep_p</th>\n",
       "      <th>dep_a</th>\n",
       "      <th>end_p</th>\n",
       "      <th>start_p</th>\n",
       "      <th>start_a</th>\n",
       "      <th>...</th>\n",
       "      <th>wind_deg</th>\n",
       "      <th>clouds_all</th>\n",
       "      <th>weather_description</th>\n",
       "      <th>dt</th>\n",
       "      <th>weekday</th>\n",
       "      <th>month</th>\n",
       "      <th>hour</th>\n",
       "      <th>holiday</th>\n",
       "      <th>dur_s</th>\n",
       "      <th>dur_a</th>\n",
       "    </tr>\n",
       "  </thead>\n",
       "  <tbody>\n",
       "    <tr>\n",
       "      <th>3993</th>\n",
       "      <td>1523314800</td>\n",
       "      <td>2</td>\n",
       "      <td>396</td>\n",
       "      <td>72075</td>\n",
       "      <td>72102</td>\n",
       "      <td>72075</td>\n",
       "      <td>72135</td>\n",
       "      <td>74555</td>\n",
       "      <td>72000</td>\n",
       "      <td>73755.0</td>\n",
       "      <td>...</td>\n",
       "      <td>30</td>\n",
       "      <td>75</td>\n",
       "      <td>light intensity drizzle</td>\n",
       "      <td>1523386875</td>\n",
       "      <td>1</td>\n",
       "      <td>4</td>\n",
       "      <td>20</td>\n",
       "      <td>0</td>\n",
       "      <td>75</td>\n",
       "      <td>-1620</td>\n",
       "    </tr>\n",
       "    <tr>\n",
       "      <th>3994</th>\n",
       "      <td>1523314800</td>\n",
       "      <td>3</td>\n",
       "      <td>397</td>\n",
       "      <td>72116</td>\n",
       "      <td>72222</td>\n",
       "      <td>72116</td>\n",
       "      <td>72241</td>\n",
       "      <td>74555</td>\n",
       "      <td>72000</td>\n",
       "      <td>73755.0</td>\n",
       "      <td>...</td>\n",
       "      <td>30</td>\n",
       "      <td>75</td>\n",
       "      <td>light intensity drizzle</td>\n",
       "      <td>1523386916</td>\n",
       "      <td>1</td>\n",
       "      <td>4</td>\n",
       "      <td>20</td>\n",
       "      <td>0</td>\n",
       "      <td>116</td>\n",
       "      <td>-1514</td>\n",
       "    </tr>\n",
       "    <tr>\n",
       "      <th>3995</th>\n",
       "      <td>1523314800</td>\n",
       "      <td>4</td>\n",
       "      <td>398</td>\n",
       "      <td>72177</td>\n",
       "      <td>72269</td>\n",
       "      <td>72177</td>\n",
       "      <td>72284</td>\n",
       "      <td>74555</td>\n",
       "      <td>72000</td>\n",
       "      <td>73755.0</td>\n",
       "      <td>...</td>\n",
       "      <td>30</td>\n",
       "      <td>75</td>\n",
       "      <td>light intensity drizzle</td>\n",
       "      <td>1523386977</td>\n",
       "      <td>1</td>\n",
       "      <td>4</td>\n",
       "      <td>20</td>\n",
       "      <td>0</td>\n",
       "      <td>177</td>\n",
       "      <td>-1471</td>\n",
       "    </tr>\n",
       "    <tr>\n",
       "      <th>3996</th>\n",
       "      <td>1523314800</td>\n",
       "      <td>5</td>\n",
       "      <td>399</td>\n",
       "      <td>72227</td>\n",
       "      <td>72309</td>\n",
       "      <td>72227</td>\n",
       "      <td>72320</td>\n",
       "      <td>74555</td>\n",
       "      <td>72000</td>\n",
       "      <td>73755.0</td>\n",
       "      <td>...</td>\n",
       "      <td>30</td>\n",
       "      <td>75</td>\n",
       "      <td>light intensity drizzle</td>\n",
       "      <td>1523387027</td>\n",
       "      <td>1</td>\n",
       "      <td>4</td>\n",
       "      <td>20</td>\n",
       "      <td>0</td>\n",
       "      <td>227</td>\n",
       "      <td>-1435</td>\n",
       "    </tr>\n",
       "    <tr>\n",
       "      <th>3997</th>\n",
       "      <td>1523314800</td>\n",
       "      <td>6</td>\n",
       "      <td>400</td>\n",
       "      <td>72316</td>\n",
       "      <td>72424</td>\n",
       "      <td>72316</td>\n",
       "      <td>72443</td>\n",
       "      <td>74555</td>\n",
       "      <td>72000</td>\n",
       "      <td>73755.0</td>\n",
       "      <td>...</td>\n",
       "      <td>30</td>\n",
       "      <td>75</td>\n",
       "      <td>light intensity drizzle</td>\n",
       "      <td>1523387116</td>\n",
       "      <td>1</td>\n",
       "      <td>4</td>\n",
       "      <td>20</td>\n",
       "      <td>0</td>\n",
       "      <td>316</td>\n",
       "      <td>-1312</td>\n",
       "    </tr>\n",
       "    <tr>\n",
       "      <th>...</th>\n",
       "      <td>...</td>\n",
       "      <td>...</td>\n",
       "      <td>...</td>\n",
       "      <td>...</td>\n",
       "      <td>...</td>\n",
       "      <td>...</td>\n",
       "      <td>...</td>\n",
       "      <td>...</td>\n",
       "      <td>...</td>\n",
       "      <td>...</td>\n",
       "      <td>...</td>\n",
       "      <td>...</td>\n",
       "      <td>...</td>\n",
       "      <td>...</td>\n",
       "      <td>...</td>\n",
       "      <td>...</td>\n",
       "      <td>...</td>\n",
       "      <td>...</td>\n",
       "      <td>...</td>\n",
       "      <td>...</td>\n",
       "      <td>...</td>\n",
       "    </tr>\n",
       "    <tr>\n",
       "      <th>595408</th>\n",
       "      <td>1527116400</td>\n",
       "      <td>4</td>\n",
       "      <td>398</td>\n",
       "      <td>58405</td>\n",
       "      <td>58458</td>\n",
       "      <td>58405</td>\n",
       "      <td>58481</td>\n",
       "      <td>61161</td>\n",
       "      <td>58200</td>\n",
       "      <td>58922.0</td>\n",
       "      <td>...</td>\n",
       "      <td>60</td>\n",
       "      <td>75</td>\n",
       "      <td>light intensity shower rain</td>\n",
       "      <td>1527174805</td>\n",
       "      <td>3</td>\n",
       "      <td>5</td>\n",
       "      <td>16</td>\n",
       "      <td>0</td>\n",
       "      <td>205</td>\n",
       "      <td>-441</td>\n",
       "    </tr>\n",
       "    <tr>\n",
       "      <th>595409</th>\n",
       "      <td>1527116400</td>\n",
       "      <td>5</td>\n",
       "      <td>399</td>\n",
       "      <td>58463</td>\n",
       "      <td>58609</td>\n",
       "      <td>58463</td>\n",
       "      <td>58656</td>\n",
       "      <td>61161</td>\n",
       "      <td>58200</td>\n",
       "      <td>58922.0</td>\n",
       "      <td>...</td>\n",
       "      <td>60</td>\n",
       "      <td>75</td>\n",
       "      <td>light intensity shower rain</td>\n",
       "      <td>1527174863</td>\n",
       "      <td>3</td>\n",
       "      <td>5</td>\n",
       "      <td>16</td>\n",
       "      <td>0</td>\n",
       "      <td>263</td>\n",
       "      <td>-266</td>\n",
       "    </tr>\n",
       "    <tr>\n",
       "      <th>595410</th>\n",
       "      <td>1527116400</td>\n",
       "      <td>6</td>\n",
       "      <td>400</td>\n",
       "      <td>58567</td>\n",
       "      <td>58723</td>\n",
       "      <td>58567</td>\n",
       "      <td>58755</td>\n",
       "      <td>61161</td>\n",
       "      <td>58200</td>\n",
       "      <td>58922.0</td>\n",
       "      <td>...</td>\n",
       "      <td>60</td>\n",
       "      <td>75</td>\n",
       "      <td>light intensity shower rain</td>\n",
       "      <td>1527174967</td>\n",
       "      <td>3</td>\n",
       "      <td>5</td>\n",
       "      <td>16</td>\n",
       "      <td>0</td>\n",
       "      <td>367</td>\n",
       "      <td>-167</td>\n",
       "    </tr>\n",
       "    <tr>\n",
       "      <th>601499</th>\n",
       "      <td>1526943600</td>\n",
       "      <td>2</td>\n",
       "      <td>396</td>\n",
       "      <td>58287</td>\n",
       "      <td>58287</td>\n",
       "      <td>58287</td>\n",
       "      <td>58320</td>\n",
       "      <td>61161</td>\n",
       "      <td>58200</td>\n",
       "      <td>58472.0</td>\n",
       "      <td>...</td>\n",
       "      <td>30</td>\n",
       "      <td>75</td>\n",
       "      <td>broken clouds</td>\n",
       "      <td>1527001887</td>\n",
       "      <td>1</td>\n",
       "      <td>5</td>\n",
       "      <td>16</td>\n",
       "      <td>0</td>\n",
       "      <td>87</td>\n",
       "      <td>-152</td>\n",
       "    </tr>\n",
       "    <tr>\n",
       "      <th>601500</th>\n",
       "      <td>1526943600</td>\n",
       "      <td>3</td>\n",
       "      <td>397</td>\n",
       "      <td>58335</td>\n",
       "      <td>58428</td>\n",
       "      <td>58335</td>\n",
       "      <td>58437</td>\n",
       "      <td>61161</td>\n",
       "      <td>58200</td>\n",
       "      <td>58472.0</td>\n",
       "      <td>...</td>\n",
       "      <td>30</td>\n",
       "      <td>75</td>\n",
       "      <td>broken clouds</td>\n",
       "      <td>1527001935</td>\n",
       "      <td>1</td>\n",
       "      <td>5</td>\n",
       "      <td>16</td>\n",
       "      <td>0</td>\n",
       "      <td>135</td>\n",
       "      <td>-35</td>\n",
       "    </tr>\n",
       "  </tbody>\n",
       "</table>\n",
       "<p>1060 rows × 28 columns</p>\n",
       "</div>"
      ],
      "text/plain": [
       "          daystamp  progr_number stop_id  arr_p  arr_a  dep_p  dep_a  end_p  \\\n",
       "3993    1523314800             2     396  72075  72102  72075  72135  74555   \n",
       "3994    1523314800             3     397  72116  72222  72116  72241  74555   \n",
       "3995    1523314800             4     398  72177  72269  72177  72284  74555   \n",
       "3996    1523314800             5     399  72227  72309  72227  72320  74555   \n",
       "3997    1523314800             6     400  72316  72424  72316  72443  74555   \n",
       "...            ...           ...     ...    ...    ...    ...    ...    ...   \n",
       "595408  1527116400             4     398  58405  58458  58405  58481  61161   \n",
       "595409  1527116400             5     399  58463  58609  58463  58656  61161   \n",
       "595410  1527116400             6     400  58567  58723  58567  58755  61161   \n",
       "601499  1526943600             2     396  58287  58287  58287  58320  61161   \n",
       "601500  1526943600             3     397  58335  58428  58335  58437  61161   \n",
       "\n",
       "        start_p  start_a  ... wind_deg  clouds_all  \\\n",
       "3993      72000  73755.0  ...       30          75   \n",
       "3994      72000  73755.0  ...       30          75   \n",
       "3995      72000  73755.0  ...       30          75   \n",
       "3996      72000  73755.0  ...       30          75   \n",
       "3997      72000  73755.0  ...       30          75   \n",
       "...         ...      ...  ...      ...         ...   \n",
       "595408    58200  58922.0  ...       60          75   \n",
       "595409    58200  58922.0  ...       60          75   \n",
       "595410    58200  58922.0  ...       60          75   \n",
       "601499    58200  58472.0  ...       30          75   \n",
       "601500    58200  58472.0  ...       30          75   \n",
       "\n",
       "                weather_description          dt  weekday  month  hour  \\\n",
       "3993        light intensity drizzle  1523386875        1      4    20   \n",
       "3994        light intensity drizzle  1523386916        1      4    20   \n",
       "3995        light intensity drizzle  1523386977        1      4    20   \n",
       "3996        light intensity drizzle  1523387027        1      4    20   \n",
       "3997        light intensity drizzle  1523387116        1      4    20   \n",
       "...                             ...         ...      ...    ...   ...   \n",
       "595408  light intensity shower rain  1527174805        3      5    16   \n",
       "595409  light intensity shower rain  1527174863        3      5    16   \n",
       "595410  light intensity shower rain  1527174967        3      5    16   \n",
       "601499                broken clouds  1527001887        1      5    16   \n",
       "601500                broken clouds  1527001935        1      5    16   \n",
       "\n",
       "        holiday  dur_s  dur_a  \n",
       "3993          0     75  -1620  \n",
       "3994          0    116  -1514  \n",
       "3995          0    177  -1471  \n",
       "3996          0    227  -1435  \n",
       "3997          0    316  -1312  \n",
       "...         ...    ...    ...  \n",
       "595408        0    205   -441  \n",
       "595409        0    263   -266  \n",
       "595410        0    367   -167  \n",
       "601499        0     87   -152  \n",
       "601500        0    135    -35  \n",
       "\n",
       "[1060 rows x 28 columns]"
      ]
     },
     "execution_count": 34,
     "metadata": {},
     "output_type": "execute_result"
    }
   ],
   "source": [
    "df_clean[df_clean.dur_a<0]"
   ]
  },
  {
   "cell_type": "code",
   "execution_count": 35,
   "metadata": {},
   "outputs": [
    {
     "name": "stdout",
     "output_type": "stream",
     "text": [
      "0.18% of the remaining data show negative durations.\n"
     ]
    }
   ],
   "source": [
    "print(f\"{df_clean[df_clean.dur_a<0].shape[0]/df_clean.shape[0]*100:.2f}% of the remaining data show negative durations.\")"
   ]
  },
  {
   "cell_type": "markdown",
   "metadata": {},
   "source": [
    "Number is low enough to justify dropping the negative rows without doing any further investigation"
   ]
  },
  {
   "cell_type": "code",
   "execution_count": 36,
   "metadata": {},
   "outputs": [],
   "source": [
    "df_clean=df_clean[df_clean.dur_a>=0]"
   ]
  },
  {
   "cell_type": "markdown",
   "metadata": {},
   "source": [
    "The last data cleaning operation refers to redundancy: As the route_id has a cardinality of 1, the stop_ids and progr_numbers of one dataset (i.e. per route and direction) have a perfectly positive correlation. As stop_id \"only\" nominal data and progr_number is ordinal (i.e. progr_number 2 comes after 1 for every trip), we will discard stop_id."
   ]
  },
  {
   "cell_type": "code",
   "execution_count": 37,
   "metadata": {},
   "outputs": [],
   "source": [
    "df_clean=df_clean.drop([\"stop_id\"],axis=1)"
   ]
  },
  {
   "cell_type": "markdown",
   "metadata": {},
   "source": [
    "<h3>Feature Selection</h3>\n",
    "<br>\n",
    "<div>Problem domain: Some categorical features, some numeric features, numeric target variable.</div>"
   ]
  },
  {
   "cell_type": "markdown",
   "metadata": {},
   "source": [
    "For categorical input, chi squared is recommended.\n",
    "For numerical input, ANOVA f-test (\"Analysis of Variance\") or Mutual Information Statistics are used:"
   ]
  },
  {
   "cell_type": "code",
   "execution_count": 76,
   "metadata": {},
   "outputs": [],
   "source": [
    "y=df_clean[\"dur_a\"]\n",
    "X=df_clean.drop([\"dur_a\"],axis=1)"
   ]
  },
  {
   "cell_type": "code",
   "execution_count": 77,
   "metadata": {},
   "outputs": [],
   "source": [
    "X_train,X_test,y_train,y_test=train_test_split(X,y,test_size=0.3,random_state=1)"
   ]
  },
  {
   "cell_type": "code",
   "execution_count": 78,
   "metadata": {},
   "outputs": [],
   "source": [
    "categorical=X_train.columns[X_train.dtypes==\"category\"]"
   ]
  },
  {
   "cell_type": "code",
   "execution_count": 79,
   "metadata": {},
   "outputs": [],
   "source": [
    "X_train_categorical=X_train[categorical]"
   ]
  },
  {
   "cell_type": "code",
   "execution_count": 80,
   "metadata": {},
   "outputs": [],
   "source": [
    "X_test_categorical=X_test[categorical]"
   ]
  },
  {
   "cell_type": "code",
   "execution_count": 81,
   "metadata": {},
   "outputs": [],
   "source": [
    "X_train_enc=pd.get_dummies(X_train_categorical,drop_first=True)\n",
    "X_test_enc=pd.get_dummies(X_test_categorical,drop_first=True)"
   ]
  },
  {
   "cell_type": "code",
   "execution_count": 82,
   "metadata": {},
   "outputs": [],
   "source": [
    "dummy_columns=list(X_train_enc.columns)"
   ]
  },
  {
   "cell_type": "code",
   "execution_count": 83,
   "metadata": {},
   "outputs": [],
   "source": [
    "fs=SelectKBest(score_func=f_regression, k='all')\n",
    "fs.fit(X_train_enc,y_train)\n",
    "X_train_fs=fs.transform(X_train_enc)\n",
    "X_test_fs=fs.transform(X_test_enc)"
   ]
  },
  {
   "cell_type": "code",
   "execution_count": 84,
   "metadata": {},
   "outputs": [
    {
     "name": "stdout",
     "output_type": "stream",
     "text": [
      "Feature weather_main_Clouds: 0.18607930870408737\n",
      "Feature weather_main_Drizzle: 155.72139149350897\n",
      "Feature weather_main_Fog: 27.541750859867136\n",
      "Feature weather_main_Mist: 5.2579091441787575\n",
      "Feature weather_main_Rain: 162.97246118158563\n",
      "Feature weather_main_Smoke: 0.5816989836738797\n",
      "Feature weather_main_Snow: 11.854508468736135\n",
      "Feature weather_description_broken clouds: 3.5249888991405363\n",
      "Feature weather_description_drizzle: 10.864278362685022\n",
      "Feature weather_description_few clouds: 20.246928377475797\n",
      "Feature weather_description_fog: 27.541750859867136\n",
      "Feature weather_description_heavy intensity rain: 29.74677756143642\n",
      "Feature weather_description_light intensity drizzle: 33.48159334395488\n",
      "Feature weather_description_light intensity drizzle rain: 154.87581926310034\n",
      "Feature weather_description_light intensity shower rain: 50.51174874617218\n",
      "Feature weather_description_light rain: 6.702169672621128\n",
      "Feature weather_description_light shower snow: 4.138010950915265e-06\n",
      "Feature weather_description_light snow: 39.23230002997811\n",
      "Feature weather_description_mist: 5.2579091441787575\n",
      "Feature weather_description_moderate rain: 1.850076330666748\n",
      "Feature weather_description_overcast clouds: 154.6708218987545\n",
      "Feature weather_description_proximity shower rain: 316.8598673898721\n",
      "Feature weather_description_scattered clouds: 46.306888536874624\n",
      "Feature weather_description_shower rain: 8.900101942393857\n",
      "Feature weather_description_sky is clear: 15.46099784251529\n",
      "Feature weather_description_smoke: 0.5816989836738797\n",
      "Feature weekday_1: 305.0677122622024\n",
      "Feature weekday_2: 403.77120386954704\n",
      "Feature weekday_3: 903.7341323301664\n",
      "Feature weekday_4: 1417.3746436106685\n",
      "Feature weekday_5: 2055.662810859507\n",
      "Feature weekday_6: 3848.002359257145\n",
      "Feature month_2: 5.620386617102452\n",
      "Feature month_3: 2.6764187839688933\n",
      "Feature month_4: 0.9343911853308132\n",
      "Feature month_5: 0.04999306989644552\n",
      "Feature month_6: 66.01493899667236\n",
      "Feature month_7: 86.83201352252837\n",
      "Feature month_8: 92.77126035647085\n",
      "Feature month_9: 3.1124390125771355\n",
      "Feature month_10: 25.76727573296218\n",
      "Feature month_11: 390.0959595732196\n",
      "Feature month_12: 4.792682852741572\n",
      "Feature hour_1: 0.4867718321046014\n",
      "Feature hour_6: 7762.01087222408\n",
      "Feature hour_7: 6837.850695745572\n",
      "Feature hour_8: 568.2999110910191\n",
      "Feature hour_9: 480.93260826324257\n",
      "Feature hour_10: 1173.5482786400623\n",
      "Feature hour_11: 786.4305064900124\n",
      "Feature hour_12: 139.19190733865108\n",
      "Feature hour_13: 0.9678559403817788\n",
      "Feature hour_14: 32.431468526324814\n",
      "Feature hour_15: 159.85789039446416\n",
      "Feature hour_16: 1722.5606584656605\n",
      "Feature hour_17: 7663.729966692784\n",
      "Feature hour_18: 14511.124521544849\n",
      "Feature hour_19: 2985.0378602639194\n",
      "Feature hour_20: 85.9192980095053\n",
      "Feature hour_21: 234.19197078424273\n",
      "Feature hour_22: 1146.444727257764\n",
      "Feature hour_23: 2301.702683937612\n",
      "Feature holiday_1: 1272.8055905395072\n"
     ]
    }
   ],
   "source": [
    "for i in range(len(fs.scores_)):\n",
    "    print(f'Feature {dummy_columns[i]}: {fs.scores_[i]}')"
   ]
  },
  {
   "cell_type": "code",
   "execution_count": 85,
   "metadata": {},
   "outputs": [
    {
     "data": {
      "image/png": "[encoded data removed]",
      "text/plain": [
       "<Figure size 1152x648 with 1 Axes>"
      ]
     },
     "metadata": {
      "needs_background": "light"
     },
     "output_type": "display_data"
    }
   ],
   "source": [
    "plt.figure(figsize=(16,9))\n",
    "ax = sns.barplot(x=dummy_columns, y=fs.scores_,palette=\"Blues_d\")\n",
    "ax.set_xticklabels(ax.get_xticklabels(), rotation=90, ha=\"right\")\n",
    "plt.show()"
   ]
  },
  {
   "cell_type": "markdown",
   "metadata": {},
   "source": [
    "<div>Both weather features seem to not have a significant influence on the target feature as they dwarf in comparison. as weather is demanded in the project deliverables, we will keep it for now and test models with the detailed description, the low cardinality description, and without weather.</div>\n",
    "<br>\n",
    "<div>of the remaining features, month could have low to no influence. we will try different model configurations with and without month. weekday, hour and holiday display a strong relationship with the target variable, be it only for some of their values.</div>"
   ]
  },
  {
   "cell_type": "code",
   "execution_count": 86,
   "metadata": {},
   "outputs": [],
   "source": [
    "numeric=X_train.columns[(X_train.dtypes==\"int64\") | (X_train.dtypes==\"float64\")]"
   ]
  },
  {
   "cell_type": "code",
   "execution_count": 87,
   "metadata": {},
   "outputs": [],
   "source": [
    "corr=pd.concat([X_train[numeric], y], axis=1).corr()"
   ]
  },
  {
   "cell_type": "code",
   "execution_count": 88,
   "metadata": {},
   "outputs": [
    {
     "data": {
      "image/png": "[encoded data removed]",
      "text/plain": [
       "<Figure size 1152x648 with 2 Axes>"
      ]
     },
     "metadata": {
      "needs_background": "light"
     },
     "output_type": "display_data"
    }
   ],
   "source": [
    "plt.figure(figsize=(16,9))\n",
    "sns.heatmap(corr,xticklabels=corr.columns,yticklabels=corr.columns,linewidth=.5,cmap=\"YlGnBu\")\n",
    "plt.show()"
   ]
  },
  {
   "cell_type": "code",
   "execution_count": 89,
   "metadata": {},
   "outputs": [
    {
     "data": {
      "text/plain": [
       "humidity       -0.085639\n",
       "pressure       -0.030989\n",
       "wind_deg       -0.004524\n",
       "clouds_all     -0.001184\n",
       "feels_like      0.010375\n",
       "daystamp        0.015340\n",
       "dt              0.015653\n",
       "temp_max        0.024613\n",
       "temp_min        0.025265\n",
       "wind_speed      0.025904\n",
       "temp            0.026615\n",
       "start_p         0.119709\n",
       "start_a         0.119976\n",
       "end_p           0.127795\n",
       "dep_p           0.160640\n",
       "arr_p           0.160640\n",
       "dep_a           0.169046\n",
       "arr_a           0.169124\n",
       "progr_number    0.842474\n",
       "dur_s           0.943677\n",
       "dur_a           1.000000\n",
       "Name: dur_a, dtype: float64"
      ]
     },
     "execution_count": 89,
     "metadata": {},
     "output_type": "execute_result"
    }
   ],
   "source": [
    "corr[\"dur_a\"].sort_values()"
   ]
  },
  {
   "cell_type": "code",
   "execution_count": 90,
   "metadata": {},
   "outputs": [],
   "source": [
    "high_corr=corr[\"dur_a\"][(corr[\"dur_a\"]>=0.5) | (corr[\"dur_a\"]<=-0.5)]"
   ]
  },
  {
   "cell_type": "code",
   "execution_count": 91,
   "metadata": {},
   "outputs": [],
   "source": [
    "numeric=high_corr.drop([\"dur_a\"]).index"
   ]
  },
  {
   "cell_type": "code",
   "execution_count": 92,
   "metadata": {},
   "outputs": [
    {
     "data": {
      "text/plain": [
       "Index(['progr_number', 'dur_s'], dtype='object')"
      ]
     },
     "execution_count": 92,
     "metadata": {},
     "output_type": "execute_result"
    }
   ],
   "source": [
    "numeric"
   ]
  },
  {
   "cell_type": "markdown",
   "metadata": {},
   "source": [
    "<div>above's heatmap shows that the scheduled duration and progr_number have a very strong correlation with the target value, but there is a large dropoff afterwards. namely, the temperature and other weather features have no meaningful impact on the acutal duration of a trip. due to these findings, no numerical feature but progr_number and dur_s will be considered for modelling.</div>\n",
    "<br>\n",
    "<div>furthermore, dur_s and progr_number show a strong correlation. during the modelling, we will examine whether the progr_number can be dropped.</div>"
   ]
  },
  {
   "cell_type": "code",
   "execution_count": 93,
   "metadata": {},
   "outputs": [],
   "source": [
    "X_numeric=X[numeric]"
   ]
  },
  {
   "cell_type": "markdown",
   "metadata": {},
   "source": [
    "<h3>Modelling</h3>"
   ]
  },
  {
   "cell_type": "markdown",
   "metadata": {},
   "source": [
    "In the previous section, we identified the features weather_main, weather_description, month and progr_number as potentially redundant. we will test on a linear regressor with and without these features to find out whether they are beneficial for performance. then, we will test different models that are computationally more expensive and see whether they perform superior. finally, we will choose the best performing model, and - if it is not the linear regressor - see if it performs better with other feature combinations."
   ]
  },
  {
   "cell_type": "markdown",
   "metadata": {},
   "source": [
    "<h4>Linear Regression</h4>"
   ]
  },
  {
   "cell_type": "code",
   "execution_count": 94,
   "metadata": {},
   "outputs": [],
   "source": [
    "X=pd.concat([X[categorical],X[numeric]],axis=1)\n",
    "y=df_clean[\"dur_a\"]"
   ]
  },
  {
   "cell_type": "code",
   "execution_count": 95,
   "metadata": {},
   "outputs": [],
   "source": [
    "X_train,X_test,y_train,y_test=train_test_split(X,y,random_state=1)"
   ]
  },
  {
   "cell_type": "code",
   "execution_count": 96,
   "metadata": {},
   "outputs": [],
   "source": [
    "#train with high cardinality weather\n",
    "X_train_moweather=pd.get_dummies(X_train.drop([\"weather_main\"],axis=1),drop_first=True)\n",
    "X_test_moweather=pd.get_dummies(X_test.drop([\"weather_main\"],axis=1),drop_first=True)"
   ]
  },
  {
   "cell_type": "code",
   "execution_count": 98,
   "metadata": {},
   "outputs": [
    {
     "data": {
      "text/plain": [
       "0.8999769933223941"
      ]
     },
     "execution_count": 98,
     "metadata": {},
     "output_type": "execute_result"
    }
   ],
   "source": [
    "reg = LinearRegression().fit(X_train_moweather, y_train)\n",
    "reg.score(X_test_moweather, y_test)"
   ]
  },
  {
   "cell_type": "code",
   "execution_count": 99,
   "metadata": {},
   "outputs": [],
   "source": [
    "#train with low cardinality weather\n",
    "X_train_moweather=pd.get_dummies(X_train.drop([\"weather_description\"],axis=1),drop_first=True)\n",
    "X_test_moweather=pd.get_dummies(X_test.drop([\"weather_description\"],axis=1),drop_first=True)"
   ]
  },
  {
   "cell_type": "code",
   "execution_count": 100,
   "metadata": {},
   "outputs": [
    {
     "data": {
      "text/plain": [
       "0.8998239128113563"
      ]
     },
     "execution_count": 100,
     "metadata": {},
     "output_type": "execute_result"
    }
   ],
   "source": [
    "reg = LinearRegression().fit(X_train_moweather, y_train)\n",
    "reg.score(X_test_moweather, y_test)"
   ]
  },
  {
   "cell_type": "code",
   "execution_count": 101,
   "metadata": {},
   "outputs": [],
   "source": [
    "#train without weathero\n",
    "X_train_moweather=pd.get_dummies(X_train.drop([\"weather_main\",\"weather_description\"],axis=1),drop_first=True)\n",
    "X_test_moweather=pd.get_dummies(X_test.drop([\"weather_main\",\"weather_description\"],axis=1),drop_first=True)"
   ]
  },
  {
   "cell_type": "code",
   "execution_count": 102,
   "metadata": {},
   "outputs": [
    {
     "data": {
      "text/plain": [
       "0.8997361702689012"
      ]
     },
     "execution_count": 102,
     "metadata": {},
     "output_type": "execute_result"
    }
   ],
   "source": [
    "reg = LinearRegression().fit(X_train_moweather, y_train)\n",
    "reg.score(X_test_moweather, y_test)"
   ]
  },
  {
   "cell_type": "markdown",
   "metadata": {},
   "source": [
    "The differences between the accuracies are marginal, but as the model with high cardinality weather was performing the best, we will keep it for now."
   ]
  },
  {
   "cell_type": "markdown",
   "metadata": {},
   "source": [
    "Next, we will examine whether the model can perform the same without the month feature:"
   ]
  },
  {
   "cell_type": "code",
   "execution_count": 103,
   "metadata": {},
   "outputs": [],
   "source": [
    "X_train_nomonths=pd.get_dummies(X_train.drop([\"month\",\"weather_main\"],axis=1),drop_first=True)\n",
    "X_test_nomonths=pd.get_dummies(X_test.drop([\"month\",\"weather_main\"],axis=1),drop_first=True)"
   ]
  },
  {
   "cell_type": "code",
   "execution_count": 104,
   "metadata": {},
   "outputs": [
    {
     "data": {
      "text/plain": [
       "0.8987423026130735"
      ]
     },
     "execution_count": 104,
     "metadata": {},
     "output_type": "execute_result"
    }
   ],
   "source": [
    "reg = LinearRegression().fit(X_train_nomonths, y_train)\n",
    "reg.score(X_test_nomonths, y_test)"
   ]
  },
  {
   "cell_type": "markdown",
   "metadata": {},
   "source": [
    "The model accuracy decreases slightly, so we will keep the months feature for now."
   ]
  },
  {
   "cell_type": "markdown",
   "metadata": {},
   "source": [
    "Next, we will examine whether the model performs at the same level when progr_number is dropped. the suspicion is that dur_s already holds the same information with higher explanatory power as the two features display a high correlation."
   ]
  },
  {
   "cell_type": "code",
   "execution_count": 105,
   "metadata": {},
   "outputs": [],
   "source": [
    "X_train_noprogr=pd.get_dummies(X_train.drop([\"progr_number\",\"weather_main\"],axis=1),drop_first=True)\n",
    "X_test_noprogr=pd.get_dummies(X_test.drop([\"progr_number\",\"weather_main\"],axis=1),drop_first=True)"
   ]
  },
  {
   "cell_type": "code",
   "execution_count": 106,
   "metadata": {},
   "outputs": [
    {
     "data": {
      "text/plain": [
       "0.8983313513702982"
      ]
     },
     "execution_count": 106,
     "metadata": {},
     "output_type": "execute_result"
    }
   ],
   "source": [
    "reg = LinearRegression().fit(X_train_noprogr, y_train)\n",
    "reg.score(X_test_noprogr, y_test)"
   ]
  },
  {
   "cell_type": "markdown",
   "metadata": {},
   "source": [
    "<div>As the accuracy decreases, we will keep progr_number.</div>\n",
    "<br>\n",
    "<div>In summary, we keep the detailed weather and decided to neither drop month nor progr_number."
   ]
  },
  {
   "cell_type": "markdown",
   "metadata": {},
   "source": [
    "<h4>Polynomial Regression</h4>"
   ]
  },
  {
   "cell_type": "markdown",
   "metadata": {},
   "source": [
    "Initial tests with polynomial regression led to memory errors with as low as a degree of 3 fail due to memory constraints even when the minimum number of features only is considered. Thus, we could only obtain results for n=2."
   ]
  },
  {
   "cell_type": "code",
   "execution_count": 113,
   "metadata": {},
   "outputs": [],
   "source": [
    "X_min=pd.get_dummies(X.drop([\"weather_main\",\"weather_description\",\"month\"],axis=1),drop_first=True)"
   ]
  },
  {
   "cell_type": "code",
   "execution_count": 114,
   "metadata": {},
   "outputs": [
    {
     "data": {
      "text/plain": [
       "(595111, 28)"
      ]
     },
     "execution_count": 114,
     "metadata": {},
     "output_type": "execute_result"
    }
   ],
   "source": [
    "X_min.shape"
   ]
  },
  {
   "cell_type": "code",
   "execution_count": 115,
   "metadata": {},
   "outputs": [],
   "source": [
    "X_train,X_test,y_train,y_test=train_test_split(X_min,y,random_state=1)"
   ]
  },
  {
   "cell_type": "code",
   "execution_count": 119,
   "metadata": {},
   "outputs": [
    {
     "name": "stdout",
     "output_type": "stream",
     "text": [
      "Done training polynomial regression with n=2 in 0.34 mins.\n"
     ]
    }
   ],
   "source": [
    "degree=3\n",
    "scores={}\n",
    "for i in range(2,degree):\n",
    "    start=time.time()\n",
    "    polyreg=make_pipeline(PolynomialFeatures(i),LinearRegression())\n",
    "    polyreg.fit(X_train,y_train)\n",
    "    scores[i]=polyreg.score(X_test,y_test)\n",
    "    print(f\"Done training polynomial regression with n={i} in {(time.time()-start)/60:.2f} mins.\")"
   ]
  },
  {
   "cell_type": "code",
   "execution_count": 120,
   "metadata": {},
   "outputs": [
    {
     "name": "stdout",
     "output_type": "stream",
     "text": [
      "Score for degree n = 2: 0.9124416908937636\n"
     ]
    }
   ],
   "source": [
    "for n in scores:\n",
    "    print(f\"Score for degree n = {n}: {scores[n]}\")"
   ]
  },
  {
   "cell_type": "markdown",
   "metadata": {},
   "source": [
    "Even though the feature set has decreased to 28, the model's score has improved by over one hundredth."
   ]
  },
  {
   "cell_type": "markdown",
   "metadata": {},
   "source": [
    "<h4>XGBoost</h4>"
   ]
  },
  {
   "cell_type": "code",
   "execution_count": 130,
   "metadata": {},
   "outputs": [
    {
     "name": "stdout",
     "output_type": "stream",
     "text": [
      "Wall time: 38.5 s\n"
     ]
    },
    {
     "data": {
      "text/plain": [
       "XGBRegressor(base_score=0.5, booster='gbtree', colsample_bylevel=1,\n",
       "             colsample_bynode=1, colsample_bytree=1, gamma=0, gpu_id=-1,\n",
       "             importance_type='gain', interaction_constraints='',\n",
       "             learning_rate=0.300000012, max_delta_step=0, max_depth=6,\n",
       "             min_child_weight=1, missing=nan, monotone_constraints='()',\n",
       "             n_estimators=100, n_jobs=0, num_parallel_tree=1, random_state=0,\n",
       "             reg_alpha=0, reg_lambda=1, scale_pos_weight=1, subsample=1,\n",
       "             tree_method='exact', validate_parameters=1, verbosity=None)"
      ]
     },
     "execution_count": 130,
     "metadata": {},
     "output_type": "execute_result"
    }
   ],
   "source": [
    "%%time\n",
    "xg_reg = xgb.XGBRegressor()\n",
    "xg_reg.fit(X_train,y_train)"
   ]
  },
  {
   "cell_type": "code",
   "execution_count": 129,
   "metadata": {},
   "outputs": [
    {
     "data": {
      "text/plain": [
       "0.9165004359218707"
      ]
     },
     "execution_count": 129,
     "metadata": {},
     "output_type": "execute_result"
    }
   ],
   "source": [
    "metrics.r2_score(y_pred=xg_reg.predict(X_test), y_true=y_test)"
   ]
  },
  {
   "cell_type": "markdown",
   "metadata": {},
   "source": [
    "On the minimal feature set, the XGBoost beats the polynomial regression and still manages to finish in under 40 seconds."
   ]
  },
  {
   "cell_type": "markdown",
   "metadata": {},
   "source": [
    "<h4>ANN</h4>"
   ]
  },
  {
   "cell_type": "code",
   "execution_count": 133,
   "metadata": {},
   "outputs": [
    {
     "name": "stdout",
     "output_type": "stream",
     "text": [
      "Wall time: 12min 30s\n"
     ]
    },
    {
     "data": {
      "text/plain": [
       "MLPRegressor()"
      ]
     },
     "execution_count": 133,
     "metadata": {},
     "output_type": "execute_result"
    }
   ],
   "source": [
    "%%time\n",
    "mlp_reg = MLPRegressor()\n",
    "mlp_reg.fit(X_train,y_train)"
   ]
  },
  {
   "cell_type": "code",
   "execution_count": 135,
   "metadata": {},
   "outputs": [
    {
     "data": {
      "text/plain": [
       "0.9118939446289437"
      ]
     },
     "execution_count": 135,
     "metadata": {},
     "output_type": "execute_result"
    }
   ],
   "source": [
    "metrics.r2_score(y_pred=mlp_reg.predict(X_test), y_true=y_test)"
   ]
  },
  {
   "cell_type": "markdown",
   "metadata": {},
   "source": [
    "Perform grid search to find best MLP"
   ]
  },
  {
   "cell_type": "code",
   "execution_count": 157,
   "metadata": {},
   "outputs": [],
   "source": [
    "mlp_opt = MLPRegressor(max_iter=100,verbose=1)\n",
    "param_space = {\n",
    "    'hidden_layer_sizes': [(50,50,50), (50,100,50), (100)],\n",
    "    'activation': ['tanh', 'relu','logistic'],\n",
    "    'solver': ['sgd', 'adam'],\n",
    "    'alpha': [0.0001, 0.05],\n",
    "    'learning_rate': ['constant','adaptive'],\n",
    "}"
   ]
  },
  {
   "cell_type": "code",
   "execution_count": 158,
   "metadata": {},
   "outputs": [
    {
     "ename": "ValueError",
     "evalue": "Input contains NaN, infinity or a value too large for dtype('float64').",
     "output_type": "error",
     "traceback": [
      "\u001b[1;31m---------------------------------------------------------------------------\u001b[0m",
      "\u001b[1;31m_RemoteTraceback\u001b[0m                          Traceback (most recent call last)",
      "\u001b[1;31m_RemoteTraceback\u001b[0m: \n\"\"\"\nTraceback (most recent call last):\n  File \"c:\\python38\\lib\\site-packages\\joblib\\externals\\loky\\process_executor.py\", line 431, in _process_worker\n    r = call_item()\n  File \"c:\\python38\\lib\\site-packages\\joblib\\externals\\loky\\process_executor.py\", line 285, in __call__\n    return self.fn(*self.args, **self.kwargs)\n  File \"c:\\python38\\lib\\site-packages\\joblib\\_parallel_backends.py\", line 595, in __call__\n    return self.func(*args, **kwargs)\n  File \"c:\\python38\\lib\\site-packages\\joblib\\parallel.py\", line 252, in __call__\n    return [func(*args, **kwargs)\n  File \"c:\\python38\\lib\\site-packages\\joblib\\parallel.py\", line 252, in <listcomp>\n    return [func(*args, **kwargs)\n  File \"c:\\python38\\lib\\site-packages\\sklearn\\model_selection\\_validation.py\", line 560, in _fit_and_score\n    test_scores = _score(estimator, X_test, y_test, scorer)\n  File \"c:\\python38\\lib\\site-packages\\sklearn\\model_selection\\_validation.py\", line 607, in _score\n    scores = scorer(estimator, X_test, y_test)\n  File \"c:\\python38\\lib\\site-packages\\sklearn\\metrics\\_scorer.py\", line 90, in __call__\n    score = scorer(estimator, *args, **kwargs)\n  File \"c:\\python38\\lib\\site-packages\\sklearn\\metrics\\_scorer.py\", line 372, in _passthrough_scorer\n    return estimator.score(*args, **kwargs)\n  File \"c:\\python38\\lib\\site-packages\\sklearn\\base.py\", line 552, in score\n    return r2_score(y, y_pred, sample_weight=sample_weight)\n  File \"c:\\python38\\lib\\site-packages\\sklearn\\utils\\validation.py\", line 73, in inner_f\n    return f(**kwargs)\n  File \"c:\\python38\\lib\\site-packages\\sklearn\\metrics\\_regression.py\", line 583, in r2_score\n    y_type, y_true, y_pred, multioutput = _check_reg_targets(\n  File \"c:\\python38\\lib\\site-packages\\sklearn\\metrics\\_regression.py\", line 86, in _check_reg_targets\n    y_pred = check_array(y_pred, ensure_2d=False, dtype=dtype)\n  File \"c:\\python38\\lib\\site-packages\\sklearn\\utils\\validation.py\", line 73, in inner_f\n    return f(**kwargs)\n  File \"c:\\python38\\lib\\site-packages\\sklearn\\utils\\validation.py\", line 645, in check_array\n    _assert_all_finite(array,\n  File \"c:\\python38\\lib\\site-packages\\sklearn\\utils\\validation.py\", line 97, in _assert_all_finite\n    raise ValueError(\nValueError: Input contains NaN, infinity or a value too large for dtype('float64').\n\"\"\"",
      "\nThe above exception was the direct cause of the following exception:\n",
      "\u001b[1;31mValueError\u001b[0m                                Traceback (most recent call last)",
      "\u001b[1;32m<timed exec>\u001b[0m in \u001b[0;36m<module>\u001b[1;34m\u001b[0m\n",
      "\u001b[1;32mc:\\python38\\lib\\site-packages\\sklearn\\utils\\validation.py\u001b[0m in \u001b[0;36minner_f\u001b[1;34m(*args, **kwargs)\u001b[0m\n\u001b[0;32m     71\u001b[0m                           FutureWarning)\n\u001b[0;32m     72\u001b[0m         \u001b[0mkwargs\u001b[0m\u001b[1;33m.\u001b[0m\u001b[0mupdate\u001b[0m\u001b[1;33m(\u001b[0m\u001b[1;33m{\u001b[0m\u001b[0mk\u001b[0m\u001b[1;33m:\u001b[0m \u001b[0marg\u001b[0m \u001b[1;32mfor\u001b[0m \u001b[0mk\u001b[0m\u001b[1;33m,\u001b[0m \u001b[0marg\u001b[0m \u001b[1;32min\u001b[0m \u001b[0mzip\u001b[0m\u001b[1;33m(\u001b[0m\u001b[0msig\u001b[0m\u001b[1;33m.\u001b[0m\u001b[0mparameters\u001b[0m\u001b[1;33m,\u001b[0m \u001b[0margs\u001b[0m\u001b[1;33m)\u001b[0m\u001b[1;33m}\u001b[0m\u001b[1;33m)\u001b[0m\u001b[1;33m\u001b[0m\u001b[1;33m\u001b[0m\u001b[0m\n\u001b[1;32m---> 73\u001b[1;33m         \u001b[1;32mreturn\u001b[0m \u001b[0mf\u001b[0m\u001b[1;33m(\u001b[0m\u001b[1;33m**\u001b[0m\u001b[0mkwargs\u001b[0m\u001b[1;33m)\u001b[0m\u001b[1;33m\u001b[0m\u001b[1;33m\u001b[0m\u001b[0m\n\u001b[0m\u001b[0;32m     74\u001b[0m     \u001b[1;32mreturn\u001b[0m \u001b[0minner_f\u001b[0m\u001b[1;33m\u001b[0m\u001b[1;33m\u001b[0m\u001b[0m\n\u001b[0;32m     75\u001b[0m \u001b[1;33m\u001b[0m\u001b[0m\n",
      "\u001b[1;32mc:\\python38\\lib\\site-packages\\sklearn\\model_selection\\_search.py\u001b[0m in \u001b[0;36mfit\u001b[1;34m(self, X, y, groups, **fit_params)\u001b[0m\n\u001b[0;32m    734\u001b[0m                 \u001b[1;32mreturn\u001b[0m \u001b[0mresults\u001b[0m\u001b[1;33m\u001b[0m\u001b[1;33m\u001b[0m\u001b[0m\n\u001b[0;32m    735\u001b[0m \u001b[1;33m\u001b[0m\u001b[0m\n\u001b[1;32m--> 736\u001b[1;33m             \u001b[0mself\u001b[0m\u001b[1;33m.\u001b[0m\u001b[0m_run_search\u001b[0m\u001b[1;33m(\u001b[0m\u001b[0mevaluate_candidates\u001b[0m\u001b[1;33m)\u001b[0m\u001b[1;33m\u001b[0m\u001b[1;33m\u001b[0m\u001b[0m\n\u001b[0m\u001b[0;32m    737\u001b[0m \u001b[1;33m\u001b[0m\u001b[0m\n\u001b[0;32m    738\u001b[0m         \u001b[1;31m# For multi-metric evaluation, store the best_index_, best_params_ and\u001b[0m\u001b[1;33m\u001b[0m\u001b[1;33m\u001b[0m\u001b[1;33m\u001b[0m\u001b[0m\n",
      "\u001b[1;32mc:\\python38\\lib\\site-packages\\sklearn\\model_selection\\_search.py\u001b[0m in \u001b[0;36m_run_search\u001b[1;34m(self, evaluate_candidates)\u001b[0m\n\u001b[0;32m   1186\u001b[0m     \u001b[1;32mdef\u001b[0m \u001b[0m_run_search\u001b[0m\u001b[1;33m(\u001b[0m\u001b[0mself\u001b[0m\u001b[1;33m,\u001b[0m \u001b[0mevaluate_candidates\u001b[0m\u001b[1;33m)\u001b[0m\u001b[1;33m:\u001b[0m\u001b[1;33m\u001b[0m\u001b[1;33m\u001b[0m\u001b[0m\n\u001b[0;32m   1187\u001b[0m         \u001b[1;34m\"\"\"Search all candidates in param_grid\"\"\"\u001b[0m\u001b[1;33m\u001b[0m\u001b[1;33m\u001b[0m\u001b[0m\n\u001b[1;32m-> 1188\u001b[1;33m         \u001b[0mevaluate_candidates\u001b[0m\u001b[1;33m(\u001b[0m\u001b[0mParameterGrid\u001b[0m\u001b[1;33m(\u001b[0m\u001b[0mself\u001b[0m\u001b[1;33m.\u001b[0m\u001b[0mparam_grid\u001b[0m\u001b[1;33m)\u001b[0m\u001b[1;33m)\u001b[0m\u001b[1;33m\u001b[0m\u001b[1;33m\u001b[0m\u001b[0m\n\u001b[0m\u001b[0;32m   1189\u001b[0m \u001b[1;33m\u001b[0m\u001b[0m\n\u001b[0;32m   1190\u001b[0m \u001b[1;33m\u001b[0m\u001b[0m\n",
      "\u001b[1;32mc:\\python38\\lib\\site-packages\\sklearn\\model_selection\\_search.py\u001b[0m in \u001b[0;36mevaluate_candidates\u001b[1;34m(candidate_params)\u001b[0m\n\u001b[0;32m    706\u001b[0m                               n_splits, n_candidates, n_candidates * n_splits))\n\u001b[0;32m    707\u001b[0m \u001b[1;33m\u001b[0m\u001b[0m\n\u001b[1;32m--> 708\u001b[1;33m                 out = parallel(delayed(_fit_and_score)(clone(base_estimator),\n\u001b[0m\u001b[0;32m    709\u001b[0m                                                        \u001b[0mX\u001b[0m\u001b[1;33m,\u001b[0m \u001b[0my\u001b[0m\u001b[1;33m,\u001b[0m\u001b[1;33m\u001b[0m\u001b[1;33m\u001b[0m\u001b[0m\n\u001b[0;32m    710\u001b[0m                                                        \u001b[0mtrain\u001b[0m\u001b[1;33m=\u001b[0m\u001b[0mtrain\u001b[0m\u001b[1;33m,\u001b[0m \u001b[0mtest\u001b[0m\u001b[1;33m=\u001b[0m\u001b[0mtest\u001b[0m\u001b[1;33m,\u001b[0m\u001b[1;33m\u001b[0m\u001b[1;33m\u001b[0m\u001b[0m\n",
      "\u001b[1;32mc:\\python38\\lib\\site-packages\\joblib\\parallel.py\u001b[0m in \u001b[0;36m__call__\u001b[1;34m(self, iterable)\u001b[0m\n\u001b[0;32m   1040\u001b[0m \u001b[1;33m\u001b[0m\u001b[0m\n\u001b[0;32m   1041\u001b[0m             \u001b[1;32mwith\u001b[0m \u001b[0mself\u001b[0m\u001b[1;33m.\u001b[0m\u001b[0m_backend\u001b[0m\u001b[1;33m.\u001b[0m\u001b[0mretrieval_context\u001b[0m\u001b[1;33m(\u001b[0m\u001b[1;33m)\u001b[0m\u001b[1;33m:\u001b[0m\u001b[1;33m\u001b[0m\u001b[1;33m\u001b[0m\u001b[0m\n\u001b[1;32m-> 1042\u001b[1;33m                 \u001b[0mself\u001b[0m\u001b[1;33m.\u001b[0m\u001b[0mretrieve\u001b[0m\u001b[1;33m(\u001b[0m\u001b[1;33m)\u001b[0m\u001b[1;33m\u001b[0m\u001b[1;33m\u001b[0m\u001b[0m\n\u001b[0m\u001b[0;32m   1043\u001b[0m             \u001b[1;31m# Make sure that we get a last message telling us we are done\u001b[0m\u001b[1;33m\u001b[0m\u001b[1;33m\u001b[0m\u001b[1;33m\u001b[0m\u001b[0m\n\u001b[0;32m   1044\u001b[0m             \u001b[0melapsed_time\u001b[0m \u001b[1;33m=\u001b[0m \u001b[0mtime\u001b[0m\u001b[1;33m.\u001b[0m\u001b[0mtime\u001b[0m\u001b[1;33m(\u001b[0m\u001b[1;33m)\u001b[0m \u001b[1;33m-\u001b[0m \u001b[0mself\u001b[0m\u001b[1;33m.\u001b[0m\u001b[0m_start_time\u001b[0m\u001b[1;33m\u001b[0m\u001b[1;33m\u001b[0m\u001b[0m\n",
      "\u001b[1;32mc:\\python38\\lib\\site-packages\\joblib\\parallel.py\u001b[0m in \u001b[0;36mretrieve\u001b[1;34m(self)\u001b[0m\n\u001b[0;32m    919\u001b[0m             \u001b[1;32mtry\u001b[0m\u001b[1;33m:\u001b[0m\u001b[1;33m\u001b[0m\u001b[1;33m\u001b[0m\u001b[0m\n\u001b[0;32m    920\u001b[0m                 \u001b[1;32mif\u001b[0m \u001b[0mgetattr\u001b[0m\u001b[1;33m(\u001b[0m\u001b[0mself\u001b[0m\u001b[1;33m.\u001b[0m\u001b[0m_backend\u001b[0m\u001b[1;33m,\u001b[0m \u001b[1;34m'supports_timeout'\u001b[0m\u001b[1;33m,\u001b[0m \u001b[1;32mFalse\u001b[0m\u001b[1;33m)\u001b[0m\u001b[1;33m:\u001b[0m\u001b[1;33m\u001b[0m\u001b[1;33m\u001b[0m\u001b[0m\n\u001b[1;32m--> 921\u001b[1;33m                     \u001b[0mself\u001b[0m\u001b[1;33m.\u001b[0m\u001b[0m_output\u001b[0m\u001b[1;33m.\u001b[0m\u001b[0mextend\u001b[0m\u001b[1;33m(\u001b[0m\u001b[0mjob\u001b[0m\u001b[1;33m.\u001b[0m\u001b[0mget\u001b[0m\u001b[1;33m(\u001b[0m\u001b[0mtimeout\u001b[0m\u001b[1;33m=\u001b[0m\u001b[0mself\u001b[0m\u001b[1;33m.\u001b[0m\u001b[0mtimeout\u001b[0m\u001b[1;33m)\u001b[0m\u001b[1;33m)\u001b[0m\u001b[1;33m\u001b[0m\u001b[1;33m\u001b[0m\u001b[0m\n\u001b[0m\u001b[0;32m    922\u001b[0m                 \u001b[1;32melse\u001b[0m\u001b[1;33m:\u001b[0m\u001b[1;33m\u001b[0m\u001b[1;33m\u001b[0m\u001b[0m\n\u001b[0;32m    923\u001b[0m                     \u001b[0mself\u001b[0m\u001b[1;33m.\u001b[0m\u001b[0m_output\u001b[0m\u001b[1;33m.\u001b[0m\u001b[0mextend\u001b[0m\u001b[1;33m(\u001b[0m\u001b[0mjob\u001b[0m\u001b[1;33m.\u001b[0m\u001b[0mget\u001b[0m\u001b[1;33m(\u001b[0m\u001b[1;33m)\u001b[0m\u001b[1;33m)\u001b[0m\u001b[1;33m\u001b[0m\u001b[1;33m\u001b[0m\u001b[0m\n",
      "\u001b[1;32mc:\\python38\\lib\\site-packages\\joblib\\_parallel_backends.py\u001b[0m in \u001b[0;36mwrap_future_result\u001b[1;34m(future, timeout)\u001b[0m\n\u001b[0;32m    540\u001b[0m         AsyncResults.get from multiprocessing.\"\"\"\n\u001b[0;32m    541\u001b[0m         \u001b[1;32mtry\u001b[0m\u001b[1;33m:\u001b[0m\u001b[1;33m\u001b[0m\u001b[1;33m\u001b[0m\u001b[0m\n\u001b[1;32m--> 542\u001b[1;33m             \u001b[1;32mreturn\u001b[0m \u001b[0mfuture\u001b[0m\u001b[1;33m.\u001b[0m\u001b[0mresult\u001b[0m\u001b[1;33m(\u001b[0m\u001b[0mtimeout\u001b[0m\u001b[1;33m=\u001b[0m\u001b[0mtimeout\u001b[0m\u001b[1;33m)\u001b[0m\u001b[1;33m\u001b[0m\u001b[1;33m\u001b[0m\u001b[0m\n\u001b[0m\u001b[0;32m    543\u001b[0m         \u001b[1;32mexcept\u001b[0m \u001b[0mCfTimeoutError\u001b[0m \u001b[1;32mas\u001b[0m \u001b[0me\u001b[0m\u001b[1;33m:\u001b[0m\u001b[1;33m\u001b[0m\u001b[1;33m\u001b[0m\u001b[0m\n\u001b[0;32m    544\u001b[0m             \u001b[1;32mraise\u001b[0m \u001b[0mTimeoutError\u001b[0m \u001b[1;32mfrom\u001b[0m \u001b[0me\u001b[0m\u001b[1;33m\u001b[0m\u001b[1;33m\u001b[0m\u001b[0m\n",
      "\u001b[1;32mc:\\python38\\lib\\concurrent\\futures\\_base.py\u001b[0m in \u001b[0;36mresult\u001b[1;34m(self, timeout)\u001b[0m\n\u001b[0;32m    437\u001b[0m                 \u001b[1;32mraise\u001b[0m \u001b[0mCancelledError\u001b[0m\u001b[1;33m(\u001b[0m\u001b[1;33m)\u001b[0m\u001b[1;33m\u001b[0m\u001b[1;33m\u001b[0m\u001b[0m\n\u001b[0;32m    438\u001b[0m             \u001b[1;32melif\u001b[0m \u001b[0mself\u001b[0m\u001b[1;33m.\u001b[0m\u001b[0m_state\u001b[0m \u001b[1;33m==\u001b[0m \u001b[0mFINISHED\u001b[0m\u001b[1;33m:\u001b[0m\u001b[1;33m\u001b[0m\u001b[1;33m\u001b[0m\u001b[0m\n\u001b[1;32m--> 439\u001b[1;33m                 \u001b[1;32mreturn\u001b[0m \u001b[0mself\u001b[0m\u001b[1;33m.\u001b[0m\u001b[0m__get_result\u001b[0m\u001b[1;33m(\u001b[0m\u001b[1;33m)\u001b[0m\u001b[1;33m\u001b[0m\u001b[1;33m\u001b[0m\u001b[0m\n\u001b[0m\u001b[0;32m    440\u001b[0m             \u001b[1;32melse\u001b[0m\u001b[1;33m:\u001b[0m\u001b[1;33m\u001b[0m\u001b[1;33m\u001b[0m\u001b[0m\n\u001b[0;32m    441\u001b[0m                 \u001b[1;32mraise\u001b[0m \u001b[0mTimeoutError\u001b[0m\u001b[1;33m(\u001b[0m\u001b[1;33m)\u001b[0m\u001b[1;33m\u001b[0m\u001b[1;33m\u001b[0m\u001b[0m\n",
      "\u001b[1;32mc:\\python38\\lib\\concurrent\\futures\\_base.py\u001b[0m in \u001b[0;36m__get_result\u001b[1;34m(self)\u001b[0m\n\u001b[0;32m    386\u001b[0m     \u001b[1;32mdef\u001b[0m \u001b[0m__get_result\u001b[0m\u001b[1;33m(\u001b[0m\u001b[0mself\u001b[0m\u001b[1;33m)\u001b[0m\u001b[1;33m:\u001b[0m\u001b[1;33m\u001b[0m\u001b[1;33m\u001b[0m\u001b[0m\n\u001b[0;32m    387\u001b[0m         \u001b[1;32mif\u001b[0m \u001b[0mself\u001b[0m\u001b[1;33m.\u001b[0m\u001b[0m_exception\u001b[0m\u001b[1;33m:\u001b[0m\u001b[1;33m\u001b[0m\u001b[1;33m\u001b[0m\u001b[0m\n\u001b[1;32m--> 388\u001b[1;33m             \u001b[1;32mraise\u001b[0m \u001b[0mself\u001b[0m\u001b[1;33m.\u001b[0m\u001b[0m_exception\u001b[0m\u001b[1;33m\u001b[0m\u001b[1;33m\u001b[0m\u001b[0m\n\u001b[0m\u001b[0;32m    389\u001b[0m         \u001b[1;32melse\u001b[0m\u001b[1;33m:\u001b[0m\u001b[1;33m\u001b[0m\u001b[1;33m\u001b[0m\u001b[0m\n\u001b[0;32m    390\u001b[0m             \u001b[1;32mreturn\u001b[0m \u001b[0mself\u001b[0m\u001b[1;33m.\u001b[0m\u001b[0m_result\u001b[0m\u001b[1;33m\u001b[0m\u001b[1;33m\u001b[0m\u001b[0m\n",
      "\u001b[1;31mValueError\u001b[0m: Input contains NaN, infinity or a value too large for dtype('float64')."
     ]
    }
   ],
   "source": [
    "%%time\n",
    "clf=GridSearchCV(mlp_opt, param_space, n_jobs=-1, cv=3)\n",
    "clf.fit(X_train_np,y_train_np)"
   ]
  },
  {
   "cell_type": "markdown",
   "metadata": {},
   "source": [
    "<h4>Support Vector Regression</h4>"
   ]
  },
  {
   "cell_type": "markdown",
   "metadata": {},
   "source": [
    "<h4>Random Forest Regression</h4>"
   ]
  },
  {
   "cell_type": "markdown",
   "metadata": {},
   "source": [
    "<h4>LSTM</h4>\n",
    "<br>\n",
    "<div>LSTMs are recurrent neural network that learn from a temporal relationship in the data. Successfully training and implementing a LSTM requires that there is a trend over time in a temporal relationship and that the value of earlier time periods can be used for later time periods in practice. The following temporal relationships exist in the data.</div>\n",
    "<br>\n",
    "<ul>\n",
    "    <li>month: This is not fit for LSTM as there is no clear trend in the months</li>\n",
    "    <li>hour: This could be a promising candidate for LSTM as there is a clear bimodal trend in the distribution. However, the backend of our web application currently does not allow us to capture the all travelling times over the duration of a day, so this approach cannot be employed in practice at this time</li>\n",
    "    <li>dur_a over progression of trip (not depicted above): Assuming a trip from x to y, it can be logically reasoned that there must be a relationship between dur_a at stop x and dur_a at stop y. However, we do not have access to dur_a in real time in our backend, so a model trained on this relationship is not practical at this time.</li>"
   ]
  },
  {
   "cell_type": "code",
   "execution_count": null,
   "metadata": {},
   "outputs": [],
   "source": []
  }
 ],
 "metadata": {
  "kernelspec": {
   "display_name": "Python 3",
   "language": "python",
   "name": "python3"
  },
  "language_info": {
   "codemirror_mode": {
    "name": "ipython",
    "version": 3
   },
   "file_extension": ".py",
   "mimetype": "text/x-python",
   "name": "python",
   "nbconvert_exporter": "python",
   "pygments_lexer": "ipython3",
   "version": "3.7.3"
  }
 },
 "nbformat": 4,
 "nbformat_minor": 4
}
