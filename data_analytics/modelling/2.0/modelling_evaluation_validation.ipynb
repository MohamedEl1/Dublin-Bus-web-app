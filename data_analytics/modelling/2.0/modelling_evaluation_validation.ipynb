{
 "cells": [
  {
   "cell_type": "code",
   "execution_count": 1,
   "metadata": {},
   "outputs": [],
   "source": [
    "import pandas as pd, numpy as np, holidays, seaborn as sns, matplotlib.pyplot as plt, time, xgboost as xgb\n",
    "from sqlalchemy import create_engine\n",
    "from datetime import datetime\n",
    "from matplotlib import pyplot\n",
    "\n",
    "from sklearn.neural_network import MLPRegressor\n",
    "from sklearn.model_selection import train_test_split, GridSearchCV, KFold\n",
    "from sklearn.preprocessing import LabelEncoder, PolynomialFeatures, StandardScaler\n",
    "from sklearn.feature_selection import SelectKBest, f_regression, chi2\n",
    "from sklearn.linear_model import LinearRegression, SGDRegressor\n",
    "from sklearn.pipeline import make_pipeline\n",
    "from sklearn.svm import LinearSVR\n",
    "from sklearn.ensemble import RandomForestRegressor\n",
    "from sklearn import metrics\n",
    "\n",
    "from config import config"
   ]
  },
  {
   "cell_type": "markdown",
   "metadata": {},
   "source": [
    "<h1>Modelling Evaluation & Validation</h1>\n",
    "<br>\n",
    "<div>In this workbook, we perform all steps up to modelling in accordance with the feature selection and hyperparameter tuning notebook. In the modelling section, we pit the best hyperparameter configurations we learned from said notebook for a Multi-layer Perceptron, Random Forest Regressor, Polynomial Regressor and Extreme Gradient Booster against each other and compare their 5-fold cross validated performance. The training time and performance result is evaluated to choose the model for deployment.</div>"
   ]
  },
  {
   "cell_type": "markdown",
   "metadata": {},
   "source": [
    "<h2>Data Collection</h2>"
   ]
  },
  {
   "cell_type": "code",
   "execution_count": 2,
   "metadata": {},
   "outputs": [],
   "source": [
    "#establish connection to db and retrieve data\n",
    "config=config()\n",
    "engine=create_engine(\"postgresql://\"+config[\"user\"]+\":\"+config[\"password\"]+\"@\"+config[\"host\"]+\"/\"+config[\"database\"])\n",
    "line='15A'\n",
    "direction=1\n",
    "sql=(\"SELECT lt.daystamp, lt.progr_number, lt.stoppoint_id,lt.arrival_time_p,lt.arrival_time_a,\"\n",
    "    \"lt.departure_time_p,lt.departure_time_a,trips.route_id,\"\n",
    "     \"trips.arrival_time_p,trips.departure_time_p,trips.departure_time_a,\"\n",
    "     \"weather_main,temp,feels_like,temp_min,temp_max,pressure,humidity,wind_speed,wind_deg,clouds_all,weather_description \"\n",
    "     \"FROM leavetimes AS lt, trips, weather \"\n",
    "     \"WHERE trips.line_id='\"+line+\"' AND trips.direction=\"+str(direction)+\" AND trips.suppressed=0 \"\n",
    "     \"AND lt.daystamp = trips.daystamp AND lt.trip_id = trips.trip_id AND lt.suppressed=0\"\n",
    "     \"AND lt.weather_id = weather.daytime\")\n",
    "df = pd.read_sql(sql,engine)"
   ]
  },
  {
   "cell_type": "code",
   "execution_count": 3,
   "metadata": {},
   "outputs": [],
   "source": [
    "#renames the features of the dataframe\n",
    "features=list(df.columns)\n",
    "features[0]=\"daystamp\"\n",
    "features[2]=\"stop_id\"\n",
    "features[3]=\"arr_p\"\n",
    "features[4]=\"arr_a\"\n",
    "features[5]=\"dep_p\"\n",
    "features[6]=\"dep_a\"\n",
    "features[8]=\"end_p\"\n",
    "features[9]=\"start_p\"\n",
    "features[10]=\"start_a\"\n",
    "df.columns=features"
   ]
  },
  {
   "cell_type": "code",
   "execution_count": 4,
   "metadata": {},
   "outputs": [],
   "source": [
    "holidays_IE=holidays.Ireland()\n",
    "def daystamp_converter(time):\n",
    "    \"\"\"extracts and returns tuple of (weekday,month,hour,holiday) from datetime object.\"\"\"\n",
    "    date=datetime.fromtimestamp(time)\n",
    "    if date in holidays_IE:\n",
    "        holiday=1\n",
    "    else:\n",
    "        holiday=0\n",
    "    return (date.weekday(),date.month,date.hour,holiday)"
   ]
  },
  {
   "cell_type": "code",
   "execution_count": 5,
   "metadata": {},
   "outputs": [],
   "source": [
    "#convert time specific data from the dataframe\n",
    "df[\"dt\"]=df.daystamp.values+df.dep_p.values\n",
    "df[\"weekday\"],df[\"month\"],df[\"hour\"],df[\"holiday\"]=zip(*df['dt'].apply(daystamp_converter))\n",
    "df[\"dur_s\"]=df.dep_p.values-df.start_p.values\n",
    "df[\"dur_a\"]=df.dep_a.values-df.start_a.values"
   ]
  },
  {
   "cell_type": "markdown",
   "metadata": {},
   "source": [
    "<h2>Feature Cleaning</h2>"
   ]
  },
  {
   "cell_type": "code",
   "execution_count": 6,
   "metadata": {},
   "outputs": [],
   "source": [
    "#create log dict\n",
    "logs={\n",
    "    \"rows\":{\n",
    "        \"start\":df.shape[0]\n",
    "    }\n",
    "}"
   ]
  },
  {
   "cell_type": "code",
   "execution_count": 7,
   "metadata": {},
   "outputs": [],
   "source": [
    "#filter out uncommon routes\n",
    "routes=df.route_id.value_counts().index[0]\n",
    "df_clean=df[df.route_id==routes]\n",
    "rows_routes=df_clean.shape[0]\n",
    "logs[\"rows\"][\"route_filter\"]=rows_routes-logs[\"rows\"][\"start\"]"
   ]
  },
  {
   "cell_type": "code",
   "execution_count": 8,
   "metadata": {},
   "outputs": [],
   "source": [
    "#remove null values\n",
    "df_clean = df_clean.dropna(axis = 0, how ='any') \n",
    "rows_after_nan=df_clean.shape[0]\n",
    "logs[\"rows\"][\"nan_filter\"]=rows_after_nan-rows_routes"
   ]
  },
  {
   "cell_type": "code",
   "execution_count": 9,
   "metadata": {},
   "outputs": [],
   "source": [
    "#calculate ratio of least to most visited stop\n",
    "stop_counts=df_clean.stop_id.value_counts()\n",
    "logs[\"scr\"]=min(stop_counts)/max(stop_counts)"
   ]
  },
  {
   "cell_type": "code",
   "execution_count": 10,
   "metadata": {},
   "outputs": [],
   "source": [
    "#assign features to type\n",
    "categorical=[\"stop_id\",\"route_id\",\"weather_main\",\"weather_description\",\"weekday\",\"month\",\"hour\",\"holiday\"]\n",
    "df_clean[categorical]=df_clean[categorical].astype(\"category\")\n",
    "ints=['daystamp','progr_number','arr_p','arr_a','dep_p','dep_a','dur_s','dur_a','pressure','humidity','wind_deg','clouds_all']\n",
    "floats=['temp','feels_like','temp_min','temp_max','wind_speed']"
   ]
  },
  {
   "cell_type": "code",
   "execution_count": 11,
   "metadata": {},
   "outputs": [],
   "source": [
    "#clean up dataframe\n",
    "df_clean=df_clean.drop([\"route_id\"],axis=1)\n",
    "df_clean[ints]=df_clean[ints].astype('int64')\n",
    "df_clean=df_clean[df_clean.dur_a>=0]\n",
    "rows_after_dur=df_clean.shape[0]\n",
    "logs[\"rows\"][\"negative_dur\"]=rows_after_dur-rows_after_nan\n",
    "df_clean=df_clean.drop([\"stop_id\"],axis=1)"
   ]
  },
  {
   "cell_type": "code",
   "execution_count": 12,
   "metadata": {},
   "outputs": [],
   "source": [
    "#create dataframe with means and standard deviations per progr_number\n",
    "dur_stats_df=pd.DataFrame(columns=[\"progr_number\",\"dur_mean\",\"dur_std\"])\n",
    "for progr_number in df_clean.progr_number.unique():\n",
    "    durations=df_clean.dur_a[df_clean[\"progr_number\"]==progr_number]\n",
    "    dur_stats_df=dur_stats_df.append(pd.Series([progr_number,durations.mean(),durations.std()],index=dur_stats_df.columns),ignore_index=True)\n",
    "    dur_stats_df[\"progr_number\"]=dur_stats_df[\"progr_number\"].astype('int64')\n",
    "\n",
    "#merge duration stats with df_clean and look for outliers (outside 3 SDs from mean)\n",
    "df_clean=df_clean.merge(dur_stats_df,how='inner',on='progr_number')\n",
    "df_clean[\"outlier\"]=abs(df_clean[\"dur_a\"]-df_clean[\"dur_mean\"])>3*df_clean[\"dur_std\"]\n",
    "\n",
    "#only keep rows that aren't outliers\n",
    "df_clean=df_clean[df_clean[\"outlier\"]==False]\n",
    "rows_after_outliers=df_clean.shape[0]\n",
    "logs[\"rows\"][\"outliers\"]=rows_after_outliers-rows_after_dur\n",
    "\n",
    "#remove stat columns from dataframe\n",
    "df_clean=df_clean.drop([\"dur_mean\",\"dur_std\",\"outlier\"],axis=1)"
   ]
  },
  {
   "cell_type": "code",
   "execution_count": 13,
   "metadata": {},
   "outputs": [],
   "source": [
    "#add statistics of means and std to logs\n",
    "logs[\"stats\"]=dur_stats_df.set_index(\"progr_number\").to_dict(\"index\")"
   ]
  },
  {
   "cell_type": "markdown",
   "metadata": {},
   "source": [
    "<h2>Feature Selection</h2>"
   ]
  },
  {
   "cell_type": "code",
   "execution_count": 14,
   "metadata": {},
   "outputs": [
    {
     "name": "stderr",
     "output_type": "stream",
     "text": [
      "c:\\python38\\lib\\site-packages\\sklearn\\feature_selection\\_univariate_selection.py:302: RuntimeWarning: invalid value encountered in true_divide\n",
      "  corr /= X_norms\n"
     ]
    }
   ],
   "source": [
    "#determine best feature combinations\n",
    "y=df_clean[\"dur_a\"]\n",
    "X=df_clean.drop([\"dur_a\"],axis=1)\n",
    "X_train,X_test,y_train,y_test=train_test_split(X,y,test_size=0.3,random_state=1)\n",
    "categorical=X_train.columns[X_train.dtypes==\"category\"]\n",
    "X_train_enc=pd.get_dummies(X_train[categorical],drop_first=True)\n",
    "X_test_enc=pd.get_dummies(X_test[categorical],drop_first=True)\n",
    "dummy_columns=list(X_train_enc.columns)\n",
    "#calculate f-regression values\n",
    "fs=SelectKBest(score_func=f_regression, k='all')\n",
    "fs.fit(X_train_enc,y_train)\n",
    "X_train_fs=fs.transform(X_train_enc)\n",
    "X_test_fs=fs.transform(X_test_enc)"
   ]
  },
  {
   "cell_type": "code",
   "execution_count": 15,
   "metadata": {},
   "outputs": [
    {
     "data": {
      "image/png": "[encoded data removed]",
      "text/plain": [
       "<Figure size 1152x648 with 1 Axes>"
      ]
     },
     "metadata": {
      "needs_background": "light"
     },
     "output_type": "display_data"
    }
   ],
   "source": [
    "plt.figure(figsize=(16,9))\n",
    "ax = sns.barplot(x=dummy_columns, y=fs.scores_,palette=\"Blues_d\")\n",
    "ax.set_xticklabels(ax.get_xticklabels(), rotation=90, ha=\"right\")\n",
    "plt.show()"
   ]
  },
  {
   "cell_type": "code",
   "execution_count": 16,
   "metadata": {},
   "outputs": [],
   "source": [
    "#calculate correlation for numerical features\n",
    "numeric=X_train.columns[(X_train.dtypes==\"int64\") | (X_train.dtypes==\"float64\")]\n",
    "corr=pd.concat([X_train[numeric], y], axis=1).corr()"
   ]
  },
  {
   "cell_type": "code",
   "execution_count": 17,
   "metadata": {},
   "outputs": [
    {
     "data": {
      "image/png": "[encoded data removed]",
      "text/plain": [
       "<Figure size 1152x648 with 2 Axes>"
      ]
     },
     "metadata": {
      "needs_background": "light"
     },
     "output_type": "display_data"
    }
   ],
   "source": [
    "plt.figure(figsize=(16,9))\n",
    "sns.heatmap(corr,xticklabels=corr.columns,yticklabels=corr.columns,linewidth=.5,cmap=\"YlGnBu\")\n",
    "plt.show()"
   ]
  },
  {
   "cell_type": "code",
   "execution_count": 18,
   "metadata": {},
   "outputs": [],
   "source": [
    "#assemble dataframe for modelling\n",
    "high_corr=corr[\"dur_a\"][(corr[\"dur_a\"]>=0.5) | (corr[\"dur_a\"]<=-0.5)]\n",
    "numeric=high_corr.drop([\"dur_a\"]).index\n",
    "X=pd.concat([pd.get_dummies(X[categorical].drop([\"weather_main\"],axis=1),drop_first=True),df_clean[numeric]],axis=1)\n",
    "y=df_clean[\"dur_a\"]\n",
    "X=X.reset_index(drop=True)\n",
    "y=y.reset_index(drop=True)"
   ]
  },
  {
   "cell_type": "markdown",
   "metadata": {},
   "source": [
    "<h2>Modelling Evaluation</h2>"
   ]
  },
  {
   "cell_type": "code",
   "execution_count": 19,
   "metadata": {},
   "outputs": [],
   "source": [
    "#calculating benchmark\n",
    "kf=KFold(n_splits=5,shuffle=True) \n",
    "r_2=[]\n",
    "mse=[]\n",
    "rmse=[]\n",
    "mae=[]\n",
    "for train_index,test_index in kf.split(X):\n",
    "        X_test=X[\"dur_s\"].values[test_index]\n",
    "        y_test=y.values[test_index]\n",
    "        r_2.append(metrics.r2_score(y_pred=X_test, y_true=y_test))\n",
    "        curr_mse=metrics.mean_squared_error(y_pred=X_test, y_true=y_test)\n",
    "        mse.append(curr_mse)\n",
    "        rmse.append(curr_mse**(1/2))\n",
    "        mae.append(metrics.mean_absolute_error(y_pred=X_test, y_true=y_test))\n",
    "logs[\"modelling\"]={\n",
    "    \"Benchmark\":{\n",
    "        \"r_2\":sum(r_2)/len(r_2),\n",
    "        \"mse\":sum(mse)/len(mse),\n",
    "        \"rmse\":sum(rmse)/len(rmse),\n",
    "        \"mae\":sum(mae)/len(mae)\n",
    "    }     \n",
    "}"
   ]
  },
  {
   "cell_type": "code",
   "execution_count": 20,
   "metadata": {},
   "outputs": [],
   "source": [
    "#define cross validation function for the models\n",
    "def cross_val(model):\n",
    "    start=time.time()\n",
    "    r_2=[]\n",
    "    mse=[]\n",
    "    rmse=[]\n",
    "    mae=[]\n",
    "    for train_index,test_index in kf.split(X):\n",
    "        X_train,X_test=X.values[train_index],X.values[test_index]\n",
    "        y_train,y_test=y.values[train_index],y.values[test_index]\n",
    "        model.fit(X_train,y_train)\n",
    "        r_2.append(metrics.r2_score(y_pred=model.predict(X_test), y_true=y_test))\n",
    "        curr_mse=metrics.mean_squared_error(y_pred=model.predict(X_test), y_true=y_test)\n",
    "        mse.append(curr_mse)\n",
    "        rmse.append(curr_mse**(1/2))\n",
    "        mae.append(metrics.mean_absolute_error(y_pred=model.predict(X_test), y_true=y_test))\n",
    "        print(f\"Iteration done after {time.time()-start} secs.\")\n",
    "    cv_time=time.time()-start\n",
    "    return {\n",
    "        \"time\":cv_time,\n",
    "        \"r_2\":sum(r_2)/len(r_2),\n",
    "        \"mse\":sum(mse)/len(mse),\n",
    "        \"rmse\":sum(rmse)/len(rmse),\n",
    "        \"mae\":sum(mae)/len(mae)\n",
    "    }"
   ]
  },
  {
   "cell_type": "code",
   "execution_count": 21,
   "metadata": {},
   "outputs": [
    {
     "name": "stderr",
     "output_type": "stream",
     "text": [
      "c:\\python38\\lib\\site-packages\\sklearn\\neural_network\\_multilayer_perceptron.py:582: ConvergenceWarning: Stochastic Optimizer: Maximum iterations (100) reached and the optimization hasn't converged yet.\n",
      "  warnings.warn(\n"
     ]
    },
    {
     "name": "stdout",
     "output_type": "stream",
     "text": [
      "Iteration done after 1408.270269393921 secs.\n"
     ]
    },
    {
     "name": "stderr",
     "output_type": "stream",
     "text": [
      "c:\\python38\\lib\\site-packages\\sklearn\\neural_network\\_multilayer_perceptron.py:582: ConvergenceWarning: Stochastic Optimizer: Maximum iterations (100) reached and the optimization hasn't converged yet.\n",
      "  warnings.warn(\n"
     ]
    },
    {
     "name": "stdout",
     "output_type": "stream",
     "text": [
      "Iteration done after 2613.796504497528 secs.\n"
     ]
    },
    {
     "name": "stderr",
     "output_type": "stream",
     "text": [
      "c:\\python38\\lib\\site-packages\\sklearn\\neural_network\\_multilayer_perceptron.py:582: ConvergenceWarning: Stochastic Optimizer: Maximum iterations (100) reached and the optimization hasn't converged yet.\n",
      "  warnings.warn(\n"
     ]
    },
    {
     "name": "stdout",
     "output_type": "stream",
     "text": [
      "Iteration done after 3877.0829725265503 secs.\n"
     ]
    },
    {
     "name": "stderr",
     "output_type": "stream",
     "text": [
      "c:\\python38\\lib\\site-packages\\sklearn\\neural_network\\_multilayer_perceptron.py:582: ConvergenceWarning: Stochastic Optimizer: Maximum iterations (100) reached and the optimization hasn't converged yet.\n",
      "  warnings.warn(\n"
     ]
    },
    {
     "name": "stdout",
     "output_type": "stream",
     "text": [
      "Iteration done after 5107.330980062485 secs.\n"
     ]
    },
    {
     "name": "stderr",
     "output_type": "stream",
     "text": [
      "c:\\python38\\lib\\site-packages\\sklearn\\neural_network\\_multilayer_perceptron.py:582: ConvergenceWarning: Stochastic Optimizer: Maximum iterations (100) reached and the optimization hasn't converged yet.\n",
      "  warnings.warn(\n"
     ]
    },
    {
     "name": "stdout",
     "output_type": "stream",
     "text": [
      "Iteration done after 6335.479747772217 secs.\n"
     ]
    }
   ],
   "source": [
    "mlp=MLPRegressor(max_iter=100,hidden_layer_sizes=(50,100,50))\n",
    "logs[\"modelling\"][\"Multi-layer Perceptron\"]=cross_val(mlp)"
   ]
  },
  {
   "cell_type": "code",
   "execution_count": 22,
   "metadata": {},
   "outputs": [
    {
     "name": "stdout",
     "output_type": "stream",
     "text": [
      "Iteration done after 422.0538990497589 secs.\n",
      "Iteration done after 847.0923688411713 secs.\n",
      "Iteration done after 1267.8529841899872 secs.\n",
      "Iteration done after 1684.4786496162415 secs.\n",
      "Iteration done after 2107.94095993042 secs.\n"
     ]
    }
   ],
   "source": [
    "rfr_reg=RandomForestRegressor()\n",
    "logs[\"modelling\"][\"Random Forest Regression\"]=cross_val(rfr_reg)"
   ]
  },
  {
   "cell_type": "code",
   "execution_count": 24,
   "metadata": {},
   "outputs": [
    {
     "name": "stdout",
     "output_type": "stream",
     "text": [
      "Iteration done after 146.64400506019592 secs.\n",
      "Iteration done after 357.2078218460083 secs.\n",
      "Iteration done after 542.7884814739227 secs.\n",
      "Iteration done after 745.6083996295929 secs.\n",
      "Iteration done after 924.3188495635986 secs.\n"
     ]
    }
   ],
   "source": [
    "poly_reg=make_pipeline(PolynomialFeatures(2),LinearRegression())\n",
    "pol_results=cross_val(poly_reg)"
   ]
  },
  {
   "cell_type": "code",
   "execution_count": 25,
   "metadata": {},
   "outputs": [
    {
     "data": {
      "text/plain": [
       "{'time': 924.338849067688,\n",
       " 'r_2': 0.9315503007999457,\n",
       " 'mse': 51405.67527668731,\n",
       " 'rmse': 226.7259552972901,\n",
       " 'mae': 164.60687477336373}"
      ]
     },
     "execution_count": 25,
     "metadata": {},
     "output_type": "execute_result"
    }
   ],
   "source": [
    "pol_results"
   ]
  },
  {
   "cell_type": "code",
   "execution_count": 21,
   "metadata": {
    "scrolled": true
   },
   "outputs": [
    {
     "name": "stdout",
     "output_type": "stream",
     "text": [
      "Iteration done after 112.70116233825684 secs.\n",
      "Iteration done after 225.3616237640381 secs.\n",
      "Iteration done after 339.94807410240173 secs.\n",
      "Iteration done after 455.7542998790741 secs.\n",
      "Iteration done after 568.4863662719727 secs.\n"
     ]
    }
   ],
   "source": [
    "xgb_reg=xgb.XGBRegressor(learning_rate=0.3, max_depth=5, n_estimators=200)\n",
    "logs[\"modelling\"][\"XGBoost\"]=cross_val(xgb_reg)"
   ]
  },
  {
   "cell_type": "code",
   "execution_count": 22,
   "metadata": {},
   "outputs": [
    {
     "data": {
      "text/plain": [
       "{'time': 568.4873654842377,\n",
       " 'r_2': 0.9377784667644985,\n",
       " 'mse': 46728.60549897342,\n",
       " 'rmse': 216.1671538184989,\n",
       " 'mae': 153.90779865464583}"
      ]
     },
     "execution_count": 22,
     "metadata": {},
     "output_type": "execute_result"
    }
   ],
   "source": [
    "logs[\"modelling\"][\"XGBoost\"]"
   ]
  },
  {
   "cell_type": "code",
   "execution_count": 32,
   "metadata": {},
   "outputs": [
    {
     "data": {
      "text/plain": [
       "{'Benchmark': {'r_2': 0.8715217272412099,\n",
       "  'mse': 96486.22869596034,\n",
       "  'rmse': 310.6209624153072,\n",
       "  'mae': 219.44017410900437},\n",
       " 'Multi-layer Perceptron': {'time': 6335.480748176575,\n",
       "  'r_2': 0.936330036808428,\n",
       "  'mse': 47815.630629905965,\n",
       "  'rmse': 218.62950395175835,\n",
       "  'mae': 154.82256130762076},\n",
       " 'Random Forest Regression': {'time': 2107.9419610500336,\n",
       "  'r_2': 0.9276185281596103,\n",
       "  'mse': 54358.55379444116,\n",
       "  'rmse': 233.148091469369,\n",
       "  'mae': 165.19491608214716},\n",
       " 'Polynomial Regression': {'time': 885.4161512851715,\n",
       "  'r_2': 0.9315644746778828,\n",
       "  'mse': 51394.61009096293,\n",
       "  'rmse': 226.70319662263063,\n",
       "  'mae': 164.59359547831082},\n",
       " 'XGBoost': {'time': 885.4161512851715,\n",
       "  'r_2': 0.9315644746778828,\n",
       "  'mse': 51394.61009096293,\n",
       "  'rmse': 226.70319662263063,\n",
       "  'mae': 164.59359547831082}}"
      ]
     },
     "execution_count": 32,
     "metadata": {},
     "output_type": "execute_result"
    }
   ],
   "source": [
    "logs[\"modelling\"]"
   ]
  },
  {
   "cell_type": "code",
   "execution_count": 33,
   "metadata": {},
   "outputs": [
    {
     "data": {
      "text/plain": [
       "{'rows': {'start': 614114,\n",
       "  'route_filter': 0,\n",
       "  'nan_filter': -17943,\n",
       "  'negative_dur': -1060,\n",
       "  'outliers': -5200},\n",
       " 'scr': 0.9868873742291464,\n",
       " 'stats': {1: {'dur_mean': 0.0, 'dur_std': 0.0},\n",
       "  2: {'dur_mean': 91.23763745308487, 'dur_std': 78.81209674496715},\n",
       "  3: {'dur_mean': 154.90575985237908, 'dur_std': 94.20358824096739},\n",
       "  4: {'dur_mean': 205.5610859728507, 'dur_std': 110.37639009937962},\n",
       "  5: {'dur_mean': 247.9658315844701, 'dur_std': 122.0267481508274},\n",
       "  6: {'dur_mean': 345.35794743429284, 'dur_std': 147.78585594356608},\n",
       "  7: {'dur_mean': 690.2152431011826, 'dur_std': 254.54645150997314},\n",
       "  8: {'dur_mean': 811.4497962938625, 'dur_std': 287.1087495418867},\n",
       "  9: {'dur_mean': 924.2014714576627, 'dur_std': 303.83657943186597},\n",
       "  10: {'dur_mean': 1063.4412846446867, 'dur_std': 308.13416927230656},\n",
       "  11: {'dur_mean': 1204.5778914240755, 'dur_std': 330.95258566363344},\n",
       "  12: {'dur_mean': 1266.5328534031414, 'dur_std': 347.8359590503947},\n",
       "  13: {'dur_mean': 1308.9253614181985, 'dur_std': 366.7987446882717},\n",
       "  14: {'dur_mean': 1340.1767514881926, 'dur_std': 377.3983961530723},\n",
       "  15: {'dur_mean': 1389.2154490156322, 'dur_std': 390.99743260265404},\n",
       "  16: {'dur_mean': 1452.7624591236101, 'dur_std': 400.2169760503241},\n",
       "  17: {'dur_mean': 1518.9370135391457, 'dur_std': 409.47779346399057},\n",
       "  18: {'dur_mean': 1558.6944262724062, 'dur_std': 414.263076095653},\n",
       "  19: {'dur_mean': 1619.4366492146596, 'dur_std': 425.0588653193951},\n",
       "  20: {'dur_mean': 1648.8930043845298, 'dur_std': 432.9406528666397},\n",
       "  21: {'dur_mean': 1705.3502813767832, 'dur_std': 452.69930146280467},\n",
       "  22: {'dur_mean': 1773.0888685295465, 'dur_std': 466.6794462835737},\n",
       "  23: {'dur_mean': 1799.5009491392289, 'dur_std': 472.4587553911009},\n",
       "  24: {'dur_mean': 1888.5780206833356, 'dur_std': 503.4670451539225},\n",
       "  25: {'dur_mean': 1973.262858264625, 'dur_std': 516.9223085382195},\n",
       "  26: {'dur_mean': 2013.9935120256898, 'dur_std': 523.2763675092367},\n",
       "  27: {'dur_mean': 2049.283879423329, 'dur_std': 528.9197128741821},\n",
       "  28: {'dur_mean': 2091.097247706422, 'dur_std': 535.3834339092282},\n",
       "  29: {'dur_mean': 2175.5548277217345, 'dur_std': 545.9312498999969},\n",
       "  30: {'dur_mean': 2229.632681107257, 'dur_std': 553.1470993892722},\n",
       "  31: {'dur_mean': 2263.0287284863557, 'dur_std': 558.1538085315597},\n",
       "  32: {'dur_mean': 2292.8820180604635, 'dur_std': 564.20429141171},\n",
       "  33: {'dur_mean': 2325.4253648321446, 'dur_std': 570.1395337117799},\n",
       "  34: {'dur_mean': 2383.454259913624, 'dur_std': 581.0263928309394},\n",
       "  35: {'dur_mean': 2414.335274487993, 'dur_std': 589.2232646667088},\n",
       "  36: {'dur_mean': 2464.136888364161, 'dur_std': 599.2748114131167},\n",
       "  37: {'dur_mean': 2494.32144267474, 'dur_std': 602.1362307802258},\n",
       "  38: {'dur_mean': 2523.1934974331975, 'dur_std': 608.0221439013002},\n",
       "  39: {'dur_mean': 2567.9870967741936, 'dur_std': 610.6220703162655}},\n",
       " 'modelling': {'Benchmark': {'r_2': 0.8715217272412099,\n",
       "   'mse': 96486.22869596034,\n",
       "   'rmse': 310.6209624153072,\n",
       "   'mae': 219.44017410900437},\n",
       "  'Multi-layer Perceptron': {'time': 6335.480748176575,\n",
       "   'r_2': 0.936330036808428,\n",
       "   'mse': 47815.630629905965,\n",
       "   'rmse': 218.62950395175835,\n",
       "   'mae': 154.82256130762076},\n",
       "  'Random Forest Regression': {'time': 2107.9419610500336,\n",
       "   'r_2': 0.9276185281596103,\n",
       "   'mse': 54358.55379444116,\n",
       "   'rmse': 233.148091469369,\n",
       "   'mae': 165.19491608214716},\n",
       "  'Polynomial Regression': {'time': 885.4161512851715,\n",
       "   'r_2': 0.9315644746778828,\n",
       "   'mse': 51394.61009096293,\n",
       "   'rmse': 226.70319662263063,\n",
       "   'mae': 164.59359547831082},\n",
       "  'XGBoost': {'time': 885.4161512851715,\n",
       "   'r_2': 0.9315644746778828,\n",
       "   'mse': 51394.61009096293,\n",
       "   'rmse': 226.70319662263063,\n",
       "   'mae': 164.59359547831082}}}"
      ]
     },
     "execution_count": 33,
     "metadata": {},
     "output_type": "execute_result"
    }
   ],
   "source": [
    "logs"
   ]
  },
  {
   "cell_type": "code",
   "execution_count": null,
   "metadata": {},
   "outputs": [],
   "source": []
  }
 ],
 "metadata": {
  "kernelspec": {
   "display_name": "Python 3",
   "language": "python",
   "name": "python3"
  },
  "language_info": {
   "codemirror_mode": {
    "name": "ipython",
    "version": 3
   },
   "file_extension": ".py",
   "mimetype": "text/x-python",
   "name": "python",
   "nbconvert_exporter": "python",
   "pygments_lexer": "ipython3",
   "version": "3.8.3"
  }
 },
 "nbformat": 4,
 "nbformat_minor": 4
}
