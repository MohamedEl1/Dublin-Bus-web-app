{
 "cells": [
  {
   "cell_type": "code",
   "execution_count": 21,
   "metadata": {},
   "outputs": [],
   "source": [
    "import requests\n",
    "import pandas as pd"
   ]
  },
  {
   "cell_type": "code",
   "execution_count": 2,
   "metadata": {},
   "outputs": [],
   "source": [
    "url=\"https://api.transitfeeds.com/v1/getLocations\""
   ]
  },
  {
   "cell_type": "code",
   "execution_count": 4,
   "metadata": {},
   "outputs": [],
   "source": [
    "params={\n",
    "    \"key\":\"3abc89a4-1439-467f-9d82-218f2c608ae0\"\n",
    "}"
   ]
  },
  {
   "cell_type": "code",
   "execution_count": 5,
   "metadata": {},
   "outputs": [],
   "source": [
    "response=requests.get(url=url,params=params)\n",
    "transit_cities=response.json()"
   ]
  },
  {
   "cell_type": "code",
   "execution_count": 9,
   "metadata": {},
   "outputs": [
    {
     "name": "stdout",
     "output_type": "stream",
     "text": [
      "{'id': 579, 'pid': 578, 't': 'Dublin, Ireland', 'n': 'Dublin', 'lat': 53.349805, 'lng': -6.26031}\n"
     ]
    }
   ],
   "source": [
    "for city in transit_cities[\"results\"][\"locations\"]:\n",
    "    if city[\"t\"]==\"Dublin, Ireland\":\n",
    "        print(city)\n",
    "        break"
   ]
  },
  {
   "cell_type": "code",
   "execution_count": 14,
   "metadata": {},
   "outputs": [],
   "source": [
    "url=\"https://api.transitfeeds.com/v1/getFeeds\"\n",
    "params={\n",
    "    \"key\":\"3abc89a4-1439-467f-9d82-218f2c608ae0\",\n",
    "    \"location\":city[\"id\"],\n",
    "    \"descendants\":1,\n",
    "    \"page\":1,\n",
    "    \"limit\":10\n",
    "}"
   ]
  },
  {
   "cell_type": "code",
   "execution_count": 15,
   "metadata": {},
   "outputs": [],
   "source": [
    "response=requests.get(url=url,params=params)"
   ]
  },
  {
   "cell_type": "code",
   "execution_count": 16,
   "metadata": {},
   "outputs": [],
   "source": [
    "dublin_feeds=response.json()"
   ]
  },
  {
   "cell_type": "code",
   "execution_count": 17,
   "metadata": {},
   "outputs": [
    {
     "data": {
      "text/plain": [
       "{'status': 'OK',\n",
       " 'ts': 1596472528,\n",
       " 'results': {'total': 3,\n",
       "  'limit': 10,\n",
       "  'page': 1,\n",
       "  'numPages': 1,\n",
       "  'feeds': [{'id': 'transport-for-ireland/1045',\n",
       "    'ty': 'gtfs',\n",
       "    't': 'LUAS GTFS',\n",
       "    'l': {'id': 579,\n",
       "     'pid': 578,\n",
       "     't': 'Dublin, Ireland',\n",
       "     'n': 'Dublin',\n",
       "     'lat': 53.349805,\n",
       "     'lng': -6.26031},\n",
       "    'u': {'i': 'https://www.transportforireland.ie/transitData/PT_Data.html',\n",
       "     'd': 'https://www.transportforireland.ie/transitData/google_transit_luas.zip'},\n",
       "    'latest': {'ts': 1576093166}},\n",
       "   {'id': 'transport-for-ireland/1044',\n",
       "    'ty': 'gtfs',\n",
       "    't': 'Go Ahead Ireland GTFS',\n",
       "    'l': {'id': 579,\n",
       "     'pid': 578,\n",
       "     't': 'Dublin, Ireland',\n",
       "     'n': 'Dublin',\n",
       "     'lat': 53.349805,\n",
       "     'lng': -6.26031},\n",
       "    'u': {'i': 'https://data.gov.ie/pages/opendatalicence'},\n",
       "    'latest': {'ts': 1591809086}},\n",
       "   {'id': 'transport-for-ireland/782',\n",
       "    'ty': 'gtfs',\n",
       "    't': 'Dublin Bus GTFS',\n",
       "    'l': {'id': 579,\n",
       "     'pid': 578,\n",
       "     't': 'Dublin, Ireland',\n",
       "     'n': 'Dublin',\n",
       "     'lat': 53.349805,\n",
       "     'lng': -6.26031},\n",
       "    'u': {'d': 'http://www.transportforireland.ie/transitData/google_transit_dublinbus.zip'},\n",
       "    'latest': {'ts': 1596107610}}]}}"
      ]
     },
     "execution_count": 17,
     "metadata": {},
     "output_type": "execute_result"
    }
   ],
   "source": [
    "dublin_feeds"
   ]
  },
  {
   "cell_type": "code",
   "execution_count": 20,
   "metadata": {},
   "outputs": [
    {
     "name": "stdout",
     "output_type": "stream",
     "text": [
      "{'id': 'transport-for-ireland/782', 'ty': 'gtfs', 't': 'Dublin Bus GTFS', 'l': {'id': 579, 'pid': 578, 't': 'Dublin, Ireland', 'n': 'Dublin', 'lat': 53.349805, 'lng': -6.26031}, 'u': {'d': 'http://www.transportforireland.ie/transitData/google_transit_dublinbus.zip'}, 'latest': {'ts': 1596107610}}\n"
     ]
    }
   ],
   "source": [
    "for feed in dublin_feeds[\"results\"][\"feeds\"]:\n",
    "    if \"Dublin Bus\" in feed[\"t\"]:\n",
    "        print(feed)\n",
    "        break"
   ]
  }
 ],
 "metadata": {
  "kernelspec": {
   "display_name": "Python 3",
   "language": "python",
   "name": "python3"
  },
  "language_info": {
   "codemirror_mode": {
    "name": "ipython",
    "version": 3
   },
   "file_extension": ".py",
   "mimetype": "text/x-python",
   "name": "python",
   "nbconvert_exporter": "python",
   "pygments_lexer": "ipython3",
   "version": "3.8.3"
  }
 },
 "nbformat": 4,
 "nbformat_minor": 4
}
