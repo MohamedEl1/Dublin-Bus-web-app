{
 "cells": [
  {
   "cell_type": "code",
   "execution_count": 1,
   "metadata": {},
   "outputs": [],
   "source": [
    "import pandas as pd\n",
    "from datetime import datetime\n",
    "from datetime import timezone"
   ]
  },
  {
   "cell_type": "code",
   "execution_count": 2,
   "metadata": {},
   "outputs": [],
   "source": [
    "calendar_df=pd.read_csv(\"gtfs/calendar.txt\")"
   ]
  },
  {
   "cell_type": "code",
   "execution_count": 3,
   "metadata": {},
   "outputs": [
    {
     "data": {
      "text/html": [
       "<div>\n",
       "<style scoped>\n",
       "    .dataframe tbody tr th:only-of-type {\n",
       "        vertical-align: middle;\n",
       "    }\n",
       "\n",
       "    .dataframe tbody tr th {\n",
       "        vertical-align: top;\n",
       "    }\n",
       "\n",
       "    .dataframe thead th {\n",
       "        text-align: right;\n",
       "    }\n",
       "</style>\n",
       "<table border=\"1\" class=\"dataframe\">\n",
       "  <thead>\n",
       "    <tr style=\"text-align: right;\">\n",
       "      <th></th>\n",
       "      <th>service_id</th>\n",
       "      <th>monday</th>\n",
       "      <th>tuesday</th>\n",
       "      <th>wednesday</th>\n",
       "      <th>thursday</th>\n",
       "      <th>friday</th>\n",
       "      <th>saturday</th>\n",
       "      <th>sunday</th>\n",
       "      <th>start_date</th>\n",
       "      <th>end_date</th>\n",
       "    </tr>\n",
       "  </thead>\n",
       "  <tbody>\n",
       "    <tr>\n",
       "      <th>0</th>\n",
       "      <td>1</td>\n",
       "      <td>0</td>\n",
       "      <td>0</td>\n",
       "      <td>1</td>\n",
       "      <td>1</td>\n",
       "      <td>1</td>\n",
       "      <td>0</td>\n",
       "      <td>0</td>\n",
       "      <td>20200715</td>\n",
       "      <td>20200718</td>\n",
       "    </tr>\n",
       "    <tr>\n",
       "      <th>1</th>\n",
       "      <td>3</td>\n",
       "      <td>0</td>\n",
       "      <td>0</td>\n",
       "      <td>0</td>\n",
       "      <td>0</td>\n",
       "      <td>0</td>\n",
       "      <td>1</td>\n",
       "      <td>0</td>\n",
       "      <td>20200715</td>\n",
       "      <td>20200718</td>\n",
       "    </tr>\n",
       "    <tr>\n",
       "      <th>2</th>\n",
       "      <td>y1001</td>\n",
       "      <td>0</td>\n",
       "      <td>0</td>\n",
       "      <td>0</td>\n",
       "      <td>0</td>\n",
       "      <td>0</td>\n",
       "      <td>1</td>\n",
       "      <td>0</td>\n",
       "      <td>20200719</td>\n",
       "      <td>20200815</td>\n",
       "    </tr>\n",
       "    <tr>\n",
       "      <th>3</th>\n",
       "      <td>y1002</td>\n",
       "      <td>1</td>\n",
       "      <td>1</td>\n",
       "      <td>1</td>\n",
       "      <td>1</td>\n",
       "      <td>1</td>\n",
       "      <td>0</td>\n",
       "      <td>0</td>\n",
       "      <td>20200719</td>\n",
       "      <td>20200815</td>\n",
       "    </tr>\n",
       "    <tr>\n",
       "      <th>4</th>\n",
       "      <td>y1003</td>\n",
       "      <td>1</td>\n",
       "      <td>0</td>\n",
       "      <td>0</td>\n",
       "      <td>0</td>\n",
       "      <td>0</td>\n",
       "      <td>0</td>\n",
       "      <td>1</td>\n",
       "      <td>20200719</td>\n",
       "      <td>20200815</td>\n",
       "    </tr>\n",
       "  </tbody>\n",
       "</table>\n",
       "</div>"
      ],
      "text/plain": [
       "  service_id  monday  tuesday  wednesday  thursday  friday  saturday  sunday  \\\n",
       "0          1       0        0          1         1       1         0       0   \n",
       "1          3       0        0          0         0       0         1       0   \n",
       "2      y1001       0        0          0         0       0         1       0   \n",
       "3      y1002       1        1          1         1       1         0       0   \n",
       "4      y1003       1        0          0         0       0         0       1   \n",
       "\n",
       "   start_date  end_date  \n",
       "0    20200715  20200718  \n",
       "1    20200715  20200718  \n",
       "2    20200719  20200815  \n",
       "3    20200719  20200815  \n",
       "4    20200719  20200815  "
      ]
     },
     "execution_count": 3,
     "metadata": {},
     "output_type": "execute_result"
    }
   ],
   "source": [
    "calendar_df"
   ]
  },
  {
   "cell_type": "markdown",
   "metadata": {},
   "source": [
    "If the most recent calendar should be shown for now, only the following three service_ids will be used in the timetable:"
   ]
  },
  {
   "cell_type": "code",
   "execution_count": 4,
   "metadata": {},
   "outputs": [],
   "source": [
    "viable_service_lines=[\"y1002\",\"y1001\",\"y1003\"]"
   ]
  },
  {
   "cell_type": "code",
   "execution_count": 5,
   "metadata": {},
   "outputs": [],
   "source": [
    "trips_df=pd.read_csv(\"gtfs/trips.txt\")"
   ]
  },
  {
   "cell_type": "code",
   "execution_count": 6,
   "metadata": {},
   "outputs": [
    {
     "data": {
      "text/html": [
       "<div>\n",
       "<style scoped>\n",
       "    .dataframe tbody tr th:only-of-type {\n",
       "        vertical-align: middle;\n",
       "    }\n",
       "\n",
       "    .dataframe tbody tr th {\n",
       "        vertical-align: top;\n",
       "    }\n",
       "\n",
       "    .dataframe thead th {\n",
       "        text-align: right;\n",
       "    }\n",
       "</style>\n",
       "<table border=\"1\" class=\"dataframe\">\n",
       "  <thead>\n",
       "    <tr style=\"text-align: right;\">\n",
       "      <th></th>\n",
       "      <th>route_id</th>\n",
       "      <th>service_id</th>\n",
       "      <th>trip_id</th>\n",
       "      <th>shape_id</th>\n",
       "      <th>trip_headsign</th>\n",
       "      <th>direction_id</th>\n",
       "    </tr>\n",
       "  </thead>\n",
       "  <tbody>\n",
       "    <tr>\n",
       "      <th>0</th>\n",
       "      <td>60-11-b12-1</td>\n",
       "      <td>1</td>\n",
       "      <td>3271.1.60-11-b12-1.16.I</td>\n",
       "      <td>60-11-b12-1.16.I</td>\n",
       "      <td>Blackthorn Road - Saint Pappin's Road</td>\n",
       "      <td>1</td>\n",
       "    </tr>\n",
       "    <tr>\n",
       "      <th>1</th>\n",
       "      <td>60-11-b12-1</td>\n",
       "      <td>1</td>\n",
       "      <td>3272.1.60-11-b12-1.15.O</td>\n",
       "      <td>60-11-b12-1.15.O</td>\n",
       "      <td>Saint Pappin's Road - Blackthorn Drive (Blackt...</td>\n",
       "      <td>0</td>\n",
       "    </tr>\n",
       "    <tr>\n",
       "      <th>2</th>\n",
       "      <td>60-11-b12-1</td>\n",
       "      <td>1</td>\n",
       "      <td>3273.1.60-11-b12-1.16.I</td>\n",
       "      <td>60-11-b12-1.16.I</td>\n",
       "      <td>Blackthorn Road - Saint Pappin's Road</td>\n",
       "      <td>1</td>\n",
       "    </tr>\n",
       "    <tr>\n",
       "      <th>3</th>\n",
       "      <td>60-11-b12-1</td>\n",
       "      <td>1</td>\n",
       "      <td>3274.1.60-11-b12-1.15.O</td>\n",
       "      <td>60-11-b12-1.15.O</td>\n",
       "      <td>Saint Pappin's Road - Blackthorn Drive (Blackt...</td>\n",
       "      <td>0</td>\n",
       "    </tr>\n",
       "    <tr>\n",
       "      <th>4</th>\n",
       "      <td>60-11-b12-1</td>\n",
       "      <td>1</td>\n",
       "      <td>3275.1.60-11-b12-1.16.I</td>\n",
       "      <td>60-11-b12-1.16.I</td>\n",
       "      <td>Blackthorn Road - Saint Pappin's Road</td>\n",
       "      <td>1</td>\n",
       "    </tr>\n",
       "  </tbody>\n",
       "</table>\n",
       "</div>"
      ],
      "text/plain": [
       "      route_id service_id                  trip_id          shape_id  \\\n",
       "0  60-11-b12-1          1  3271.1.60-11-b12-1.16.I  60-11-b12-1.16.I   \n",
       "1  60-11-b12-1          1  3272.1.60-11-b12-1.15.O  60-11-b12-1.15.O   \n",
       "2  60-11-b12-1          1  3273.1.60-11-b12-1.16.I  60-11-b12-1.16.I   \n",
       "3  60-11-b12-1          1  3274.1.60-11-b12-1.15.O  60-11-b12-1.15.O   \n",
       "4  60-11-b12-1          1  3275.1.60-11-b12-1.16.I  60-11-b12-1.16.I   \n",
       "\n",
       "                                       trip_headsign  direction_id  \n",
       "0              Blackthorn Road - Saint Pappin's Road             1  \n",
       "1  Saint Pappin's Road - Blackthorn Drive (Blackt...             0  \n",
       "2              Blackthorn Road - Saint Pappin's Road             1  \n",
       "3  Saint Pappin's Road - Blackthorn Drive (Blackt...             0  \n",
       "4              Blackthorn Road - Saint Pappin's Road             1  "
      ]
     },
     "execution_count": 6,
     "metadata": {},
     "output_type": "execute_result"
    }
   ],
   "source": [
    "trips_df.head()"
   ]
  },
  {
   "cell_type": "code",
   "execution_count": 7,
   "metadata": {},
   "outputs": [],
   "source": [
    "trips_df=trips_df[trips_df[\"service_id\"].isin(viable_service_lines)]"
   ]
  },
  {
   "cell_type": "code",
   "execution_count": 8,
   "metadata": {},
   "outputs": [],
   "source": [
    "trips_df=trips_df.drop([\"shape_id\",\"trip_headsign\"],axis=1)"
   ]
  },
  {
   "cell_type": "markdown",
   "metadata": {},
   "source": [
    "Direction in Training data also referred to inbound and outbound, but was remapped to 1 and 2. We must find one match in order to determine the mapping between (0,1) and (1,2)."
   ]
  },
  {
   "cell_type": "markdown",
   "metadata": {},
   "source": [
    "Having compared the data with our historical data, the mapping is {0:1,1:2}."
   ]
  },
  {
   "cell_type": "code",
   "execution_count": 9,
   "metadata": {},
   "outputs": [],
   "source": [
    "trips_df[\"direction_id\"]=trips_df[\"direction_id\"]+1"
   ]
  },
  {
   "cell_type": "code",
   "execution_count": 10,
   "metadata": {},
   "outputs": [
    {
     "data": {
      "text/html": [
       "<div>\n",
       "<style scoped>\n",
       "    .dataframe tbody tr th:only-of-type {\n",
       "        vertical-align: middle;\n",
       "    }\n",
       "\n",
       "    .dataframe tbody tr th {\n",
       "        vertical-align: top;\n",
       "    }\n",
       "\n",
       "    .dataframe thead th {\n",
       "        text-align: right;\n",
       "    }\n",
       "</style>\n",
       "<table border=\"1\" class=\"dataframe\">\n",
       "  <thead>\n",
       "    <tr style=\"text-align: right;\">\n",
       "      <th></th>\n",
       "      <th>route_id</th>\n",
       "      <th>service_id</th>\n",
       "      <th>trip_id</th>\n",
       "      <th>direction_id</th>\n",
       "    </tr>\n",
       "  </thead>\n",
       "  <tbody>\n",
       "    <tr>\n",
       "      <th>155</th>\n",
       "      <td>60-11-d12-1</td>\n",
       "      <td>y1003</td>\n",
       "      <td>14677.y1003.60-11-d12-1.16.I</td>\n",
       "      <td>2</td>\n",
       "    </tr>\n",
       "    <tr>\n",
       "      <th>156</th>\n",
       "      <td>60-11-d12-1</td>\n",
       "      <td>y1003</td>\n",
       "      <td>14678.y1003.60-11-d12-1.15.O</td>\n",
       "      <td>1</td>\n",
       "    </tr>\n",
       "    <tr>\n",
       "      <th>157</th>\n",
       "      <td>60-11-d12-1</td>\n",
       "      <td>y1003</td>\n",
       "      <td>14679.y1003.60-11-d12-1.16.I</td>\n",
       "      <td>2</td>\n",
       "    </tr>\n",
       "    <tr>\n",
       "      <th>158</th>\n",
       "      <td>60-11-d12-1</td>\n",
       "      <td>y1003</td>\n",
       "      <td>14680.y1003.60-11-d12-1.15.O</td>\n",
       "      <td>1</td>\n",
       "    </tr>\n",
       "    <tr>\n",
       "      <th>159</th>\n",
       "      <td>60-11-d12-1</td>\n",
       "      <td>y1003</td>\n",
       "      <td>14681.y1003.60-11-d12-1.16.I</td>\n",
       "      <td>2</td>\n",
       "    </tr>\n",
       "  </tbody>\n",
       "</table>\n",
       "</div>"
      ],
      "text/plain": [
       "        route_id service_id                       trip_id  direction_id\n",
       "155  60-11-d12-1      y1003  14677.y1003.60-11-d12-1.16.I             2\n",
       "156  60-11-d12-1      y1003  14678.y1003.60-11-d12-1.15.O             1\n",
       "157  60-11-d12-1      y1003  14679.y1003.60-11-d12-1.16.I             2\n",
       "158  60-11-d12-1      y1003  14680.y1003.60-11-d12-1.15.O             1\n",
       "159  60-11-d12-1      y1003  14681.y1003.60-11-d12-1.16.I             2"
      ]
     },
     "execution_count": 10,
     "metadata": {},
     "output_type": "execute_result"
    }
   ],
   "source": [
    "trips_df.head()"
   ]
  },
  {
   "cell_type": "code",
   "execution_count": 11,
   "metadata": {},
   "outputs": [],
   "source": [
    "routes_df=pd.read_csv(\"gtfs/routes.txt\")"
   ]
  },
  {
   "cell_type": "code",
   "execution_count": 12,
   "metadata": {},
   "outputs": [
    {
     "data": {
      "text/html": [
       "<div>\n",
       "<style scoped>\n",
       "    .dataframe tbody tr th:only-of-type {\n",
       "        vertical-align: middle;\n",
       "    }\n",
       "\n",
       "    .dataframe tbody tr th {\n",
       "        vertical-align: top;\n",
       "    }\n",
       "\n",
       "    .dataframe thead th {\n",
       "        text-align: right;\n",
       "    }\n",
       "</style>\n",
       "<table border=\"1\" class=\"dataframe\">\n",
       "  <thead>\n",
       "    <tr style=\"text-align: right;\">\n",
       "      <th></th>\n",
       "      <th>route_id</th>\n",
       "      <th>agency_id</th>\n",
       "      <th>route_short_name</th>\n",
       "      <th>route_long_name</th>\n",
       "      <th>route_type</th>\n",
       "    </tr>\n",
       "  </thead>\n",
       "  <tbody>\n",
       "    <tr>\n",
       "      <th>0</th>\n",
       "      <td>60-1-b12-1</td>\n",
       "      <td>978</td>\n",
       "      <td>1</td>\n",
       "      <td>NaN</td>\n",
       "      <td>3</td>\n",
       "    </tr>\n",
       "    <tr>\n",
       "      <th>1</th>\n",
       "      <td>60-102-b12-1</td>\n",
       "      <td>978</td>\n",
       "      <td>102</td>\n",
       "      <td>NaN</td>\n",
       "      <td>3</td>\n",
       "    </tr>\n",
       "    <tr>\n",
       "      <th>2</th>\n",
       "      <td>60-104-b12-1</td>\n",
       "      <td>978</td>\n",
       "      <td>104</td>\n",
       "      <td>NaN</td>\n",
       "      <td>3</td>\n",
       "    </tr>\n",
       "    <tr>\n",
       "      <th>3</th>\n",
       "      <td>60-11-b12-1</td>\n",
       "      <td>978</td>\n",
       "      <td>11</td>\n",
       "      <td>NaN</td>\n",
       "      <td>3</td>\n",
       "    </tr>\n",
       "    <tr>\n",
       "      <th>4</th>\n",
       "      <td>60-111-b12-1</td>\n",
       "      <td>978</td>\n",
       "      <td>111</td>\n",
       "      <td>NaN</td>\n",
       "      <td>3</td>\n",
       "    </tr>\n",
       "  </tbody>\n",
       "</table>\n",
       "</div>"
      ],
      "text/plain": [
       "       route_id  agency_id route_short_name  route_long_name  route_type\n",
       "0    60-1-b12-1        978                1              NaN           3\n",
       "1  60-102-b12-1        978              102              NaN           3\n",
       "2  60-104-b12-1        978              104              NaN           3\n",
       "3   60-11-b12-1        978               11              NaN           3\n",
       "4  60-111-b12-1        978              111              NaN           3"
      ]
     },
     "execution_count": 12,
     "metadata": {},
     "output_type": "execute_result"
    }
   ],
   "source": [
    "routes_df.head()"
   ]
  },
  {
   "cell_type": "code",
   "execution_count": 13,
   "metadata": {},
   "outputs": [],
   "source": [
    "routes_df=routes_df.drop([\"agency_id\",\"route_long_name\",\"route_type\"],axis=1)"
   ]
  },
  {
   "cell_type": "code",
   "execution_count": 14,
   "metadata": {},
   "outputs": [
    {
     "data": {
      "text/plain": [
       "(15724, 4)"
      ]
     },
     "execution_count": 14,
     "metadata": {},
     "output_type": "execute_result"
    }
   ],
   "source": [
    "trips_df.shape"
   ]
  },
  {
   "cell_type": "code",
   "execution_count": 15,
   "metadata": {},
   "outputs": [],
   "source": [
    "trips_df=pd.merge(trips_df, routes_df, on='route_id', how='inner')"
   ]
  },
  {
   "cell_type": "code",
   "execution_count": 16,
   "metadata": {},
   "outputs": [
    {
     "data": {
      "text/plain": [
       "(15724, 5)"
      ]
     },
     "execution_count": 16,
     "metadata": {},
     "output_type": "execute_result"
    }
   ],
   "source": [
    "trips_df.shape"
   ]
  },
  {
   "cell_type": "code",
   "execution_count": 17,
   "metadata": {},
   "outputs": [],
   "source": [
    "trips_df=trips_df.drop([\"route_id\"],axis=1)"
   ]
  },
  {
   "cell_type": "code",
   "execution_count": 18,
   "metadata": {},
   "outputs": [],
   "source": [
    "trips_df=trips_df.rename({\"route_short_name\":\"route_id\",\"direction_id\":\"direction\"},axis=\"columns\")"
   ]
  },
  {
   "cell_type": "code",
   "execution_count": 19,
   "metadata": {},
   "outputs": [],
   "source": [
    "trips_df[\"route_id\"]=trips_df[\"route_id\"].apply(lambda x:x.upper())"
   ]
  },
  {
   "cell_type": "code",
   "execution_count": 20,
   "metadata": {},
   "outputs": [
    {
     "data": {
      "text/html": [
       "<div>\n",
       "<style scoped>\n",
       "    .dataframe tbody tr th:only-of-type {\n",
       "        vertical-align: middle;\n",
       "    }\n",
       "\n",
       "    .dataframe tbody tr th {\n",
       "        vertical-align: top;\n",
       "    }\n",
       "\n",
       "    .dataframe thead th {\n",
       "        text-align: right;\n",
       "    }\n",
       "</style>\n",
       "<table border=\"1\" class=\"dataframe\">\n",
       "  <thead>\n",
       "    <tr style=\"text-align: right;\">\n",
       "      <th></th>\n",
       "      <th>service_id</th>\n",
       "      <th>trip_id</th>\n",
       "      <th>direction</th>\n",
       "      <th>route_id</th>\n",
       "    </tr>\n",
       "  </thead>\n",
       "  <tbody>\n",
       "    <tr>\n",
       "      <th>0</th>\n",
       "      <td>y1003</td>\n",
       "      <td>14677.y1003.60-11-d12-1.16.I</td>\n",
       "      <td>2</td>\n",
       "      <td>11</td>\n",
       "    </tr>\n",
       "    <tr>\n",
       "      <th>1</th>\n",
       "      <td>y1003</td>\n",
       "      <td>14678.y1003.60-11-d12-1.15.O</td>\n",
       "      <td>1</td>\n",
       "      <td>11</td>\n",
       "    </tr>\n",
       "    <tr>\n",
       "      <th>2</th>\n",
       "      <td>y1003</td>\n",
       "      <td>14679.y1003.60-11-d12-1.16.I</td>\n",
       "      <td>2</td>\n",
       "      <td>11</td>\n",
       "    </tr>\n",
       "    <tr>\n",
       "      <th>3</th>\n",
       "      <td>y1003</td>\n",
       "      <td>14680.y1003.60-11-d12-1.15.O</td>\n",
       "      <td>1</td>\n",
       "      <td>11</td>\n",
       "    </tr>\n",
       "    <tr>\n",
       "      <th>4</th>\n",
       "      <td>y1003</td>\n",
       "      <td>14681.y1003.60-11-d12-1.16.I</td>\n",
       "      <td>2</td>\n",
       "      <td>11</td>\n",
       "    </tr>\n",
       "  </tbody>\n",
       "</table>\n",
       "</div>"
      ],
      "text/plain": [
       "  service_id                       trip_id  direction route_id\n",
       "0      y1003  14677.y1003.60-11-d12-1.16.I          2       11\n",
       "1      y1003  14678.y1003.60-11-d12-1.15.O          1       11\n",
       "2      y1003  14679.y1003.60-11-d12-1.16.I          2       11\n",
       "3      y1003  14680.y1003.60-11-d12-1.15.O          1       11\n",
       "4      y1003  14681.y1003.60-11-d12-1.16.I          2       11"
      ]
     },
     "execution_count": 20,
     "metadata": {},
     "output_type": "execute_result"
    }
   ],
   "source": [
    "trips_df.head()"
   ]
  },
  {
   "cell_type": "code",
   "execution_count": 21,
   "metadata": {},
   "outputs": [
    {
     "data": {
      "text/plain": [
       "95"
      ]
     },
     "execution_count": 21,
     "metadata": {},
     "output_type": "execute_result"
    }
   ],
   "source": [
    "len(trips_df.route_id.unique())"
   ]
  },
  {
   "cell_type": "code",
   "execution_count": 22,
   "metadata": {},
   "outputs": [],
   "source": [
    "stops_df=pd.read_csv(\"gtfs/stops.txt\")"
   ]
  },
  {
   "cell_type": "code",
   "execution_count": 23,
   "metadata": {},
   "outputs": [],
   "source": [
    "test_name=\"Parnell Square West, stop 2\""
   ]
  },
  {
   "cell_type": "code",
   "execution_count": 24,
   "metadata": {},
   "outputs": [],
   "source": [
    "def name_converter(name):\n",
    "    name_split=name.split(\",\")\n",
    "    try:\n",
    "        return [name_split[0],int(name_split[-1].split()[-1])]\n",
    "    except:\n",
    "        return [None,None]"
   ]
  },
  {
   "cell_type": "code",
   "execution_count": 25,
   "metadata": {},
   "outputs": [],
   "source": [
    "stops_df[\"name\"],stops_df[\"new_id\"]=zip(*stops_df[\"stop_name\"].apply(lambda x:name_converter(x)))"
   ]
  },
  {
   "cell_type": "code",
   "execution_count": 26,
   "metadata": {},
   "outputs": [
    {
     "data": {
      "text/html": [
       "<div>\n",
       "<style scoped>\n",
       "    .dataframe tbody tr th:only-of-type {\n",
       "        vertical-align: middle;\n",
       "    }\n",
       "\n",
       "    .dataframe tbody tr th {\n",
       "        vertical-align: top;\n",
       "    }\n",
       "\n",
       "    .dataframe thead th {\n",
       "        text-align: right;\n",
       "    }\n",
       "</style>\n",
       "<table border=\"1\" class=\"dataframe\">\n",
       "  <thead>\n",
       "    <tr style=\"text-align: right;\">\n",
       "      <th></th>\n",
       "      <th>stop_id</th>\n",
       "      <th>stop_name</th>\n",
       "      <th>stop_lat</th>\n",
       "      <th>stop_lon</th>\n",
       "      <th>name</th>\n",
       "      <th>new_id</th>\n",
       "    </tr>\n",
       "  </thead>\n",
       "  <tbody>\n",
       "    <tr>\n",
       "      <th>0</th>\n",
       "      <td>8220DB000002</td>\n",
       "      <td>Parnell Square West, stop 2</td>\n",
       "      <td>53.352244</td>\n",
       "      <td>-6.263723</td>\n",
       "      <td>Parnell Square West</td>\n",
       "      <td>2</td>\n",
       "    </tr>\n",
       "    <tr>\n",
       "      <th>1</th>\n",
       "      <td>8220DB000003</td>\n",
       "      <td>Parnell Square West, stop 3</td>\n",
       "      <td>53.352309</td>\n",
       "      <td>-6.263811</td>\n",
       "      <td>Parnell Square West</td>\n",
       "      <td>3</td>\n",
       "    </tr>\n",
       "    <tr>\n",
       "      <th>2</th>\n",
       "      <td>8220DB000004</td>\n",
       "      <td>Parnell Square West, stop 4</td>\n",
       "      <td>53.352575</td>\n",
       "      <td>-6.264175</td>\n",
       "      <td>Parnell Square West</td>\n",
       "      <td>4</td>\n",
       "    </tr>\n",
       "    <tr>\n",
       "      <th>3</th>\n",
       "      <td>8220DB000006</td>\n",
       "      <td>Parnell Square West, stop 6</td>\n",
       "      <td>53.352749</td>\n",
       "      <td>-6.264454</td>\n",
       "      <td>Parnell Square West</td>\n",
       "      <td>6</td>\n",
       "    </tr>\n",
       "    <tr>\n",
       "      <th>4</th>\n",
       "      <td>8220DB000007</td>\n",
       "      <td>Parnell Square West, stop 7</td>\n",
       "      <td>53.352841</td>\n",
       "      <td>-6.264570</td>\n",
       "      <td>Parnell Square West</td>\n",
       "      <td>7</td>\n",
       "    </tr>\n",
       "  </tbody>\n",
       "</table>\n",
       "</div>"
      ],
      "text/plain": [
       "        stop_id                    stop_name   stop_lat  stop_lon  \\\n",
       "0  8220DB000002  Parnell Square West, stop 2  53.352244 -6.263723   \n",
       "1  8220DB000003  Parnell Square West, stop 3  53.352309 -6.263811   \n",
       "2  8220DB000004  Parnell Square West, stop 4  53.352575 -6.264175   \n",
       "3  8220DB000006  Parnell Square West, stop 6  53.352749 -6.264454   \n",
       "4  8220DB000007  Parnell Square West, stop 7  53.352841 -6.264570   \n",
       "\n",
       "                  name new_id  \n",
       "0  Parnell Square West      2  \n",
       "1  Parnell Square West      3  \n",
       "2  Parnell Square West      4  \n",
       "3  Parnell Square West      6  \n",
       "4  Parnell Square West      7  "
      ]
     },
     "execution_count": 26,
     "metadata": {},
     "output_type": "execute_result"
    }
   ],
   "source": [
    "stops_df.head()"
   ]
  },
  {
   "cell_type": "code",
   "execution_count": 27,
   "metadata": {},
   "outputs": [
    {
     "data": {
      "text/html": [
       "<div>\n",
       "<style scoped>\n",
       "    .dataframe tbody tr th:only-of-type {\n",
       "        vertical-align: middle;\n",
       "    }\n",
       "\n",
       "    .dataframe tbody tr th {\n",
       "        vertical-align: top;\n",
       "    }\n",
       "\n",
       "    .dataframe thead th {\n",
       "        text-align: right;\n",
       "    }\n",
       "</style>\n",
       "<table border=\"1\" class=\"dataframe\">\n",
       "  <thead>\n",
       "    <tr style=\"text-align: right;\">\n",
       "      <th></th>\n",
       "      <th>stop_id</th>\n",
       "      <th>stop_name</th>\n",
       "      <th>stop_lat</th>\n",
       "      <th>stop_lon</th>\n",
       "      <th>name</th>\n",
       "      <th>new_id</th>\n",
       "    </tr>\n",
       "  </thead>\n",
       "  <tbody>\n",
       "    <tr>\n",
       "      <th>3172</th>\n",
       "      <td>8240DB007040</td>\n",
       "      <td>Hearse Road R126</td>\n",
       "      <td>53.480551</td>\n",
       "      <td>-6.191769</td>\n",
       "      <td>None</td>\n",
       "      <td>None</td>\n",
       "    </tr>\n",
       "  </tbody>\n",
       "</table>\n",
       "</div>"
      ],
      "text/plain": [
       "           stop_id         stop_name   stop_lat  stop_lon  name new_id\n",
       "3172  8240DB007040  Hearse Road R126  53.480551 -6.191769  None   None"
      ]
     },
     "execution_count": 27,
     "metadata": {},
     "output_type": "execute_result"
    }
   ],
   "source": [
    "stops_df[stops_df[\"new_id\"].isna()]"
   ]
  },
  {
   "cell_type": "markdown",
   "metadata": {},
   "source": [
    "could not find a match for this stop, so we drop it."
   ]
  },
  {
   "cell_type": "code",
   "execution_count": 28,
   "metadata": {},
   "outputs": [],
   "source": [
    "stops_df=stops_df.dropna()"
   ]
  },
  {
   "cell_type": "code",
   "execution_count": 29,
   "metadata": {},
   "outputs": [],
   "source": [
    "id_match=stops_df[[\"stop_id\",\"new_id\"]]"
   ]
  },
  {
   "cell_type": "code",
   "execution_count": 30,
   "metadata": {
    "scrolled": true
   },
   "outputs": [
    {
     "data": {
      "text/html": [
       "<div>\n",
       "<style scoped>\n",
       "    .dataframe tbody tr th:only-of-type {\n",
       "        vertical-align: middle;\n",
       "    }\n",
       "\n",
       "    .dataframe tbody tr th {\n",
       "        vertical-align: top;\n",
       "    }\n",
       "\n",
       "    .dataframe thead th {\n",
       "        text-align: right;\n",
       "    }\n",
       "</style>\n",
       "<table border=\"1\" class=\"dataframe\">\n",
       "  <thead>\n",
       "    <tr style=\"text-align: right;\">\n",
       "      <th></th>\n",
       "      <th>stop_id</th>\n",
       "      <th>new_id</th>\n",
       "    </tr>\n",
       "  </thead>\n",
       "  <tbody>\n",
       "    <tr>\n",
       "      <th>0</th>\n",
       "      <td>8220DB000002</td>\n",
       "      <td>2</td>\n",
       "    </tr>\n",
       "    <tr>\n",
       "      <th>1</th>\n",
       "      <td>8220DB000003</td>\n",
       "      <td>3</td>\n",
       "    </tr>\n",
       "    <tr>\n",
       "      <th>2</th>\n",
       "      <td>8220DB000004</td>\n",
       "      <td>4</td>\n",
       "    </tr>\n",
       "    <tr>\n",
       "      <th>3</th>\n",
       "      <td>8220DB000006</td>\n",
       "      <td>6</td>\n",
       "    </tr>\n",
       "    <tr>\n",
       "      <th>4</th>\n",
       "      <td>8220DB000007</td>\n",
       "      <td>7</td>\n",
       "    </tr>\n",
       "  </tbody>\n",
       "</table>\n",
       "</div>"
      ],
      "text/plain": [
       "        stop_id new_id\n",
       "0  8220DB000002      2\n",
       "1  8220DB000003      3\n",
       "2  8220DB000004      4\n",
       "3  8220DB000006      6\n",
       "4  8220DB000007      7"
      ]
     },
     "execution_count": 30,
     "metadata": {},
     "output_type": "execute_result"
    }
   ],
   "source": [
    "id_match.head()"
   ]
  },
  {
   "cell_type": "code",
   "execution_count": 31,
   "metadata": {},
   "outputs": [],
   "source": [
    "times_df=pd.read_csv(\"gtfs/stop_times.txt\")"
   ]
  },
  {
   "cell_type": "code",
   "execution_count": 32,
   "metadata": {},
   "outputs": [],
   "source": [
    "times_df=times_df.drop([\"stop_headsign\",\"pickup_type\",\"drop_off_type\",\"shape_dist_traveled\"],axis=1)"
   ]
  },
  {
   "cell_type": "code",
   "execution_count": 33,
   "metadata": {},
   "outputs": [],
   "source": [
    "times_df=pd.merge(times_df, id_match, on='stop_id', how='inner')"
   ]
  },
  {
   "cell_type": "code",
   "execution_count": 34,
   "metadata": {},
   "outputs": [],
   "source": [
    "times_df=times_df.drop([\"stop_id\"],axis=1)"
   ]
  },
  {
   "cell_type": "code",
   "execution_count": 35,
   "metadata": {},
   "outputs": [],
   "source": [
    "times_df=times_df.rename({\"new_id\":\"stop_id\",\"stop_sequence\":\"progr_number\",\"arrival_time\":\"arr\",\"departure_time\":\"dep\"},axis=\"columns\")"
   ]
  },
  {
   "cell_type": "code",
   "execution_count": 36,
   "metadata": {},
   "outputs": [],
   "source": [
    "def time_converter(time_string):\n",
    "    hour,minute,second=time_string.split(\":\")\n",
    "    hour=int(hour)\n",
    "    day=1\n",
    "    if hour>23:\n",
    "        hour=hour%24\n",
    "        day+=1\n",
    "    dt=datetime(year=1970,month=1,day=day,hour=hour,minute=int(minute),second=int(second))\n",
    "    return int(dt.replace(tzinfo=timezone.utc).timestamp())"
   ]
  },
  {
   "cell_type": "code",
   "execution_count": 37,
   "metadata": {},
   "outputs": [],
   "source": [
    "times_df[\"arr\"]=times_df[\"arr\"].apply(lambda x:time_converter(x))\n",
    "times_df[\"dep\"]=times_df[\"dep\"].apply(lambda x:time_converter(x))"
   ]
  },
  {
   "cell_type": "code",
   "execution_count": 38,
   "metadata": {},
   "outputs": [],
   "source": [
    "diff=times_df.dep-times_df.arr"
   ]
  },
  {
   "cell_type": "code",
   "execution_count": 39,
   "metadata": {},
   "outputs": [
    {
     "data": {
      "text/plain": [
       "0    1573335\n",
       "dtype: int64"
      ]
     },
     "execution_count": 39,
     "metadata": {},
     "output_type": "execute_result"
    }
   ],
   "source": [
    "diff.value_counts()"
   ]
  },
  {
   "cell_type": "markdown",
   "metadata": {},
   "source": [
    "all arrivals and departures are identical. thus, one of the features can be dropped."
   ]
  },
  {
   "cell_type": "code",
   "execution_count": 40,
   "metadata": {},
   "outputs": [],
   "source": [
    "times_start_df=times_df[[\"trip_id\",\"dep\",\"progr_number\"]][times_df.progr_number==1]"
   ]
  },
  {
   "cell_type": "code",
   "execution_count": 41,
   "metadata": {},
   "outputs": [],
   "source": [
    "times_start_df=times_start_df.drop([\"progr_number\"],axis=1)\n",
    "times_start_df=times_start_df.rename({\"dep\":\"start\"},axis=1)"
   ]
  },
  {
   "cell_type": "code",
   "execution_count": 42,
   "metadata": {},
   "outputs": [],
   "source": [
    "times_df=pd.merge(times_df, times_start_df, on=\"trip_id\", how='inner')"
   ]
  },
  {
   "cell_type": "code",
   "execution_count": 43,
   "metadata": {},
   "outputs": [
    {
     "data": {
      "text/html": [
       "<div>\n",
       "<style scoped>\n",
       "    .dataframe tbody tr th:only-of-type {\n",
       "        vertical-align: middle;\n",
       "    }\n",
       "\n",
       "    .dataframe tbody tr th {\n",
       "        vertical-align: top;\n",
       "    }\n",
       "\n",
       "    .dataframe thead th {\n",
       "        text-align: right;\n",
       "    }\n",
       "</style>\n",
       "<table border=\"1\" class=\"dataframe\">\n",
       "  <thead>\n",
       "    <tr style=\"text-align: right;\">\n",
       "      <th></th>\n",
       "      <th>trip_id</th>\n",
       "      <th>arr</th>\n",
       "      <th>dep</th>\n",
       "      <th>progr_number</th>\n",
       "      <th>stop_id</th>\n",
       "      <th>start</th>\n",
       "    </tr>\n",
       "  </thead>\n",
       "  <tbody>\n",
       "    <tr>\n",
       "      <th>0</th>\n",
       "      <td>1.1.60-39A-b12-1.205.I</td>\n",
       "      <td>28500</td>\n",
       "      <td>28500</td>\n",
       "      <td>1</td>\n",
       "      <td>7158</td>\n",
       "      <td>28500</td>\n",
       "    </tr>\n",
       "    <tr>\n",
       "      <th>1</th>\n",
       "      <td>1.1.60-39A-b12-1.205.I</td>\n",
       "      <td>28543</td>\n",
       "      <td>28543</td>\n",
       "      <td>2</td>\n",
       "      <td>7048</td>\n",
       "      <td>28500</td>\n",
       "    </tr>\n",
       "    <tr>\n",
       "      <th>2</th>\n",
       "      <td>1.1.60-39A-b12-1.205.I</td>\n",
       "      <td>28587</td>\n",
       "      <td>28587</td>\n",
       "      <td>3</td>\n",
       "      <td>7699</td>\n",
       "      <td>28500</td>\n",
       "    </tr>\n",
       "    <tr>\n",
       "      <th>3</th>\n",
       "      <td>1.1.60-39A-b12-1.205.I</td>\n",
       "      <td>28614</td>\n",
       "      <td>28614</td>\n",
       "      <td>4</td>\n",
       "      <td>7159</td>\n",
       "      <td>28500</td>\n",
       "    </tr>\n",
       "    <tr>\n",
       "      <th>4</th>\n",
       "      <td>1.1.60-39A-b12-1.205.I</td>\n",
       "      <td>28633</td>\n",
       "      <td>28633</td>\n",
       "      <td>5</td>\n",
       "      <td>7388</td>\n",
       "      <td>28500</td>\n",
       "    </tr>\n",
       "  </tbody>\n",
       "</table>\n",
       "</div>"
      ],
      "text/plain": [
       "                  trip_id    arr    dep  progr_number stop_id  start\n",
       "0  1.1.60-39A-b12-1.205.I  28500  28500             1    7158  28500\n",
       "1  1.1.60-39A-b12-1.205.I  28543  28543             2    7048  28500\n",
       "2  1.1.60-39A-b12-1.205.I  28587  28587             3    7699  28500\n",
       "3  1.1.60-39A-b12-1.205.I  28614  28614             4    7159  28500\n",
       "4  1.1.60-39A-b12-1.205.I  28633  28633             5    7388  28500"
      ]
     },
     "execution_count": 43,
     "metadata": {},
     "output_type": "execute_result"
    }
   ],
   "source": [
    "times_df.head()"
   ]
  },
  {
   "cell_type": "code",
   "execution_count": 44,
   "metadata": {},
   "outputs": [],
   "source": [
    "times_df[\"cum_dur\"]=times_df[\"dep\"]-times_df[\"start\"]"
   ]
  },
  {
   "cell_type": "code",
   "execution_count": 45,
   "metadata": {},
   "outputs": [],
   "source": [
    "times_df=times_df.drop([\"arr\",\"start\"],axis=1)"
   ]
  },
  {
   "cell_type": "code",
   "execution_count": 46,
   "metadata": {},
   "outputs": [
    {
     "data": {
      "text/html": [
       "<div>\n",
       "<style scoped>\n",
       "    .dataframe tbody tr th:only-of-type {\n",
       "        vertical-align: middle;\n",
       "    }\n",
       "\n",
       "    .dataframe tbody tr th {\n",
       "        vertical-align: top;\n",
       "    }\n",
       "\n",
       "    .dataframe thead th {\n",
       "        text-align: right;\n",
       "    }\n",
       "</style>\n",
       "<table border=\"1\" class=\"dataframe\">\n",
       "  <thead>\n",
       "    <tr style=\"text-align: right;\">\n",
       "      <th></th>\n",
       "      <th>trip_id</th>\n",
       "      <th>dep</th>\n",
       "      <th>progr_number</th>\n",
       "      <th>stop_id</th>\n",
       "      <th>cum_dur</th>\n",
       "    </tr>\n",
       "  </thead>\n",
       "  <tbody>\n",
       "    <tr>\n",
       "      <th>0</th>\n",
       "      <td>1.1.60-39A-b12-1.205.I</td>\n",
       "      <td>28500</td>\n",
       "      <td>1</td>\n",
       "      <td>7158</td>\n",
       "      <td>0</td>\n",
       "    </tr>\n",
       "    <tr>\n",
       "      <th>1</th>\n",
       "      <td>1.1.60-39A-b12-1.205.I</td>\n",
       "      <td>28543</td>\n",
       "      <td>2</td>\n",
       "      <td>7048</td>\n",
       "      <td>43</td>\n",
       "    </tr>\n",
       "    <tr>\n",
       "      <th>2</th>\n",
       "      <td>1.1.60-39A-b12-1.205.I</td>\n",
       "      <td>28587</td>\n",
       "      <td>3</td>\n",
       "      <td>7699</td>\n",
       "      <td>87</td>\n",
       "    </tr>\n",
       "    <tr>\n",
       "      <th>3</th>\n",
       "      <td>1.1.60-39A-b12-1.205.I</td>\n",
       "      <td>28614</td>\n",
       "      <td>4</td>\n",
       "      <td>7159</td>\n",
       "      <td>114</td>\n",
       "    </tr>\n",
       "    <tr>\n",
       "      <th>4</th>\n",
       "      <td>1.1.60-39A-b12-1.205.I</td>\n",
       "      <td>28633</td>\n",
       "      <td>5</td>\n",
       "      <td>7388</td>\n",
       "      <td>133</td>\n",
       "    </tr>\n",
       "  </tbody>\n",
       "</table>\n",
       "</div>"
      ],
      "text/plain": [
       "                  trip_id    dep  progr_number stop_id  cum_dur\n",
       "0  1.1.60-39A-b12-1.205.I  28500             1    7158        0\n",
       "1  1.1.60-39A-b12-1.205.I  28543             2    7048       43\n",
       "2  1.1.60-39A-b12-1.205.I  28587             3    7699       87\n",
       "3  1.1.60-39A-b12-1.205.I  28614             4    7159      114\n",
       "4  1.1.60-39A-b12-1.205.I  28633             5    7388      133"
      ]
     },
     "execution_count": 46,
     "metadata": {},
     "output_type": "execute_result"
    }
   ],
   "source": [
    "times_df.head()"
   ]
  },
  {
   "cell_type": "code",
   "execution_count": 47,
   "metadata": {},
   "outputs": [],
   "source": [
    "stops_df=stops_df.drop([\"stop_id\",\"stop_name\"],axis=1)"
   ]
  },
  {
   "cell_type": "code",
   "execution_count": 48,
   "metadata": {},
   "outputs": [],
   "source": [
    "stops_df=stops_df.rename({\"new_id\":\"stop_id\",\"stop_lat\":\"lat\",\"stop_lon\":\"lon\"},axis=\"columns\")"
   ]
  },
  {
   "cell_type": "code",
   "execution_count": 49,
   "metadata": {},
   "outputs": [
    {
     "data": {
      "text/html": [
       "<div>\n",
       "<style scoped>\n",
       "    .dataframe tbody tr th:only-of-type {\n",
       "        vertical-align: middle;\n",
       "    }\n",
       "\n",
       "    .dataframe tbody tr th {\n",
       "        vertical-align: top;\n",
       "    }\n",
       "\n",
       "    .dataframe thead th {\n",
       "        text-align: right;\n",
       "    }\n",
       "</style>\n",
       "<table border=\"1\" class=\"dataframe\">\n",
       "  <thead>\n",
       "    <tr style=\"text-align: right;\">\n",
       "      <th></th>\n",
       "      <th>service_id</th>\n",
       "      <th>trip_id</th>\n",
       "      <th>direction</th>\n",
       "      <th>route_id</th>\n",
       "    </tr>\n",
       "  </thead>\n",
       "  <tbody>\n",
       "    <tr>\n",
       "      <th>0</th>\n",
       "      <td>y1003</td>\n",
       "      <td>14677.y1003.60-11-d12-1.16.I</td>\n",
       "      <td>2</td>\n",
       "      <td>11</td>\n",
       "    </tr>\n",
       "    <tr>\n",
       "      <th>1</th>\n",
       "      <td>y1003</td>\n",
       "      <td>14678.y1003.60-11-d12-1.15.O</td>\n",
       "      <td>1</td>\n",
       "      <td>11</td>\n",
       "    </tr>\n",
       "    <tr>\n",
       "      <th>2</th>\n",
       "      <td>y1003</td>\n",
       "      <td>14679.y1003.60-11-d12-1.16.I</td>\n",
       "      <td>2</td>\n",
       "      <td>11</td>\n",
       "    </tr>\n",
       "    <tr>\n",
       "      <th>3</th>\n",
       "      <td>y1003</td>\n",
       "      <td>14680.y1003.60-11-d12-1.15.O</td>\n",
       "      <td>1</td>\n",
       "      <td>11</td>\n",
       "    </tr>\n",
       "    <tr>\n",
       "      <th>4</th>\n",
       "      <td>y1003</td>\n",
       "      <td>14681.y1003.60-11-d12-1.16.I</td>\n",
       "      <td>2</td>\n",
       "      <td>11</td>\n",
       "    </tr>\n",
       "  </tbody>\n",
       "</table>\n",
       "</div>"
      ],
      "text/plain": [
       "  service_id                       trip_id  direction route_id\n",
       "0      y1003  14677.y1003.60-11-d12-1.16.I          2       11\n",
       "1      y1003  14678.y1003.60-11-d12-1.15.O          1       11\n",
       "2      y1003  14679.y1003.60-11-d12-1.16.I          2       11\n",
       "3      y1003  14680.y1003.60-11-d12-1.15.O          1       11\n",
       "4      y1003  14681.y1003.60-11-d12-1.16.I          2       11"
      ]
     },
     "execution_count": 49,
     "metadata": {},
     "output_type": "execute_result"
    }
   ],
   "source": [
    "trips_df.head()"
   ]
  },
  {
   "cell_type": "code",
   "execution_count": 50,
   "metadata": {
    "scrolled": true
   },
   "outputs": [
    {
     "data": {
      "text/html": [
       "<div>\n",
       "<style scoped>\n",
       "    .dataframe tbody tr th:only-of-type {\n",
       "        vertical-align: middle;\n",
       "    }\n",
       "\n",
       "    .dataframe tbody tr th {\n",
       "        vertical-align: top;\n",
       "    }\n",
       "\n",
       "    .dataframe thead th {\n",
       "        text-align: right;\n",
       "    }\n",
       "</style>\n",
       "<table border=\"1\" class=\"dataframe\">\n",
       "  <thead>\n",
       "    <tr style=\"text-align: right;\">\n",
       "      <th></th>\n",
       "      <th>lat</th>\n",
       "      <th>lon</th>\n",
       "      <th>name</th>\n",
       "      <th>stop_id</th>\n",
       "    </tr>\n",
       "  </thead>\n",
       "  <tbody>\n",
       "    <tr>\n",
       "      <th>0</th>\n",
       "      <td>53.352244</td>\n",
       "      <td>-6.263723</td>\n",
       "      <td>Parnell Square West</td>\n",
       "      <td>2</td>\n",
       "    </tr>\n",
       "    <tr>\n",
       "      <th>1</th>\n",
       "      <td>53.352309</td>\n",
       "      <td>-6.263811</td>\n",
       "      <td>Parnell Square West</td>\n",
       "      <td>3</td>\n",
       "    </tr>\n",
       "    <tr>\n",
       "      <th>2</th>\n",
       "      <td>53.352575</td>\n",
       "      <td>-6.264175</td>\n",
       "      <td>Parnell Square West</td>\n",
       "      <td>4</td>\n",
       "    </tr>\n",
       "    <tr>\n",
       "      <th>3</th>\n",
       "      <td>53.352749</td>\n",
       "      <td>-6.264454</td>\n",
       "      <td>Parnell Square West</td>\n",
       "      <td>6</td>\n",
       "    </tr>\n",
       "    <tr>\n",
       "      <th>4</th>\n",
       "      <td>53.352841</td>\n",
       "      <td>-6.264570</td>\n",
       "      <td>Parnell Square West</td>\n",
       "      <td>7</td>\n",
       "    </tr>\n",
       "  </tbody>\n",
       "</table>\n",
       "</div>"
      ],
      "text/plain": [
       "         lat       lon                 name stop_id\n",
       "0  53.352244 -6.263723  Parnell Square West       2\n",
       "1  53.352309 -6.263811  Parnell Square West       3\n",
       "2  53.352575 -6.264175  Parnell Square West       4\n",
       "3  53.352749 -6.264454  Parnell Square West       6\n",
       "4  53.352841 -6.264570  Parnell Square West       7"
      ]
     },
     "execution_count": 50,
     "metadata": {},
     "output_type": "execute_result"
    }
   ],
   "source": [
    "stops_df.head()"
   ]
  },
  {
   "cell_type": "markdown",
   "metadata": {},
   "source": [
    "Sanity Check for directions:"
   ]
  },
  {
   "cell_type": "code",
   "execution_count": 51,
   "metadata": {},
   "outputs": [
    {
     "data": {
      "text/html": [
       "<div>\n",
       "<style scoped>\n",
       "    .dataframe tbody tr th:only-of-type {\n",
       "        vertical-align: middle;\n",
       "    }\n",
       "\n",
       "    .dataframe tbody tr th {\n",
       "        vertical-align: top;\n",
       "    }\n",
       "\n",
       "    .dataframe thead th {\n",
       "        text-align: right;\n",
       "    }\n",
       "</style>\n",
       "<table border=\"1\" class=\"dataframe\">\n",
       "  <thead>\n",
       "    <tr style=\"text-align: right;\">\n",
       "      <th></th>\n",
       "      <th>trip_id</th>\n",
       "      <th>dep</th>\n",
       "      <th>progr_number</th>\n",
       "      <th>stop_id</th>\n",
       "      <th>cum_dur</th>\n",
       "    </tr>\n",
       "  </thead>\n",
       "  <tbody>\n",
       "    <tr>\n",
       "      <th>1573330</th>\n",
       "      <td>976.y1002.60-44B-d12-1.248.O</td>\n",
       "      <td>64259</td>\n",
       "      <td>25</td>\n",
       "      <td>3507</td>\n",
       "      <td>1259</td>\n",
       "    </tr>\n",
       "    <tr>\n",
       "      <th>1573331</th>\n",
       "      <td>976.y1002.60-44B-d12-1.248.O</td>\n",
       "      <td>64354</td>\n",
       "      <td>26</td>\n",
       "      <td>3508</td>\n",
       "      <td>1354</td>\n",
       "    </tr>\n",
       "    <tr>\n",
       "      <th>1573332</th>\n",
       "      <td>976.y1002.60-44B-d12-1.248.O</td>\n",
       "      <td>64395</td>\n",
       "      <td>27</td>\n",
       "      <td>3510</td>\n",
       "      <td>1395</td>\n",
       "    </tr>\n",
       "    <tr>\n",
       "      <th>1573333</th>\n",
       "      <td>976.y1002.60-44B-d12-1.248.O</td>\n",
       "      <td>64482</td>\n",
       "      <td>28</td>\n",
       "      <td>3512</td>\n",
       "      <td>1482</td>\n",
       "    </tr>\n",
       "    <tr>\n",
       "      <th>1573334</th>\n",
       "      <td>976.y1002.60-44B-d12-1.248.O</td>\n",
       "      <td>64529</td>\n",
       "      <td>29</td>\n",
       "      <td>3514</td>\n",
       "      <td>1529</td>\n",
       "    </tr>\n",
       "  </tbody>\n",
       "</table>\n",
       "</div>"
      ],
      "text/plain": [
       "                              trip_id    dep  progr_number stop_id  cum_dur\n",
       "1573330  976.y1002.60-44B-d12-1.248.O  64259            25    3507     1259\n",
       "1573331  976.y1002.60-44B-d12-1.248.O  64354            26    3508     1354\n",
       "1573332  976.y1002.60-44B-d12-1.248.O  64395            27    3510     1395\n",
       "1573333  976.y1002.60-44B-d12-1.248.O  64482            28    3512     1482\n",
       "1573334  976.y1002.60-44B-d12-1.248.O  64529            29    3514     1529"
      ]
     },
     "execution_count": 51,
     "metadata": {},
     "output_type": "execute_result"
    }
   ],
   "source": [
    "times_df.tail()"
   ]
  },
  {
   "cell_type": "code",
   "execution_count": 52,
   "metadata": {},
   "outputs": [
    {
     "data": {
      "text/html": [
       "<div>\n",
       "<style scoped>\n",
       "    .dataframe tbody tr th:only-of-type {\n",
       "        vertical-align: middle;\n",
       "    }\n",
       "\n",
       "    .dataframe tbody tr th {\n",
       "        vertical-align: top;\n",
       "    }\n",
       "\n",
       "    .dataframe thead th {\n",
       "        text-align: right;\n",
       "    }\n",
       "</style>\n",
       "<table border=\"1\" class=\"dataframe\">\n",
       "  <thead>\n",
       "    <tr style=\"text-align: right;\">\n",
       "      <th></th>\n",
       "      <th>service_id</th>\n",
       "      <th>trip_id</th>\n",
       "      <th>direction</th>\n",
       "      <th>route_id</th>\n",
       "    </tr>\n",
       "  </thead>\n",
       "  <tbody>\n",
       "    <tr>\n",
       "      <th>11103</th>\n",
       "      <td>y1002</td>\n",
       "      <td>977.y1002.60-44B-d12-1.249.I</td>\n",
       "      <td>2</td>\n",
       "      <td>44B</td>\n",
       "    </tr>\n",
       "  </tbody>\n",
       "</table>\n",
       "</div>"
      ],
      "text/plain": [
       "      service_id                       trip_id  direction route_id\n",
       "11103      y1002  977.y1002.60-44B-d12-1.249.I          2      44B"
      ]
     },
     "execution_count": 52,
     "metadata": {},
     "output_type": "execute_result"
    }
   ],
   "source": [
    "trips_df[trips_df.trip_id==\"977.y1002.60-44B-d12-1.249.I\"]"
   ]
  },
  {
   "cell_type": "markdown",
   "metadata": {},
   "source": [
    "Stop ID 6007, Sequence 17 matches up with direction 2 in historic data."
   ]
  }
 ],
 "metadata": {
  "kernelspec": {
   "display_name": "Python 3",
   "language": "python",
   "name": "python3"
  },
  "language_info": {
   "codemirror_mode": {
    "name": "ipython",
    "version": 3
   },
   "file_extension": ".py",
   "mimetype": "text/x-python",
   "name": "python",
   "nbconvert_exporter": "python",
   "pygments_lexer": "ipython3",
   "version": "3.8.3"
  }
 },
 "nbformat": 4,
 "nbformat_minor": 4
}
