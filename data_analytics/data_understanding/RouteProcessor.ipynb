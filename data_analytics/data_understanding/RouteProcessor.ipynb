{
 "cells": [
  {
   "cell_type": "code",
   "execution_count": 1,
   "metadata": {},
   "outputs": [],
   "source": [
    "import pandas as pd\n",
    "import json"
   ]
  },
  {
   "cell_type": "code",
   "execution_count": 2,
   "metadata": {},
   "outputs": [],
   "source": [
    "#import leavetimes data. due to size, it has to be split into chunks when reading in\n",
    "leavetimes = pd.read_csv('rt_leavetimes_DB_2018.txt', delimiter=';', chunksize=10**6)"
   ]
  },
  {
   "cell_type": "code",
   "execution_count": 3,
   "metadata": {},
   "outputs": [],
   "source": [
    "#import trips data\n",
    "trips = pd.read_csv('rt_trips_DB_2018.txt',sep=\";\")"
   ]
  },
  {
   "cell_type": "code",
   "execution_count": 4,
   "metadata": {},
   "outputs": [],
   "source": [
    "#map trip IDs to its lines and routes so that trip_route[trip_id]=[line,route]\n",
    "trip_route={trip_id:route_id.split(\"_\") for trip_id, route_id in zip(trips['TRIPID'], trips['ROUTEID'])}"
   ]
  },
  {
   "cell_type": "code",
   "execution_count": 5,
   "metadata": {},
   "outputs": [],
   "source": [
    "\"\"\"iterate over leavetimes data set to create a dictionary that holds the information of which stations\n",
    "were used how many times at which stage by which route of which line, i.e.:\n",
    "lines[line][route][progress][stop_id]=number\"\"\"\n",
    "lines={}\n",
    "for chunk in leavetimes:\n",
    "    for trip_id, progress, stop_id in zip(chunk[\"TRIPID\"],chunk[\"PROGRNUMBER\"],chunk[\"STOPPOINTID\"]):\n",
    "        routes=trip_route[trip_id]\n",
    "        if routes[0] not in lines:\n",
    "            lines[routes[0]]={routes[1]:{progress:{stop_id:1}}}\n",
    "        elif routes[1] not in lines[routes[0]]:\n",
    "            lines[routes[0]][routes[1]]={progress:{stop_id:1}}\n",
    "        elif progress not in lines[routes[0]][routes[1]]:\n",
    "            lines[routes[0]][routes[1]][progress]={stop_id:1}\n",
    "        elif stop_id not in lines[routes[0]][routes[1]][progress]:\n",
    "            lines[routes[0]][routes[1]][progress][stop_id]=1\n",
    "        else:\n",
    "            lines[routes[0]][routes[1]][progress][stop_id]+=1"
   ]
  },
  {
   "cell_type": "code",
   "execution_count": 6,
   "metadata": {},
   "outputs": [],
   "source": [
    "with open('route_constitution.json', 'w') as out:\n",
    "    json.dump(lines, out)"
   ]
  }
 ],
 "metadata": {
  "kernelspec": {
   "display_name": "Python 3",
   "language": "python",
   "name": "python3"
  },
  "language_info": {
   "codemirror_mode": {
    "name": "ipython",
    "version": 3
   },
   "file_extension": ".py",
   "mimetype": "text/x-python",
   "name": "python",
   "nbconvert_exporter": "python",
   "pygments_lexer": "ipython3",
   "version": "3.8.3"
  }
 },
 "nbformat": 4,
 "nbformat_minor": 4
}
