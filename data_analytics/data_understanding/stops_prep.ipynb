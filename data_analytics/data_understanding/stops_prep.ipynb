{
 "cells": [
  {
   "cell_type": "code",
   "execution_count": 1,
   "metadata": {},
   "outputs": [],
   "source": [
    "import pandas as pd"
   ]
  },
  {
   "cell_type": "code",
   "execution_count": 2,
   "metadata": {},
   "outputs": [],
   "source": [
    "df=pd.read_csv(\"stops.txt\")"
   ]
  },
  {
   "cell_type": "code",
   "execution_count": 3,
   "metadata": {},
   "outputs": [],
   "source": [
    "coords_df=df[[\"stop_lat\",\"stop_lon\"]]"
   ]
  },
  {
   "cell_type": "code",
   "execution_count": 4,
   "metadata": {},
   "outputs": [],
   "source": [
    "names=df.stop_name"
   ]
  },
  {
   "cell_type": "code",
   "execution_count": 5,
   "metadata": {},
   "outputs": [
    {
     "name": "stdout",
     "output_type": "stream",
     "text": [
      "['Virtual Stop 1']\n",
      "['Virtual Stop 2']\n",
      "['Hearse Road R126']\n"
     ]
    }
   ],
   "source": [
    "stops=[]\n",
    "index=0\n",
    "for name in names:\n",
    "    split_name=name.split(\",\")\n",
    "    if(len(split_name)!=2):\n",
    "        print(split_name)\n",
    "    else:\n",
    "        stop_no=split_name[1].split()\n",
    "        try:\n",
    "            coords=coords_df.iloc[index]\n",
    "            stops.append([stop_no[-1],split_name[0],coords[0],coords[1]])\n",
    "        except:\n",
    "            print(\"Error: \"+stop_no+\"could not be parsed to an int\")\n",
    "    index+=1"
   ]
  },
  {
   "cell_type": "code",
   "execution_count": 6,
   "metadata": {},
   "outputs": [],
   "source": [
    "stop_df=pd.DataFrame(stops,columns=[\"stop_id\",\"stop_name\",\"stop_lat\",\"stop_lon\"])"
   ]
  },
  {
   "cell_type": "code",
   "execution_count": 7,
   "metadata": {},
   "outputs": [
    {
     "data": {
      "text/html": [
       "<div>\n",
       "<style scoped>\n",
       "    .dataframe tbody tr th:only-of-type {\n",
       "        vertical-align: middle;\n",
       "    }\n",
       "\n",
       "    .dataframe tbody tr th {\n",
       "        vertical-align: top;\n",
       "    }\n",
       "\n",
       "    .dataframe thead th {\n",
       "        text-align: right;\n",
       "    }\n",
       "</style>\n",
       "<table border=\"1\" class=\"dataframe\">\n",
       "  <thead>\n",
       "    <tr style=\"text-align: right;\">\n",
       "      <th></th>\n",
       "      <th>stop_id</th>\n",
       "      <th>stop_name</th>\n",
       "      <th>stop_lat</th>\n",
       "      <th>stop_lon</th>\n",
       "    </tr>\n",
       "  </thead>\n",
       "  <tbody>\n",
       "    <tr>\n",
       "      <th>0</th>\n",
       "      <td>2</td>\n",
       "      <td>Parnell Square West</td>\n",
       "      <td>53.352244</td>\n",
       "      <td>-6.263723</td>\n",
       "    </tr>\n",
       "    <tr>\n",
       "      <th>1</th>\n",
       "      <td>3</td>\n",
       "      <td>Parnell Square West</td>\n",
       "      <td>53.352309</td>\n",
       "      <td>-6.263811</td>\n",
       "    </tr>\n",
       "    <tr>\n",
       "      <th>2</th>\n",
       "      <td>4</td>\n",
       "      <td>Parnell Square West</td>\n",
       "      <td>53.352575</td>\n",
       "      <td>-6.264175</td>\n",
       "    </tr>\n",
       "    <tr>\n",
       "      <th>3</th>\n",
       "      <td>6</td>\n",
       "      <td>Parnell Square West</td>\n",
       "      <td>53.352749</td>\n",
       "      <td>-6.264454</td>\n",
       "    </tr>\n",
       "    <tr>\n",
       "      <th>4</th>\n",
       "      <td>7</td>\n",
       "      <td>Parnell Square West</td>\n",
       "      <td>53.352841</td>\n",
       "      <td>-6.264570</td>\n",
       "    </tr>\n",
       "    <tr>\n",
       "      <th>...</th>\n",
       "      <td>...</td>\n",
       "      <td>...</td>\n",
       "      <td>...</td>\n",
       "      <td>...</td>\n",
       "    </tr>\n",
       "    <tr>\n",
       "      <th>4191</th>\n",
       "      <td>7367</td>\n",
       "      <td>Shoreline Sports</td>\n",
       "      <td>53.182866</td>\n",
       "      <td>-6.123548</td>\n",
       "    </tr>\n",
       "    <tr>\n",
       "      <th>4192</th>\n",
       "      <td>7368</td>\n",
       "      <td>Giltspur</td>\n",
       "      <td>53.181411</td>\n",
       "      <td>-6.128190</td>\n",
       "    </tr>\n",
       "    <tr>\n",
       "      <th>4193</th>\n",
       "      <td>7461</td>\n",
       "      <td>Charlesland</td>\n",
       "      <td>53.128932</td>\n",
       "      <td>-6.062803</td>\n",
       "    </tr>\n",
       "    <tr>\n",
       "      <th>4194</th>\n",
       "      <td>7462</td>\n",
       "      <td>Charlesland</td>\n",
       "      <td>53.128801</td>\n",
       "      <td>-6.062480</td>\n",
       "    </tr>\n",
       "    <tr>\n",
       "      <th>4195</th>\n",
       "      <td>7574</td>\n",
       "      <td>Southern Cross</td>\n",
       "      <td>53.182348</td>\n",
       "      <td>-6.130064</td>\n",
       "    </tr>\n",
       "  </tbody>\n",
       "</table>\n",
       "<p>4196 rows × 4 columns</p>\n",
       "</div>"
      ],
      "text/plain": [
       "     stop_id            stop_name   stop_lat  stop_lon\n",
       "0          2  Parnell Square West  53.352244 -6.263723\n",
       "1          3  Parnell Square West  53.352309 -6.263811\n",
       "2          4  Parnell Square West  53.352575 -6.264175\n",
       "3          6  Parnell Square West  53.352749 -6.264454\n",
       "4          7  Parnell Square West  53.352841 -6.264570\n",
       "...      ...                  ...        ...       ...\n",
       "4191    7367     Shoreline Sports  53.182866 -6.123548\n",
       "4192    7368             Giltspur  53.181411 -6.128190\n",
       "4193    7461          Charlesland  53.128932 -6.062803\n",
       "4194    7462          Charlesland  53.128801 -6.062480\n",
       "4195    7574       Southern Cross  53.182348 -6.130064\n",
       "\n",
       "[4196 rows x 4 columns]"
      ]
     },
     "execution_count": 7,
     "metadata": {},
     "output_type": "execute_result"
    }
   ],
   "source": [
    "stop_df"
   ]
  },
  {
   "cell_type": "code",
   "execution_count": 9,
   "metadata": {},
   "outputs": [],
   "source": [
    "column_dict={\n",
    "    \"stop_name\":\"name\",\n",
    "    \"stop_lat\":\"lat\",\n",
    "    \"stop_lon\":\"lon\"\n",
    "}"
   ]
  },
  {
   "cell_type": "code",
   "execution_count": 10,
   "metadata": {},
   "outputs": [],
   "source": [
    "stop_df.rename(columns=column_dict,inplace=True)"
   ]
  },
  {
   "cell_type": "code",
   "execution_count": 11,
   "metadata": {},
   "outputs": [],
   "source": [
    "stop_df.to_csv(\"stops_cleaned.csv\")"
   ]
  }
 ],
 "metadata": {
  "kernelspec": {
   "display_name": "Python 3",
   "language": "python",
   "name": "python3"
  },
  "language_info": {
   "codemirror_mode": {
    "name": "ipython",
    "version": 3
   },
   "file_extension": ".py",
   "mimetype": "text/x-python",
   "name": "python",
   "nbconvert_exporter": "python",
   "pygments_lexer": "ipython3",
   "version": "3.8.3"
  }
 },
 "nbformat": 4,
 "nbformat_minor": 4
}
