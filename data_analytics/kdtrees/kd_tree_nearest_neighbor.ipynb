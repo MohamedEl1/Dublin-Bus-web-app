{
 "cells": [
  {
   "cell_type": "code",
   "execution_count": 1,
   "metadata": {},
   "outputs": [],
   "source": [
    "import numpy as np\n",
    "import json\n",
    "from sklearn.neighbors import KDTree"
   ]
  },
  {
   "cell_type": "markdown",
   "metadata": {},
   "source": [
    "<h1>KD Tree Exploration for Nearest Neighbor</h1>\n",
    "<br>\n",
    "<div>In this notebook, we explore the KD Tree data structure, which promises finding nearest neighbors in a k-dimensional space in O(log(n)). First, we explore sklearn.neighbors KDTree class with a random example, then we try to apply it to Dublin Bus stop data.</div>"
   ]
  },
  {
   "cell_type": "markdown",
   "metadata": {},
   "source": [
    "First, I will examine how KD Trees function with an example of 5 random two-dimensional coordinates"
   ]
  },
  {
   "cell_type": "code",
   "execution_count": 2,
   "metadata": {},
   "outputs": [],
   "source": [
    "#create random coordinates\n",
    "np.random.seed(0)\n",
    "X = np.random.random((5, 2))  # 5 points in 2 dimensions\n",
    "#pass coordinates to tree\n",
    "tree = KDTree(X)"
   ]
  },
  {
   "cell_type": "code",
   "execution_count": 3,
   "metadata": {},
   "outputs": [
    {
     "data": {
      "text/plain": [
       "array([[0.5488135 , 0.71518937],\n",
       "       [0.60276338, 0.54488318],\n",
       "       [0.4236548 , 0.64589411],\n",
       "       [0.43758721, 0.891773  ],\n",
       "       [0.96366276, 0.38344152]])"
      ]
     },
     "execution_count": 3,
     "metadata": {},
     "output_type": "execute_result"
    }
   ],
   "source": [
    "#display the coordinates\n",
    "X"
   ]
  },
  {
   "cell_type": "code",
   "execution_count": 4,
   "metadata": {},
   "outputs": [],
   "source": [
    "#create point that is going to be the pivot point for the search\n",
    "point=X[0]"
   ]
  },
  {
   "cell_type": "code",
   "execution_count": 5,
   "metadata": {},
   "outputs": [
    {
     "data": {
      "text/plain": [
       "array([0.5488135 , 0.71518937])"
      ]
     },
     "execution_count": 5,
     "metadata": {},
     "output_type": "execute_result"
    }
   ],
   "source": [
    "point"
   ]
  },
  {
   "cell_type": "code",
   "execution_count": 6,
   "metadata": {},
   "outputs": [],
   "source": [
    "#calculate the 5 nearest neighbor\n",
    "nearest_dist, nearest_ind = tree.query([point], k=5)"
   ]
  },
  {
   "cell_type": "code",
   "execution_count": 7,
   "metadata": {},
   "outputs": [
    {
     "data": {
      "text/plain": [
       "array([[0.        , 0.14306129, 0.1786471 , 0.20869372, 0.53118409]])"
      ]
     },
     "execution_count": 7,
     "metadata": {},
     "output_type": "execute_result"
    }
   ],
   "source": [
    "#return the distances\n",
    "nearest_dist"
   ]
  },
  {
   "cell_type": "code",
   "execution_count": 8,
   "metadata": {},
   "outputs": [
    {
     "data": {
      "text/plain": [
       "array([[0, 2, 1, 3, 4]], dtype=int64)"
      ]
     },
     "execution_count": 8,
     "metadata": {},
     "output_type": "execute_result"
    }
   ],
   "source": [
    "#return the indices of k nearest neighbors, ascending in distance\n",
    "nearest_ind"
   ]
  },
  {
   "cell_type": "markdown",
   "metadata": {},
   "source": [
    "Next, I will try to apply these learnings to our bus data"
   ]
  },
  {
   "cell_type": "code",
   "execution_count": 9,
   "metadata": {},
   "outputs": [],
   "source": [
    "with open('all_stops_cleaned.json') as json_file:\n",
    "    data = json.load(json_file)"
   ]
  },
  {
   "cell_type": "code",
   "execution_count": 10,
   "metadata": {},
   "outputs": [
    {
     "data": {
      "text/plain": [
       "array([[53.35224436, -6.26372322],\n",
       "       [53.35230855, -6.26381074],\n",
       "       [53.35257451, -6.26417549],\n",
       "       ...,\n",
       "       [53.12893197, -6.06280337],\n",
       "       [53.12880087, -6.06248049],\n",
       "       [53.18234797, -6.13006416]])"
      ]
     },
     "execution_count": 10,
     "metadata": {},
     "output_type": "execute_result"
    }
   ],
   "source": [
    "coords=np.empty([0,2]) #coordinates will be appended to this array, which will then be used to build KDTree\n",
    "for row in data:\n",
    "    coords=np.append(coords,[[row[\"coords\"][\"lat\"],row[\"coords\"][\"lon\"]]],axis=0)\n",
    "coords"
   ]
  },
  {
   "cell_type": "code",
   "execution_count": 11,
   "metadata": {},
   "outputs": [],
   "source": [
    "#buil KDTree\n",
    "tree=KDTree(coords)"
   ]
  },
  {
   "cell_type": "code",
   "execution_count": 12,
   "metadata": {},
   "outputs": [],
   "source": [
    "#coordinates of \"32 Blackhall Pl\" in Dublin\n",
    "test_coords=[53.349160,-6.281690]"
   ]
  },
  {
   "cell_type": "code",
   "execution_count": 13,
   "metadata": {},
   "outputs": [],
   "source": [
    "#calculate 10 closest stops to test_coords\n",
    "nearest_dist, nearest_ind = tree.query([test_coords], k=10)"
   ]
  },
  {
   "cell_type": "code",
   "execution_count": 14,
   "metadata": {},
   "outputs": [
    {
     "data": {
      "text/plain": [
       "array([[ 950,  987,  988,  951,  986,  853,  952, 1608,  827, 1400]],\n",
       "      dtype=int64)"
      ]
     },
     "execution_count": 14,
     "metadata": {},
     "output_type": "execute_result"
    }
   ],
   "source": [
    "#look at result of KDTree query\n",
    "nearest_ind"
   ]
  },
  {
   "cell_type": "code",
   "execution_count": 15,
   "metadata": {
    "scrolled": true
   },
   "outputs": [
    {
     "name": "stdout",
     "output_type": "stream",
     "text": [
      "{'id': '1647', 'name': 'Blackhall Place', 'coords': {'lat': 53.34835106357021, 'lon': -6.282251726202659}}\n",
      "{'id': '1714', 'name': 'Stoneybatter', 'coords': {'lat': 53.3506378069393, 'lon': -6.28188938800197}}\n",
      "{'id': '1715', 'name': 'Blackhall Place', 'coords': {'lat': 53.347711982180606, 'lon': -6.28218729951852}}\n",
      "{'id': '1648', 'name': 'Stoneybatter', 'coords': {'lat': 53.351091367532504, 'lon': -6.28280248510498}}\n",
      "{'id': '1713', 'name': 'Manor Street', 'coords': {'lat': 53.35190782001921, 'lon': -6.28332547345319}}\n",
      "{'id': '1476', 'name': 'Sarsfield Quay', 'coords': {'lat': 53.3470736855785, 'lon': -6.28467627539544}}\n",
      "{'id': '1649', 'name': 'Manor Street', 'coords': {'lat': 53.3525701350153, 'lon': -6.284380448478991}}\n",
      "{'id': '7453', 'name': 'Arran Quay', 'coords': {'lat': 53.3463358924194, 'lon': -6.27838250402172}}\n",
      "{'id': '1445', 'name': \"Usher's Quay\", 'coords': {'lat': 53.345678410254706, 'lon': -6.27828883961715}}\n",
      "{'id': '4407', 'name': 'Victoria Quay', 'coords': {'lat': 53.3465291195087, 'lon': -6.2861851185728}}\n"
     ]
    }
   ],
   "source": [
    "#as result above is a two dimensional array, i will have to traverse the inner array at index 0\n",
    "for ind in nearest_ind[0]:\n",
    "    print(data[ind])"
   ]
  }
 ],
 "metadata": {
  "kernelspec": {
   "display_name": "Python 3",
   "language": "python",
   "name": "python3"
  },
  "language_info": {
   "codemirror_mode": {
    "name": "ipython",
    "version": 3
   },
   "file_extension": ".py",
   "mimetype": "text/x-python",
   "name": "python",
   "nbconvert_exporter": "python",
   "pygments_lexer": "ipython3",
   "version": "3.8.3"
  }
 },
 "nbformat": 4,
 "nbformat_minor": 4
}
